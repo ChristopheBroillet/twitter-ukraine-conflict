{
 "cells": [
  {
   "cell_type": "code",
   "execution_count": 1,
   "metadata": {},
   "outputs": [],
   "source": [
    "import pandas as pd\n",
    "import time\n",
    "from dotenv import load_dotenv\n",
    "load_dotenv(\"./.env.local\")\n",
    "import os\n",
    "BEARER_TOKEN = os.getenv(\"BEARER_TOKEN\")\n",
    "# https://docs.tweepy.org/en/stable/client.html\n",
    "import tweepy\n",
    "client = tweepy.Client(BEARER_TOKEN, wait_on_rate_limit=True)\n",
    "from pathlib import Path\n",
    "import networkx as nx"
   ]
  },
  {
   "cell_type": "markdown",
   "metadata": {},
   "source": [
    "# Data preprocessing"
   ]
  },
  {
   "cell_type": "markdown",
   "metadata": {},
   "source": [
    "For each csv (one day = 1 csv) in the dataset folder:\n",
    "\n",
    "    * filter to only keep english\n",
    "    * only keep userid, tweetid, text, hashtags columns\n",
    "    * delete duplicate based on test\n",
    "    * sample 15k per day (for a total of around 200k for 2 weeks)\n",
    "    * save the new df in the csvdataframes folder as day_{idx}.csv"
   ]
  },
  {
   "cell_type": "code",
   "execution_count": 2,
   "metadata": {},
   "outputs": [],
   "source": [
    "# Preprocessing the datasets and save them in csv files under csvdataframes folder\n",
    "Path.mkdir(Path(\"csvdataframes\"), exist_ok=True)\n",
    "Path.mkdir(Path(\"edgelists\"), exist_ok=True)\n",
    "Path.mkdir(Path(\"csvdataframes_wOgIds\"), exist_ok=True)"
   ]
  },
  {
   "cell_type": "code",
   "execution_count": 4,
   "metadata": {},
   "outputs": [
    {
     "name": "stderr",
     "output_type": "stream",
     "text": [
      "C:\\Users\\Bao\\AppData\\Local\\Temp\\ipykernel_23768\\3437197325.py:2: DtypeWarning: Columns (15) have mixed types. Specify dtype option on import or set low_memory=False.\n",
      "  full_dataset = pd.read_csv(day, compression='gzip')\n"
     ]
    }
   ],
   "source": [
    "for idx, day in enumerate(Path(\"dataset\").iterdir()):\n",
    "    full_dataset = pd.read_csv(day, compression='gzip')\n",
    "    df_en = full_dataset[full_dataset['language']=='en']\n",
    "    df_en_filteted = df_en[[\"userid\", \"tweetid\", \"text\", \"hashtags\"]]\n",
    "    df_no_duplicate = df_en_filteted.drop_duplicates(subset='text', keep='first')\n",
    "    df_sampled = df_no_duplicate.sample(5)\n",
    "    df_sampled.to_csv(Path(f\"csvdataframes/day_{idx}.csv\"))"
   ]
  },
  {
   "cell_type": "markdown",
   "metadata": {},
   "source": [
    "Because the original dataset contains retweet id, for each df in the\n",
    "csvdataframes folder add a a new columns original_tweet_id with value the\n",
    "original tweet id if the tweet was a retweet else keep the tweet id and save\n",
    "every thing on the csvdataframes_wOgIds folder"
   ]
  },
  {
   "cell_type": "code",
   "execution_count": 5,
   "metadata": {},
   "outputs": [],
   "source": [
    "def get_tweets(ids):\n",
    "    tweets = client.get_tweets(ids=ids, expansions=['referenced_tweets.id', 'referenced_tweets.id.author_id'])\n",
    "    return tweets\n",
    "\n",
    "def get_original_tweets_ids(ids):\n",
    "    # convert ids to list\n",
    "    ids_list = ids[\"tweetid\"].tolist()\n",
    "    tweets = get_tweets(ids_list)\n",
    "    # create df with columns original_tweet_id and author_id\n",
    "    return_df = pd.DataFrame(columns=[\"author_id\", \"original_tweet_id\"])\n",
    "    if not tweets.data: return None, False\n",
    "    for tweet in tweets.data:\n",
    "        referenced_tweet = tweet.get('referenced_tweets')\n",
    "        original_author = tweet.get('author_id')\n",
    "        original_tweet_id = referenced_tweet[0].id if referenced_tweet else tweet.id\n",
    "        # concat to df\n",
    "        return_df = pd.concat([return_df, pd.DataFrame({\"author_id\": [original_author], \"original_tweet_id\": [original_tweet_id]})])\n",
    "    return_df['Unnamed: 0'] = ids['Unnamed: 0']\n",
    "    return return_df, True"
   ]
  },
  {
   "cell_type": "code",
   "execution_count": 6,
   "metadata": {},
   "outputs": [
    {
     "name": "stdout",
     "output_type": "stream",
     "text": [
      "csvdataframes\\day_0.csv\n",
      "csvdataframes\\day_0.csv Iteration 0-100 / 5\n",
      "csvdataframes\\day_1.csv\n",
      "csvdataframes\\day_1.csv Iteration 0-100 / 5\n"
     ]
    }
   ],
   "source": [
    "for idx, file in enumerate(Path(\"csvdataframes\").iterdir()):\n",
    "    print(file)\n",
    "    df = pd.read_csv(file)\n",
    "    # temp df to store original tweet ids\n",
    "    temp_df = pd.DataFrame()\n",
    "    # split df by 100 \n",
    "    for i in range(0, len(df), 100):\n",
    "        print(f\"{file} Iteration {i}-{i+100} / {len(df)}\")\n",
    "        df_100 = df[i:i+100]\n",
    "        original_tweet_ids_df, empty_check = get_original_tweets_ids(df_100)\n",
    "        if not empty_check: continue\n",
    "        # concat temp_df and original_tweet_ids_df\n",
    "        temp_df = pd.concat([temp_df, original_tweet_ids_df])\n",
    "    # Merge temp_df with df\n",
    "    if temp_df.empty: continue\n",
    "    df = pd.merge(df, temp_df, on=\"Unnamed: 0\")\n",
    "    # save df to csv\n",
    "    df.to_csv(Path(f\"csvdataframes_wOgIds/day_{idx}.csv\"), index=False)\n"
   ]
  },
  {
   "cell_type": "markdown",
   "metadata": {},
   "source": [
    "# Edge list creation"
   ]
  },
  {
   "cell_type": "code",
   "execution_count": 6,
   "metadata": {},
   "outputs": [],
   "source": [
    "# get_retweeters from 1 id and 1 pagination token\n",
    "def get_retweeters(id, pagination_token=None):\n",
    "    print(\".\", end='')\n",
    "    retweeters = client.get_retweeters(id, pagination_token=pagination_token)\n",
    "    next_token = retweeters.meta.get('next_token')\n",
    "\n",
    "    if not retweeters.data:\n",
    "        return None, None\n",
    "\n",
    "    # return list of user ids\n",
    "    retweeter_ids = [retweeter.id for retweeter in retweeters.data]\n",
    "    return retweeter_ids, next_token\n",
    "\n",
    "# get_all_retweeters from 1 id\n",
    "def get_all_retweeters(id):\n",
    "    retweeter_ids = []\n",
    "    next_token = None\n",
    "    while True:\n",
    "        retweeter_ids_, next_token = get_retweeters(id, pagination_token=next_token)\n",
    "        if retweeter_ids_ is None:\n",
    "            break\n",
    "        retweeter_ids += retweeter_ids_\n",
    "    return retweeter_ids"
   ]
  },
  {
   "cell_type": "code",
   "execution_count": 5,
   "metadata": {},
   "outputs": [],
   "source": [
    "def get_linkin_users(id, pagination_token=None):\n",
    "    print(\".\", end='')\n",
    "    retweeters = client.get_liking_users(id, pagination_token=pagination_token)\n",
    "    next_token = retweeters.meta.get('next_token')\n",
    "\n",
    "    if not retweeters.data:\n",
    "        return None, None\n",
    "\n",
    "    # return list of user ids\n",
    "    retweeter_ids = [retweeter.id for retweeter in retweeters.data]\n",
    "    return retweeter_ids, next_token\n",
    "\n",
    "def get_all_linkin_users(id):\n",
    "    retweeter_ids = []\n",
    "    next_token = None\n",
    "    while True:\n",
    "        retweeter_ids_, next_token = get_linkin_users(id, pagination_token=next_token)\n",
    "        if retweeter_ids_ is None:\n",
    "            break\n",
    "        retweeter_ids += retweeter_ids_\n",
    "    return retweeter_ids"
   ]
  },
  {
   "cell_type": "code",
   "execution_count": 7,
   "metadata": {},
   "outputs": [],
   "source": [
    "def create_retweeters_edgelist():\n",
    "    # read csv files from csvdataframes_wOgIds folder\n",
    "    for idx, file in enumerate(Path(\"csvdataframes_wOgIds\").iterdir()):\n",
    "        # create empty edgelists df with column retweeter_id and tweet_id\n",
    "        edgelists_df = pd.DataFrame(columns=[\"retweeter_id\", \"author_id\"])\n",
    "        print(file)\n",
    "        df = pd.read_csv(file)\n",
    "        \n",
    "        for tweetId, author_id in zip(df['original_tweet_id'], df['author_id']):\n",
    "            print(tweetId, end='')\n",
    "            retweeter_ids = get_all_retweeters(tweetId)\n",
    "            # convert to df\n",
    "            retweeter_ids_df = pd.DataFrame(retweeter_ids, columns=[\"retweeter_id\"])\n",
    "            # add tweetId to df\n",
    "            retweeter_ids_df.insert(1, \"author_id\", author_id)\n",
    "            # concat edgelists_df and retweeter_ids_df\n",
    "            edgelists_df = pd.concat([edgelists_df, retweeter_ids_df])\n",
    "            print(\"Done\")\n",
    "        # save df to csv\n",
    "        edgelists_df.to_csv(Path(f\"edgelists/retweeters_{idx}.csv\"), index=False)\n",
    "\n",
    "    # # save edgelists_df to csv\n",
    "    # edgelists_df.to_csv(Path(f\"edgelists/retweeters.csv\"), index=False)\n",
    "\n",
    "    # return edgelists_df\n",
    "\n",
    "def create_liking_edgelist():\n",
    "   \n",
    "\n",
    "    # read csv files from csvdataframes_wOgIds folder\n",
    "    for idx, file in enumerate(Path(\"csvdataframes_wOgIds\").iterdir()):\n",
    "         # create empty edgelists df with column liker_id and tweet_id\n",
    "        edgelists_df = pd.DataFrame(columns=[\"liker_id\", \"author_id\"])\n",
    "        print(file)\n",
    "        df = pd.read_csv(file)\n",
    "        for tweetId, author_id in zip(df['original_tweet_id'], df['author_id']):\n",
    "            print(tweetId, end='')\n",
    "            liker_ids = get_all_linkin_users(tweetId)\n",
    "            # convert to df\n",
    "            liker_ids_df = pd.DataFrame(liker_ids, columns=[\"liker_id\"])\n",
    "            # add tweetId to df\n",
    "            liker_ids_df.insert(1, \"author_id\", author_id)\n",
    "            # concat edgelists_df and liker_ids_df\n",
    "            edgelists_df = pd.concat([edgelists_df, liker_ids_df])\n",
    "            print(\"Done\")\n",
    "        # save df to csv\n",
    "        edgelists_df.to_csv(Path(f\"edgelists/liking_{idx}.csv\"), index=False)\n",
    "\n",
    "    # # save edgelists_df to csv\n",
    "    # edgelists_df.to_csv(Path(f\"edgelists/liking.csv\"), index=False)\n",
    "\n",
    "    # return edgelists_df"
   ]
  },
  {
   "cell_type": "code",
   "execution_count": 8,
   "metadata": {},
   "outputs": [
    {
     "name": "stdout",
     "output_type": "stream",
     "text": [
      "csvdataframes_wOgIds\\day_0.csv\n",
      "1497907075187462144..Done\n",
      "1498150851390885889.Done\n",
      "csvdataframes_wOgIds\\day_1.csv\n",
      "1498328923343626245..Done\n",
      "1498359286035935232..Done\n",
      "csvdataframes_wOgIds\\day_0.csv\n",
      "1497907075187462144..Done\n",
      "1498150851390885889.Done\n",
      "csvdataframes_wOgIds\\day_1.csv\n",
      "1498328923343626245..Done\n",
      "1498359286035935232..Done\n"
     ]
    }
   ],
   "source": [
    "create_retweeters_edgelist()\n",
    "create_liking_edgelist()"
   ]
  },
  {
   "cell_type": "code",
   "execution_count": 11,
   "metadata": {},
   "outputs": [
    {
     "data": {
      "text/html": [
       "<div>\n",
       "<style scoped>\n",
       "    .dataframe tbody tr th:only-of-type {\n",
       "        vertical-align: middle;\n",
       "    }\n",
       "\n",
       "    .dataframe tbody tr th {\n",
       "        vertical-align: top;\n",
       "    }\n",
       "\n",
       "    .dataframe thead th {\n",
       "        text-align: right;\n",
       "    }\n",
       "</style>\n",
       "<table border=\"1\" class=\"dataframe\">\n",
       "  <thead>\n",
       "    <tr style=\"text-align: right;\">\n",
       "      <th></th>\n",
       "      <th>retweeter_id</th>\n",
       "      <th>author_id</th>\n",
       "    </tr>\n",
       "  </thead>\n",
       "  <tbody>\n",
       "    <tr>\n",
       "      <th>0</th>\n",
       "      <td>144591936</td>\n",
       "      <td>916674562540167168</td>\n",
       "    </tr>\n",
       "    <tr>\n",
       "      <th>0</th>\n",
       "      <td>956009938895196160</td>\n",
       "      <td>216492959</td>\n",
       "    </tr>\n",
       "    <tr>\n",
       "      <th>1</th>\n",
       "      <td>1284530148033859586</td>\n",
       "      <td>216492959</td>\n",
       "    </tr>\n",
       "    <tr>\n",
       "      <th>2</th>\n",
       "      <td>879377928253050880</td>\n",
       "      <td>216492959</td>\n",
       "    </tr>\n",
       "    <tr>\n",
       "      <th>3</th>\n",
       "      <td>251009806</td>\n",
       "      <td>216492959</td>\n",
       "    </tr>\n",
       "    <tr>\n",
       "      <th>...</th>\n",
       "      <td>...</td>\n",
       "      <td>...</td>\n",
       "    </tr>\n",
       "    <tr>\n",
       "      <th>2157</th>\n",
       "      <td>1465037854489329681</td>\n",
       "      <td>456066153</td>\n",
       "    </tr>\n",
       "    <tr>\n",
       "      <th>2158</th>\n",
       "      <td>27999946</td>\n",
       "      <td>456066153</td>\n",
       "    </tr>\n",
       "    <tr>\n",
       "      <th>2159</th>\n",
       "      <td>974633309941784582</td>\n",
       "      <td>456066153</td>\n",
       "    </tr>\n",
       "    <tr>\n",
       "      <th>2160</th>\n",
       "      <td>288906657</td>\n",
       "      <td>456066153</td>\n",
       "    </tr>\n",
       "    <tr>\n",
       "      <th>2161</th>\n",
       "      <td>1479911458783866882</td>\n",
       "      <td>456066153</td>\n",
       "    </tr>\n",
       "  </tbody>\n",
       "</table>\n",
       "<p>2296 rows × 2 columns</p>\n",
       "</div>"
      ],
      "text/plain": [
       "             retweeter_id           author_id\n",
       "0               144591936  916674562540167168\n",
       "0      956009938895196160           216492959\n",
       "1     1284530148033859586           216492959\n",
       "2      879377928253050880           216492959\n",
       "3               251009806           216492959\n",
       "...                   ...                 ...\n",
       "2157  1465037854489329681           456066153\n",
       "2158             27999946           456066153\n",
       "2159   974633309941784582           456066153\n",
       "2160            288906657           456066153\n",
       "2161  1479911458783866882           456066153\n",
       "\n",
       "[2296 rows x 2 columns]"
      ]
     },
     "execution_count": 11,
     "metadata": {},
     "output_type": "execute_result"
    }
   ],
   "source": [
    "edgelists_retweeters_df"
   ]
  },
  {
   "cell_type": "code",
   "execution_count": 12,
   "metadata": {},
   "outputs": [
    {
     "data": {
      "text/html": [
       "<div>\n",
       "<style scoped>\n",
       "    .dataframe tbody tr th:only-of-type {\n",
       "        vertical-align: middle;\n",
       "    }\n",
       "\n",
       "    .dataframe tbody tr th {\n",
       "        vertical-align: top;\n",
       "    }\n",
       "\n",
       "    .dataframe thead th {\n",
       "        text-align: right;\n",
       "    }\n",
       "</style>\n",
       "<table border=\"1\" class=\"dataframe\">\n",
       "  <thead>\n",
       "    <tr style=\"text-align: right;\">\n",
       "      <th></th>\n",
       "      <th>liker_id</th>\n",
       "      <th>author_id</th>\n",
       "    </tr>\n",
       "  </thead>\n",
       "  <tbody>\n",
       "    <tr>\n",
       "      <th>0</th>\n",
       "      <td>1225817666990039040</td>\n",
       "      <td>916674562540167168</td>\n",
       "    </tr>\n",
       "    <tr>\n",
       "      <th>0</th>\n",
       "      <td>841062151691333634</td>\n",
       "      <td>216492959</td>\n",
       "    </tr>\n",
       "    <tr>\n",
       "      <th>1</th>\n",
       "      <td>1315716744</td>\n",
       "      <td>216492959</td>\n",
       "    </tr>\n",
       "    <tr>\n",
       "      <th>2</th>\n",
       "      <td>2717953176</td>\n",
       "      <td>216492959</td>\n",
       "    </tr>\n",
       "    <tr>\n",
       "      <th>3</th>\n",
       "      <td>1410654346648297482</td>\n",
       "      <td>216492959</td>\n",
       "    </tr>\n",
       "    <tr>\n",
       "      <th>...</th>\n",
       "      <td>...</td>\n",
       "      <td>...</td>\n",
       "    </tr>\n",
       "    <tr>\n",
       "      <th>5248</th>\n",
       "      <td>3689795193</td>\n",
       "      <td>456066153</td>\n",
       "    </tr>\n",
       "    <tr>\n",
       "      <th>5249</th>\n",
       "      <td>1496766645632704512</td>\n",
       "      <td>456066153</td>\n",
       "    </tr>\n",
       "    <tr>\n",
       "      <th>5250</th>\n",
       "      <td>2398023429</td>\n",
       "      <td>456066153</td>\n",
       "    </tr>\n",
       "    <tr>\n",
       "      <th>5251</th>\n",
       "      <td>815537014967832576</td>\n",
       "      <td>456066153</td>\n",
       "    </tr>\n",
       "    <tr>\n",
       "      <th>5252</th>\n",
       "      <td>740581866735030272</td>\n",
       "      <td>456066153</td>\n",
       "    </tr>\n",
       "  </tbody>\n",
       "</table>\n",
       "<p>5759 rows × 2 columns</p>\n",
       "</div>"
      ],
      "text/plain": [
       "                 liker_id           author_id\n",
       "0     1225817666990039040  916674562540167168\n",
       "0      841062151691333634           216492959\n",
       "1              1315716744           216492959\n",
       "2              2717953176           216492959\n",
       "3     1410654346648297482           216492959\n",
       "...                   ...                 ...\n",
       "5248           3689795193           456066153\n",
       "5249  1496766645632704512           456066153\n",
       "5250           2398023429           456066153\n",
       "5251   815537014967832576           456066153\n",
       "5252   740581866735030272           456066153\n",
       "\n",
       "[5759 rows x 2 columns]"
      ]
     },
     "execution_count": 12,
     "metadata": {},
     "output_type": "execute_result"
    }
   ],
   "source": [
    "edgelists_likers_df"
   ]
  },
  {
   "cell_type": "markdown",
   "metadata": {},
   "source": [
    "# First viz & basic stats"
   ]
  },
  {
   "cell_type": "code",
   "execution_count": 17,
   "metadata": {},
   "outputs": [],
   "source": [
    "# load edgelists retweeters and liking from csv files to edgelists_df dataframe \n",
    "edgelists_retweeters_df = pd.read_csv(Path(f\"edgelists/retweeters.csv\"))\n",
    "edgelists_likers_df = pd.read_csv(Path(f\"edgelists/liking.csv\"))"
   ]
  },
  {
   "cell_type": "code",
   "execution_count": 19,
   "metadata": {},
   "outputs": [
    {
     "data": {
      "text/html": [
       "<div>\n",
       "<style scoped>\n",
       "    .dataframe tbody tr th:only-of-type {\n",
       "        vertical-align: middle;\n",
       "    }\n",
       "\n",
       "    .dataframe tbody tr th {\n",
       "        vertical-align: top;\n",
       "    }\n",
       "\n",
       "    .dataframe thead th {\n",
       "        text-align: right;\n",
       "    }\n",
       "</style>\n",
       "<table border=\"1\" class=\"dataframe\">\n",
       "  <thead>\n",
       "    <tr style=\"text-align: right;\">\n",
       "      <th></th>\n",
       "      <th>liker_id</th>\n",
       "      <th>author_id</th>\n",
       "    </tr>\n",
       "  </thead>\n",
       "  <tbody>\n",
       "    <tr>\n",
       "      <th>0</th>\n",
       "      <td>1225817666990039040</td>\n",
       "      <td>916674562540167168</td>\n",
       "    </tr>\n",
       "    <tr>\n",
       "      <th>1</th>\n",
       "      <td>841062151691333634</td>\n",
       "      <td>216492959</td>\n",
       "    </tr>\n",
       "    <tr>\n",
       "      <th>2</th>\n",
       "      <td>1315716744</td>\n",
       "      <td>216492959</td>\n",
       "    </tr>\n",
       "    <tr>\n",
       "      <th>3</th>\n",
       "      <td>2717953176</td>\n",
       "      <td>216492959</td>\n",
       "    </tr>\n",
       "    <tr>\n",
       "      <th>4</th>\n",
       "      <td>1410654346648297482</td>\n",
       "      <td>216492959</td>\n",
       "    </tr>\n",
       "    <tr>\n",
       "      <th>...</th>\n",
       "      <td>...</td>\n",
       "      <td>...</td>\n",
       "    </tr>\n",
       "    <tr>\n",
       "      <th>5754</th>\n",
       "      <td>3689795193</td>\n",
       "      <td>456066153</td>\n",
       "    </tr>\n",
       "    <tr>\n",
       "      <th>5755</th>\n",
       "      <td>1496766645632704512</td>\n",
       "      <td>456066153</td>\n",
       "    </tr>\n",
       "    <tr>\n",
       "      <th>5756</th>\n",
       "      <td>2398023429</td>\n",
       "      <td>456066153</td>\n",
       "    </tr>\n",
       "    <tr>\n",
       "      <th>5757</th>\n",
       "      <td>815537014967832576</td>\n",
       "      <td>456066153</td>\n",
       "    </tr>\n",
       "    <tr>\n",
       "      <th>5758</th>\n",
       "      <td>740581866735030272</td>\n",
       "      <td>456066153</td>\n",
       "    </tr>\n",
       "  </tbody>\n",
       "</table>\n",
       "<p>5759 rows × 2 columns</p>\n",
       "</div>"
      ],
      "text/plain": [
       "                 liker_id           author_id\n",
       "0     1225817666990039040  916674562540167168\n",
       "1      841062151691333634           216492959\n",
       "2              1315716744           216492959\n",
       "3              2717953176           216492959\n",
       "4     1410654346648297482           216492959\n",
       "...                   ...                 ...\n",
       "5754           3689795193           456066153\n",
       "5755  1496766645632704512           456066153\n",
       "5756           2398023429           456066153\n",
       "5757   815537014967832576           456066153\n",
       "5758   740581866735030272           456066153\n",
       "\n",
       "[5759 rows x 2 columns]"
      ]
     },
     "execution_count": 19,
     "metadata": {},
     "output_type": "execute_result"
    }
   ],
   "source": [
    "edgelists_likers_df"
   ]
  },
  {
   "cell_type": "code",
   "execution_count": 31,
   "metadata": {},
   "outputs": [
    {
     "name": "stdout",
     "output_type": "stream",
     "text": [
      "5753\n",
      "8\n"
     ]
    }
   ],
   "source": [
    "# print number of unique users in edgelists_likers_df\n",
    "print(len(edgelists_likers_df['liker_id'].unique()))\n",
    "\n",
    "# print number of unique author in edgelists_likers_df\n",
    "print(len(edgelists_likers_df['author_id'].unique()))"
   ]
  },
  {
   "cell_type": "code",
   "execution_count": 32,
   "metadata": {},
   "outputs": [
    {
     "data": {
      "text/html": [
       "<div>\n",
       "<style scoped>\n",
       "    .dataframe tbody tr th:only-of-type {\n",
       "        vertical-align: middle;\n",
       "    }\n",
       "\n",
       "    .dataframe tbody tr th {\n",
       "        vertical-align: top;\n",
       "    }\n",
       "\n",
       "    .dataframe thead th {\n",
       "        text-align: right;\n",
       "    }\n",
       "</style>\n",
       "<table border=\"1\" class=\"dataframe\">\n",
       "  <thead>\n",
       "    <tr style=\"text-align: right;\">\n",
       "      <th></th>\n",
       "      <th>user_id</th>\n",
       "      <th>author_id</th>\n",
       "    </tr>\n",
       "  </thead>\n",
       "  <tbody>\n",
       "    <tr>\n",
       "      <th>0</th>\n",
       "      <td>1225817666990039040</td>\n",
       "      <td>916674562540167168</td>\n",
       "    </tr>\n",
       "    <tr>\n",
       "      <th>1</th>\n",
       "      <td>841062151691333634</td>\n",
       "      <td>216492959</td>\n",
       "    </tr>\n",
       "    <tr>\n",
       "      <th>2</th>\n",
       "      <td>1315716744</td>\n",
       "      <td>216492959</td>\n",
       "    </tr>\n",
       "    <tr>\n",
       "      <th>3</th>\n",
       "      <td>2717953176</td>\n",
       "      <td>216492959</td>\n",
       "    </tr>\n",
       "    <tr>\n",
       "      <th>4</th>\n",
       "      <td>1410654346648297482</td>\n",
       "      <td>216492959</td>\n",
       "    </tr>\n",
       "    <tr>\n",
       "      <th>...</th>\n",
       "      <td>...</td>\n",
       "      <td>...</td>\n",
       "    </tr>\n",
       "    <tr>\n",
       "      <th>2291</th>\n",
       "      <td>1465037854489329681</td>\n",
       "      <td>456066153</td>\n",
       "    </tr>\n",
       "    <tr>\n",
       "      <th>2292</th>\n",
       "      <td>27999946</td>\n",
       "      <td>456066153</td>\n",
       "    </tr>\n",
       "    <tr>\n",
       "      <th>2293</th>\n",
       "      <td>974633309941784582</td>\n",
       "      <td>456066153</td>\n",
       "    </tr>\n",
       "    <tr>\n",
       "      <th>2294</th>\n",
       "      <td>288906657</td>\n",
       "      <td>456066153</td>\n",
       "    </tr>\n",
       "    <tr>\n",
       "      <th>2295</th>\n",
       "      <td>1479911458783866882</td>\n",
       "      <td>456066153</td>\n",
       "    </tr>\n",
       "  </tbody>\n",
       "</table>\n",
       "<p>8055 rows × 2 columns</p>\n",
       "</div>"
      ],
      "text/plain": [
       "                  user_id           author_id\n",
       "0     1225817666990039040  916674562540167168\n",
       "1      841062151691333634           216492959\n",
       "2              1315716744           216492959\n",
       "3              2717953176           216492959\n",
       "4     1410654346648297482           216492959\n",
       "...                   ...                 ...\n",
       "2291  1465037854489329681           456066153\n",
       "2292             27999946           456066153\n",
       "2293   974633309941784582           456066153\n",
       "2294            288906657           456066153\n",
       "2295  1479911458783866882           456066153\n",
       "\n",
       "[8055 rows x 2 columns]"
      ]
     },
     "execution_count": 32,
     "metadata": {},
     "output_type": "execute_result"
    }
   ],
   "source": [
    "# in edgelists_likers_df rename column liker_id to user_id\n",
    "edgelists_likers_df.rename(columns={\"liker_id\": \"user_id\"}, inplace=True)\n",
    "\n",
    "# in edgelists_retweeters_df rename column retweeter_id to user_id\n",
    "edgelists_retweeters_df.rename(columns={\"retweeter_id\": \"user_id\"}, inplace=True)\n",
    "\n",
    "# concat edgelists_likers_df and edgelists_retweeters_df\n",
    "edgelists_df = pd.concat([edgelists_likers_df, edgelists_retweeters_df])\n",
    "\n",
    "edgelists_df"
   ]
  },
  {
   "cell_type": "code",
   "execution_count": 33,
   "metadata": {},
   "outputs": [
    {
     "name": "stdout",
     "output_type": "stream",
     "text": [
      "6594\n",
      "8\n"
     ]
    }
   ],
   "source": [
    "# print number of unique users in edgelists_df\n",
    "print(len(edgelists_df['user_id'].unique()))\n",
    "\n",
    "# print number of unique author in edgelists_df\n",
    "print(len(edgelists_df['author_id'].unique()))"
   ]
  },
  {
   "cell_type": "code",
   "execution_count": 34,
   "metadata": {},
   "outputs": [
    {
     "data": {
      "text/html": [
       "<div>\n",
       "<style scoped>\n",
       "    .dataframe tbody tr th:only-of-type {\n",
       "        vertical-align: middle;\n",
       "    }\n",
       "\n",
       "    .dataframe tbody tr th {\n",
       "        vertical-align: top;\n",
       "    }\n",
       "\n",
       "    .dataframe thead th {\n",
       "        text-align: right;\n",
       "    }\n",
       "</style>\n",
       "<table border=\"1\" class=\"dataframe\">\n",
       "  <thead>\n",
       "    <tr style=\"text-align: right;\">\n",
       "      <th></th>\n",
       "      <th>user_id</th>\n",
       "      <th>author_id</th>\n",
       "    </tr>\n",
       "  </thead>\n",
       "  <tbody>\n",
       "    <tr>\n",
       "      <th>0</th>\n",
       "      <td>1225817666990039040</td>\n",
       "      <td>916674562540167168</td>\n",
       "    </tr>\n",
       "    <tr>\n",
       "      <th>1</th>\n",
       "      <td>841062151691333634</td>\n",
       "      <td>216492959</td>\n",
       "    </tr>\n",
       "    <tr>\n",
       "      <th>2</th>\n",
       "      <td>1315716744</td>\n",
       "      <td>216492959</td>\n",
       "    </tr>\n",
       "    <tr>\n",
       "      <th>3</th>\n",
       "      <td>2717953176</td>\n",
       "      <td>216492959</td>\n",
       "    </tr>\n",
       "    <tr>\n",
       "      <th>4</th>\n",
       "      <td>1410654346648297482</td>\n",
       "      <td>216492959</td>\n",
       "    </tr>\n",
       "    <tr>\n",
       "      <th>...</th>\n",
       "      <td>...</td>\n",
       "      <td>...</td>\n",
       "    </tr>\n",
       "    <tr>\n",
       "      <th>2291</th>\n",
       "      <td>1465037854489329681</td>\n",
       "      <td>456066153</td>\n",
       "    </tr>\n",
       "    <tr>\n",
       "      <th>2292</th>\n",
       "      <td>27999946</td>\n",
       "      <td>456066153</td>\n",
       "    </tr>\n",
       "    <tr>\n",
       "      <th>2293</th>\n",
       "      <td>974633309941784582</td>\n",
       "      <td>456066153</td>\n",
       "    </tr>\n",
       "    <tr>\n",
       "      <th>2294</th>\n",
       "      <td>288906657</td>\n",
       "      <td>456066153</td>\n",
       "    </tr>\n",
       "    <tr>\n",
       "      <th>2295</th>\n",
       "      <td>1479911458783866882</td>\n",
       "      <td>456066153</td>\n",
       "    </tr>\n",
       "  </tbody>\n",
       "</table>\n",
       "<p>6602 rows × 2 columns</p>\n",
       "</div>"
      ],
      "text/plain": [
       "                  user_id           author_id\n",
       "0     1225817666990039040  916674562540167168\n",
       "1      841062151691333634           216492959\n",
       "2              1315716744           216492959\n",
       "3              2717953176           216492959\n",
       "4     1410654346648297482           216492959\n",
       "...                   ...                 ...\n",
       "2291  1465037854489329681           456066153\n",
       "2292             27999946           456066153\n",
       "2293   974633309941784582           456066153\n",
       "2294            288906657           456066153\n",
       "2295  1479911458783866882           456066153\n",
       "\n",
       "[6602 rows x 2 columns]"
      ]
     },
     "execution_count": 34,
     "metadata": {},
     "output_type": "execute_result"
    }
   ],
   "source": [
    "# drop duplicates in edgelists_df\n",
    "edgelists_df.drop_duplicates(inplace=True)\n",
    "\n",
    "edgelists_df"
   ]
  },
  {
   "cell_type": "code",
   "execution_count": 36,
   "metadata": {},
   "outputs": [
    {
     "name": "stdout",
     "output_type": "stream",
     "text": [
      "6599\n",
      "6602\n"
     ]
    }
   ],
   "source": [
    "# load edgelists_df to networkx graph\n",
    "edgelists_graph = nx.from_pandas_edgelist(edgelists_df, source='user_id', target='author_id')\n",
    "\n",
    "# print number of nodes in edgelists_graph\n",
    "print(len(edgelists_graph.nodes))\n",
    "\n",
    "# print number of edges in edgelists_graph\n",
    "print(len(edgelists_graph.edges))"
   ]
  },
  {
   "cell_type": "code",
   "execution_count": 38,
   "metadata": {},
   "outputs": [
    {
     "data": {
      "image/png": "[encoded data removed]",
      "text/plain": [
       "<Figure size 432x288 with 1 Axes>"
      ]
     },
     "metadata": {},
     "output_type": "display_data"
    }
   ],
   "source": [
    "# draw edgelists_graph\n",
    "# node color light blue\n",
    "# edge color light blue\n",
    "# node size proportional to degree\n",
    "# edge width proportional to weight\n",
    "# node labels hidden\n",
    "# edge labels hidden\n",
    "nx.draw(edgelists_graph, node_color='lightblue', edge_color='red', node_size=1, width=0.2, with_labels=False, labels={})"
   ]
  },
  {
   "cell_type": "code",
   "execution_count": 16,
   "metadata": {},
   "outputs": [],
   "source": [
    "# load edgelists_retweeters_df and edgelists_likers_df to networkx\n",
    "G_retweeters = nx.from_pandas_edgelist(edgelists_retweeters_df, source='author_id', target='retweeter_id')\n",
    "G_likers = nx.from_pandas_edgelist(edgelists_likers_df, source='author_id', target='liker_id')"
   ]
  },
  {
   "cell_type": "code",
   "execution_count": 15,
   "metadata": {},
   "outputs": [
    {
     "data": {
      "image/png": "[encoded data removed]",
      "text/plain": [
       "<Figure size 432x288 with 1 Axes>"
      ]
     },
     "metadata": {},
     "output_type": "display_data"
    }
   ],
   "source": [
    "nx.draw(G_likers, with_labels=False, node_size=1, node_color='blue', edge_color='red', width=0.1)"
   ]
  },
  {
   "cell_type": "code",
   "execution_count": 14,
   "metadata": {},
   "outputs": [
    {
     "data": {
      "image/png": "[encoded data removed]",
      "text/plain": [
       "<Figure size 432x288 with 1 Axes>"
      ]
     },
     "metadata": {},
     "output_type": "display_data"
    }
   ],
   "source": [
    "nx.draw(G_retweeters, with_labels=False, node_size=1, node_color='blue', edge_color='red', width=0.1)"
   ]
  },
  {
   "cell_type": "code",
   "execution_count": 20,
   "metadata": {},
   "outputs": [
    {
     "name": "stdout",
     "output_type": "stream",
     "text": [
      "Number of nodes: 2297\n",
      "Number of edges: 2296\n"
     ]
    }
   ],
   "source": [
    "# stats of retweeters network \n",
    "print(f\"Number of nodes: {len(G_retweeters.nodes())}\")\n",
    "print(f\"Number of edges: {len(G_retweeters.edges())}\")"
   ]
  },
  {
   "cell_type": "code",
   "execution_count": 21,
   "metadata": {},
   "outputs": [
    {
     "name": "stdout",
     "output_type": "stream",
     "text": [
      "Number of nodes: 5759\n",
      "Number of edges: 5759\n"
     ]
    }
   ],
   "source": [
    "# stats of likers network\n",
    "print(f\"Number of nodes: {len(G_likers.nodes())}\")\n",
    "print(f\"Number of edges: {len(G_likers.edges())}\")"
   ]
  },
  {
   "cell_type": "code",
   "execution_count": 22,
   "metadata": {},
   "outputs": [
    {
     "name": "stdout",
     "output_type": "stream",
     "text": [
      "Clustering coefficient: 0.0\n",
      "Clustering coefficient: 0.0\n"
     ]
    }
   ],
   "source": [
    "# clustering coefficient of retweeters network\n",
    "print(f\"Clustering coefficient: {nx.average_clustering(G_retweeters)}\")\n",
    "\n",
    "# clustering coefficient of likers network\n",
    "print(f\"Clustering coefficient: {nx.average_clustering(G_likers)}\")"
   ]
  },
  {
   "cell_type": "code",
   "execution_count": 25,
   "metadata": {},
   "outputs": [
    {
     "name": "stdout",
     "output_type": "stream",
     "text": [
      "Average degree: {1: 2042.2126637554586, 73: 1.0136986301369864, 2: 1104.75, 8: 1.75, 33: 1.9393939393939394, 22: 1.9545454545454546, 2162: 1.0009250693802034}\n",
      "Average degree: {1: 4820.3441196938065, 374: 1.0160427807486632, 2: 2813.5, 20: 1.9, 76: 1.9736842105263157, 35: 1.0, 5253: 1.0011422044545975}\n"
     ]
    }
   ],
   "source": [
    "# average degree of retweeters network\n",
    "print(f\"Average degree: {nx.average_degree_connectivity(G_retweeters)}\")\n",
    "\n",
    "# average degree of likers network\n",
    "print(f\"Average degree: {nx.average_degree_connectivity(G_likers)}\")"
   ]
  }
 ],
 "metadata": {
  "interpreter": {
   "hash": "8ea647f73e73e5606616d713d17f7e03fc573d6527f7718c378c29b419b358a9"
  },
  "kernelspec": {
   "display_name": "Python 3 (ipykernel)",
   "language": "python",
   "name": "python3"
  },
  "language_info": {
   "codemirror_mode": {
    "name": "ipython",
    "version": 3
   },
   "file_extension": ".py",
   "mimetype": "text/x-python",
   "name": "python",
   "nbconvert_exporter": "python",
   "pygments_lexer": "ipython3",
   "version": "3.8.10"
  }
 },
 "nbformat": 4,
 "nbformat_minor": 2
}
