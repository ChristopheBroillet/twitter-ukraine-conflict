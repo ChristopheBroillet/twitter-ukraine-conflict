{
 "cells": [
  {
   "cell_type": "code",
   "execution_count": 1,
   "metadata": {},
   "outputs": [],
   "source": [
    "import pandas as pd\n",
    "import time\n",
    "from dotenv import load_dotenv\n",
    "load_dotenv(\"./.env.local\")\n",
    "import os\n",
    "BEARER_TOKEN = os.getenv(\"BEARER_TOKEN\")\n",
    "# https://docs.tweepy.org/en/stable/client.html\n",
    "import tweepy\n",
    "client = tweepy.Client(BEARER_TOKEN, wait_on_rate_limit=True)\n",
    "from pathlib import Path\n",
    "import networkx as nx"
   ]
  },
  {
   "cell_type": "markdown",
   "metadata": {},
   "source": [
    "# Data preprocessing"
   ]
  },
  {
   "cell_type": "markdown",
   "metadata": {},
   "source": [
    "For each csv (one day = 1 csv) in the dataset folder:\n",
    "\n",
    "    * filter to only keep english\n",
    "    * only keep userid, tweetid, text, hashtags columns\n",
    "    * delete duplicate based on test\n",
    "    * sample 15k per day (for a total of around 200k for 2 weeks)\n",
    "    * save the new df in the csvdataframes folder as day_{idx}.csv"
   ]
  },
  {
   "cell_type": "code",
   "execution_count": 2,
   "metadata": {},
   "outputs": [
    {
     "name": "stdout",
     "output_type": "stream",
     "text": [
      "Creating folders\n"
     ]
    }
   ],
   "source": [
    "# Preprocessing the datasets and save them in csv files under csvdataframes folder\n",
    "print(\"Creating folders\")\n",
    "Path.mkdir(Path(\"csvdataframes\"), exist_ok=True)\n",
    "Path.mkdir(Path(\"edgelists\"), exist_ok=True)\n",
    "Path.mkdir(Path(\"csvdataframes_wOgIds\"), exist_ok=True)"
   ]
  },
  {
   "cell_type": "code",
   "execution_count": 3,
   "metadata": {},
   "outputs": [
    {
     "name": "stdout",
     "output_type": "stream",
     "text": [
      "Preprocessing the data\n",
      "."
     ]
    },
    {
     "name": "stderr",
     "output_type": "stream",
     "text": [
      "/tmp/ipykernel_12398/308354048.py:3: DtypeWarning: Columns (15) have mixed types. Specify dtype option on import or set low_memory=False.\n",
      "  full_dataset = pd.read_csv(day, compression='gzip')\n"
     ]
    },
    {
     "name": "stdout",
     "output_type": "stream",
     "text": [
      "."
     ]
    }
   ],
   "source": [
    "print(\"Preprocessing the data\")\n",
    "for idx, day in enumerate(Path(\"dataset\").iterdir()):\n",
    "    full_dataset = pd.read_csv(day, compression='gzip')\n",
    "    df_en = full_dataset[full_dataset['language']=='en']\n",
    "    df_en_filteted = df_en[[\"userid\", \"tweetid\", \"text\", \"hashtags\"]]\n",
    "    df_no_duplicate = df_en_filteted.drop_duplicates(subset='text', keep='first')\n",
    "    df_sampled = df_no_duplicate.sample(5)\n",
    "    df_sampled.to_csv(Path(\"csvdataframes\") / f\"day_{idx}.csv\")\n",
    "    print(\".\", end='', flush=True)"
   ]
  },
  {
   "cell_type": "markdown",
   "metadata": {},
   "source": [
    "Because the original dataset contains retweet id, for each df in the\n",
    "csvdataframes folder add a new columns original_tweet_id with value the\n",
    "original tweet id if the tweet was a retweet else keep the tweet id and save\n",
    "every thing on the csvdataframes_wOgIds folder"
   ]
  },
  {
   "cell_type": "code",
   "execution_count": 4,
   "metadata": {},
   "outputs": [],
   "source": [
    "def get_tweets(ids):\n",
    "    tweets = client.get_tweets(ids=ids, expansions=['referenced_tweets.id', 'referenced_tweets.id.author_id'])\n",
    "    return tweets\n",
    "\n",
    "def get_original_tweets_ids(ids):\n",
    "    # convert ids to list\n",
    "    ids_list = ids[\"tweetid\"].tolist()\n",
    "    tweets = get_tweets(ids_list)\n",
    "    # create df with columns original_tweet_id and author_id\n",
    "    return_df = pd.DataFrame(columns=[\"author_id\", \"original_tweet_id\"])\n",
    "    if not tweets.data: return None, False\n",
    "    for tweet in tweets.data:\n",
    "        referenced_tweet = tweet.get('referenced_tweets')\n",
    "        original_author = tweet.get('author_id')\n",
    "        original_tweet_id = referenced_tweet[0].id if referenced_tweet else tweet.id\n",
    "        # concat to df\n",
    "        return_df = pd.concat([return_df, pd.DataFrame({\"author_id\": [original_author], \"original_tweet_id\": [original_tweet_id]})], ignore_index=True)\n",
    "    return_df['Unnamed: 0'] = ids['Unnamed: 0']\n",
    "    return return_df, True"
   ]
  },
  {
   "cell_type": "code",
   "execution_count": 5,
   "metadata": {},
   "outputs": [
    {
     "name": "stdout",
     "output_type": "stream",
     "text": [
      "csvdataframes/day_1.csv\n",
      "csvdataframes/day_1.csv Iteration 0-100 / 5\n",
      "csvdataframes/day_0.csv\n",
      "csvdataframes/day_0.csv Iteration 0-100 / 5\n"
     ]
    }
   ],
   "source": [
    "for idx, file in enumerate(Path(\"csvdataframes\").iterdir()):\n",
    "    print(file)\n",
    "    df = pd.read_csv(file)\n",
    "    # temp df to store original tweet ids\n",
    "    temp_df = pd.DataFrame()\n",
    "    # split df by 100 \n",
    "    for i in range(0, len(df), 100):\n",
    "        print(f\"{file} Iteration {i}-{i+100} / {len(df)}\")\n",
    "        df_100 = df[i:i+100]\n",
    "        original_tweet_ids_df, empty_check = get_original_tweets_ids(df_100)\n",
    "        if not empty_check: continue\n",
    "        # concat temp_df and original_tweet_ids_df\n",
    "        temp_df = pd.concat([temp_df, original_tweet_ids_df], ignore_index=True)\n",
    "    # Merge temp_df with df\n",
    "    if temp_df.empty: continue\n",
    "    df = pd.merge(df, temp_df, on=\"Unnamed: 0\")\n",
    "    # save df to csv\n",
    "    df.to_csv(Path(f\"csvdataframes_wOgIds/day_{idx}.csv\"), index=False)\n"
   ]
  },
  {
   "cell_type": "markdown",
   "metadata": {},
   "source": [
    "# Edge list creation"
   ]
  },
  {
   "cell_type": "code",
   "execution_count": 6,
   "metadata": {},
   "outputs": [],
   "source": [
    "# get_retweeters from 1 id and 1 pagination token\n",
    "def get_retweeters(id, pagination_token=None):\n",
    "    print(\".\", end='', flush=True)\n",
    "    retweeters = client.get_retweeters(id, pagination_token=pagination_token)\n",
    "    next_token = retweeters.meta.get('next_token')\n",
    "\n",
    "    if not retweeters.data:\n",
    "        return None, None\n",
    "\n",
    "    # return list of user ids\n",
    "    retweeter_ids = [retweeter.id for retweeter in retweeters.data]\n",
    "    return retweeter_ids, next_token\n",
    "\n",
    "# get_all_retweeters from 1 id\n",
    "def get_all_retweeters(id):\n",
    "    retweeter_ids = []\n",
    "    next_token = None\n",
    "    while True:\n",
    "        retweeter_ids_, next_token = get_retweeters(id, pagination_token=next_token)\n",
    "        if retweeter_ids_ is None:\n",
    "            break\n",
    "        retweeter_ids += retweeter_ids_\n",
    "    return retweeter_ids"
   ]
  },
  {
   "cell_type": "code",
   "execution_count": 7,
   "metadata": {},
   "outputs": [],
   "source": [
    "def get_linkin_users(id, pagination_token=None):\n",
    "    print(\".\", end='', flush=True)\n",
    "    retweeters = client.get_liking_users(id, pagination_token=pagination_token)\n",
    "    next_token = retweeters.meta.get('next_token')\n",
    "\n",
    "    if not retweeters.data:\n",
    "        return None, None\n",
    "\n",
    "    # return list of user ids\n",
    "    retweeter_ids = [retweeter.id for retweeter in retweeters.data]\n",
    "    return retweeter_ids, next_token\n",
    "\n",
    "def get_all_linkin_users(id):\n",
    "    retweeter_ids = []\n",
    "    next_token = None\n",
    "    while True:\n",
    "        retweeter_ids_, next_token = get_linkin_users(id, pagination_token=next_token)\n",
    "        if retweeter_ids_ is None:\n",
    "            break\n",
    "        retweeter_ids += retweeter_ids_\n",
    "    return retweeter_ids"
   ]
  },
  {
   "cell_type": "code",
   "execution_count": 8,
   "metadata": {},
   "outputs": [],
   "source": [
    "def create_retweeters_edgelist():\n",
    "    # read csv files from csvdataframes_wOgIds folder\n",
    "    for idx, file in enumerate(Path(\"csvdataframes_wOgIds\").iterdir()):\n",
    "        # create empty edgelists df with column retweeter_id and tweet_id\n",
    "        edgelists_df = pd.DataFrame(columns=[\"user_id\", \"author_id\"])\n",
    "        print(file)\n",
    "        df = pd.read_csv(file)\n",
    "        \n",
    "        for tweetId, author_id in zip(df['original_tweet_id'], df['author_id']):\n",
    "            print(tweetId, end='')\n",
    "            retweeter_ids = get_all_retweeters(tweetId)\n",
    "            # convert to df\n",
    "            retweeter_ids_df = pd.DataFrame(retweeter_ids, columns=[\"user_id\"])\n",
    "            # add tweetId to df\n",
    "            retweeter_ids_df.insert(1, \"author_id\", author_id)\n",
    "            # concat edgelists_df and retweeter_ids_df\n",
    "            edgelists_df = pd.concat([edgelists_df, retweeter_ids_df], ignore_index=True)\n",
    "            print(\"Done\")\n",
    "        # save df to csv\n",
    "        edgelists_df.to_csv(Path(f\"edgelists/retweeters_{idx}.csv\"), index=False)\n",
    "\n",
    "    # # save edgelists_df to csv\n",
    "    # edgelists_df.to_csv(Path(f\"edgelists/retweeters.csv\"), index=False)\n",
    "\n",
    "    # return edgelists_df\n",
    "\n",
    "    \n",
    "def create_liking_edgelist():\n",
    "    # read csv files from csvdataframes_wOgIds folder\n",
    "    for idx, file in enumerate(Path(\"csvdataframes_wOgIds\").iterdir()):\n",
    "         # create empty edgelists df with column liker_id and tweet_id\n",
    "        edgelists_df = pd.DataFrame(columns=[\"user_id\", \"author_id\"])\n",
    "        print(file)\n",
    "        df = pd.read_csv(file)\n",
    "        for tweetId, author_id in zip(df['original_tweet_id'], df['author_id']):\n",
    "            print(tweetId, end='')\n",
    "            liker_ids = get_all_linkin_users(tweetId)\n",
    "            # convert to df\n",
    "            liker_ids_df = pd.DataFrame(liker_ids, columns=[\"user_id\"])\n",
    "            # add tweetId to df\n",
    "            liker_ids_df.insert(1, \"author_id\", author_id)\n",
    "            # concat edgelists_df and liker_ids_df\n",
    "            edgelists_df = pd.concat([edgelists_df, liker_ids_df], ignore_index=True)\n",
    "            print(\"Done\")\n",
    "        # save df to csv\n",
    "        edgelists_df.to_csv(Path(f\"edgelists/liking_{idx}.csv\"), index=False)\n",
    "\n",
    "    # # save edgelists_df to csv\n",
    "    # edgelists_df.to_csv(Path(f\"edgelists/liking.csv\"), index=False)\n",
    "\n",
    "    # return edgelists_df"
   ]
  },
  {
   "cell_type": "code",
   "execution_count": 9,
   "metadata": {},
   "outputs": [
    {
     "name": "stdout",
     "output_type": "stream",
     "text": [
      "csvdataframes_wOgIds/day_1.csv\n",
      "1501112791436251138."
     ]
    },
    {
     "name": "stderr",
     "output_type": "stream",
     "text": [
      "Rate limit exceeded. Sleeping for 27 seconds.\n"
     ]
    },
    {
     "name": "stdout",
     "output_type": "stream",
     "text": [
      ".Done\n",
      "1501253904574472197.Done\n",
      "1501282376520912904..Done\n",
      "1501144246337908740.Done\n",
      "1501013353128464385..Done\n",
      "csvdataframes_wOgIds/day_0.csv\n",
      "1499728774212067333..Done\n",
      "1499575579716243465...........................Done\n",
      "1499618122839781376.Done\n",
      "1499877369598787585..Done\n",
      "1499755795503665157..Done\n",
      "csvdataframes_wOgIds/day_1.csv\n",
      "1501112791436251138.Done\n",
      "1501253904574472197.Done\n",
      "1501282376520912904..Done\n",
      "1501144246337908740..Done\n",
      "1501013353128464385..Done\n",
      "csvdataframes_wOgIds/day_0.csv\n",
      "1499728774212067333..Done\n",
      "1499575579716243465.............................Done\n",
      "1499618122839781376.Done\n",
      "1499877369598787585..Done\n",
      "1499755795503665157..Done\n"
     ]
    }
   ],
   "source": [
    "create_retweeters_edgelist()\n",
    "create_liking_edgelist()"
   ]
  },
  {
   "cell_type": "markdown",
   "metadata": {},
   "source": [
    "# First viz & basic stats"
   ]
  },
  {
   "cell_type": "code",
   "execution_count": 10,
   "metadata": {},
   "outputs": [],
   "source": [
    "# load edgelists retweeters and liking from csv files to edgelists_df dataframe \n",
    "edgelists_retweeters_df = pd.read_csv(Path(f\"edgelists/retweeters_0.csv\"))\n",
    "edgelists_likers_df = pd.read_csv(Path(f\"edgelists/liking_0.csv\"))"
   ]
  },
  {
   "cell_type": "code",
   "execution_count": 11,
   "metadata": {},
   "outputs": [
    {
     "data": {
      "text/html": [
       "<div>\n",
       "<style scoped>\n",
       "    .dataframe tbody tr th:only-of-type {\n",
       "        vertical-align: middle;\n",
       "    }\n",
       "\n",
       "    .dataframe tbody tr th {\n",
       "        vertical-align: top;\n",
       "    }\n",
       "\n",
       "    .dataframe thead th {\n",
       "        text-align: right;\n",
       "    }\n",
       "</style>\n",
       "<table border=\"1\" class=\"dataframe\">\n",
       "  <thead>\n",
       "    <tr style=\"text-align: right;\">\n",
       "      <th></th>\n",
       "      <th>user_id</th>\n",
       "      <th>author_id</th>\n",
       "    </tr>\n",
       "  </thead>\n",
       "  <tbody>\n",
       "    <tr>\n",
       "      <th>0</th>\n",
       "      <td>4495340234</td>\n",
       "      <td>1149557758053605376</td>\n",
       "    </tr>\n",
       "    <tr>\n",
       "      <th>1</th>\n",
       "      <td>1088459680714711040</td>\n",
       "      <td>1149557758053605376</td>\n",
       "    </tr>\n",
       "    <tr>\n",
       "      <th>2</th>\n",
       "      <td>2563475775</td>\n",
       "      <td>1149557758053605376</td>\n",
       "    </tr>\n",
       "    <tr>\n",
       "      <th>3</th>\n",
       "      <td>1438910068238401538</td>\n",
       "      <td>1149557758053605376</td>\n",
       "    </tr>\n",
       "    <tr>\n",
       "      <th>4</th>\n",
       "      <td>3142845018</td>\n",
       "      <td>1149557758053605376</td>\n",
       "    </tr>\n",
       "    <tr>\n",
       "      <th>5</th>\n",
       "      <td>1445093406645096456</td>\n",
       "      <td>1149557758053605376</td>\n",
       "    </tr>\n",
       "    <tr>\n",
       "      <th>6</th>\n",
       "      <td>1400195736948527106</td>\n",
       "      <td>1149557758053605376</td>\n",
       "    </tr>\n",
       "    <tr>\n",
       "      <th>7</th>\n",
       "      <td>1388138590912139273</td>\n",
       "      <td>1149557758053605376</td>\n",
       "    </tr>\n",
       "    <tr>\n",
       "      <th>8</th>\n",
       "      <td>113557572</td>\n",
       "      <td>1149557758053605376</td>\n",
       "    </tr>\n",
       "    <tr>\n",
       "      <th>9</th>\n",
       "      <td>916519317780316160</td>\n",
       "      <td>1149557758053605376</td>\n",
       "    </tr>\n",
       "    <tr>\n",
       "      <th>10</th>\n",
       "      <td>1481643134161330182</td>\n",
       "      <td>1149557758053605376</td>\n",
       "    </tr>\n",
       "    <tr>\n",
       "      <th>11</th>\n",
       "      <td>1448527172168130564</td>\n",
       "      <td>1149557758053605376</td>\n",
       "    </tr>\n",
       "    <tr>\n",
       "      <th>12</th>\n",
       "      <td>1440641280493506567</td>\n",
       "      <td>1149557758053605376</td>\n",
       "    </tr>\n",
       "    <tr>\n",
       "      <th>13</th>\n",
       "      <td>1419913890436059139</td>\n",
       "      <td>1149557758053605376</td>\n",
       "    </tr>\n",
       "    <tr>\n",
       "      <th>14</th>\n",
       "      <td>70331587</td>\n",
       "      <td>1149557758053605376</td>\n",
       "    </tr>\n",
       "    <tr>\n",
       "      <th>15</th>\n",
       "      <td>1483058667067154437</td>\n",
       "      <td>1149557758053605376</td>\n",
       "    </tr>\n",
       "    <tr>\n",
       "      <th>16</th>\n",
       "      <td>1424007731162140673</td>\n",
       "      <td>1149557758053605376</td>\n",
       "    </tr>\n",
       "    <tr>\n",
       "      <th>17</th>\n",
       "      <td>817817248689754113</td>\n",
       "      <td>1149557758053605376</td>\n",
       "    </tr>\n",
       "    <tr>\n",
       "      <th>18</th>\n",
       "      <td>1266756508781383683</td>\n",
       "      <td>1149557758053605376</td>\n",
       "    </tr>\n",
       "    <tr>\n",
       "      <th>19</th>\n",
       "      <td>3187748544</td>\n",
       "      <td>1149557758053605376</td>\n",
       "    </tr>\n",
       "    <tr>\n",
       "      <th>20</th>\n",
       "      <td>1476675155283922947</td>\n",
       "      <td>1149557758053605376</td>\n",
       "    </tr>\n",
       "    <tr>\n",
       "      <th>21</th>\n",
       "      <td>1479580255337652224</td>\n",
       "      <td>1149557758053605376</td>\n",
       "    </tr>\n",
       "    <tr>\n",
       "      <th>22</th>\n",
       "      <td>57483874</td>\n",
       "      <td>1149557758053605376</td>\n",
       "    </tr>\n",
       "    <tr>\n",
       "      <th>23</th>\n",
       "      <td>1484102151408603139</td>\n",
       "      <td>1149557758053605376</td>\n",
       "    </tr>\n",
       "    <tr>\n",
       "      <th>24</th>\n",
       "      <td>1065277975019417601</td>\n",
       "      <td>1149557758053605376</td>\n",
       "    </tr>\n",
       "    <tr>\n",
       "      <th>25</th>\n",
       "      <td>1399443309332897793</td>\n",
       "      <td>1149557758053605376</td>\n",
       "    </tr>\n",
       "    <tr>\n",
       "      <th>26</th>\n",
       "      <td>1465347333864910856</td>\n",
       "      <td>1149557758053605376</td>\n",
       "    </tr>\n",
       "    <tr>\n",
       "      <th>27</th>\n",
       "      <td>2933804065</td>\n",
       "      <td>1149557758053605376</td>\n",
       "    </tr>\n",
       "    <tr>\n",
       "      <th>28</th>\n",
       "      <td>1038795005253570560</td>\n",
       "      <td>1149557758053605376</td>\n",
       "    </tr>\n",
       "    <tr>\n",
       "      <th>29</th>\n",
       "      <td>118329362</td>\n",
       "      <td>1149557758053605376</td>\n",
       "    </tr>\n",
       "    <tr>\n",
       "      <th>30</th>\n",
       "      <td>1439924939914579976</td>\n",
       "      <td>1149557758053605376</td>\n",
       "    </tr>\n",
       "    <tr>\n",
       "      <th>31</th>\n",
       "      <td>260085304</td>\n",
       "      <td>1149557758053605376</td>\n",
       "    </tr>\n",
       "    <tr>\n",
       "      <th>32</th>\n",
       "      <td>1427450242157395970</td>\n",
       "      <td>1149557758053605376</td>\n",
       "    </tr>\n",
       "    <tr>\n",
       "      <th>33</th>\n",
       "      <td>517445798</td>\n",
       "      <td>1149557758053605376</td>\n",
       "    </tr>\n",
       "    <tr>\n",
       "      <th>34</th>\n",
       "      <td>1484183421916426240</td>\n",
       "      <td>1149557758053605376</td>\n",
       "    </tr>\n",
       "    <tr>\n",
       "      <th>35</th>\n",
       "      <td>336655320</td>\n",
       "      <td>1149557758053605376</td>\n",
       "    </tr>\n",
       "    <tr>\n",
       "      <th>36</th>\n",
       "      <td>1493077592689475584</td>\n",
       "      <td>1149557758053605376</td>\n",
       "    </tr>\n",
       "    <tr>\n",
       "      <th>37</th>\n",
       "      <td>1483652723166035972</td>\n",
       "      <td>1149557758053605376</td>\n",
       "    </tr>\n",
       "    <tr>\n",
       "      <th>38</th>\n",
       "      <td>1478811743740645376</td>\n",
       "      <td>1149557758053605376</td>\n",
       "    </tr>\n",
       "    <tr>\n",
       "      <th>39</th>\n",
       "      <td>1285603274624626689</td>\n",
       "      <td>1149557758053605376</td>\n",
       "    </tr>\n",
       "    <tr>\n",
       "      <th>40</th>\n",
       "      <td>1497137951830331394</td>\n",
       "      <td>1149557758053605376</td>\n",
       "    </tr>\n",
       "    <tr>\n",
       "      <th>41</th>\n",
       "      <td>1455835804266385411</td>\n",
       "      <td>1149557758053605376</td>\n",
       "    </tr>\n",
       "    <tr>\n",
       "      <th>42</th>\n",
       "      <td>1039121201531109376</td>\n",
       "      <td>1149557758053605376</td>\n",
       "    </tr>\n",
       "    <tr>\n",
       "      <th>43</th>\n",
       "      <td>1392185750746193923</td>\n",
       "      <td>1469567630159888387</td>\n",
       "    </tr>\n",
       "    <tr>\n",
       "      <th>44</th>\n",
       "      <td>2223345012</td>\n",
       "      <td>1319767887167578114</td>\n",
       "    </tr>\n",
       "    <tr>\n",
       "      <th>45</th>\n",
       "      <td>1942449494</td>\n",
       "      <td>1319767887167578114</td>\n",
       "    </tr>\n",
       "    <tr>\n",
       "      <th>46</th>\n",
       "      <td>1402053586595598343</td>\n",
       "      <td>1319767887167578114</td>\n",
       "    </tr>\n",
       "    <tr>\n",
       "      <th>47</th>\n",
       "      <td>869384859810054144</td>\n",
       "      <td>1319767887167578114</td>\n",
       "    </tr>\n",
       "    <tr>\n",
       "      <th>48</th>\n",
       "      <td>9722912</td>\n",
       "      <td>1319767887167578114</td>\n",
       "    </tr>\n",
       "    <tr>\n",
       "      <th>49</th>\n",
       "      <td>1177317541330456580</td>\n",
       "      <td>1319767887167578114</td>\n",
       "    </tr>\n",
       "  </tbody>\n",
       "</table>\n",
       "</div>"
      ],
      "text/plain": [
       "                user_id            author_id\n",
       "0            4495340234  1149557758053605376\n",
       "1   1088459680714711040  1149557758053605376\n",
       "2            2563475775  1149557758053605376\n",
       "3   1438910068238401538  1149557758053605376\n",
       "4            3142845018  1149557758053605376\n",
       "5   1445093406645096456  1149557758053605376\n",
       "6   1400195736948527106  1149557758053605376\n",
       "7   1388138590912139273  1149557758053605376\n",
       "8             113557572  1149557758053605376\n",
       "9    916519317780316160  1149557758053605376\n",
       "10  1481643134161330182  1149557758053605376\n",
       "11  1448527172168130564  1149557758053605376\n",
       "12  1440641280493506567  1149557758053605376\n",
       "13  1419913890436059139  1149557758053605376\n",
       "14             70331587  1149557758053605376\n",
       "15  1483058667067154437  1149557758053605376\n",
       "16  1424007731162140673  1149557758053605376\n",
       "17   817817248689754113  1149557758053605376\n",
       "18  1266756508781383683  1149557758053605376\n",
       "19           3187748544  1149557758053605376\n",
       "20  1476675155283922947  1149557758053605376\n",
       "21  1479580255337652224  1149557758053605376\n",
       "22             57483874  1149557758053605376\n",
       "23  1484102151408603139  1149557758053605376\n",
       "24  1065277975019417601  1149557758053605376\n",
       "25  1399443309332897793  1149557758053605376\n",
       "26  1465347333864910856  1149557758053605376\n",
       "27           2933804065  1149557758053605376\n",
       "28  1038795005253570560  1149557758053605376\n",
       "29            118329362  1149557758053605376\n",
       "30  1439924939914579976  1149557758053605376\n",
       "31            260085304  1149557758053605376\n",
       "32  1427450242157395970  1149557758053605376\n",
       "33            517445798  1149557758053605376\n",
       "34  1484183421916426240  1149557758053605376\n",
       "35            336655320  1149557758053605376\n",
       "36  1493077592689475584  1149557758053605376\n",
       "37  1483652723166035972  1149557758053605376\n",
       "38  1478811743740645376  1149557758053605376\n",
       "39  1285603274624626689  1149557758053605376\n",
       "40  1497137951830331394  1149557758053605376\n",
       "41  1455835804266385411  1149557758053605376\n",
       "42  1039121201531109376  1149557758053605376\n",
       "43  1392185750746193923  1469567630159888387\n",
       "44           2223345012  1319767887167578114\n",
       "45           1942449494  1319767887167578114\n",
       "46  1402053586595598343  1319767887167578114\n",
       "47   869384859810054144  1319767887167578114\n",
       "48              9722912  1319767887167578114\n",
       "49  1177317541330456580  1319767887167578114"
      ]
     },
     "execution_count": 11,
     "metadata": {},
     "output_type": "execute_result"
    }
   ],
   "source": [
    "edgelists_likers_df"
   ]
  },
  {
   "cell_type": "code",
   "execution_count": 12,
   "metadata": {},
   "outputs": [
    {
     "name": "stdout",
     "output_type": "stream",
     "text": [
      "50\n",
      "3\n"
     ]
    }
   ],
   "source": [
    "# print number of unique users in edgelists_likers_df\n",
    "print(len(edgelists_likers_df['user_id'].unique()))\n",
    "\n",
    "# print number of unique author in edgelists_likers_df\n",
    "print(len(edgelists_likers_df['author_id'].unique()))"
   ]
  },
  {
   "cell_type": "code",
   "execution_count": 13,
   "metadata": {},
   "outputs": [
    {
     "data": {
      "text/html": [
       "<div>\n",
       "<style scoped>\n",
       "    .dataframe tbody tr th:only-of-type {\n",
       "        vertical-align: middle;\n",
       "    }\n",
       "\n",
       "    .dataframe tbody tr th {\n",
       "        vertical-align: top;\n",
       "    }\n",
       "\n",
       "    .dataframe thead th {\n",
       "        text-align: right;\n",
       "    }\n",
       "</style>\n",
       "<table border=\"1\" class=\"dataframe\">\n",
       "  <thead>\n",
       "    <tr style=\"text-align: right;\">\n",
       "      <th></th>\n",
       "      <th>user_id</th>\n",
       "      <th>author_id</th>\n",
       "    </tr>\n",
       "  </thead>\n",
       "  <tbody>\n",
       "    <tr>\n",
       "      <th>0</th>\n",
       "      <td>4495340234</td>\n",
       "      <td>1149557758053605376</td>\n",
       "    </tr>\n",
       "    <tr>\n",
       "      <th>1</th>\n",
       "      <td>1088459680714711040</td>\n",
       "      <td>1149557758053605376</td>\n",
       "    </tr>\n",
       "    <tr>\n",
       "      <th>2</th>\n",
       "      <td>2563475775</td>\n",
       "      <td>1149557758053605376</td>\n",
       "    </tr>\n",
       "    <tr>\n",
       "      <th>3</th>\n",
       "      <td>1438910068238401538</td>\n",
       "      <td>1149557758053605376</td>\n",
       "    </tr>\n",
       "    <tr>\n",
       "      <th>4</th>\n",
       "      <td>3142845018</td>\n",
       "      <td>1149557758053605376</td>\n",
       "    </tr>\n",
       "    <tr>\n",
       "      <th>...</th>\n",
       "      <td>...</td>\n",
       "      <td>...</td>\n",
       "    </tr>\n",
       "    <tr>\n",
       "      <th>118</th>\n",
       "      <td>70331587</td>\n",
       "      <td>1149557758053605376</td>\n",
       "    </tr>\n",
       "    <tr>\n",
       "      <th>119</th>\n",
       "      <td>817817248689754113</td>\n",
       "      <td>1149557758053605376</td>\n",
       "    </tr>\n",
       "    <tr>\n",
       "      <th>120</th>\n",
       "      <td>1065277975019417601</td>\n",
       "      <td>1149557758053605376</td>\n",
       "    </tr>\n",
       "    <tr>\n",
       "      <th>121</th>\n",
       "      <td>1319767887167578114</td>\n",
       "      <td>1319767887167578114</td>\n",
       "    </tr>\n",
       "    <tr>\n",
       "      <th>122</th>\n",
       "      <td>1177317541330456580</td>\n",
       "      <td>1319767887167578114</td>\n",
       "    </tr>\n",
       "  </tbody>\n",
       "</table>\n",
       "<p>123 rows × 2 columns</p>\n",
       "</div>"
      ],
      "text/plain": [
       "                 user_id            author_id\n",
       "0             4495340234  1149557758053605376\n",
       "1    1088459680714711040  1149557758053605376\n",
       "2             2563475775  1149557758053605376\n",
       "3    1438910068238401538  1149557758053605376\n",
       "4             3142845018  1149557758053605376\n",
       "..                   ...                  ...\n",
       "118             70331587  1149557758053605376\n",
       "119   817817248689754113  1149557758053605376\n",
       "120  1065277975019417601  1149557758053605376\n",
       "121  1319767887167578114  1319767887167578114\n",
       "122  1177317541330456580  1319767887167578114\n",
       "\n",
       "[123 rows x 2 columns]"
      ]
     },
     "execution_count": 13,
     "metadata": {},
     "output_type": "execute_result"
    }
   ],
   "source": [
    "# concat edgelists_likers_df and edgelists_retweeters_df\n",
    "edgelists_df = pd.concat([edgelists_likers_df, edgelists_retweeters_df], ignore_index=True)\n",
    "\n",
    "edgelists_df"
   ]
  },
  {
   "cell_type": "code",
   "execution_count": 14,
   "metadata": {},
   "outputs": [
    {
     "name": "stdout",
     "output_type": "stream",
     "text": [
      "118\n",
      "4\n"
     ]
    }
   ],
   "source": [
    "# print number of unique users in edgelists_df\n",
    "print(len(edgelists_df['user_id'].unique()))\n",
    "\n",
    "# print number of unique author in edgelists_df\n",
    "print(len(edgelists_df['author_id'].unique()))"
   ]
  },
  {
   "cell_type": "code",
   "execution_count": 15,
   "metadata": {},
   "outputs": [
    {
     "data": {
      "text/html": [
       "<div>\n",
       "<style scoped>\n",
       "    .dataframe tbody tr th:only-of-type {\n",
       "        vertical-align: middle;\n",
       "    }\n",
       "\n",
       "    .dataframe tbody tr th {\n",
       "        vertical-align: top;\n",
       "    }\n",
       "\n",
       "    .dataframe thead th {\n",
       "        text-align: right;\n",
       "    }\n",
       "</style>\n",
       "<table border=\"1\" class=\"dataframe\">\n",
       "  <thead>\n",
       "    <tr style=\"text-align: right;\">\n",
       "      <th></th>\n",
       "      <th>user_id</th>\n",
       "      <th>author_id</th>\n",
       "    </tr>\n",
       "  </thead>\n",
       "  <tbody>\n",
       "    <tr>\n",
       "      <th>0</th>\n",
       "      <td>4495340234</td>\n",
       "      <td>1149557758053605376</td>\n",
       "    </tr>\n",
       "    <tr>\n",
       "      <th>1</th>\n",
       "      <td>1088459680714711040</td>\n",
       "      <td>1149557758053605376</td>\n",
       "    </tr>\n",
       "    <tr>\n",
       "      <th>2</th>\n",
       "      <td>2563475775</td>\n",
       "      <td>1149557758053605376</td>\n",
       "    </tr>\n",
       "    <tr>\n",
       "      <th>3</th>\n",
       "      <td>1438910068238401538</td>\n",
       "      <td>1149557758053605376</td>\n",
       "    </tr>\n",
       "    <tr>\n",
       "      <th>4</th>\n",
       "      <td>3142845018</td>\n",
       "      <td>1149557758053605376</td>\n",
       "    </tr>\n",
       "    <tr>\n",
       "      <th>...</th>\n",
       "      <td>...</td>\n",
       "      <td>...</td>\n",
       "    </tr>\n",
       "    <tr>\n",
       "      <th>113</th>\n",
       "      <td>1499443706692358144</td>\n",
       "      <td>1483743771879690245</td>\n",
       "    </tr>\n",
       "    <tr>\n",
       "      <th>114</th>\n",
       "      <td>1494037874886561796</td>\n",
       "      <td>1483743771879690245</td>\n",
       "    </tr>\n",
       "    <tr>\n",
       "      <th>115</th>\n",
       "      <td>1466450824318574595</td>\n",
       "      <td>1483743771879690245</td>\n",
       "    </tr>\n",
       "    <tr>\n",
       "      <th>116</th>\n",
       "      <td>1431333358529826820</td>\n",
       "      <td>1483743771879690245</td>\n",
       "    </tr>\n",
       "    <tr>\n",
       "      <th>121</th>\n",
       "      <td>1319767887167578114</td>\n",
       "      <td>1319767887167578114</td>\n",
       "    </tr>\n",
       "  </tbody>\n",
       "</table>\n",
       "<p>118 rows × 2 columns</p>\n",
       "</div>"
      ],
      "text/plain": [
       "                 user_id            author_id\n",
       "0             4495340234  1149557758053605376\n",
       "1    1088459680714711040  1149557758053605376\n",
       "2             2563475775  1149557758053605376\n",
       "3    1438910068238401538  1149557758053605376\n",
       "4             3142845018  1149557758053605376\n",
       "..                   ...                  ...\n",
       "113  1499443706692358144  1483743771879690245\n",
       "114  1494037874886561796  1483743771879690245\n",
       "115  1466450824318574595  1483743771879690245\n",
       "116  1431333358529826820  1483743771879690245\n",
       "121  1319767887167578114  1319767887167578114\n",
       "\n",
       "[118 rows x 2 columns]"
      ]
     },
     "execution_count": 15,
     "metadata": {},
     "output_type": "execute_result"
    }
   ],
   "source": [
    "# drop duplicates in edgelists_df\n",
    "edgelists_df.drop_duplicates(inplace=True)\n",
    "\n",
    "edgelists_df"
   ]
  },
  {
   "cell_type": "code",
   "execution_count": 16,
   "metadata": {},
   "outputs": [
    {
     "name": "stdout",
     "output_type": "stream",
     "text": [
      "120\n",
      "118\n"
     ]
    }
   ],
   "source": [
    "# load edgelists_df to networkx graph\n",
    "edgelists_graph = nx.from_pandas_edgelist(edgelists_df, source='user_id', target='author_id')\n",
    "\n",
    "# print number of nodes in edgelists_graph\n",
    "print(len(edgelists_graph.nodes))\n",
    "\n",
    "# print number of edges in edgelists_graph\n",
    "print(len(edgelists_graph.edges))"
   ]
  },
  {
   "cell_type": "code",
   "execution_count": 17,
   "metadata": {},
   "outputs": [
    {
     "data": {
      "image/png": "[encoded data removed]",
      "text/plain": [
       "<Figure size 432x288 with 1 Axes>"
      ]
     },
     "metadata": {},
     "output_type": "display_data"
    }
   ],
   "source": [
    "# draw edgelists_graph\n",
    "# node color light blue\n",
    "# edge color light blue\n",
    "# node size proportional to degree\n",
    "# edge width proportional to weight\n",
    "# node labels hidden\n",
    "# edge labels hidden\n",
    "nx.draw(edgelists_graph, node_color='lightblue', edge_color='red', node_size=1, width=0.2, with_labels=False, labels={})"
   ]
  },
  {
   "cell_type": "code",
   "execution_count": 18,
   "metadata": {},
   "outputs": [],
   "source": [
    "# load edgelists_retweeters_df and edgelists_likers_df to networkx\n",
    "G_retweeters = nx.from_pandas_edgelist(edgelists_retweeters_df, source='author_id', target='user_id')\n",
    "G_likers = nx.from_pandas_edgelist(edgelists_likers_df, source='author_id', target='user_id')"
   ]
  },
  {
   "cell_type": "code",
   "execution_count": 19,
   "metadata": {},
   "outputs": [
    {
     "data": {
      "image/png": "[encoded data removed]",
      "text/plain": [
       "<Figure size 432x288 with 1 Axes>"
      ]
     },
     "metadata": {},
     "output_type": "display_data"
    }
   ],
   "source": [
    "nx.draw(G_likers, with_labels=False, node_size=1, node_color='blue', edge_color='red', width=0.1)"
   ]
  },
  {
   "cell_type": "code",
   "execution_count": 20,
   "metadata": {},
   "outputs": [
    {
     "data": {
      "image/png": "[encoded data removed]",
      "text/plain": [
       "<Figure size 432x288 with 1 Axes>"
      ]
     },
     "metadata": {},
     "output_type": "display_data"
    }
   ],
   "source": [
    "nx.draw(G_retweeters, with_labels=False, node_size=1, node_color='blue', edge_color='red', width=0.1)"
   ]
  },
  {
   "cell_type": "code",
   "execution_count": 21,
   "metadata": {},
   "outputs": [
    {
     "name": "stdout",
     "output_type": "stream",
     "text": [
      "Number of nodes: 74\n",
      "Number of edges: 73\n"
     ]
    }
   ],
   "source": [
    "# stats of retweeters network \n",
    "print(f\"Number of nodes: {len(G_retweeters.nodes())}\")\n",
    "print(f\"Number of edges: {len(G_retweeters.edges())}\")"
   ]
  },
  {
   "cell_type": "code",
   "execution_count": 22,
   "metadata": {},
   "outputs": [
    {
     "name": "stdout",
     "output_type": "stream",
     "text": [
      "Number of nodes: 53\n",
      "Number of edges: 50\n"
     ]
    }
   ],
   "source": [
    "# stats of likers network\n",
    "print(f\"Number of nodes: {len(G_likers.nodes())}\")\n",
    "print(f\"Number of edges: {len(G_likers.edges())}\")"
   ]
  },
  {
   "cell_type": "code",
   "execution_count": 23,
   "metadata": {},
   "outputs": [
    {
     "name": "stdout",
     "output_type": "stream",
     "text": [
      "Clustering coefficient: 0.0\n",
      "Clustering coefficient: 0.0\n"
     ]
    }
   ],
   "source": [
    "# clustering coefficient of retweeters network\n",
    "print(f\"Clustering coefficient: {nx.average_clustering(G_retweeters)}\")\n",
    "\n",
    "# clustering coefficient of likers network\n",
    "print(f\"Clustering coefficient: {nx.average_clustering(G_likers)}\")"
   ]
  },
  {
   "cell_type": "code",
   "execution_count": 24,
   "metadata": {},
   "outputs": [
    {
     "name": "stdout",
     "output_type": "stream",
     "text": [
      "Average degree: {68: 1.9705882352941178, 1: 63.478873239436616, 4: 1.0, 3: 1.3333333333333333}\n",
      "Average degree: {43: 1.0, 1: 37.0, 6: 1.0}\n"
     ]
    }
   ],
   "source": [
    "# average degree of retweeters network\n",
    "print(f\"Average degree: {nx.average_degree_connectivity(G_retweeters)}\")\n",
    "\n",
    "# average degree of likers network\n",
    "print(f\"Average degree: {nx.average_degree_connectivity(G_likers)}\")"
   ]
  },
  {
   "cell_type": "markdown",
   "metadata": {},
   "source": [
    "# Viz"
   ]
  },
  {
   "cell_type": "code",
   "execution_count": 25,
   "metadata": {},
   "outputs": [],
   "source": [
    "# read all csv files from edgelists folder and save to edgelists_df\n",
    "edgelists_df = pd.concat([pd.read_csv(file) for file in Path(\"edgelists\").iterdir()], ignore_index=True)\n",
    "# drop duplicates in edgelists_df\n",
    "edgelists_df.drop_duplicates(inplace=True)\n"
   ]
  },
  {
   "cell_type": "code",
   "execution_count": 26,
   "metadata": {},
   "outputs": [
    {
     "name": "stdout",
     "output_type": "stream",
     "text": [
      "3841\n",
      "3838\n"
     ]
    },
    {
     "data": {
      "image/png": "[encoded data removed]",
      "text/plain": [
       "<Figure size 432x288 with 1 Axes>"
      ]
     },
     "metadata": {},
     "output_type": "display_data"
    }
   ],
   "source": [
    "# load edgelists_df to networkx graph\n",
    "edgelists_graph = nx.from_pandas_edgelist(edgelists_df, source='user_id', target='author_id')\n",
    "\n",
    "# print number of nodes in edgelists_graph\n",
    "print(len(edgelists_graph.nodes))\n",
    "\n",
    "# print number of edges in edgelists_graph\n",
    "print(len(edgelists_graph.edges))\n",
    "\n",
    "# draw edgelists_graph\n",
    "# node color light blue\n",
    "# edge color red\n",
    "# node size proportional to degree\n",
    "# edge width proportional to weight\n",
    "# node labels hidden\n",
    "# edge labels hidden\n",
    "nx.draw(edgelists_graph, node_color='lightblue', edge_color='red', node_size=1, width=0.2, with_labels=False, labels={})"
   ]
  }
 ],
 "metadata": {
  "interpreter": {
   "hash": "8ea647f73e73e5606616d713d17f7e03fc573d6527f7718c378c29b419b358a9"
  },
  "kernelspec": {
   "display_name": "Python 3 (ipykernel)",
   "language": "python",
   "name": "python3"
  },
  "language_info": {
   "codemirror_mode": {
    "name": "ipython",
    "version": 3
   },
   "file_extension": ".py",
   "mimetype": "text/x-python",
   "name": "python",
   "nbconvert_exporter": "python",
   "pygments_lexer": "ipython3",
   "version": "3.8.10"
  }
 },
 "nbformat": 4,
 "nbformat_minor": 2
}
