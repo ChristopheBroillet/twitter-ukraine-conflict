{
 "cells": [
  {
   "cell_type": "code",
   "execution_count": 14,
   "metadata": {},
   "outputs": [],
   "source": [
    "import pandas as pd\n",
    "import time\n",
    "from dotenv import load_dotenv\n",
    "load_dotenv(\"./.env.local\")\n",
    "import os\n",
    "BEARER_TOKEN = os.getenv(\"BEARER_TOKEN\")\n",
    "# https://docs.tweepy.org/en/stable/client.html\n",
    "import tweepy\n",
    "client = tweepy.Client(BEARER_TOKEN, wait_on_rate_limit=True)\n",
    "from pathlib import Path\n",
    "import networkx as nx"
   ]
  },
  {
   "cell_type": "markdown",
   "metadata": {},
   "source": [
    "# Data preprocessing"
   ]
  },
  {
   "cell_type": "markdown",
   "metadata": {},
   "source": [
    "For each csv (one day = 1 csv) in the dataset folder:\n",
    "\n",
    "    * filter to only keep english\n",
    "    * only keep userid, tweetid, text, hashtags columns\n",
    "    * delete duplicate based on test\n",
    "    * sample 15k per day (for a total of around 200k for 2 weeks)\n",
    "    * save the new df in the csvdataframes folder as day_{idx}.csv"
   ]
  },
  {
   "cell_type": "code",
   "execution_count": 5,
   "metadata": {},
   "outputs": [],
   "source": [
    "# Preprocessing the datasets and save them in csv files under csvdataframes folder\n",
    "Path.mkdir(Path(\"csvdataframes\"), exist_ok=True)\n",
    "Path.mkdir(Path(\"edgelists\"), exist_ok=True)\n",
    "Path.mkdir(Path(\"csvdataframes_wOgIds\"), exist_ok=True)"
   ]
  },
  {
   "cell_type": "code",
   "execution_count": 2,
   "metadata": {},
   "outputs": [
    {
     "name": "stderr",
     "output_type": "stream",
     "text": [
      "C:\\Users\\Bao\\AppData\\Local\\Temp\\ipykernel_14844\\929213653.py:6: DtypeWarning: Columns (15) have mixed types. Specify dtype option on import or set low_memory=False.\n",
      "  full_dataset = pd.read_csv(day, compression='gzip')\n"
     ]
    }
   ],
   "source": [
    "for idx, day in enumerate(Path(\"dataset\").iterdir()):\n",
    "    full_dataset = pd.read_csv(day, compression='gzip')\n",
    "    df_en = full_dataset[full_dataset['language']=='en']\n",
    "    df_en_filteted = df_en[[\"userid\", \"tweetid\", \"text\", \"hashtags\"]]\n",
    "    df_no_duplicate = df_en_filteted.drop_duplicates(subset='text', keep='first')\n",
    "    df_sampled = df_no_duplicate.sample(5)\n",
    "    df_sampled.to_csv(Path(f\"csvdataframes/day_{idx}.csv\"))"
   ]
  },
  {
   "cell_type": "markdown",
   "metadata": {},
   "source": [
    "Because the original dataset contains retweet id, for each df in the\n",
    "csvdataframes folder add a a new columns original_tweet_id with value the\n",
    "original tweet id if the tweet was a retweet else keep the tweet id and save\n",
    "every thing on the csvdataframes_wOgIds folder"
   ]
  },
  {
   "cell_type": "code",
   "execution_count": 7,
   "metadata": {},
   "outputs": [],
   "source": [
    "def get_tweets(ids):\n",
    "    tweets = client.get_tweets(ids=ids, expansions=['referenced_tweets.id'])\n",
    "    return tweets\n",
    "\n",
    "def get_original_tweets_ids(ids):\n",
    "    # convert ids to list\n",
    "    ids_list = ids[\"tweetid\"].tolist()\n",
    "    tweets = get_tweets(ids_list)\n",
    "    original_tweet_ids = []\n",
    "    for tweet in tweets.data:\n",
    "        referenced_tweet = tweet.get('referenced_tweets')\n",
    "        original_tweet_id = referenced_tweet[0].id if referenced_tweet else tweet.id\n",
    "        original_tweet_ids.append(original_tweet_id)\n",
    "    original_tweet_ids_df = pd.DataFrame(original_tweet_ids, columns=[\"original_tweet_id\"])\n",
    "    original_tweet_ids_df['Unnamed: 0'] = ids['Unnamed: 0']\n",
    "    return original_tweet_ids_df"
   ]
  },
  {
   "cell_type": "code",
   "execution_count": 115,
   "metadata": {},
   "outputs": [
    {
     "name": "stdout",
     "output_type": "stream",
     "text": [
      "csvdataframes\\day_0.csv\n",
      "csvdataframes\\day_0.csv Iteration 0-100 / 5\n",
      "csvdataframes\\day_1.csv\n",
      "csvdataframes\\day_1.csv Iteration 0-100 / 5\n"
     ]
    }
   ],
   "source": [
    "for idx, file in enumerate(Path(\"csvdataframes\").iterdir()):\n",
    "    print(file)\n",
    "    df = pd.read_csv(file)\n",
    "    # temp df to store original tweet ids\n",
    "    temp_df = pd.DataFrame()\n",
    "    # split df by 100 \n",
    "    for i in range(0, len(df), 100):\n",
    "        print(f\"{file} Iteration {i}-{i+100} / {len(df)}\")\n",
    "        df_100 = df[i:i+100]\n",
    "        original_tweet_ids_df = get_original_tweets_ids(df_100)\n",
    "        # concat temp_df and original_tweet_ids_df\n",
    "        temp_df = pd.concat([temp_df, original_tweet_ids_df])\n",
    "    # Merge temp_df with df\n",
    "    df = pd.merge(df, temp_df, on=\"Unnamed: 0\")\n",
    "    # save df to csv\n",
    "    df.to_csv(Path(f\"csvdataframes_wOgIds/day_{idx}.csv\"), index=False)\n"
   ]
  },
  {
   "cell_type": "markdown",
   "metadata": {},
   "source": [
    "# Edge list creation"
   ]
  },
  {
   "cell_type": "code",
   "execution_count": 8,
   "metadata": {},
   "outputs": [],
   "source": [
    "# get_retweeters from 1 id and 1 pagination token\n",
    "def get_retweeters(id, pagination_token=None):\n",
    "    print(\".\", end='')\n",
    "    retweeters = client.get_retweeters(id, pagination_token=pagination_token)\n",
    "    next_token = retweeters.meta.get('next_token')\n",
    "\n",
    "    if not retweeters.data:\n",
    "        return None, None\n",
    "\n",
    "    # return list of user ids\n",
    "    retweeter_ids = [retweeter.id for retweeter in retweeters.data]\n",
    "    return retweeter_ids, next_token\n",
    "\n",
    "# get_all_retweeters from 1 id\n",
    "def get_all_retweeters(id):\n",
    "    retweeter_ids = []\n",
    "    next_token = None\n",
    "    while True:\n",
    "        retweeter_ids_, next_token = get_retweeters(id, pagination_token=next_token)\n",
    "        if retweeter_ids_ is None:\n",
    "            break\n",
    "        retweeter_ids += retweeter_ids_\n",
    "    return retweeter_ids"
   ]
  },
  {
   "cell_type": "code",
   "execution_count": 9,
   "metadata": {},
   "outputs": [],
   "source": [
    "def get_linkin_users(id, pagination_token=None):\n",
    "    print(\".\", end='')\n",
    "    retweeters = client.get_liking_users(id, pagination_token=pagination_token)\n",
    "    next_token = retweeters.meta.get('next_token')\n",
    "\n",
    "    if not retweeters.data:\n",
    "        return None, None\n",
    "\n",
    "    # return list of user ids\n",
    "    retweeter_ids = [retweeter.id for retweeter in retweeters.data]\n",
    "    return retweeter_ids, next_token\n",
    "\n",
    "def get_all_linkin_users(id):\n",
    "    retweeter_ids = []\n",
    "    next_token = None\n",
    "    while True:\n",
    "        retweeter_ids_, next_token = get_linkin_users(id, pagination_token=next_token)\n",
    "        if retweeter_ids_ is None:\n",
    "            break\n",
    "        retweeter_ids += retweeter_ids_\n",
    "    return retweeter_ids"
   ]
  },
  {
   "cell_type": "code",
   "execution_count": 10,
   "metadata": {},
   "outputs": [],
   "source": [
    "def create_retweeters_edgelist():\n",
    "    # create empty edgelists df with column retweeter_id and tweet_id\n",
    "    edgelists_df = pd.DataFrame(columns=[\"retweeter_id\", \"tweet_id\"])\n",
    "\n",
    "    # read csv files from csvdataframes_wOgIds folder\n",
    "    for idx, file in enumerate(Path(\"csvdataframes_wOgIds\").iterdir()):\n",
    "        print(file)\n",
    "        df = pd.read_csv(file)\n",
    "        for tweetId in df['original_tweet_id']:\n",
    "            print(tweetId, end='')\n",
    "            retweeter_ids = get_all_retweeters(tweetId)\n",
    "            # convert to df\n",
    "            retweeter_ids_df = pd.DataFrame(retweeter_ids, columns=[\"retweeter_id\"])\n",
    "            # add tweetId to df\n",
    "            retweeter_ids_df.insert(1, \"tweet_id\", tweetId)\n",
    "            # concat edgelists_df and retweeter_ids_df\n",
    "            edgelists_df = pd.concat([edgelists_df, retweeter_ids_df])\n",
    "            print(\"Done\")\n",
    "\n",
    "    # save edgelists_df to csv\n",
    "    edgelists_df.to_csv(Path(f\"edgelists/retweeters.csv\"), index=False)\n",
    "\n",
    "    return edgelists_df\n",
    "\n",
    "def create_liking_edgelist():\n",
    "    # create empty edgelists df with column liker_id and tweet_id\n",
    "    edgelists_df = pd.DataFrame(columns=[\"liker_id\", \"tweet_id\"])\n",
    "\n",
    "    # read csv files from csvdataframes_wOgIds folder\n",
    "    for idx, file in enumerate(Path(\"csvdataframes_wOgIds\").iterdir()):\n",
    "        print(file)\n",
    "        df = pd.read_csv(file)\n",
    "        for tweetId in df['original_tweet_id']:\n",
    "            print(tweetId, end='')\n",
    "            liker_ids = get_all_linkin_users(tweetId)\n",
    "            # convert to df\n",
    "            liker_ids_df = pd.DataFrame(liker_ids, columns=[\"liker_id\"])\n",
    "            # add tweetId to df\n",
    "            liker_ids_df.insert(1, \"tweet_id\", tweetId)\n",
    "            # concat edgelists_df and liker_ids_df\n",
    "            edgelists_df = pd.concat([edgelists_df, liker_ids_df])\n",
    "            print(\"Done\")\n",
    "\n",
    "    # save edgelists_df to csv\n",
    "    edgelists_df.to_csv(Path(f\"edgelists/liking.csv\"), index=False)\n",
    "\n",
    "    return edgelists_df"
   ]
  },
  {
   "cell_type": "code",
   "execution_count": 11,
   "metadata": {},
   "outputs": [
    {
     "name": "stdout",
     "output_type": "stream",
     "text": [
      "csvdataframes_wOgIds\\day_0.csv\n",
      "1498270287363817478.Done\n",
      "1498307410020110338..Done\n",
      "1498027839991418881..Done\n",
      "1498212311303168001....Done\n",
      "csvdataframes_wOgIds\\day_1.csv\n",
      "1498281678715990026..Done\n",
      "1498342105822875652..Done\n",
      "1498383733296013314..Done\n",
      "csvdataframes_wOgIds\\day_0.csv\n",
      "1498270287363817478.Done\n",
      "1498307410020110338..Done\n",
      "1498027839991418881..Done\n",
      "1498212311303168001...............Done\n",
      "csvdataframes_wOgIds\\day_1.csv\n",
      "1498281678715990026...Done\n",
      "1498342105822875652..Done\n",
      "1498383733296013314..Done\n"
     ]
    }
   ],
   "source": [
    "edgelists_retweeters_df = create_retweeters_edgelist()\n",
    "edgelists_likers_df = create_liking_edgelist()"
   ]
  },
  {
   "cell_type": "code",
   "execution_count": 12,
   "metadata": {},
   "outputs": [
    {
     "data": {
      "text/html": [
       "<div>\n",
       "<style scoped>\n",
       "    .dataframe tbody tr th:only-of-type {\n",
       "        vertical-align: middle;\n",
       "    }\n",
       "\n",
       "    .dataframe tbody tr th {\n",
       "        vertical-align: top;\n",
       "    }\n",
       "\n",
       "    .dataframe thead th {\n",
       "        text-align: right;\n",
       "    }\n",
       "</style>\n",
       "<table border=\"1\" class=\"dataframe\">\n",
       "  <thead>\n",
       "    <tr style=\"text-align: right;\">\n",
       "      <th></th>\n",
       "      <th>retweeter_id</th>\n",
       "      <th>tweet_id</th>\n",
       "    </tr>\n",
       "  </thead>\n",
       "  <tbody>\n",
       "    <tr>\n",
       "      <th>0</th>\n",
       "      <td>1149019167699304448</td>\n",
       "      <td>1498307410020110338</td>\n",
       "    </tr>\n",
       "    <tr>\n",
       "      <th>1</th>\n",
       "      <td>859524223471042560</td>\n",
       "      <td>1498307410020110338</td>\n",
       "    </tr>\n",
       "    <tr>\n",
       "      <th>2</th>\n",
       "      <td>1494482665763835904</td>\n",
       "      <td>1498307410020110338</td>\n",
       "    </tr>\n",
       "    <tr>\n",
       "      <th>0</th>\n",
       "      <td>2534515821</td>\n",
       "      <td>1498027839991418881</td>\n",
       "    </tr>\n",
       "    <tr>\n",
       "      <th>1</th>\n",
       "      <td>1497886103340302336</td>\n",
       "      <td>1498027839991418881</td>\n",
       "    </tr>\n",
       "    <tr>\n",
       "      <th>...</th>\n",
       "      <td>...</td>\n",
       "      <td>...</td>\n",
       "    </tr>\n",
       "    <tr>\n",
       "      <th>62</th>\n",
       "      <td>1251640171705090049</td>\n",
       "      <td>1498281678715990026</td>\n",
       "    </tr>\n",
       "    <tr>\n",
       "      <th>63</th>\n",
       "      <td>1461448568</td>\n",
       "      <td>1498281678715990026</td>\n",
       "    </tr>\n",
       "    <tr>\n",
       "      <th>0</th>\n",
       "      <td>1427360781318836229</td>\n",
       "      <td>1498342105822875652</td>\n",
       "    </tr>\n",
       "    <tr>\n",
       "      <th>1</th>\n",
       "      <td>723523364514594816</td>\n",
       "      <td>1498342105822875652</td>\n",
       "    </tr>\n",
       "    <tr>\n",
       "      <th>0</th>\n",
       "      <td>340530532</td>\n",
       "      <td>1498383733296013314</td>\n",
       "    </tr>\n",
       "  </tbody>\n",
       "</table>\n",
       "<p>353 rows × 2 columns</p>\n",
       "</div>"
      ],
      "text/plain": [
       "           retweeter_id             tweet_id\n",
       "0   1149019167699304448  1498307410020110338\n",
       "1    859524223471042560  1498307410020110338\n",
       "2   1494482665763835904  1498307410020110338\n",
       "0            2534515821  1498027839991418881\n",
       "1   1497886103340302336  1498027839991418881\n",
       "..                  ...                  ...\n",
       "62  1251640171705090049  1498281678715990026\n",
       "63           1461448568  1498281678715990026\n",
       "0   1427360781318836229  1498342105822875652\n",
       "1    723523364514594816  1498342105822875652\n",
       "0             340530532  1498383733296013314\n",
       "\n",
       "[353 rows x 2 columns]"
      ]
     },
     "execution_count": 12,
     "metadata": {},
     "output_type": "execute_result"
    }
   ],
   "source": [
    "edgelists_retweeters_df"
   ]
  },
  {
   "cell_type": "code",
   "execution_count": 13,
   "metadata": {},
   "outputs": [
    {
     "data": {
      "text/html": [
       "<div>\n",
       "<style scoped>\n",
       "    .dataframe tbody tr th:only-of-type {\n",
       "        vertical-align: middle;\n",
       "    }\n",
       "\n",
       "    .dataframe tbody tr th {\n",
       "        vertical-align: top;\n",
       "    }\n",
       "\n",
       "    .dataframe thead th {\n",
       "        text-align: right;\n",
       "    }\n",
       "</style>\n",
       "<table border=\"1\" class=\"dataframe\">\n",
       "  <thead>\n",
       "    <tr style=\"text-align: right;\">\n",
       "      <th></th>\n",
       "      <th>liker_id</th>\n",
       "      <th>tweet_id</th>\n",
       "    </tr>\n",
       "  </thead>\n",
       "  <tbody>\n",
       "    <tr>\n",
       "      <th>0</th>\n",
       "      <td>1305117400870744072</td>\n",
       "      <td>1498307410020110338</td>\n",
       "    </tr>\n",
       "    <tr>\n",
       "      <th>1</th>\n",
       "      <td>1320750183613956096</td>\n",
       "      <td>1498307410020110338</td>\n",
       "    </tr>\n",
       "    <tr>\n",
       "      <th>2</th>\n",
       "      <td>1427490434788384768</td>\n",
       "      <td>1498307410020110338</td>\n",
       "    </tr>\n",
       "    <tr>\n",
       "      <th>3</th>\n",
       "      <td>4310318953</td>\n",
       "      <td>1498307410020110338</td>\n",
       "    </tr>\n",
       "    <tr>\n",
       "      <th>4</th>\n",
       "      <td>1359647839</td>\n",
       "      <td>1498307410020110338</td>\n",
       "    </tr>\n",
       "    <tr>\n",
       "      <th>...</th>\n",
       "      <td>...</td>\n",
       "      <td>...</td>\n",
       "    </tr>\n",
       "    <tr>\n",
       "      <th>33</th>\n",
       "      <td>820179602</td>\n",
       "      <td>1498342105822875652</td>\n",
       "    </tr>\n",
       "    <tr>\n",
       "      <th>34</th>\n",
       "      <td>589227375</td>\n",
       "      <td>1498342105822875652</td>\n",
       "    </tr>\n",
       "    <tr>\n",
       "      <th>35</th>\n",
       "      <td>1489987455919009793</td>\n",
       "      <td>1498342105822875652</td>\n",
       "    </tr>\n",
       "    <tr>\n",
       "      <th>36</th>\n",
       "      <td>1483404070580731904</td>\n",
       "      <td>1498342105822875652</td>\n",
       "    </tr>\n",
       "    <tr>\n",
       "      <th>0</th>\n",
       "      <td>340530532</td>\n",
       "      <td>1498383733296013314</td>\n",
       "    </tr>\n",
       "  </tbody>\n",
       "</table>\n",
       "<p>1469 rows × 2 columns</p>\n",
       "</div>"
      ],
      "text/plain": [
       "               liker_id             tweet_id\n",
       "0   1305117400870744072  1498307410020110338\n",
       "1   1320750183613956096  1498307410020110338\n",
       "2   1427490434788384768  1498307410020110338\n",
       "3            4310318953  1498307410020110338\n",
       "4            1359647839  1498307410020110338\n",
       "..                  ...                  ...\n",
       "33            820179602  1498342105822875652\n",
       "34            589227375  1498342105822875652\n",
       "35  1489987455919009793  1498342105822875652\n",
       "36  1483404070580731904  1498342105822875652\n",
       "0             340530532  1498383733296013314\n",
       "\n",
       "[1469 rows x 2 columns]"
      ]
     },
     "execution_count": 13,
     "metadata": {},
     "output_type": "execute_result"
    }
   ],
   "source": [
    "edgelists_likers_df"
   ]
  },
  {
   "cell_type": "markdown",
   "metadata": {},
   "source": [
    "# First viz"
   ]
  },
  {
   "cell_type": "code",
   "execution_count": 21,
   "metadata": {},
   "outputs": [
    {
     "data": {
      "image/png": "[encoded data removed]",
      "text/plain": [
       "<Figure size 432x288 with 1 Axes>"
      ]
     },
     "metadata": {},
     "output_type": "display_data"
    }
   ],
   "source": [
    "# load edgelists_retweeters_df to networkx\n",
    "G_retweeters = nx.from_pandas_edgelist(edgelists_retweeters_df, source='retweeter_id', target='tweet_id')\n",
    "\n",
    "# draw networkx graph with networkx and matplotlib libraries \n",
    "nx.draw(G_retweeters, with_labels=False, node_size=1, node_color='blue', edge_color='red', width=0.1)"
   ]
  }
 ],
 "metadata": {
  "interpreter": {
   "hash": "8ea647f73e73e5606616d713d17f7e03fc573d6527f7718c378c29b419b358a9"
  },
  "kernelspec": {
   "display_name": "Python 3 (ipykernel)",
   "language": "python",
   "name": "python3"
  },
  "language_info": {
   "codemirror_mode": {
    "name": "ipython",
    "version": 3
   },
   "file_extension": ".py",
   "mimetype": "text/x-python",
   "name": "python",
   "nbconvert_exporter": "python",
   "pygments_lexer": "ipython3",
   "version": "3.8.0"
  }
 },
 "nbformat": 4,
 "nbformat_minor": 2
}
