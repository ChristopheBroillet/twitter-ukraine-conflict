{
 "cells": [
  {
   "cell_type": "code",
   "execution_count": 1,
   "metadata": {},
   "outputs": [],
   "source": [
    "import pandas as pd\n",
    "import time\n",
    "from dotenv import load_dotenv\n",
    "load_dotenv(\"./.env.local\")\n",
    "import os\n",
    "BEARER_TOKEN = os.getenv(\"BEARER_TOKEN\")\n",
    "import tweepy\n",
    "client = tweepy.Client(BEARER_TOKEN)"
   ]
  },
  {
   "cell_type": "code",
   "execution_count": 2,
   "metadata": {},
   "outputs": [
    {
     "name": "stderr",
     "output_type": "stream",
     "text": [
      "C:\\Users\\Bao\\AppData\\Local\\Temp\\ipykernel_13572\\3161298840.py:1: DtypeWarning: Columns (15) have mixed types. Specify dtype option on import or set low_memory=False.\n",
      "  full_dataset = pd.read_csv('UkraineCombinedTweetsDeduped20220227-131611.csv.gzip', compression='gzip')\n"
     ]
    }
   ],
   "source": [
    "full_dataset = pd.read_csv('UkraineCombinedTweetsDeduped20220227-131611.csv.gzip', compression='gzip')"
   ]
  },
  {
   "cell_type": "code",
   "execution_count": 11,
   "metadata": {
    "scrolled": true
   },
   "outputs": [
    {
     "name": "stdout",
     "output_type": "stream",
     "text": [
      "len(full_dataset)=1229349\n",
      "len(df_en_filteted)=723256\n",
      "len(df_no_duplicate)=205571\n"
     ]
    }
   ],
   "source": [
    "df_en = full_dataset[full_dataset['language']=='en']\n",
    "df_en_filteted = df_en[[\"userid\", \"tweetid\", \"text\", \"hashtags\"]]\n",
    "df_no_duplicate = df_en_filteted.drop_duplicates(subset='text', keep='first')\n",
    "\n",
    "print(f\"{len(full_dataset)=}\")\n",
    "print(f\"{len(df_en_filteted)=}\")\n",
    "print(f\"{len(df_no_duplicate)=}\")\n",
    "\n",
    "df_sample = df_no_duplicate.head(2)"
   ]
  },
  {
   "cell_type": "code",
   "execution_count": 14,
   "metadata": {},
   "outputs": [
    {
     "ename": "FileNotFoundError",
     "evalue": "[Errno 2] No such file or directory: '/edgelists/edgelist_retweet_1648542199.5365098.txt'",
     "output_type": "error",
     "traceback": [
      "\u001b[1;31m---------------------------------------------------------------------------\u001b[0m",
      "\u001b[1;31mFileNotFoundError\u001b[0m                         Traceback (most recent call last)",
      "Input \u001b[1;32mIn [14]\u001b[0m, in \u001b[0;36m<cell line: 1>\u001b[1;34m()\u001b[0m\n\u001b[1;32m----> 1\u001b[0m edgelist_retweet \u001b[38;5;241m=\u001b[39m \u001b[38;5;28;43mopen\u001b[39;49m\u001b[43m(\u001b[49m\u001b[38;5;124;43mf\u001b[39;49m\u001b[38;5;124;43m\"\u001b[39;49m\u001b[38;5;124;43m/edgelists/edgelist_retweet_\u001b[39;49m\u001b[38;5;132;43;01m{\u001b[39;49;00m\u001b[43mtime\u001b[49m\u001b[38;5;241;43m.\u001b[39;49m\u001b[43mtime\u001b[49m\u001b[43m(\u001b[49m\u001b[43m)\u001b[49m\u001b[38;5;132;43;01m}\u001b[39;49;00m\u001b[38;5;124;43m.txt\u001b[39;49m\u001b[38;5;124;43m\"\u001b[39;49m\u001b[43m,\u001b[49m\u001b[43m \u001b[49m\u001b[38;5;124;43m\"\u001b[39;49m\u001b[38;5;124;43ma\u001b[39;49m\u001b[38;5;124;43m\"\u001b[39;49m\u001b[43m)\u001b[49m\n\u001b[0;32m      2\u001b[0m edgelist_retweet\u001b[38;5;241m.\u001b[39mwrite(\u001b[38;5;124m\"\u001b[39m\u001b[38;5;124mtweet_id rt_user_id\u001b[39m\u001b[38;5;130;01m\\n\u001b[39;00m\u001b[38;5;124m\"\u001b[39m)\n\u001b[0;32m      4\u001b[0m edgelist_like \u001b[38;5;241m=\u001b[39m \u001b[38;5;28mopen\u001b[39m(\u001b[38;5;124mf\u001b[39m\u001b[38;5;124m\"\u001b[39m\u001b[38;5;124m/edgelists/edgelist_like_\u001b[39m\u001b[38;5;132;01m{\u001b[39;00mtime\u001b[38;5;241m.\u001b[39mtime()\u001b[38;5;132;01m}\u001b[39;00m\u001b[38;5;124m.txt\u001b[39m\u001b[38;5;124m\"\u001b[39m, \u001b[38;5;124m\"\u001b[39m\u001b[38;5;124ma\u001b[39m\u001b[38;5;124m\"\u001b[39m)\n",
      "\u001b[1;31mFileNotFoundError\u001b[0m: [Errno 2] No such file or directory: '/edgelists/edgelist_retweet_1648542199.5365098.txt'"
     ]
    }
   ],
   "source": [
    "edgelist_retweet = open(f\"edgelists/edgelist_retweet_{time.time()}.txt\", \"a\")\n",
    "edgelist_retweet.write(\"tweet_id rt_user_id\\n\")\n",
    "\n",
    "edgelist_like = open(f\"edgelists/edgelist_like_{time.time()}.txt\", \"a\")\n",
    "edgelist_like.write(\"tweet_id like_user_id\\n\")\n",
    "\n",
    "for index, row in df_sample.iterrows():\n",
    "    tweetid = row['tweetid']\n",
    "    tweet = client.get_tweet(id=tweetid, expansions='referenced_tweets.id')\n",
    "    og_tweet_id = tweet.includes['tweets'][0].id\n",
    "\n",
    "    users_retweet = client.get_retweeters(id=og_tweet_id)\n",
    "    for user in users_retweet.data:\n",
    "        edgelist_retweet.write(f\"{og_tweet_id} {user.id}\\n\")\n",
    "        continue\n",
    "\n",
    "    next_token = users_retweet.meta.get('next_token')\n",
    "\n",
    "    n = 0\n",
    "    while(next_token and n > 2):\n",
    "        users_retweet = client.get_retweeters(id=og_tweet_id, next_token=next_token)\n",
    "        for user in users_retweet.data:\n",
    "            edgelist_retweet.write(f\"{og_tweet_id} {user.id}\\n\")\n",
    "            continue\n",
    "        next_token = users_retweet.meta.get('next_token')\n",
    "    \n",
    "    users_like = client.get_liking_users(id=og_tweet_id)\n",
    "    for user in users_like.data:\n",
    "        edgelist_like.write(f\"{og_tweet_id} {user.id}\\n\")\n",
    "        continue\n",
    "    n = n + 1 \n",
    "    next_token = users_like.meta.get('next_token')\n",
    "\n",
    "    n = 0\n",
    "    while(next_token and n > 2):\n",
    "        users_like = client.get_retweeters(id=og_tweet_id, next_token=next_token)\n",
    "        for user in users_like.data:\n",
    "            edgelist_like.write(f\"{og_tweet_id} {user.id}\\n\")\n",
    "            continue\n",
    "        n = n + 1 \n",
    "        next_token = users_like.meta.get('next_token')\n",
    "\n",
    "edgelist_retweet.close()\n",
    "edgelist_like.close()"
   ]
  },
  {
   "cell_type": "code",
   "execution_count": null,
   "metadata": {},
   "outputs": [],
   "source": []
  }
 ],
 "metadata": {
  "interpreter": {
   "hash": "8ea647f73e73e5606616d713d17f7e03fc573d6527f7718c378c29b419b358a9"
  },
  "kernelspec": {
   "display_name": "Python 3 (ipykernel)",
   "language": "python",
   "name": "python3"
  },
  "language_info": {
   "codemirror_mode": {
    "name": "ipython",
    "version": 3
   },
   "file_extension": ".py",
   "mimetype": "text/x-python",
   "name": "python",
   "nbconvert_exporter": "python",
   "pygments_lexer": "ipython3",
   "version": "3.8.0"
  }
 },
 "nbformat": 4,
 "nbformat_minor": 2
}
