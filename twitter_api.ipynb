{
 "cells": [
  {
   "cell_type": "code",
   "execution_count": 2,
   "metadata": {},
   "outputs": [],
   "source": [
    "import pandas as pd\n",
    "import time\n",
    "from dotenv import load_dotenv\n",
    "load_dotenv(\"./.env.local\")\n",
    "import os\n",
    "BEARER_TOKEN = os.getenv(\"BEARER_TOKEN\")\n",
    "import tweepy\n",
    "client = tweepy.Client(BEARER_TOKEN)\n",
    "from pathlib import Path"
   ]
  },
  {
   "cell_type": "code",
   "execution_count": 9,
   "metadata": {},
   "outputs": [
    {
     "name": "stderr",
     "output_type": "stream",
     "text": [
      "/tmp/ipykernel_4679/1859574095.py:3: DtypeWarning: Columns (15) have mixed types. Specify dtype option on import or set low_memory=False.\n",
      "  full_dataset = pd.read_csv(day, compression='gzip')\n",
      "/tmp/ipykernel_4679/1859574095.py:3: DtypeWarning: Columns (15) have mixed types. Specify dtype option on import or set low_memory=False.\n",
      "  full_dataset = pd.read_csv(day, compression='gzip')\n"
     ]
    }
   ],
   "source": [
    "# Preprocessing the datasets and save them in csv files under csvdataframes folder\n",
    "Path.mkdir(Path(\"csvdataframes\"), exist_ok=True)\n",
    "dataset_path = Path(\"dataset\")\n",
    "\n",
    "for idx, day in enumerate(dataset_path.iterdir()):\n",
    "    full_dataset = pd.read_csv(day, compression='gzip')\n",
    "    df_en = full_dataset[full_dataset['language']=='en']\n",
    "    df_en_filteted = df_en[[\"userid\", \"tweetid\", \"text\", \"hashtags\"]]\n",
    "    df_no_duplicate = df_en_filteted.drop_duplicates(subset='text', keep='first')\n",
    "    df_sampled = df_no_duplicate.sample(15000)\n",
    "    df_sampled.to_csv(Path(f\"csvdataframes/day_{idx}.csv\"))"
   ]
  },
  {
   "cell_type": "code",
   "execution_count": 11,
   "metadata": {},
   "outputs": [],
   "source": [
    "# Method to call on each csv day files\n",
    "def create_edgelist(df_sample):  \n",
    "    edgelist_retweet = open(f\"edgelists/edgelist_retweet_{time.time()}.txt\", \"a\")\n",
    "    edgelist_retweet.write(\"tweet_id rt_user_id\\n\")\n",
    "\n",
    "    edgelist_like = open(f\"edgelists/edgelist_like_{time.time()}.txt\", \"a\")\n",
    "    edgelist_like.write(\"tweet_id like_user_id\\n\")\n",
    "\n",
    "    for index, row in df_sample.iterrows():\n",
    "        tweetid = row['tweetid']\n",
    "        tweet = client.get_tweet(id=tweetid, expansions='referenced_tweets.id')\n",
    "        og_tweet_id = tweet.includes['tweets'][0].id\n",
    "\n",
    "        users_retweet = client.get_retweeters(id=og_tweet_id)\n",
    "        for user in users_retweet.data:\n",
    "            edgelist_retweet.write(f\"{og_tweet_id} {user.id}\\n\")\n",
    "            continue\n",
    "\n",
    "        next_token = users_retweet.meta.get('next_token')\n",
    "\n",
    "        n = 0\n",
    "        while(next_token and n > 2):\n",
    "            users_retweet = client.get_retweeters(id=og_tweet_id, next_token=next_token)\n",
    "            for user in users_retweet.data:\n",
    "                edgelist_retweet.write(f\"{og_tweet_id} {user.id}\\n\")\n",
    "                continue\n",
    "            next_token = users_retweet.meta.get('next_token')\n",
    "\n",
    "        users_like = client.get_liking_users(id=og_tweet_id)\n",
    "        for user in users_like.data:\n",
    "            edgelist_like.write(f\"{og_tweet_id} {user.id}\\n\")\n",
    "            continue\n",
    "        n = n + 1 \n",
    "        next_token = users_like.meta.get('next_token')\n",
    "\n",
    "        n = 0\n",
    "        while(next_token and n > 2):\n",
    "            users_like = client.get_retweeters(id=og_tweet_id, next_token=next_token)\n",
    "            for user in users_like.data:\n",
    "                edgelist_like.write(f\"{og_tweet_id} {user.id}\\n\")\n",
    "                continue\n",
    "            n = n + 1 \n",
    "            next_token = users_like.meta.get('next_token')\n",
    "\n",
    "    edgelist_retweet.close()\n",
    "    edgelist_like.close()"
   ]
  },
  {
   "cell_type": "code",
   "execution_count": null,
   "metadata": {},
   "outputs": [],
   "source": [
    "# Main loop\n",
    "Path.mkdir(Path(\"edgelists\"), exist_ok=True)\n",
    "for file in Path(\"csv_dataframes\").iterdir():\n",
    "    df = pd.read_csv(file)\n",
    "    create_edgelist(df)"
   ]
  }
 ],
 "metadata": {
  "interpreter": {
   "hash": "8ea647f73e73e5606616d713d17f7e03fc573d6527f7718c378c29b419b358a9"
  },
  "kernelspec": {
   "display_name": "Python 3 (ipykernel)",
   "language": "python",
   "name": "python3"
  },
  "language_info": {
   "codemirror_mode": {
    "name": "ipython",
    "version": 3
   },
   "file_extension": ".py",
   "mimetype": "text/x-python",
   "name": "python",
   "nbconvert_exporter": "python",
   "pygments_lexer": "ipython3",
   "version": "3.8.10"
  }
 },
 "nbformat": 4,
 "nbformat_minor": 2
}
