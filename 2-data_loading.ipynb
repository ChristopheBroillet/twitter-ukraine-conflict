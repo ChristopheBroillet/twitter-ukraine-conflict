{
 "cells": [
  {
   "cell_type": "markdown",
   "metadata": {},
   "source": [
    "# Data loading"
   ]
  },
  {
   "cell_type": "code",
   "execution_count": 1,
   "metadata": {},
   "outputs": [],
   "source": [
    "import pandas as pd\n",
    "from pathlib import Path\n",
    "import networkx as nx\n",
    "import numpy as np"
   ]
  },
  {
   "cell_type": "markdown",
   "metadata": {},
   "source": [
    "## Read the edgelists, merge them and store them"
   ]
  },
  {
   "cell_type": "code",
   "execution_count": 2,
   "metadata": {},
   "outputs": [],
   "source": [
    "def read_edgelist(path, type_of_edges):\n",
    "    if type_of_edges is not None:\n",
    "        assert (type_of_edges) == 'liking' or (type_of_edges) == 'retweeters' or (type_of_edges) == 'any', \"type_of_edges must be 'liking' or 'retweeters' or 'any'\"\n",
    "    \n",
    "    if type_of_edges == 'any':\n",
    "        df =  pd.concat([pd.read_csv(file) for file in Path(path).iterdir()], ignore_index=True)\n",
    "        df.name = 'any'\n",
    "    elif type_of_edges == 'liking':\n",
    "        df =  pd.concat([pd.read_csv(file) for file in Path(path).iterdir() if 'liking' in file.name], ignore_index=True)\n",
    "        df.name = 'liking'\n",
    "    elif type_of_edges == 'retweeters':\n",
    "        df =  pd.concat([pd.read_csv(file) for file in Path(path).iterdir() if 'retweeters' in file.name], ignore_index=True)\n",
    "        df.name = 'retweeters'\n",
    "        \n",
    "    df.drop_duplicates(inplace=True)\n",
    "    return df"
   ]
  },
  {
   "cell_type": "code",
   "execution_count": 3,
   "metadata": {},
   "outputs": [],
   "source": [
    "edgelists_any_df = read_edgelist('edgelists', 'any')\n",
    "edgelists_liking_df = read_edgelist('edgelists', 'liking')\n",
    "edgelists_retweeters_df = read_edgelist('edgelists', 'retweeters')\n",
    "\n",
    "edgelists = [edgelists_any_df, edgelists_liking_df, edgelists_retweeters_df]"
   ]
  },
  {
   "cell_type": "markdown",
   "metadata": {},
   "source": [
    "## Some stats about the networks"
   ]
  },
  {
   "cell_type": "code",
   "execution_count": 4,
   "metadata": {},
   "outputs": [],
   "source": [
    "def filter_df_by_authors(df, author_ids_sample):\n",
    "    return df[df['author_id'].isin(author_ids_sample)]\n",
    "\n",
    "def print_basic_stats(df):\n",
    "    print('Number of unique authors:', df['author_id'].nunique())\n",
    "    print('Number of unique users:', df['user_id'].nunique())\n",
    "    print('Number of nodes:', df['author_id'].nunique() + df['user_id'].nunique())\n",
    "    print('Number of edges:', df.shape[0])\n",
    "\n",
    "def common_authors(df1, df2):\n",
    "    # commun authors between liking and retweeters\n",
    "    df1_authors = df1['author_id'].unique()\n",
    "    df2_authors = df2['author_id'].unique()\n",
    "\n",
    "    authors_in_common = set(df1_authors).intersection(set(df2_authors))\n",
    "\n",
    "    print('Number of authors in common:', len(authors_in_common))\n",
    "    return authors_in_common\n",
    "\n",
    "def common_rows(df1, df2):\n",
    "    count_common_authors = df1.merge(df2, on=['author_id', 'user_id'], how='inner')\n",
    "    print('Number of rows in common:', count_common_authors.shape[0])\n",
    "    return count_common_authors"
   ]
  },
  {
   "cell_type": "code",
   "execution_count": 5,
   "metadata": {},
   "outputs": [
    {
     "name": "stdout",
     "output_type": "stream",
     "text": [
      "-----------any-----------\n",
      "Number of unique authors: 786\n",
      "Number of unique users: 2790105\n",
      "Number of nodes: 2790891\n",
      "Number of edges: 4466776\n",
      "-----------liking-----------\n",
      "Number of unique authors: 755\n",
      "Number of unique users: 2668663\n",
      "Number of nodes: 2669418\n",
      "Number of edges: 4245301\n",
      "-----------retweeters-----------\n",
      "Number of unique authors: 682\n",
      "Number of unique users: 520160\n",
      "Number of nodes: 520842\n",
      "Number of edges: 787529\n",
      "\n",
      "Number of authors in common: 651\n",
      "Number of rows in common: 566054\n"
     ]
    },
    {
     "data": {
      "text/html": [
       "<div>\n",
       "<style scoped>\n",
       "    .dataframe tbody tr th:only-of-type {\n",
       "        vertical-align: middle;\n",
       "    }\n",
       "\n",
       "    .dataframe tbody tr th {\n",
       "        vertical-align: top;\n",
       "    }\n",
       "\n",
       "    .dataframe thead th {\n",
       "        text-align: right;\n",
       "    }\n",
       "</style>\n",
       "<table border=\"1\" class=\"dataframe\">\n",
       "  <thead>\n",
       "    <tr style=\"text-align: right;\">\n",
       "      <th></th>\n",
       "      <th>user_id</th>\n",
       "      <th>author_id</th>\n",
       "    </tr>\n",
       "  </thead>\n",
       "  <tbody>\n",
       "    <tr>\n",
       "      <th>0</th>\n",
       "      <td>1012080986115444742</td>\n",
       "      <td>755067744333271040</td>\n",
       "    </tr>\n",
       "    <tr>\n",
       "      <th>1</th>\n",
       "      <td>1291717706249535488</td>\n",
       "      <td>755067744333271040</td>\n",
       "    </tr>\n",
       "    <tr>\n",
       "      <th>2</th>\n",
       "      <td>1472803907369906180</td>\n",
       "      <td>755067744333271040</td>\n",
       "    </tr>\n",
       "    <tr>\n",
       "      <th>3</th>\n",
       "      <td>1191410774901698560</td>\n",
       "      <td>755067744333271040</td>\n",
       "    </tr>\n",
       "    <tr>\n",
       "      <th>4</th>\n",
       "      <td>550162497</td>\n",
       "      <td>755067744333271040</td>\n",
       "    </tr>\n",
       "    <tr>\n",
       "      <th>...</th>\n",
       "      <td>...</td>\n",
       "      <td>...</td>\n",
       "    </tr>\n",
       "    <tr>\n",
       "      <th>566049</th>\n",
       "      <td>351061791</td>\n",
       "      <td>820353014527623168</td>\n",
       "    </tr>\n",
       "    <tr>\n",
       "      <th>566050</th>\n",
       "      <td>2715983699</td>\n",
       "      <td>820353014527623168</td>\n",
       "    </tr>\n",
       "    <tr>\n",
       "      <th>566051</th>\n",
       "      <td>719222253746053120</td>\n",
       "      <td>820353014527623168</td>\n",
       "    </tr>\n",
       "    <tr>\n",
       "      <th>566052</th>\n",
       "      <td>884140512931917824</td>\n",
       "      <td>820353014527623168</td>\n",
       "    </tr>\n",
       "    <tr>\n",
       "      <th>566053</th>\n",
       "      <td>754600893388038144</td>\n",
       "      <td>820353014527623168</td>\n",
       "    </tr>\n",
       "  </tbody>\n",
       "</table>\n",
       "<p>566054 rows × 2 columns</p>\n",
       "</div>"
      ],
      "text/plain": [
       "                    user_id           author_id\n",
       "0       1012080986115444742  755067744333271040\n",
       "1       1291717706249535488  755067744333271040\n",
       "2       1472803907369906180  755067744333271040\n",
       "3       1191410774901698560  755067744333271040\n",
       "4                 550162497  755067744333271040\n",
       "...                     ...                 ...\n",
       "566049            351061791  820353014527623168\n",
       "566050           2715983699  820353014527623168\n",
       "566051   719222253746053120  820353014527623168\n",
       "566052   884140512931917824  820353014527623168\n",
       "566053   754600893388038144  820353014527623168\n",
       "\n",
       "[566054 rows x 2 columns]"
      ]
     },
     "execution_count": 5,
     "metadata": {},
     "output_type": "execute_result"
    }
   ],
   "source": [
    "for df in edgelists:\n",
    "    print('-----------' + df.name + '-----------')\n",
    "    print_basic_stats(df)\n",
    "\n",
    "print(\"\")\n",
    "\n",
    "common_authors(edgelists_liking_df, edgelists_retweeters_df)\n",
    "common_rows(edgelists_liking_df, edgelists_retweeters_df)"
   ]
  },
  {
   "cell_type": "markdown",
   "metadata": {},
   "source": [
    "## Saving graphs"
   ]
  },
  {
   "cell_type": "code",
   "execution_count": 8,
   "metadata": {},
   "outputs": [],
   "source": [
    "# rename \"user_id\" to \"Source\" and \"author_id\" to \"Target\"\n",
    "edgelists_any_df = edgelists_any_df.rename(columns={'user_id': 'Source', 'author_id': 'Target'})\n",
    "edgelists_liking_df = edgelists_liking_df.rename(columns={'user_id': 'Source', 'author_id': 'Target'})\n",
    "edgelists_retweeters_df = edgelists_retweeters_df.rename(columns={'user_id': 'Source', 'author_id': 'Target'})\n",
    "\n",
    "Path.mkdir(Path(\"edgelistsFull\"), exist_ok=True)\n",
    "edgelists_any_df.to_csv('edgelistsFull/edgelists_any.csv', index=False, header=True)\n",
    "edgelists_liking_df.to_csv('edgelistsFull/edgelists_liking.csv', index=False, header=True)\n",
    "edgelists_retweeters_df.to_csv('edgelistsFull/edgelists_retweeters.csv', index=False, header=True)"
   ]
  },
  {
   "cell_type": "markdown",
   "metadata": {},
   "source": [
    "## Sampling (if needed)"
   ]
  },
  {
   "cell_type": "code",
   "execution_count": 9,
   "metadata": {},
   "outputs": [
    {
     "name": "stdout",
     "output_type": "stream",
     "text": [
      "Number of authors in common: 651\n",
      "----------- sample any -----------\n",
      "Number of unique authors: 100\n",
      "Number of unique users: 375211\n",
      "Number of nodes: 375311\n",
      "Number of edges: 402555\n",
      "----------- sample liking -----------\n",
      "Number of unique authors: 100\n",
      "Number of unique users: 350818\n",
      "Number of nodes: 350918\n",
      "Number of edges: 375702\n",
      "----------- sample retweeters -----------\n",
      "Number of unique authors: 100\n",
      "Number of unique users: 83264\n",
      "Number of nodes: 83364\n",
      "Number of edges: 88234\n",
      "\n",
      "Number of authors in common: 100\n",
      "Number of rows in common: 61381\n"
     ]
    }
   ],
   "source": [
    "common_authors_list = common_authors(edgelists_liking_df, edgelists_retweeters_df)\n",
    "# get a sample of common_authors_list, to reduce the graph size\n",
    "author_ids_sample = np.random.choice(list(common_authors_list), size=100, replace=False)\n",
    "\n",
    "# filter df by author_ids\n",
    "edgelists_any_df_sample = filter_df_by_authors(edgelists_any_df, author_ids_sample)\n",
    "edgelists_liking_df_sample = filter_df_by_authors(edgelists_liking_df, author_ids_sample)\n",
    "edgelists_retweeters_df_sample = filter_df_by_authors(edgelists_retweeters_df, author_ids_sample)\n",
    "\n",
    "# print basic stats\n",
    "print('----------- sample any -----------')\n",
    "print_basic_stats(edgelists_any_df_sample)\n",
    "print('----------- sample liking -----------')\n",
    "print_basic_stats(edgelists_liking_df_sample)\n",
    "print('----------- sample retweeters -----------')\n",
    "print_basic_stats(edgelists_retweeters_df_sample)\n",
    "\n",
    "print(\"\")\n",
    "common_authors(edgelists_liking_df_sample, edgelists_retweeters_df_sample)\n",
    "common_rows(edgelists_liking_df_sample, edgelists_retweeters_df_sample)\n",
    "\n",
    "# rename \"user_id\" to \"Source\" and \"author_id\" to \"Target\"\n",
    "edgelists_any_df_sample = edgelists_any_df_sample.rename(columns={'user_id': 'Source', 'author_id': 'Target'})\n",
    "edgelists_liking_df_sample = edgelists_liking_df_sample.rename(columns={'user_id': 'Source', 'author_id': 'Target'})\n",
    "edgelists_retweeters_df_sample = edgelists_retweeters_df_sample.rename(columns={'user_id': 'Source', 'author_id': 'Target'})\n",
    "\n",
    "Path.mkdir(Path(\"edgelistsSample\"), exist_ok=True)\n",
    "edgelists_any_df_sample.to_csv('edgelistsSample/edgelists_any_sample.csv', index=False, header=True)\n",
    "edgelists_liking_df_sample.to_csv('edgelistsSample/edgelists_liking_sample.csv', index=False, header=True)\n",
    "edgelists_retweeters_df_sample.to_csv('edgelistsSample/edgelists_retweeters_sample.csv', index=False, header=True)"
   ]
  }
 ],
 "metadata": {
  "interpreter": {
   "hash": "e17df53156a1cd5dcd810416833fc7bc2978cb4c660ed625567caafd9f935baa"
  },
  "kernelspec": {
   "display_name": "Python 3 (ipykernel)",
   "language": "python",
   "name": "python3"
  },
  "language_info": {
   "codemirror_mode": {
    "name": "ipython",
    "version": 3
   },
   "file_extension": ".py",
   "mimetype": "text/x-python",
   "name": "python",
   "nbconvert_exporter": "python",
   "pygments_lexer": "ipython3",
   "version": "3.8.10"
  }
 },
 "nbformat": 4,
 "nbformat_minor": 4
}
