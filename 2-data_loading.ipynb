{
 "cells": [
  {
   "cell_type": "markdown",
   "metadata": {},
   "source": [
    "# Data loading"
   ]
  },
  {
   "cell_type": "code",
   "execution_count": 1,
   "metadata": {},
   "outputs": [],
   "source": [
    "import pandas as pd\n",
    "from pathlib import Path\n",
    "import networkx as nx\n",
    "import numpy as np"
   ]
  },
  {
   "cell_type": "markdown",
   "metadata": {},
   "source": [
    "## Read the edgelists, merge them and store them"
   ]
  },
  {
   "cell_type": "code",
   "execution_count": 2,
   "metadata": {},
   "outputs": [],
   "source": [
    "def read_edgelist(path, type_of_edges):\n",
    "    if type_of_edges is not None:\n",
    "        assert (type_of_edges) == 'liking' or (type_of_edges) == 'retweeters' or (type_of_edges) == 'any', \"type_of_edges must be 'liking' or 'retweeters' or 'any'\"\n",
    "    \n",
    "    if type_of_edges == 'any':\n",
    "        df =  pd.concat([pd.read_csv(file) for file in Path(path).iterdir()], ignore_index=True)\n",
    "        df.name = 'any'\n",
    "    elif type_of_edges == 'liking':\n",
    "        df =  pd.concat([pd.read_csv(file) for file in Path(path).iterdir() if 'liking' in file.name], ignore_index=True)\n",
    "        df.name = 'liking'\n",
    "    elif type_of_edges == 'retweeters':\n",
    "        df =  pd.concat([pd.read_csv(file) for file in Path(path).iterdir() if 'retweeters' in file.name], ignore_index=True)\n",
    "        df.name = 'retweeters'\n",
    "        \n",
    "    df.drop_duplicates(inplace=True)\n",
    "    return df\n"
   ]
  },
  {
   "cell_type": "code",
   "execution_count": 3,
   "metadata": {},
   "outputs": [],
   "source": [
    "edgelists_any_df = read_edgelist('edgelists', 'any')\n",
    "edgelists_liking_df = read_edgelist('edgelists', 'liking')\n",
    "edgelists_retweeters_df = read_edgelist('edgelists', 'retweeters')\n",
    "\n",
    "edgelists = [edgelists_any_df, edgelists_liking_df, edgelists_retweeters_df]"
   ]
  },
  {
   "cell_type": "markdown",
   "metadata": {},
   "source": [
    "## Some stats"
   ]
  },
  {
   "cell_type": "code",
   "execution_count": 4,
   "metadata": {},
   "outputs": [],
   "source": [
    "def filter_df_by_authors(df, author_ids_sample):\n",
    "    return df[df['author_id'].isin(author_ids_sample)]\n",
    "\n",
    "def print_basic_stats(df):\n",
    "    print('Number of unique authors:', df['author_id'].nunique())\n",
    "    print('Number of unique users:', df['user_id'].nunique())\n",
    "    print('Number of nodes:', df['author_id'].nunique() + df['user_id'].nunique())\n",
    "    print('Number of edges:', df.shape[0])\n",
    "\n",
    "def common_authors(df1, df2):\n",
    "    # commun authors between liking and retweeters\n",
    "    df1_authors = df1['author_id'].unique()\n",
    "    df2_authors = df2['author_id'].unique()\n",
    "\n",
    "    authors_in_common = set(df1_authors).intersection(set(df2_authors))\n",
    "\n",
    "    print('Number of authors in common:', len(authors_in_common))\n",
    "    return authors_in_common\n",
    "\n",
    "def common_rows(df1, df2):\n",
    "    count_common_authors = df1.merge(df2, on=['author_id', 'user_id'], how='inner')\n",
    "    print('Number of rows in common:', count_common_authors.shape[0])\n",
    "    return count_common_authors"
   ]
  },
  {
   "cell_type": "code",
   "execution_count": 5,
   "metadata": {},
   "outputs": [
    {
     "name": "stdout",
     "output_type": "stream",
     "text": [
      "-----------any-----------\n",
      "Number of unique authors: 786\n",
      "Number of unique users: 2790105\n",
      "Number of nodes: 2790891\n",
      "Number of edges: 4466776\n",
      "-----------liking-----------\n",
      "Number of unique authors: 755\n",
      "Number of unique users: 2668663\n",
      "Number of nodes: 2669418\n",
      "Number of edges: 4245301\n",
      "-----------retweeters-----------\n",
      "Number of unique authors: 682\n",
      "Number of unique users: 520160\n",
      "Number of nodes: 520842\n",
      "Number of edges: 787529\n",
      "\n",
      "Number of authors in common: 651\n",
      "Number of rows in common: 566054\n"
     ]
    },
    {
     "data": {
      "text/html": [
       "<div>\n",
       "<style scoped>\n",
       "    .dataframe tbody tr th:only-of-type {\n",
       "        vertical-align: middle;\n",
       "    }\n",
       "\n",
       "    .dataframe tbody tr th {\n",
       "        vertical-align: top;\n",
       "    }\n",
       "\n",
       "    .dataframe thead th {\n",
       "        text-align: right;\n",
       "    }\n",
       "</style>\n",
       "<table border=\"1\" class=\"dataframe\">\n",
       "  <thead>\n",
       "    <tr style=\"text-align: right;\">\n",
       "      <th></th>\n",
       "      <th>user_id</th>\n",
       "      <th>author_id</th>\n",
       "    </tr>\n",
       "  </thead>\n",
       "  <tbody>\n",
       "    <tr>\n",
       "      <th>0</th>\n",
       "      <td>2909381990</td>\n",
       "      <td>716152735</td>\n",
       "    </tr>\n",
       "    <tr>\n",
       "      <th>1</th>\n",
       "      <td>3101577272</td>\n",
       "      <td>2222395582</td>\n",
       "    </tr>\n",
       "    <tr>\n",
       "      <th>2</th>\n",
       "      <td>1378730257184919559</td>\n",
       "      <td>2222395582</td>\n",
       "    </tr>\n",
       "    <tr>\n",
       "      <th>3</th>\n",
       "      <td>755116981649453056</td>\n",
       "      <td>2222395582</td>\n",
       "    </tr>\n",
       "    <tr>\n",
       "      <th>4</th>\n",
       "      <td>1252569115098636290</td>\n",
       "      <td>2222395582</td>\n",
       "    </tr>\n",
       "    <tr>\n",
       "      <th>...</th>\n",
       "      <td>...</td>\n",
       "      <td>...</td>\n",
       "    </tr>\n",
       "    <tr>\n",
       "      <th>566049</th>\n",
       "      <td>1314894413814996992</td>\n",
       "      <td>554497503</td>\n",
       "    </tr>\n",
       "    <tr>\n",
       "      <th>566050</th>\n",
       "      <td>788945381480464386</td>\n",
       "      <td>554497503</td>\n",
       "    </tr>\n",
       "    <tr>\n",
       "      <th>566051</th>\n",
       "      <td>1486117700657164297</td>\n",
       "      <td>554497503</td>\n",
       "    </tr>\n",
       "    <tr>\n",
       "      <th>566052</th>\n",
       "      <td>39666268</td>\n",
       "      <td>554497503</td>\n",
       "    </tr>\n",
       "    <tr>\n",
       "      <th>566053</th>\n",
       "      <td>3316289198</td>\n",
       "      <td>554497503</td>\n",
       "    </tr>\n",
       "  </tbody>\n",
       "</table>\n",
       "<p>566054 rows × 2 columns</p>\n",
       "</div>"
      ],
      "text/plain": [
       "                    user_id   author_id\n",
       "0                2909381990   716152735\n",
       "1                3101577272  2222395582\n",
       "2       1378730257184919559  2222395582\n",
       "3        755116981649453056  2222395582\n",
       "4       1252569115098636290  2222395582\n",
       "...                     ...         ...\n",
       "566049  1314894413814996992   554497503\n",
       "566050   788945381480464386   554497503\n",
       "566051  1486117700657164297   554497503\n",
       "566052             39666268   554497503\n",
       "566053           3316289198   554497503\n",
       "\n",
       "[566054 rows x 2 columns]"
      ]
     },
     "execution_count": 5,
     "metadata": {},
     "output_type": "execute_result"
    }
   ],
   "source": [
    "for df in edgelists:\n",
    "    print('-----------' + df.name + '-----------')\n",
    "    print_basic_stats(df)\n",
    "\n",
    "print(\"\")\n",
    "\n",
    "common_authors(edgelists_liking_df, edgelists_retweeters_df)\n",
    "common_rows(edgelists_liking_df, edgelists_retweeters_df)"
   ]
  },
  {
   "cell_type": "markdown",
   "metadata": {},
   "source": [
    "## Sampling"
   ]
  },
  {
   "cell_type": "code",
   "execution_count": 19,
   "metadata": {},
   "outputs": [
    {
     "name": "stdout",
     "output_type": "stream",
     "text": [
      "Number of authors in common: 651\n",
      "----------- sample any -----------\n",
      "Number of unique authors: 43\n",
      "Number of unique users: 267456\n",
      "Number of nodes: 267499\n",
      "Number of edges: 303884\n",
      "----------- sample liking -----------\n",
      "Number of unique authors: 43\n",
      "Number of unique users: 256413\n",
      "Number of nodes: 256456\n",
      "Number of edges: 290925\n",
      "----------- sample retweeters -----------\n",
      "Number of unique authors: 43\n",
      "Number of unique users: 44381\n",
      "Number of nodes: 44424\n",
      "Number of edges: 49417\n",
      "\n",
      "Number of authors in common: 43\n",
      "Number of rows in common: 36458\n"
     ]
    }
   ],
   "source": [
    "# get unique common author_ids and convert to df\n",
    "common_authors_list = common_authors(edgelists_liking_df, edgelists_retweeters_df)\n",
    "\n",
    "# get a sample of common_authors_list \n",
    "author_ids_sample = np.random.choice(list(common_authors_list), size=43, replace=False)\n",
    "\n",
    "# # filter df by author_ids\n",
    "edgelists_any_df_sample = filter_df_by_authors(edgelists_any_df, author_ids_sample)\n",
    "edgelists_liking_df_sample = filter_df_by_authors(edgelists_liking_df, author_ids_sample)\n",
    "edgelists_retweeters_df_sample = filter_df_by_authors(edgelists_retweeters_df, author_ids_sample)\n",
    "\n",
    "# print basic stats\n",
    "print('----------- sample any -----------')\n",
    "print_basic_stats(edgelists_any_df_sample)\n",
    "print('----------- sample liking -----------')\n",
    "print_basic_stats(edgelists_liking_df_sample)\n",
    "print('----------- sample retweeters -----------')\n",
    "print_basic_stats(edgelists_retweeters_df_sample)\n",
    "\n",
    "print(\"\")\n",
    "common_authors(edgelists_liking_df_sample, edgelists_retweeters_df_sample)\n",
    "common_rows(edgelists_liking_df_sample, edgelists_retweeters_df_sample)\n",
    "\n",
    "# rename user_id to \"Source\" and author_id to \"Target\"\n",
    "edgelists_any_df_sample = edgelists_any_df_sample.rename(columns={'user_id': 'Source', 'author_id': 'Target'})\n",
    "edgelists_liking_df_sample = edgelists_liking_df_sample.rename(columns={'user_id': 'Source', 'author_id': 'Target'})\n",
    "edgelists_retweeters_df_sample = edgelists_retweeters_df_sample.rename(columns={'user_id': 'Source', 'author_id': 'Target'})\n",
    "\n",
    "# save edgelists to csv\n",
    "Path.mkdir(Path(\"edgelistsSample\"), exist_ok=True)\n",
    "edgelists_any_df_sample.to_csv('edgelistsSample/edgelists_any_sample.csv', index=False, header=True)\n",
    "edgelists_liking_df_sample.to_csv('edgelistsSample/edgelists_liking_sample.csv', index=False, header=True)\n",
    "edgelists_retweeters_df_sample.to_csv('edgelistsSample/edgelists_retweeters_sample.csv', index=False, header=True)"
   ]
  },
  {
   "cell_type": "markdown",
   "metadata": {},
   "source": [
    "## Parse for gephi TO DELETE"
   ]
  },
  {
   "cell_type": "code",
   "execution_count": 9,
   "metadata": {},
   "outputs": [],
   "source": [
    "# edgelists_any_df_sample = edgelists_any_df_sample.rename(columns={'user_id': 'Source', 'author_id': 'Target'})\n",
    "# add column \"like\" with value False \n",
    "# edgelists_any_df_sample = edgelists_any_df_sample.insert(0, 'like', False)\n",
    "edgelists_any_df_sample[\"like\"] = False\n",
    "# # add column \"retweet\" with value False\n",
    "# edgelists_any_df_sample = edgelists_any_df_sample.insert(0, 'retweet', False)\n",
    "edgelists_any_df_sample[\"retweet\"] = False\n",
    "\n",
    "edgelists_any_df_sample.loc[edgelists_any_df_sample['Source'].isin(edgelists_liking_df_sample['Source'].unique()), \"like\"] = True\n",
    "edgelists_any_df_sample.loc[edgelists_any_df_sample['Source'].isin(edgelists_retweeters_df_sample['Source'].unique()), \"retweet\"] = True\n",
    "\n",
    "# add column \"both\" with value True if both like and retweet\n",
    "edgelists_any_df_sample.loc[:,'both'] = edgelists_any_df_sample['like'] & edgelists_any_df_sample['retweet']\n",
    "\n",
    "edgelists_any_df_sample\n",
    "\n",
    "# save edgelists_any_df_sample to csv\n",
    "edgelists_any_df_sample.to_csv('edgelistsSample/edgelists_any_sample_w_data.csv', index=False, header=True)"
   ]
  },
  {
   "cell_type": "code",
   "execution_count": 17,
   "metadata": {},
   "outputs": [],
   "source": [
    "# # get unique user_ids\n",
    "# user_ids = edgelists_df['user_id'].unique()\n",
    "\n",
    "# # sample 200 000 user_ids\n",
    "# user_ids_sample = np.random.choice(user_ids, 1000, replace=False)\n",
    "\n",
    "# # filter edgelists_df_sample to contain only user_ids in user_ids_sample\n",
    "# edgelists_df_sample = edgelists_df[edgelists_df['user_id'].isin(user_ids_sample)]\n",
    "\n",
    "# # get number of unique user_ids in edgelists_df_sample\n",
    "# print(len(edgelists_df_sample['user_id'].unique()))\n",
    "\n",
    "# # get number of unique author_ids in edgelists_df_sample\n",
    "# print(len(edgelists_df_sample['author_id'].unique()))\n",
    "\n",
    "# # print len of edgelists_df_sample\n",
    "# print(len(edgelists_df_sample))\n",
    "\n",
    "# # save edgelists_df_sample to csv\n",
    "# edgelists_df_sample.to_csv(Path(f\"edgelists_sample.csv\"), index=False)"
   ]
  }
 ],
 "metadata": {
  "interpreter": {
   "hash": "e17df53156a1cd5dcd810416833fc7bc2978cb4c660ed625567caafd9f935baa"
  },
  "kernelspec": {
   "display_name": "Python 3 (ipykernel)",
   "language": "python",
   "name": "python3"
  },
  "language_info": {
   "codemirror_mode": {
    "name": "ipython",
    "version": 3
   },
   "file_extension": ".py",
   "mimetype": "text/x-python",
   "name": "python",
   "nbconvert_exporter": "python",
   "pygments_lexer": "ipython3",
   "version": "3.8.10"
  }
 },
 "nbformat": 4,
 "nbformat_minor": 4
}
