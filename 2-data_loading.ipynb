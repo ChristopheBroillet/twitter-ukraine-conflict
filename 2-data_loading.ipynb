{
 "cells": [
  {
   "cell_type": "markdown",
   "metadata": {},
   "source": [
    "# Data loading"
   ]
  },
  {
   "cell_type": "code",
   "execution_count": 1,
   "metadata": {},
   "outputs": [],
   "source": [
    "import pandas as pd\n",
    "from pathlib import Path\n",
    "import networkx as nx\n",
    "import numpy as np"
   ]
  },
  {
   "cell_type": "code",
   "execution_count": 2,
   "metadata": {},
   "outputs": [],
   "source": [
    "# read all csv files from edgelists folder and save to edgelists_df\n",
    "edgelists_df = pd.concat([pd.read_csv(file) for file in Path(\"edgelists\").iterdir()], ignore_index=True)\n",
    "# drop duplicates in edgelists_df\n",
    "edgelists_df.drop_duplicates(inplace=True)"
   ]
  },
  {
   "cell_type": "markdown",
   "metadata": {},
   "source": [
    "## Sampling"
   ]
  },
  {
   "cell_type": "code",
   "execution_count": 7,
   "metadata": {},
   "outputs": [
    {
     "name": "stdout",
     "output_type": "stream",
     "text": [
      "50\n",
      "604742\n",
      "624818\n"
     ]
    }
   ],
   "source": [
    "# get unique author_ids\n",
    "author_ids = edgelists_df['author_id'].unique()\n",
    "\n",
    "# sample 100 author_ids\n",
    "author_ids_sample = np.random.choice(author_ids, 50, replace=False)\n",
    "\n",
    "# filter edgelists_df to contain only author_ids in author_ids_sample\n",
    "edgelists_df_sample = edgelists_df[edgelists_df['author_id'].isin(author_ids_sample)]\n",
    "\n",
    "# get number of unique author_ids in edgelists_df_sample\n",
    "print(len(edgelists_df_sample['author_id'].unique()))\n",
    "\n",
    "# get number of unique users in edgelists_df_sample\n",
    "print(len(edgelists_df_sample['user_id'].unique()))\n",
    "\n",
    "# print len of edgelists_df_sample\n",
    "print(len(edgelists_df_sample))\n",
    "\n",
    "# save edgelists_df_sample to csv\n",
    "edgelists_df_sample.to_csv(Path(f\"edgelists_sample.csv\"), index=False)"
   ]
  },
  {
   "cell_type": "code",
   "execution_count": 11,
   "metadata": {},
   "outputs": [
    {
     "name": "stdout",
     "output_type": "stream",
     "text": [
      "1000\n",
      "118\n",
      "1696\n"
     ]
    }
   ],
   "source": [
    "# get unique user_ids\n",
    "user_ids = edgelists_df['user_id'].unique()\n",
    "\n",
    "# sample 200 000 user_ids\n",
    "user_ids_sample = np.random.choice(user_ids, 1000, replace=False)\n",
    "\n",
    "# filter edgelists_df_sample to contain only user_ids in user_ids_sample\n",
    "edgelists_df_sample = edgelists_df[edgelists_df['user_id'].isin(user_ids_sample)]\n",
    "\n",
    "# get number of unique user_ids in edgelists_df_sample\n",
    "print(len(edgelists_df_sample['user_id'].unique()))\n",
    "\n",
    "# get number of unique author_ids in edgelists_df_sample\n",
    "print(len(edgelists_df_sample['author_id'].unique()))\n",
    "\n",
    "# print len of edgelists_df_sample\n",
    "print(len(edgelists_df_sample))\n",
    "\n",
    "# save edgelists_df_sample to csv\n",
    "edgelists_df_sample.to_csv(Path(f\"edgelists_sample.csv\"), index=False)"
   ]
  },
  {
   "cell_type": "markdown",
   "metadata": {},
   "source": [
    "## Networkx"
   ]
  },
  {
   "cell_type": "code",
   "execution_count": null,
   "metadata": {},
   "outputs": [],
   "source": [
    "# load edgelists_df_sample to networkx undirected graph\n",
    "edgelists_graph_sample = nx.from_pandas_edgelist(edgelists_df_sample, source='user_id', target='author_id')"
   ]
  },
  {
   "cell_type": "code",
   "execution_count": null,
   "metadata": {},
   "outputs": [],
   "source": [
    "# print number of nodes in edgelists_graph_sample\n",
    "print(f\"{len(edgelists_graph_sample.nodes)=}\")\n",
    "\n",
    "# print number of edges in edgelists_graph_sample\n",
    "print(f\"{len(edgelists_graph_sample.edges)=}\")"
   ]
  }
 ],
 "metadata": {
  "interpreter": {
   "hash": "1b8ef53120f7123611fba2456283a73f096d0dbc94b3169dc53d6556d6119f5f"
  },
  "kernelspec": {
   "display_name": "Python 3.8.10 ('twitter-ukraine-conflict-H_rK_fvr')",
   "language": "python",
   "name": "python3"
  },
  "language_info": {
   "codemirror_mode": {
    "name": "ipython",
    "version": 3
   },
   "file_extension": ".py",
   "mimetype": "text/x-python",
   "name": "python",
   "nbconvert_exporter": "python",
   "pygments_lexer": "ipython3",
   "version": "3.8.10"
  },
  "orig_nbformat": 4
 },
 "nbformat": 4,
 "nbformat_minor": 2
}
