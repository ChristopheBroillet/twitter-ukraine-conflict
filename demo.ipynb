{
 "cells": [
  {
   "cell_type": "code",
   "execution_count": 1,
   "id": "427134ca-e01d-4c13-8062-8b9f2c106453",
   "metadata": {},
   "outputs": [],
   "source": [
    "import pandas as pd\n",
    "from pathlib import Path\n",
    "import networkx as nx\n",
    "from networkx.algorithms import community\n",
    "from tqdm import tqdm\n",
    "import numpy as np\n",
    "import copy\n",
    "from time import perf_counter\n",
    "import matplotlib.pyplot as plt\n",
    "from dotenv import load_dotenv\n",
    "load_dotenv(\"./.env.local\")\n",
    "import os\n",
    "BEARER_TOKEN = os.getenv(\"BEARER_TOKEN\")\n",
    "import tweepy\n",
    "client = tweepy.Client(BEARER_TOKEN, wait_on_rate_limit=True)\n",
    "pd.options.mode.chained_assignment = None  # default='warn'"
   ]
  },
  {
   "cell_type": "markdown",
   "id": "84afd21b-1254-4e00-bc58-f6a07a37c902",
   "metadata": {},
   "source": [
    "## Read the edgelists, merge them and store them"
   ]
  },
  {
   "cell_type": "code",
   "execution_count": 2,
   "id": "e6c92d08-9057-4e02-a187-080ff55d7b1e",
   "metadata": {},
   "outputs": [],
   "source": [
    "def read_edgelist(path, type_of_edges):\n",
    "    if type_of_edges is not None:\n",
    "        assert (type_of_edges) == 'liking' or (type_of_edges) == 'retweeters' or (type_of_edges) == 'any', \"type_of_edges must be 'liking' or 'retweeters' or 'any'\"\n",
    "    \n",
    "    if type_of_edges == 'any':\n",
    "        df =  pd.concat([pd.read_csv(file) for file in Path(path).iterdir()], ignore_index=True)\n",
    "        df.name = 'any'\n",
    "    elif type_of_edges == 'liking':\n",
    "        df =  pd.concat([pd.read_csv(file) for file in Path(path).iterdir() if 'liking' in file.name], ignore_index=True)\n",
    "        df.name = 'liking'\n",
    "    elif type_of_edges == 'retweeters':\n",
    "        df =  pd.concat([pd.read_csv(file) for file in Path(path).iterdir() if 'retweeters' in file.name], ignore_index=True)\n",
    "        df.name = 'retweeters'\n",
    "        \n",
    "    df.drop_duplicates(inplace=True)\n",
    "    return df"
   ]
  },
  {
   "cell_type": "code",
   "execution_count": 3,
   "id": "d7c5f2a4-023b-4b7f-8306-1293263cfad0",
   "metadata": {},
   "outputs": [],
   "source": [
    "edgelists_any_df = read_edgelist('edgelists', 'any')\n",
    "edgelists_liking_df = read_edgelist('edgelists', 'liking')\n",
    "edgelists_retweeters_df = read_edgelist('edgelists', 'retweeters')\n",
    "\n",
    "edgelists = [edgelists_any_df, edgelists_liking_df, edgelists_retweeters_df]"
   ]
  },
  {
   "cell_type": "markdown",
   "id": "23ef8f93-cc07-49ff-8047-7935bb3ec4e6",
   "metadata": {},
   "source": [
    "## Some stats about the networks"
   ]
  },
  {
   "cell_type": "code",
   "execution_count": 4,
   "id": "c56b9e5c-44a8-4a32-a8aa-2bd9a6ccf1da",
   "metadata": {},
   "outputs": [],
   "source": [
    "def filter_df_by_authors(df, author_ids_sample):\n",
    "    return df[df['author_id'].isin(author_ids_sample)]\n",
    "\n",
    "def print_basic_stats(df):\n",
    "    print('Number of unique authors:', df['author_id'].nunique())\n",
    "    print('Number of unique users:', df['user_id'].nunique())\n",
    "    print('Number of nodes:', df['author_id'].nunique() + df['user_id'].nunique())\n",
    "    print('Number of edges:', df.shape[0])\n",
    "\n",
    "def common_authors(df1, df2):\n",
    "    # commun authors between liking and retweeters\n",
    "    df1_authors = df1['author_id'].unique()\n",
    "    df2_authors = df2['author_id'].unique()\n",
    "\n",
    "    authors_in_common = set(df1_authors).intersection(set(df2_authors))\n",
    "\n",
    "    print('Number of authors in common:', len(authors_in_common))\n",
    "    return authors_in_common\n",
    "\n",
    "def common_rows(df1, df2):\n",
    "    count_common_authors = df1.merge(df2, on=['author_id', 'user_id'], how='inner')\n",
    "    print('Number of rows in common:', count_common_authors.shape[0])\n",
    "    return count_common_authors"
   ]
  },
  {
   "cell_type": "code",
   "execution_count": 5,
   "id": "da14dbf5-8548-4024-8aff-955094575541",
   "metadata": {},
   "outputs": [
    {
     "name": "stdout",
     "output_type": "stream",
     "text": [
      "-----------any-----------\n",
      "Number of unique authors: 786\n",
      "Number of unique users: 2790105\n",
      "Number of nodes: 2790891\n",
      "Number of edges: 4466776\n",
      "-----------liking-----------\n",
      "Number of unique authors: 755\n",
      "Number of unique users: 2668663\n",
      "Number of nodes: 2669418\n",
      "Number of edges: 4245301\n",
      "-----------retweeters-----------\n",
      "Number of unique authors: 682\n",
      "Number of unique users: 520160\n",
      "Number of nodes: 520842\n",
      "Number of edges: 787529\n",
      "\n",
      "Number of authors in common: 651\n",
      "Number of rows in common: 566054\n"
     ]
    },
    {
     "data": {
      "text/html": [
       "<div>\n",
       "<style scoped>\n",
       "    .dataframe tbody tr th:only-of-type {\n",
       "        vertical-align: middle;\n",
       "    }\n",
       "\n",
       "    .dataframe tbody tr th {\n",
       "        vertical-align: top;\n",
       "    }\n",
       "\n",
       "    .dataframe thead th {\n",
       "        text-align: right;\n",
       "    }\n",
       "</style>\n",
       "<table border=\"1\" class=\"dataframe\">\n",
       "  <thead>\n",
       "    <tr style=\"text-align: right;\">\n",
       "      <th></th>\n",
       "      <th>user_id</th>\n",
       "      <th>author_id</th>\n",
       "    </tr>\n",
       "  </thead>\n",
       "  <tbody>\n",
       "    <tr>\n",
       "      <th>0</th>\n",
       "      <td>2909381990</td>\n",
       "      <td>716152735</td>\n",
       "    </tr>\n",
       "    <tr>\n",
       "      <th>1</th>\n",
       "      <td>3101577272</td>\n",
       "      <td>2222395582</td>\n",
       "    </tr>\n",
       "    <tr>\n",
       "      <th>2</th>\n",
       "      <td>1378730257184919559</td>\n",
       "      <td>2222395582</td>\n",
       "    </tr>\n",
       "    <tr>\n",
       "      <th>3</th>\n",
       "      <td>755116981649453056</td>\n",
       "      <td>2222395582</td>\n",
       "    </tr>\n",
       "    <tr>\n",
       "      <th>4</th>\n",
       "      <td>1252569115098636290</td>\n",
       "      <td>2222395582</td>\n",
       "    </tr>\n",
       "    <tr>\n",
       "      <th>...</th>\n",
       "      <td>...</td>\n",
       "      <td>...</td>\n",
       "    </tr>\n",
       "    <tr>\n",
       "      <th>566049</th>\n",
       "      <td>1314894413814996992</td>\n",
       "      <td>554497503</td>\n",
       "    </tr>\n",
       "    <tr>\n",
       "      <th>566050</th>\n",
       "      <td>788945381480464386</td>\n",
       "      <td>554497503</td>\n",
       "    </tr>\n",
       "    <tr>\n",
       "      <th>566051</th>\n",
       "      <td>1486117700657164297</td>\n",
       "      <td>554497503</td>\n",
       "    </tr>\n",
       "    <tr>\n",
       "      <th>566052</th>\n",
       "      <td>39666268</td>\n",
       "      <td>554497503</td>\n",
       "    </tr>\n",
       "    <tr>\n",
       "      <th>566053</th>\n",
       "      <td>3316289198</td>\n",
       "      <td>554497503</td>\n",
       "    </tr>\n",
       "  </tbody>\n",
       "</table>\n",
       "<p>566054 rows × 2 columns</p>\n",
       "</div>"
      ],
      "text/plain": [
       "                    user_id   author_id\n",
       "0                2909381990   716152735\n",
       "1                3101577272  2222395582\n",
       "2       1378730257184919559  2222395582\n",
       "3        755116981649453056  2222395582\n",
       "4       1252569115098636290  2222395582\n",
       "...                     ...         ...\n",
       "566049  1314894413814996992   554497503\n",
       "566050   788945381480464386   554497503\n",
       "566051  1486117700657164297   554497503\n",
       "566052             39666268   554497503\n",
       "566053           3316289198   554497503\n",
       "\n",
       "[566054 rows x 2 columns]"
      ]
     },
     "execution_count": 5,
     "metadata": {},
     "output_type": "execute_result"
    }
   ],
   "source": [
    "for df in edgelists:\n",
    "    print('-----------' + df.name + '-----------')\n",
    "    print_basic_stats(df)\n",
    "\n",
    "print(\"\")\n",
    "\n",
    "common_authors(edgelists_liking_df, edgelists_retweeters_df)\n",
    "common_rows(edgelists_liking_df, edgelists_retweeters_df)"
   ]
  },
  {
   "cell_type": "markdown",
   "id": "f89a2098-13bb-4b09-9fc5-fc4f63a44a5e",
   "metadata": {},
   "source": [
    "## Sampling !Might not be representative!"
   ]
  },
  {
   "cell_type": "code",
   "execution_count": 7,
   "id": "6b911d5a-a52a-4e2b-8031-1d6a57336359",
   "metadata": {},
   "outputs": [
    {
     "name": "stdout",
     "output_type": "stream",
     "text": [
      "Number of authors in common: 651\n",
      "----------- sample any -----------\n",
      "Number of unique authors: 50\n",
      "Number of unique users: 668625\n",
      "Number of nodes: 668675\n",
      "Number of edges: 708757\n",
      "----------- sample liking -----------\n",
      "Number of unique authors: 50\n",
      "Number of unique users: 631448\n",
      "Number of nodes: 631498\n",
      "Number of edges: 668696\n",
      "----------- sample retweeters -----------\n",
      "Number of unique authors: 50\n",
      "Number of unique users: 141102\n",
      "Number of nodes: 141152\n",
      "Number of edges: 147685\n",
      "\n",
      "Number of authors in common: 50\n",
      "Number of rows in common: 107624\n"
     ]
    }
   ],
   "source": [
    "common_authors_list = common_authors(edgelists_liking_df, edgelists_retweeters_df)\n",
    "# get a sample of common_authors_list, to reduce the graph size\n",
    "author_ids_sample = np.random.choice(list(common_authors_list), size=50, replace=False)\n",
    "\n",
    "# filter df by author_ids\n",
    "edgelists_any_df_sample = filter_df_by_authors(edgelists_any_df, author_ids_sample)\n",
    "edgelists_liking_df_sample = filter_df_by_authors(edgelists_liking_df, author_ids_sample)\n",
    "edgelists_retweeters_df_sample = filter_df_by_authors(edgelists_retweeters_df, author_ids_sample)\n",
    "\n",
    "# print basic stats\n",
    "print('----------- sample any -----------')\n",
    "print_basic_stats(edgelists_any_df_sample)\n",
    "print('----------- sample liking -----------')\n",
    "print_basic_stats(edgelists_liking_df_sample)\n",
    "print('----------- sample retweeters -----------')\n",
    "print_basic_stats(edgelists_retweeters_df_sample)\n",
    "\n",
    "print(\"\")\n",
    "common_authors(edgelists_liking_df_sample, edgelists_retweeters_df_sample)\n",
    "common_rows(edgelists_liking_df_sample, edgelists_retweeters_df_sample)\n",
    "\n",
    "# rename \"user_id\" to \"Source\" and \"author_id\" to \"Target\"\n",
    "edgelists_any_df_sample = edgelists_any_df_sample.rename(columns={'user_id': 'Source', 'author_id': 'Target'})\n",
    "edgelists_liking_df_sample = edgelists_liking_df_sample.rename(columns={'user_id': 'Source', 'author_id': 'Target'})\n",
    "edgelists_retweeters_df_sample = edgelists_retweeters_df_sample.rename(columns={'user_id': 'Source', 'author_id': 'Target'})\n",
    "\n",
    "Path.mkdir(Path(\"analysisDemo\"), exist_ok=True)\n",
    "edgelists_any_df_sample.to_csv('analysisDemo/edgelists_any_sample.csv', index=False, header=True)\n",
    "edgelists_liking_df_sample.to_csv('analysisDemo/edgelists_liking_sample.csv', index=False, header=True)\n",
    "edgelists_retweeters_df_sample.to_csv('analysisDemo/edgelists_retweeters_sample.csv', index=False, header=True)"
   ]
  },
  {
   "cell_type": "markdown",
   "id": "0d674ef2-3fee-4ce1-8024-6336a3032243",
   "metadata": {},
   "source": [
    "## Load the data and create NetworkX graphs"
   ]
  },
  {
   "cell_type": "code",
   "execution_count": 8,
   "id": "1e95fd34-694b-42f3-9e0a-de803cc83814",
   "metadata": {},
   "outputs": [],
   "source": [
    "edgelists = {\n",
    "    'any': edgelists_any_df_sample,\n",
    "    'like': edgelists_liking_df_sample,\n",
    "    'retweet': edgelists_retweeters_df_sample\n",
    "}\n",
    "\n",
    "nx_graphs = {}\n",
    "\n",
    "for name, edgelist in edgelists.items():\n",
    "    tmp_nx_graph = nx.from_pandas_edgelist(edgelist, source='Source', target='Target', create_using=nx.Graph())\n",
    "    # Ensure that graphs have a 'weight' edge attribute\n",
    "    nx.set_edge_attributes(tmp_nx_graph, 1, 'weight')\n",
    "    nx_graphs[name] = tmp_nx_graph"
   ]
  },
  {
   "cell_type": "markdown",
   "id": "d2e169f0-0d61-4824-a9bd-7a9957ab5897",
   "metadata": {},
   "source": [
    "## Louvain"
   ]
  },
  {
   "cell_type": "code",
   "execution_count": 9,
   "id": "8fc94b7b-5e10-455f-9aeb-eae1539a2cc8",
   "metadata": {},
   "outputs": [],
   "source": [
    "# Louvain implementation\n",
    "def louvain(G, npassage):\n",
    "    # Will contain the graph and the communities after each passage\n",
    "    data = {}\n",
    "    for i in range(0, npassage):\n",
    "        print(f\"Passage {i+1}\", flush=True)\n",
    "        G, communities, get_community = louvain_step(G, i==0)\n",
    "        data[i] = get_community\n",
    "        print(f\"There are {len(communities)} communities after passage {i+1}\", flush=True)\n",
    "    return data\n",
    "\n",
    "\n",
    "def louvain_step(G, is_first_passage):\n",
    "    # Step 1: Initialization, start with each node being a single community\n",
    "    communities = {idx: set([node]) for idx, node in enumerate(G.nodes)}\n",
    "    # To get direct access to the community (it speeds up a bit the algorithm)\n",
    "    get_community = {node: idx for idx, node in enumerate(G.nodes)}\n",
    "    # Used in the modularity computation\n",
    "    neighbors_sets = {node: set(G.neighbors(node)) for node in G.nodes}\n",
    "    m = len(G.edges)\n",
    "\n",
    "    # Sum the weights of the incident edges for all nodes inside a community, for all communities\n",
    "    # Separate first passage and other ones to speed up the algorithm\n",
    "    if is_first_passage:\n",
    "        sum_communities = {idx: sum(dict(G.degree(community)).values()) for idx, community in communities.items()}\n",
    "    else:\n",
    "        sum_communities = {idx: sum(dict(G.degree(community, 'weight')).values()) for idx, community in communities.items()}\n",
    "\n",
    "    prev_communities = {}\n",
    "    i = 0\n",
    "    # While there are changes in the communities, make another iteration\n",
    "    while(communities != prev_communities):\n",
    "        print(f\"Iteration {i+1}\", flush=True)\n",
    "        # Deepcopy to have a new object with a new reference\n",
    "        # Otherwise comparison in while is always True\n",
    "        prev_communities = copy.deepcopy(communities)\n",
    "        \n",
    "        for node in tqdm(G.nodes):\n",
    "            # Step 2: Remove node from its community\n",
    "            neighboring_communities = get_neighboring_communities(G, node, get_community)\n",
    "            if neighboring_communities == set():\n",
    "                continue\n",
    "            belong_to = get_community[node]\n",
    "            communities[belong_to].remove(node)\n",
    "            sum_communities[belong_to] -= G.degree(node, 'weight')\n",
    "            if communities[belong_to] == set():\n",
    "                del communities[belong_to]\n",
    "                del sum_communities[belong_to]\n",
    "\n",
    "            # Step 3: Insert the node in the community that maximizes the modularity\n",
    "            scores = [\n",
    "                (neighbor_community, modularity_gain(G, node, communities[neighbor_community], sum_communities[neighbor_community], neighbors_sets[node], m, is_first_passage))\n",
    "                for neighbor_community in neighboring_communities\n",
    "            ]\n",
    "            best_community, best_score = max(scores, key=lambda x: x[1])\n",
    "            communities[best_community].add(node)\n",
    "            get_community[node] = best_community\n",
    "            sum_communities[best_community] += G.degree(node, 'weight')\n",
    "          \n",
    "        i += 1\n",
    "\n",
    "    # Step 4: Update the graph\n",
    "    if is_first_passage:\n",
    "        return get_new_graph(G, communities, sum_communities, get_community), communities, get_community\n",
    "    return get_new_graph(G, communities, sum_communities, get_community), communities, get_community\n",
    "\n",
    "\n",
    "def get_neighboring_communities(G, node, get_community):\n",
    "    # Use a set to make sure a community only appear once\n",
    "    neighboring_communities = set()\n",
    "    for neighbor in G.neighbors(node):\n",
    "        if neighbor == node: continue\n",
    "        neighboring_communities.add(get_community[neighbor])\n",
    "    return neighboring_communities\n",
    "\n",
    "\n",
    "def modularity_gain(G, node, community, sum_community, neighbor_set, m, is_first_passage):\n",
    "    # Separate first passage and other ones to speed up the algorithm\n",
    "    if is_first_passage:\n",
    "        # Sum the weights of the edges from node into community nodes\n",
    "        # Using sets allow to use intersection()\n",
    "        sum_weights_node = len(neighbor_set.intersection(community))\n",
    "        right_member = (sum_community * G.degree[node]) / (2 * (m**2))\n",
    "    else:\n",
    "        # Sum the weights of the edges from node into community nodes\n",
    "        sum_weights_node = sum([G.get_edge_data(node, member)['weight'] for member in G.neighbors(node) if member in community])\n",
    "        right_member = (sum_community * G.degree(node, 'weight')) / (2 * (m**2))\n",
    "    # Compute modularity\n",
    "    left_member = sum_weights_node / (2 * m)\n",
    "    return left_member - right_member\n",
    "\n",
    "\n",
    "def get_new_graph(old_G, communities, sum_communities, get_community):\n",
    "    print(\"Constructing new graph\", flush=True)\n",
    "    G = nx.Graph()\n",
    "    G.add_nodes_from(communities.keys())\n",
    "    for community in communities:\n",
    "        G.add_edge(community, community, weight=sum_communities[community])\n",
    "\n",
    "    for source, dest, weight_dict in old_G.edges(data=True):\n",
    "        community1 = get_community[source]\n",
    "        community2 = get_community[dest]\n",
    "        # If edge not exist, weight initialized at 0\n",
    "        current_weight = G.get_edge_data(community1, community2, {'weight': 0})['weight']\n",
    "        new_weight = current_weight + weight_dict['weight']\n",
    "        G.add_edge(community1, community2, weight=new_weight)\n",
    "    return G"
   ]
  },
  {
   "cell_type": "code",
   "execution_count": 10,
   "id": "087e2021-c950-4e89-b891-c0924ef43de4",
   "metadata": {},
   "outputs": [
    {
     "name": "stdout",
     "output_type": "stream",
     "text": [
      "Louvain on any\n",
      "Passage 1\n",
      "Iteration 1\n"
     ]
    },
    {
     "name": "stderr",
     "output_type": "stream",
     "text": [
      "100%|████████████████████████████████████████████████████| 668640/668640 [00:08<00:00, 78095.45it/s]"
     ]
    },
    {
     "name": "stdout",
     "output_type": "stream",
     "text": [
      "Iteration 2\n"
     ]
    },
    {
     "name": "stderr",
     "output_type": "stream",
     "text": [
      "\n",
      "100%|████████████████████████████████████████████████████| 668640/668640 [00:07<00:00, 90816.29it/s]"
     ]
    },
    {
     "name": "stdout",
     "output_type": "stream",
     "text": [
      "Iteration 3\n"
     ]
    },
    {
     "name": "stderr",
     "output_type": "stream",
     "text": [
      "\n",
      "100%|████████████████████████████████████████████████████| 668640/668640 [00:07<00:00, 92914.61it/s]"
     ]
    },
    {
     "name": "stdout",
     "output_type": "stream",
     "text": [
      "Constructing new graph\n"
     ]
    },
    {
     "name": "stderr",
     "output_type": "stream",
     "text": [
      "\n"
     ]
    },
    {
     "name": "stdout",
     "output_type": "stream",
     "text": [
      "There are 50 communities after passage 1\n",
      "Passage 2\n",
      "Iteration 1\n"
     ]
    },
    {
     "name": "stderr",
     "output_type": "stream",
     "text": [
      "100%|████████████████████████████████████████████████████████████| 50/50 [00:00<00:00, 20153.30it/s]"
     ]
    },
    {
     "name": "stdout",
     "output_type": "stream",
     "text": [
      "Iteration 2\n"
     ]
    },
    {
     "name": "stderr",
     "output_type": "stream",
     "text": [
      "\n",
      "100%|████████████████████████████████████████████████████████████| 50/50 [00:00<00:00, 22701.36it/s]"
     ]
    },
    {
     "name": "stdout",
     "output_type": "stream",
     "text": [
      "Iteration 3\n"
     ]
    },
    {
     "name": "stderr",
     "output_type": "stream",
     "text": [
      "\n",
      "100%|█████████████████████████████████████████████████████████████| 50/50 [00:00<00:00, 9264.27it/s]"
     ]
    },
    {
     "name": "stdout",
     "output_type": "stream",
     "text": [
      "Iteration 4\n"
     ]
    },
    {
     "name": "stderr",
     "output_type": "stream",
     "text": [
      "\n",
      "100%|████████████████████████████████████████████████████████████| 50/50 [00:00<00:00, 12006.37it/s]"
     ]
    },
    {
     "name": "stdout",
     "output_type": "stream",
     "text": [
      "Iteration 5\n"
     ]
    },
    {
     "name": "stderr",
     "output_type": "stream",
     "text": [
      "\n",
      "100%|████████████████████████████████████████████████████████████| 50/50 [00:00<00:00, 12146.84it/s]"
     ]
    },
    {
     "name": "stdout",
     "output_type": "stream",
     "text": [
      "Constructing new graph\n",
      "There are 20 communities after passage 2\n",
      "\n",
      "\n"
     ]
    },
    {
     "name": "stderr",
     "output_type": "stream",
     "text": [
      "\n"
     ]
    }
   ],
   "source": [
    "results = {}\n",
    "for name, G in nx_graphs.items():\n",
    "    if name != 'any':\n",
    "        continue\n",
    "    print(f\"Louvain on {name}\")\n",
    "    data = louvain(G, 2)\n",
    "    results[name] = data\n",
    "    print(f\"\\n\")"
   ]
  },
  {
   "cell_type": "markdown",
   "id": "e80af04f-870b-4cc5-a2de-e810e084976e",
   "metadata": {},
   "source": [
    "## Export and save label communities of each node (for Gephi)"
   ]
  },
  {
   "cell_type": "code",
   "execution_count": 11,
   "id": "0170c14b-2761-453c-8256-4be52a427743",
   "metadata": {},
   "outputs": [],
   "source": [
    "df_results = {}\n",
    "# Get the label communities for the nodes for each passage\n",
    "for name, result in results.items():\n",
    "    intermediate_results = []\n",
    "\n",
    "    for i in range(len(result)-1, -1, -1):\n",
    "        if i == 0:\n",
    "            break\n",
    "        curr = result[i]\n",
    "        prev = result[i-1]\n",
    "        intermediate_result =  {node: curr[val] for node, val in prev.items()}\n",
    "        intermediate_results.append(intermediate_result)\n",
    "    \n",
    "    try:\n",
    "        commu = intermediate_results[-1]\n",
    "    # If we run only for one passage\n",
    "    except IndexError:\n",
    "        commu = result[0]\n",
    "\n",
    "    communities_df = pd.DataFrame(commu.items(), columns=['Id', 'Community'])\n",
    "    communities_df[\"Label\"] = communities_df[\"Id\"].map(lambda x: x)\n",
    "    communities_df[\"Is_author\"] = False\n",
    "\n",
    "    communities_df.loc[communities_df['Id'].isin(edgelists[name]['Target'].unique()), \"Is_author\"] = True\n",
    "    communities_df.to_csv(f\"analysisDemo/communities_{name}.csv\", index=False)\n",
    "\n",
    "    df_results[name] = communities_df"
   ]
  },
  {
   "cell_type": "markdown",
   "id": "6a3feaaa-451b-44f7-8970-3f617a2b06ae",
   "metadata": {},
   "source": [
    "## Some stats"
   ]
  },
  {
   "cell_type": "code",
   "execution_count": 12,
   "id": "ef06eff0-9e45-487d-8aec-06edf672e3ed",
   "metadata": {},
   "outputs": [
    {
     "name": "stdout",
     "output_type": "stream",
     "text": [
      "Number of nodes in any: 668640\n",
      "---------------------------------------------------------------------------\n",
      "any\n",
      "Community\n",
      "28    318846\n",
      "40    227602\n",
      "48    106103\n",
      "44      5658\n",
      "49      3455\n",
      "34      1592\n",
      "27      1419\n",
      "39      1352\n",
      "21      1307\n",
      "43      1148\n",
      "15       107\n",
      "38        21\n",
      "9         12\n",
      "25         9\n",
      "46         2\n",
      "47         2\n",
      "4          2\n",
      "35         1\n",
      "45         1\n",
      "17         1\n",
      "Name: Id, dtype: int64\n",
      "\n",
      "\n",
      "any\n",
      "Community\n",
      "28    47.685750\n",
      "40    34.039543\n",
      "48    15.868479\n",
      "44     0.846195\n",
      "49     0.516721\n",
      "34     0.238095\n",
      "27     0.212222\n",
      "39     0.202201\n",
      "21     0.195471\n",
      "43     0.171692\n",
      "15     0.016003\n",
      "38     0.003141\n",
      "9      0.001795\n",
      "25     0.001346\n",
      "46     0.000299\n",
      "Name: Id, dtype: float64\n",
      "\n",
      "\n",
      "---------------------------------------------------------------------------\n"
     ]
    }
   ],
   "source": [
    "n = {}\n",
    "biggest_communities = {}\n",
    "for name, result in df_results.items():\n",
    "    n[name] = len(result['Id'].unique())\n",
    "    print(f\"Number of nodes in {name}: {n[name]}\")\n",
    "    \n",
    "print('---------------------------------------------------------------------------')\n",
    "# Number of nodes for each community\n",
    "for name, result in df_results.items():\n",
    "    print(name)\n",
    "    print(result.groupby('Community')[\"Id\"].count().sort_values(ascending=False))\n",
    "    print('\\n')\n",
    "    print(name)\n",
    "    df_percent = result.groupby('Community')[\"Id\"].count().sort_values(ascending=False).div(n[name]).mul(100)\n",
    "    print(df_percent[:15])\n",
    "    biggest_communities[name] = list(df_percent[:3].index)\n",
    "    print('\\n')\n",
    "    print('---------------------------------------------------------------------------')"
   ]
  },
  {
   "cell_type": "markdown",
   "id": "51d3316d-125a-4e25-a621-1caa017bf163",
   "metadata": {},
   "source": [
    "## Plots"
   ]
  },
  {
   "cell_type": "code",
   "execution_count": 13,
   "id": "ad458f41-f398-4cbb-b101-26a288dd243b",
   "metadata": {},
   "outputs": [
    {
     "name": "stdout",
     "output_type": "stream",
     "text": [
      "any\n"
     ]
    },
    {
     "data": {
      "image/png": "[encoded data removed]",
      "text/plain": [
       "<Figure size 432x288 with 1 Axes>"
      ]
     },
     "metadata": {},
     "output_type": "display_data"
    }
   ],
   "source": [
    "# Bar plot of the number of nodes in each community\n",
    "for name, result in df_results.items():\n",
    "    result.groupby('Community')[\"Id\"].count().sort_values(ascending=False).plot(kind='bar')\n",
    "    plt.xticks(color='w')\n",
    "    plt.tick_params(bottom=False)\n",
    "    plt.xlabel(\"Communities sorted by size\", labelpad=-10)\n",
    "    plt.ylabel(\"Number of nodes\")\n",
    "    plt.savefig(f\"analysis/nodes_in_each_community_{name}.pdf\", bbox_inches='tight')\n",
    "    print(name)\n",
    "    plt.show()"
   ]
  },
  {
   "cell_type": "markdown",
   "id": "3b7e4445-21bd-42c8-b2a4-8a497a078645",
   "metadata": {},
   "source": [
    "## Analyze only the authors from the results"
   ]
  },
  {
   "cell_type": "code",
   "execution_count": 14,
   "id": "78631006-e399-4b6f-96c7-ec45095ce4a2",
   "metadata": {},
   "outputs": [
    {
     "name": "stdout",
     "output_type": "stream",
     "text": [
      "Number of unique authors in any only authors: 50\n"
     ]
    }
   ],
   "source": [
    "df_results_only_authors = {}\n",
    "n_unique_only_authors = {}\n",
    "\n",
    "for name, result in df_results.items():\n",
    "    df_results_only_authors[name] = result[result['Is_author'] == True]\n",
    "    n_unique_only_authors[name] = len(df_results_only_authors[name]['Id'].unique())\n",
    "    print(f\"Number of unique authors in {name} only authors: {n_unique_only_authors[name]}\")"
   ]
  },
  {
   "cell_type": "code",
   "execution_count": 15,
   "id": "4dbfa5db-f406-4c20-aba7-70a8eb709299",
   "metadata": {},
   "outputs": [
    {
     "name": "stdout",
     "output_type": "stream",
     "text": [
      "any: Iteration 0-100 / 50\n"
     ]
    }
   ],
   "source": [
    "authors_info = {}\n",
    "\n",
    "# create a list of all the authors and call the Twitter API\n",
    "for name, result in df_results_only_authors.items():\n",
    "    temp_result = result\n",
    "    authors = list(result[\"Id\"].unique())\n",
    "    temp_df = pd.DataFrame()\n",
    "    # split df by 100\n",
    "    for i in range(0, len(authors), 100):\n",
    "        print(f\"{name}: Iteration {i}-{i+100} / {len(authors)}\")\n",
    "        df_100 = authors[i:i+100]\n",
    "        res = client.get_users(ids=df_100, user_fields=[\"public_metrics\", \"verified\"])\n",
    "        for user_detail in res.data:\n",
    "            temp_result.loc[temp_result['Id'] == user_detail['id'], 'Username'] = user_detail['username']\n",
    "            temp_result.loc[temp_result['Id'] == user_detail['id'], 'Verified'] = user_detail['verified']\n",
    "            temp_result.loc[temp_result['Id'] == user_detail['id'], 'followers_count'] = user_detail['public_metrics']['followers_count']\n",
    "            temp_result.loc[temp_result['Id'] == user_detail['id'], 'following_count'] = user_detail['public_metrics']['following_count']\n",
    "            temp_result.loc[temp_result['Id'] == user_detail['id'], 'tweet_count'] = user_detail['public_metrics']['tweet_count']\n",
    "    temp_df = pd.concat(\n",
    "        [temp_df, temp_result], ignore_index=True)\n",
    "    authors_info[name] = temp_df"
   ]
  },
  {
   "cell_type": "markdown",
   "id": "83d08174-a375-4a3f-acbd-4a6f9fd02169",
   "metadata": {},
   "source": [
    "## Retrieve authors info for the biggest communities"
   ]
  },
  {
   "cell_type": "code",
   "execution_count": 16,
   "id": "6710d026-59e5-40c4-a109-8b6ab52c9860",
   "metadata": {},
   "outputs": [
    {
     "data": {
      "text/html": [
       "<div>\n",
       "<style scoped>\n",
       "    .dataframe tbody tr th:only-of-type {\n",
       "        vertical-align: middle;\n",
       "    }\n",
       "\n",
       "    .dataframe tbody tr th {\n",
       "        vertical-align: top;\n",
       "    }\n",
       "\n",
       "    .dataframe thead th {\n",
       "        text-align: right;\n",
       "    }\n",
       "</style>\n",
       "<table border=\"1\" class=\"dataframe\">\n",
       "  <thead>\n",
       "    <tr style=\"text-align: right;\">\n",
       "      <th></th>\n",
       "      <th>Id</th>\n",
       "      <th>Community</th>\n",
       "      <th>Label</th>\n",
       "      <th>Is_author</th>\n",
       "      <th>Username</th>\n",
       "      <th>Verified</th>\n",
       "      <th>followers_count</th>\n",
       "      <th>following_count</th>\n",
       "      <th>tweet_count</th>\n",
       "    </tr>\n",
       "  </thead>\n",
       "  <tbody>\n",
       "    <tr>\n",
       "      <th>3</th>\n",
       "      <td>904047154997719040</td>\n",
       "      <td>28</td>\n",
       "      <td>904047154997719040</td>\n",
       "      <td>True</td>\n",
       "      <td>techz_dave</td>\n",
       "      <td>False</td>\n",
       "      <td>1056.0</td>\n",
       "      <td>35.0</td>\n",
       "      <td>2364.0</td>\n",
       "    </tr>\n",
       "    <tr>\n",
       "      <th>13</th>\n",
       "      <td>213276262</td>\n",
       "      <td>28</td>\n",
       "      <td>213276262</td>\n",
       "      <td>True</td>\n",
       "      <td>RARAmusictweet</td>\n",
       "      <td>False</td>\n",
       "      <td>475.0</td>\n",
       "      <td>1428.0</td>\n",
       "      <td>1095.0</td>\n",
       "    </tr>\n",
       "    <tr>\n",
       "      <th>15</th>\n",
       "      <td>868670948</td>\n",
       "      <td>28</td>\n",
       "      <td>868670948</td>\n",
       "      <td>True</td>\n",
       "      <td>LeoVenez</td>\n",
       "      <td>False</td>\n",
       "      <td>1407.0</td>\n",
       "      <td>5002.0</td>\n",
       "      <td>19540.0</td>\n",
       "    </tr>\n",
       "    <tr>\n",
       "      <th>21</th>\n",
       "      <td>1925004564</td>\n",
       "      <td>28</td>\n",
       "      <td>1925004564</td>\n",
       "      <td>True</td>\n",
       "      <td>casciatowriting</td>\n",
       "      <td>False</td>\n",
       "      <td>2481.0</td>\n",
       "      <td>2869.0</td>\n",
       "      <td>118640.0</td>\n",
       "    </tr>\n",
       "    <tr>\n",
       "      <th>22</th>\n",
       "      <td>1383902579650809867</td>\n",
       "      <td>28</td>\n",
       "      <td>1383902579650809867</td>\n",
       "      <td>True</td>\n",
       "      <td>_Scorpion_11</td>\n",
       "      <td>False</td>\n",
       "      <td>674.0</td>\n",
       "      <td>683.0</td>\n",
       "      <td>10613.0</td>\n",
       "    </tr>\n",
       "  </tbody>\n",
       "</table>\n",
       "</div>"
      ],
      "text/plain": [
       "                     Id  Community                Label  Is_author  \\\n",
       "3    904047154997719040         28   904047154997719040       True   \n",
       "13            213276262         28            213276262       True   \n",
       "15            868670948         28            868670948       True   \n",
       "21           1925004564         28           1925004564       True   \n",
       "22  1383902579650809867         28  1383902579650809867       True   \n",
       "\n",
       "           Username Verified  followers_count  following_count  tweet_count  \n",
       "3        techz_dave    False           1056.0             35.0       2364.0  \n",
       "13   RARAmusictweet    False            475.0           1428.0       1095.0  \n",
       "15         LeoVenez    False           1407.0           5002.0      19540.0  \n",
       "21  casciatowriting    False           2481.0           2869.0     118640.0  \n",
       "22     _Scorpion_11    False            674.0            683.0      10613.0  "
      ]
     },
     "execution_count": 16,
     "metadata": {},
     "output_type": "execute_result"
    }
   ],
   "source": [
    "authors_info['any'][authors_info['any']['Community'] == biggest_communities['any'][0]]"
   ]
  },
  {
   "cell_type": "code",
   "execution_count": null,
   "id": "57935f13-9fdd-43be-ad73-728b66f7d7ca",
   "metadata": {},
   "outputs": [],
   "source": []
  }
 ],
 "metadata": {
  "kernelspec": {
   "display_name": "Python 3 (ipykernel)",
   "language": "python",
   "name": "python3"
  },
  "language_info": {
   "codemirror_mode": {
    "name": "ipython",
    "version": 3
   },
   "file_extension": ".py",
   "mimetype": "text/x-python",
   "name": "python",
   "nbconvert_exporter": "python",
   "pygments_lexer": "ipython3",
   "version": "3.8.10"
  }
 },
 "nbformat": 4,
 "nbformat_minor": 5
}
