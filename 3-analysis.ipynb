{
 "cells": [
  {
   "cell_type": "markdown",
   "id": "9f3231ef-c5f9-4da3-b4cb-8e3f78739026",
   "metadata": {},
   "source": [
    "# Network component analysis"
   ]
  },
  {
   "cell_type": "code",
   "execution_count": 1,
   "id": "4c6a6bbe-959d-458d-b1f8-7c38d8b7f489",
   "metadata": {},
   "outputs": [],
   "source": [
    "import pandas as pd\n",
    "import numpy as np\n",
    "from pathlib import Path\n",
    "import networkx as nx\n",
    "from networkx.algorithms import community\n",
    "from numba import jit\n",
    "from tqdm import tqdm\n",
    "from itertools import tee"
   ]
  },
  {
   "cell_type": "code",
   "execution_count": 5,
   "id": "c1c300e2",
   "metadata": {},
   "outputs": [
    {
     "name": "stdout",
     "output_type": "stream",
     "text": [
      "2778\n"
     ]
    }
   ],
   "source": [
    "# read csv from edgelistsSample folder\n",
    "edgelists_sample_df = pd.read_csv(\"edgelistsSample/edgelists_any_sample.csv\")\n",
    "edgelists_sample_df\n",
    "G = nx.from_pandas_edgelist(edgelists_sample_df, source='Source', target='Target', create_using=nx.Graph())\n",
    "print(len(G.nodes))"
   ]
  },
  {
   "cell_type": "code",
   "execution_count": 6,
   "id": "e11a0a94",
   "metadata": {},
   "outputs": [
    {
     "name": "stdout",
     "output_type": "stream",
     "text": [
      "After first passage: 4 communities\n"
     ]
    }
   ],
   "source": [
    "louvain_nx = community.louvain_partitions(G)\n",
    "first = next(louvain_nx)\n",
    "print(f\"After first passage: {len(first)} communities\")"
   ]
  },
  {
   "cell_type": "code",
   "execution_count": 8,
   "id": "760c50ae-def8-483b-95f5-ee7d247ace32",
   "metadata": {},
   "outputs": [
    {
     "name": "stdout",
     "output_type": "stream",
     "text": [
      "Passage 0\n",
      "Iteration 0\n"
     ]
    },
    {
     "name": "stderr",
     "output_type": "stream",
     "text": [
      "100%|█████████████████████████████████████████████████████████| 2778/2778 [00:00<00:00, 3700.82it/s]\n"
     ]
    },
    {
     "name": "stdout",
     "output_type": "stream",
     "text": [
      "Iteration 1\n"
     ]
    },
    {
     "name": "stderr",
     "output_type": "stream",
     "text": [
      "100%|█████████████████████████████████████████████████████████| 2778/2778 [00:01<00:00, 2121.98it/s]\n"
     ]
    },
    {
     "name": "stdout",
     "output_type": "stream",
     "text": [
      "There are 4 communities after passage 0\n",
      "Passage 1\n",
      "Iteration 0\n"
     ]
    },
    {
     "name": "stderr",
     "output_type": "stream",
     "text": [
      "100%|██████████████████████████████████████████████████████████████| 4/4 [00:00<00:00, 17829.13it/s]\n"
     ]
    },
    {
     "name": "stdout",
     "output_type": "stream",
     "text": [
      "Iteration 1\n"
     ]
    },
    {
     "name": "stderr",
     "output_type": "stream",
     "text": [
      "100%|██████████████████████████████████████████████████████████████| 4/4 [00:00<00:00, 23899.17it/s]"
     ]
    },
    {
     "name": "stdout",
     "output_type": "stream",
     "text": [
      "There are 1 communities after passage 1\n"
     ]
    },
    {
     "name": "stderr",
     "output_type": "stream",
     "text": [
      "\n"
     ]
    }
   ],
   "source": [
    "# Louvain implementation\n",
    "def louvain(G, npassage):\n",
    "    # Will contain the graph and the communities after each passage\n",
    "    data = {}\n",
    "    for i in range(npassage):\n",
    "        print(f\"Passage {i}\")\n",
    "        G, communities = louvain_step(G, i==0)\n",
    "        data[i] = (G, communities)\n",
    "        print(f\"There are {len(communities)} communities after passage {i}\")\n",
    "    return data\n",
    "\n",
    "\n",
    "def louvain_step(G, is_first_passage):\n",
    "    # Communities are stored in a dict\n",
    "    # Step 1: Initialization, start with each node being a single community\n",
    "    communities = {idx:[node] for idx, node in enumerate(G.nodes)}\n",
    "    # To get direct access to the community (it speeds up a bit the algorithm)\n",
    "    get_community = {node: idx for idx, node in enumerate(G.nodes)}\n",
    "    m = len(G.edges)\n",
    "\n",
    "    # TODO: ATM it is a fixed number of iteration, we need to find a way to\n",
    "    # Stop the iterations whenever the communities are not evolving anymore\n",
    "    for i in range(2):\n",
    "        print(f\"Iteration {i}\")\n",
    "        for node in tqdm(G.nodes):\n",
    "            # Step 2: Remove node from its community\n",
    "            belong_to = get_community[node]\n",
    "            communities[belong_to].remove(node)\n",
    "            if communities[belong_to] == []:\n",
    "                del communities[belong_to]\n",
    "\n",
    "            # Step 3: Insert the node in the community that maximizes the modularity\n",
    "            neighboring_communities = get_neighboring_communities(G, node, get_community)\n",
    "            scores = [(neighbor_community, modularity_gain(G, node, communities[neighbor_community], m, is_first_passage)) for neighbor_community in neighboring_communities]\n",
    "            best_comm, best_score = max(scores, key=lambda x: x[1])\n",
    "            communities[best_comm].append(node)\n",
    "            get_community[node] = best_comm\n",
    "    return get_new_graph(G, communities), communities\n",
    "    # return G, communities\n",
    "\n",
    "\n",
    "def get_neighboring_communities(G, node, get_community):\n",
    "    # Use a set to make sure a community only appear once\n",
    "    neighboring_communities = set()\n",
    "    for neighbor in G[node]:\n",
    "        if neighbor == node: continue\n",
    "        neighboring_communities.add(get_community[neighbor])\n",
    "\n",
    "    assert neighboring_communities != set(), f\"No neighboring communities for node {node}\"\n",
    "    return neighboring_communities\n",
    "\n",
    "\n",
    "def modularity_gain(G, node, community, m, is_first_passage):\n",
    "    # Separate first passage from other to speed up\n",
    "    if is_first_passage:\n",
    "        # Sum the weights of the edges from node into community nodes\n",
    "        sum_weights_node = sum([1 for member in G.neighbors(node) if member in community])\n",
    "        # Sum the weights of the incident edges for all nodes in community\n",
    "        sum_community = sum(dict(G.degree(community)).values())\n",
    "        right_member = (sum_community * G.degree[node]) / (2 * (m**2))\n",
    "    else:\n",
    "        # Sum the weights of the edges from node into community nodes\n",
    "        sum_weights_node = sum([G.get_edge_data(node, member)['weight'] for member in G.neighbors(node) if member in community])\n",
    "        # Sum the weights of the incident edges for all nodes in community\n",
    "        sum_community = sum(dict(G.degree(community, 'weight')).values())\n",
    "        right_member = (sum_community * G.degree(node, 'weight')) / (2 * (m**2))\n",
    "    # Compute modularity\n",
    "    left_member = sum_weights_node / (2 * m)\n",
    "    return left_member - right_member\n",
    "\n",
    "\n",
    "def get_new_graph(old_G, communities):\n",
    "    G = nx.Graph()\n",
    "    G.add_nodes_from(communities.keys())\n",
    "    for idx, community in communities.items():\n",
    "        # Sum the weights of the incident edges for all nodes in community\n",
    "        sum_community = sum([weight for node, weight in G.degree(community, 'weight')])\n",
    "        G.add_edge(idx, idx, weight=sum_community)\n",
    "    between_edge = 0\n",
    "    for (idx1, community1), (idx2, community2) in pairwise(communities.items()):\n",
    "        for place, node1 in enumerate(community1):\n",
    "            for node2 in community2[place:]:\n",
    "                if G.get_edge_data(node1, node2) is not None:\n",
    "                    between_edge += G.get_edge_data(node1, node2)['weight']\n",
    "        G.add_edge(idx1, idx2, weight=between_edge)\n",
    "    return G\n",
    "\n",
    "\n",
    "# pairwise() from Itertools Recipes\n",
    "# To iterate pairwise keys in a dict, from Stackoverflow\n",
    "# https://stackoverflow.com/questions/37010754/python-loop-dictionary-two-keys-at-a-time\n",
    "def pairwise(iterable):\n",
    "    \"s -> (s0,s1), (s1,s2), (s2, s3), ...\"\n",
    "    a, b = tee(iterable)\n",
    "    next(b, None)\n",
    "    return zip(a, b)\n",
    "\n",
    "\n",
    "data = louvain(G, 2)"
   ]
  },
  {
   "cell_type": "code",
   "execution_count": 13,
   "id": "bdebf1eb",
   "metadata": {},
   "outputs": [],
   "source": [
    "# get last entry of data\n",
    "last_entry = data[-1]\n",
    "networkx_graph, communities_dict = last_entry"
   ]
  },
  {
   "cell_type": "code",
   "execution_count": 14,
   "id": "a751f3dc",
   "metadata": {},
   "outputs": [],
   "source": [
    "communities_df = pd.DataFrame(columns=[\"Id\",\"Label\", \"Community\", \"Is_author\"])\n",
    "\n",
    "# tranform communities_dict into a dataframe \n",
    "# key is the community, value is the Id\n",
    "for key, value in communities_dict.items():\n",
    "    for idx in value:\n",
    "        communities_df = pd.concat([communities_df, pd.DataFrame({\"Id\":idx, \"Label\":idx, \"Community\":key, \"Is_author\":False}, index=[0])], ignore_index=True)"
   ]
  },
  {
   "cell_type": "code",
   "execution_count": 15,
   "id": "5cd13212",
   "metadata": {},
   "outputs": [],
   "source": [
    "communities_df.loc[communities_df['Id'].isin(edgelists_sample_df['Target'].unique()), \"Is_author\"] = True"
   ]
  },
  {
   "cell_type": "code",
   "execution_count": 16,
   "id": "70fc76bd",
   "metadata": {},
   "outputs": [
    {
     "data": {
      "text/html": [
       "<div>\n",
       "<style scoped>\n",
       "    .dataframe tbody tr th:only-of-type {\n",
       "        vertical-align: middle;\n",
       "    }\n",
       "\n",
       "    .dataframe tbody tr th {\n",
       "        vertical-align: top;\n",
       "    }\n",
       "\n",
       "    .dataframe thead th {\n",
       "        text-align: right;\n",
       "    }\n",
       "</style>\n",
       "<table border=\"1\" class=\"dataframe\">\n",
       "  <thead>\n",
       "    <tr style=\"text-align: right;\">\n",
       "      <th></th>\n",
       "      <th>Id</th>\n",
       "      <th>Label</th>\n",
       "      <th>Community</th>\n",
       "      <th>Is_author</th>\n",
       "    </tr>\n",
       "  </thead>\n",
       "  <tbody>\n",
       "    <tr>\n",
       "      <th>0</th>\n",
       "      <td>2439111781</td>\n",
       "      <td>2439111781</td>\n",
       "      <td>1</td>\n",
       "      <td>False</td>\n",
       "    </tr>\n",
       "    <tr>\n",
       "      <th>1</th>\n",
       "      <td>1107958498283974656</td>\n",
       "      <td>1107958498283974656</td>\n",
       "      <td>1</td>\n",
       "      <td>True</td>\n",
       "    </tr>\n",
       "    <tr>\n",
       "      <th>2</th>\n",
       "      <td>39098651</td>\n",
       "      <td>39098651</td>\n",
       "      <td>1</td>\n",
       "      <td>False</td>\n",
       "    </tr>\n",
       "    <tr>\n",
       "      <th>3</th>\n",
       "      <td>976817480</td>\n",
       "      <td>976817480</td>\n",
       "      <td>1</td>\n",
       "      <td>False</td>\n",
       "    </tr>\n",
       "    <tr>\n",
       "      <th>4</th>\n",
       "      <td>63679540</td>\n",
       "      <td>63679540</td>\n",
       "      <td>1</td>\n",
       "      <td>False</td>\n",
       "    </tr>\n",
       "    <tr>\n",
       "      <th>...</th>\n",
       "      <td>...</td>\n",
       "      <td>...</td>\n",
       "      <td>...</td>\n",
       "      <td>...</td>\n",
       "    </tr>\n",
       "    <tr>\n",
       "      <th>2773</th>\n",
       "      <td>1427335175877402626</td>\n",
       "      <td>1427335175877402626</td>\n",
       "      <td>916</td>\n",
       "      <td>False</td>\n",
       "    </tr>\n",
       "    <tr>\n",
       "      <th>2774</th>\n",
       "      <td>1125420654</td>\n",
       "      <td>1125420654</td>\n",
       "      <td>916</td>\n",
       "      <td>False</td>\n",
       "    </tr>\n",
       "    <tr>\n",
       "      <th>2775</th>\n",
       "      <td>27695425</td>\n",
       "      <td>27695425</td>\n",
       "      <td>916</td>\n",
       "      <td>False</td>\n",
       "    </tr>\n",
       "    <tr>\n",
       "      <th>2776</th>\n",
       "      <td>73475075</td>\n",
       "      <td>73475075</td>\n",
       "      <td>916</td>\n",
       "      <td>False</td>\n",
       "    </tr>\n",
       "    <tr>\n",
       "      <th>2777</th>\n",
       "      <td>61131299</td>\n",
       "      <td>61131299</td>\n",
       "      <td>916</td>\n",
       "      <td>False</td>\n",
       "    </tr>\n",
       "  </tbody>\n",
       "</table>\n",
       "<p>2778 rows × 4 columns</p>\n",
       "</div>"
      ],
      "text/plain": [
       "                       Id                Label Community Is_author\n",
       "0              2439111781           2439111781         1     False\n",
       "1     1107958498283974656  1107958498283974656         1      True\n",
       "2                39098651             39098651         1     False\n",
       "3               976817480            976817480         1     False\n",
       "4                63679540             63679540         1     False\n",
       "...                   ...                  ...       ...       ...\n",
       "2773  1427335175877402626  1427335175877402626       916     False\n",
       "2774           1125420654           1125420654       916     False\n",
       "2775             27695425             27695425       916     False\n",
       "2776             73475075             73475075       916     False\n",
       "2777             61131299             61131299       916     False\n",
       "\n",
       "[2778 rows x 4 columns]"
      ]
     },
     "execution_count": 16,
     "metadata": {},
     "output_type": "execute_result"
    }
   ],
   "source": [
    "communities_df"
   ]
  },
  {
   "cell_type": "code",
   "execution_count": 58,
   "id": "34d09d4c",
   "metadata": {},
   "outputs": [],
   "source": [
    "# save to csv, ignore index\n",
    "communities_df.to_csv(\"communities_df.csv\", index=False)"
   ]
  },
  {
   "cell_type": "markdown",
   "id": "f0bee368-d7bf-4f60-b364-2a73ad6e0d1b",
   "metadata": {},
   "source": [
    "## TODO:\n",
    "- Sample by taking random author_id and take all edges connected to it\n",
    "- Implement from scratch community detection: Louvain (faster than Girvan)\n",
    "- Look at how to store the communities (edgelist or so)\n",
    "- Look at the caracteristics of the huge communities: what is the Tweet, who is the author, what are the hashtags etc...\n",
    "- Make profiles of users: press, random guy, famous guy, etc...\n",
    "- Look at outliers\n",
    "- Load communities to Gephi to vizualise them"
   ]
  },
  {
   "cell_type": "code",
   "execution_count": null,
   "id": "6921534f-9fe6-4b47-be1e-38688abfdc41",
   "metadata": {},
   "outputs": [],
   "source": []
  }
 ],
 "metadata": {
  "interpreter": {
   "hash": "e17df53156a1cd5dcd810416833fc7bc2978cb4c660ed625567caafd9f935baa"
  },
  "kernelspec": {
   "display_name": "Python 3 (ipykernel)",
   "language": "python",
   "name": "python3"
  },
  "language_info": {
   "codemirror_mode": {
    "name": "ipython",
    "version": 3
   },
   "file_extension": ".py",
   "mimetype": "text/x-python",
   "name": "python",
   "nbconvert_exporter": "python",
   "pygments_lexer": "ipython3",
   "version": "3.8.10"
  }
 },
 "nbformat": 4,
 "nbformat_minor": 5
}
