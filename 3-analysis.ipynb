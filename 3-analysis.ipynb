{
 "cells": [
  {
   "cell_type": "markdown",
   "id": "9f3231ef-c5f9-4da3-b4cb-8e3f78739026",
   "metadata": {},
   "source": [
    "# Network component analysis"
   ]
  },
  {
   "cell_type": "code",
   "execution_count": 1,
   "id": "4c6a6bbe-959d-458d-b1f8-7c38d8b7f489",
   "metadata": {},
   "outputs": [],
   "source": [
    "import pandas as pd\n",
    "from pathlib import Path\n",
    "import networkx as nx\n",
    "from networkx.algorithms import community\n",
    "from tqdm import tqdm\n",
    "import copy\n",
    "from time import perf_counter"
   ]
  },
  {
   "cell_type": "markdown",
   "id": "134a5d31-81e3-458a-b5ab-b106b6809701",
   "metadata": {},
   "source": [
    "## Load the data (sampled) and create NetworkX graphs"
   ]
  },
  {
   "cell_type": "code",
   "execution_count": 4,
   "id": "e40a848a",
   "metadata": {},
   "outputs": [],
   "source": [
    "edgelists = {}\n",
    "nx_graphs = {}\n",
    "\n",
    "for file in Path(\"edgelistsSample\").iterdir():\n",
    "    # if file.stem == \"edgelists_any_sample_w_data\": continue\n",
    "    tmp_edgelist = pd.read_csv(file)\n",
    "    edgelists[file.stem] = tmp_edgelist\n",
    "\n",
    "    tmp_nx_graph = nx.from_pandas_edgelist(tmp_edgelist, source='Source', target='Target', create_using=nx.Graph())\n",
    "    # Ensure that graphs have a 'weight' edge attribute\n",
    "    nx.set_edge_attributes(tmp_nx_graph, 1, 'weight')\n",
    "    nx_graphs[file.stem] = tmp_nx_graph"
   ]
  },
  {
   "cell_type": "markdown",
   "id": "c0af5224-4e3c-4d76-a554-8fdca1e18956",
   "metadata": {},
   "source": [
    "## Our Louvain implementation"
   ]
  },
  {
   "cell_type": "code",
   "execution_count": 5,
   "id": "760c50ae-def8-483b-95f5-ee7d247ace32",
   "metadata": {},
   "outputs": [],
   "source": [
    "# Louvain implementation\n",
    "def louvain(G, npassage):\n",
    "    # Will contain the graph and the communities after each passage\n",
    "    data = {}\n",
    "    for i in range(0, npassage):\n",
    "        print(f\"Passage {i+1}\", flush=True)\n",
    "        G, communities, get_community = louvain_step(G, i==0)\n",
    "        data[i] = get_community\n",
    "        print(f\"There are {len(communities)} communities after passage {i+1}\", flush=True)\n",
    "    return data\n",
    "\n",
    "\n",
    "def louvain_step(G, is_first_passage):\n",
    "    # Step 1: Initialization, start with each node being a single community\n",
    "    communities = {idx: set([node]) for idx, node in enumerate(G.nodes)}\n",
    "    # To get direct access to the community (it speeds up a bit the algorithm)\n",
    "    get_community = {node: idx for idx, node in enumerate(G.nodes)}\n",
    "    # Used in the modularity computation\n",
    "    neighbors_sets = {node: set(G.neighbors(node)) for node in G.nodes}\n",
    "    m = len(G.edges)\n",
    "\n",
    "    # Sum the weights of the incident edges for all nodes inside a community, for all communities\n",
    "    # Separate first passage and other ones to speed up the algorithm\n",
    "    if is_first_passage:\n",
    "        sum_communities = {idx: sum(dict(G.degree(community)).values()) for idx, community in communities.items()}\n",
    "    else:\n",
    "        sum_communities = {idx: sum(dict(G.degree(community, 'weight')).values()) for idx, community in communities.items()}\n",
    "\n",
    "    prev_communities = {}\n",
    "    i = 0\n",
    "    # While there are changes in the communities, make another iteration\n",
    "    while(communities != prev_communities):\n",
    "        print(f\"Iteration {i+1}\", flush=True)\n",
    "        # Deepcopy to have a new object with a new reference\n",
    "        # Otherwise comparison in while is always True\n",
    "        prev_communities = copy.deepcopy(communities)\n",
    "        \n",
    "        for node in tqdm(G.nodes):\n",
    "            # Step 2: Remove node from its community\n",
    "            neighboring_communities = get_neighboring_communities(G, node, get_community)\n",
    "            if neighboring_communities == set():\n",
    "                continue\n",
    "            belong_to = get_community[node]\n",
    "            communities[belong_to].remove(node)\n",
    "            sum_communities[belong_to] -= G.degree(node, 'weight')\n",
    "            if communities[belong_to] == set():\n",
    "                del communities[belong_to]\n",
    "                del sum_communities[belong_to]\n",
    "\n",
    "            # Step 3: Insert the node in the community that maximizes the modularity\n",
    "            scores = [\n",
    "                (neighbor_community, modularity_gain(G, node, communities[neighbor_community], sum_communities[neighbor_community], neighbors_sets[node], m, is_first_passage))\n",
    "                for neighbor_community in neighboring_communities\n",
    "            ]\n",
    "            best_community, best_score = max(scores, key=lambda x: x[1])\n",
    "            communities[best_community].add(node)\n",
    "            get_community[node] = best_community\n",
    "            sum_communities[best_community] += G.degree(node, 'weight')\n",
    "          \n",
    "        i += 1\n",
    "\n",
    "    # Step 4: Update the graph\n",
    "    if is_first_passage:\n",
    "        return get_new_graph(G, communities, sum_communities, get_community), communities, get_community\n",
    "    return get_new_graph(G, communities, sum_communities, get_community), communities, get_community\n",
    "\n",
    "\n",
    "def get_neighboring_communities(G, node, get_community):\n",
    "    # Use a set to make sure a community only appear once\n",
    "    neighboring_communities = set()\n",
    "    for neighbor in G.neighbors(node):\n",
    "        if neighbor == node: continue\n",
    "        neighboring_communities.add(get_community[neighbor])\n",
    "    return neighboring_communities\n",
    "\n",
    "\n",
    "def modularity_gain(G, node, community, sum_community, neighbor_set, m, is_first_passage):\n",
    "    # Separate first passage and other ones to speed up the algorithm\n",
    "    if is_first_passage:\n",
    "        # Sum the weights of the edges from node into community nodes\n",
    "        # Using sets allow to use intersection()\n",
    "        sum_weights_node = len(neighbor_set.intersection(community))\n",
    "        right_member = (sum_community * G.degree[node]) / (2 * (m**2))\n",
    "    else:\n",
    "        # Sum the weights of the edges from node into community nodes\n",
    "        sum_weights_node = sum([G.get_edge_data(node, member)['weight'] for member in G.neighbors(node) if member in community])\n",
    "        right_member = (sum_community * G.degree(node, 'weight')) / (2 * (m**2))\n",
    "    # Compute modularity\n",
    "    left_member = sum_weights_node / (2 * m)\n",
    "    return left_member - right_member\n",
    "\n",
    "\n",
    "def get_new_graph(old_G, communities, sum_communities, get_community):\n",
    "    print(\"Constructing new graph\", flush=True)\n",
    "    G = nx.Graph()\n",
    "    G.add_nodes_from(communities.keys())\n",
    "    for community in communities:\n",
    "        G.add_edge(community, community, weight=sum_communities[community])\n",
    "\n",
    "    for source, dest, weight_dict in old_G.edges(data=True):\n",
    "        community1 = get_community[source]\n",
    "        community2 = get_community[dest]\n",
    "        # If edge not exist, weight initialized at 0\n",
    "        current_weight = G.get_edge_data(community1, community2, {'weight': 0})['weight']\n",
    "        new_weight = current_weight + weight_dict['weight']\n",
    "        G.add_edge(community1, community2, weight=new_weight)\n",
    "    return G"
   ]
  },
  {
   "cell_type": "markdown",
   "id": "05d1dac5-97e3-4f58-9bf3-db38296a4812",
   "metadata": {},
   "source": [
    "## Run our Louvain on the graphs"
   ]
  },
  {
   "cell_type": "code",
   "execution_count": 22,
   "id": "4bf96aed-55b5-4327-8139-f47ab7f07b92",
   "metadata": {},
   "outputs": [
    {
     "name": "stdout",
     "output_type": "stream",
     "text": [
      "Louvain on edgelists_any_sample_w_data\n",
      "Passage 1\n",
      "Iteration 1\n"
     ]
    },
    {
     "name": "stderr",
     "output_type": "stream",
     "text": [
      "100%|███████████████████████████████████████████████████| 163592/163592 [00:01<00:00, 111536.44it/s]"
     ]
    },
    {
     "name": "stdout",
     "output_type": "stream",
     "text": [
      "Iteration 2\n"
     ]
    },
    {
     "name": "stderr",
     "output_type": "stream",
     "text": [
      "\n",
      "100%|███████████████████████████████████████████████████| 163592/163592 [00:01<00:00, 131703.63it/s]"
     ]
    },
    {
     "name": "stdout",
     "output_type": "stream",
     "text": [
      "Iteration 3\n"
     ]
    },
    {
     "name": "stderr",
     "output_type": "stream",
     "text": [
      "\n",
      "100%|███████████████████████████████████████████████████| 163592/163592 [00:01<00:00, 132360.73it/s]"
     ]
    },
    {
     "name": "stdout",
     "output_type": "stream",
     "text": [
      "Constructing new graph\n"
     ]
    },
    {
     "name": "stderr",
     "output_type": "stream",
     "text": [
      "\n"
     ]
    },
    {
     "name": "stdout",
     "output_type": "stream",
     "text": [
      "There are 73 communities after passage 1\n",
      "Passage 2\n",
      "Iteration 1\n"
     ]
    },
    {
     "name": "stderr",
     "output_type": "stream",
     "text": [
      "100%|████████████████████████████████████████████████████████████| 73/73 [00:00<00:00, 18959.95it/s]"
     ]
    },
    {
     "name": "stdout",
     "output_type": "stream",
     "text": [
      "Iteration 2\n"
     ]
    },
    {
     "name": "stderr",
     "output_type": "stream",
     "text": [
      "\n",
      "100%|████████████████████████████████████████████████████████████| 73/73 [00:00<00:00, 20818.94it/s]"
     ]
    },
    {
     "name": "stdout",
     "output_type": "stream",
     "text": [
      "Iteration 3\n"
     ]
    },
    {
     "name": "stderr",
     "output_type": "stream",
     "text": [
      "\n",
      "100%|████████████████████████████████████████████████████████████| 73/73 [00:00<00:00, 24273.36it/s]"
     ]
    },
    {
     "name": "stdout",
     "output_type": "stream",
     "text": [
      "Iteration 4\n"
     ]
    },
    {
     "name": "stderr",
     "output_type": "stream",
     "text": [
      "\n",
      "100%|████████████████████████████████████████████████████████████| 73/73 [00:00<00:00, 26666.45it/s]"
     ]
    },
    {
     "name": "stdout",
     "output_type": "stream",
     "text": [
      "Iteration 5\n"
     ]
    },
    {
     "name": "stderr",
     "output_type": "stream",
     "text": [
      "\n",
      "100%|████████████████████████████████████████████████████████████| 73/73 [00:00<00:00, 28479.60it/s]"
     ]
    },
    {
     "name": "stdout",
     "output_type": "stream",
     "text": [
      "Iteration 6\n"
     ]
    },
    {
     "name": "stderr",
     "output_type": "stream",
     "text": [
      "\n",
      "100%|████████████████████████████████████████████████████████████| 73/73 [00:00<00:00, 32148.70it/s]"
     ]
    },
    {
     "name": "stdout",
     "output_type": "stream",
     "text": [
      "Iteration 7\n"
     ]
    },
    {
     "name": "stderr",
     "output_type": "stream",
     "text": [
      "\n",
      "100%|████████████████████████████████████████████████████████████| 73/73 [00:00<00:00, 35577.99it/s]"
     ]
    },
    {
     "name": "stdout",
     "output_type": "stream",
     "text": [
      "Iteration 8\n"
     ]
    },
    {
     "name": "stderr",
     "output_type": "stream",
     "text": [
      "\n",
      "100%|████████████████████████████████████████████████████████████| 73/73 [00:00<00:00, 38528.27it/s]"
     ]
    },
    {
     "name": "stdout",
     "output_type": "stream",
     "text": [
      "Iteration 9\n"
     ]
    },
    {
     "name": "stderr",
     "output_type": "stream",
     "text": [
      "\n",
      "100%|████████████████████████████████████████████████████████████| 73/73 [00:00<00:00, 38450.86it/s]"
     ]
    },
    {
     "name": "stdout",
     "output_type": "stream",
     "text": [
      "Iteration 10\n"
     ]
    },
    {
     "name": "stderr",
     "output_type": "stream",
     "text": [
      "\n",
      "100%|████████████████████████████████████████████████████████████| 73/73 [00:00<00:00, 38772.22it/s]"
     ]
    },
    {
     "name": "stdout",
     "output_type": "stream",
     "text": [
      "Iteration 11\n"
     ]
    },
    {
     "name": "stderr",
     "output_type": "stream",
     "text": [
      "\n",
      "100%|████████████████████████████████████████████████████████████| 73/73 [00:00<00:00, 38499.21it/s]"
     ]
    },
    {
     "name": "stdout",
     "output_type": "stream",
     "text": [
      "Constructing new graph\n",
      "There are 19 communities after passage 2\n",
      "Passage 3\n",
      "Iteration 1\n"
     ]
    },
    {
     "name": "stderr",
     "output_type": "stream",
     "text": [
      "\n",
      "100%|████████████████████████████████████████████████████████████| 19/19 [00:00<00:00, 87766.27it/s]"
     ]
    },
    {
     "name": "stdout",
     "output_type": "stream",
     "text": [
      "Iteration 2\n"
     ]
    },
    {
     "name": "stderr",
     "output_type": "stream",
     "text": [
      "\n",
      "100%|████████████████████████████████████████████████████████████| 19/19 [00:00<00:00, 92989.24it/s]"
     ]
    },
    {
     "name": "stdout",
     "output_type": "stream",
     "text": [
      "Iteration 3\n"
     ]
    },
    {
     "name": "stderr",
     "output_type": "stream",
     "text": [
      "\n",
      "100%|███████████████████████████████████████████████████████████| 19/19 [00:00<00:00, 102038.13it/s]"
     ]
    },
    {
     "name": "stdout",
     "output_type": "stream",
     "text": [
      "Constructing new graph\n",
      "There are 15 communities after passage 3\n",
      "\n",
      "\n",
      "Louvain on edgelists_liking_sample\n",
      "Passage 1\n"
     ]
    },
    {
     "name": "stderr",
     "output_type": "stream",
     "text": [
      "\n"
     ]
    },
    {
     "name": "stdout",
     "output_type": "stream",
     "text": [
      "Iteration 1\n"
     ]
    },
    {
     "name": "stderr",
     "output_type": "stream",
     "text": [
      "100%|███████████████████████████████████████████████████| 256439/256439 [00:02<00:00, 109287.60it/s]"
     ]
    },
    {
     "name": "stdout",
     "output_type": "stream",
     "text": [
      "Iteration 2\n"
     ]
    },
    {
     "name": "stderr",
     "output_type": "stream",
     "text": [
      "\n",
      "100%|███████████████████████████████████████████████████| 256439/256439 [00:01<00:00, 128467.32it/s]"
     ]
    },
    {
     "name": "stdout",
     "output_type": "stream",
     "text": [
      "Iteration 3\n"
     ]
    },
    {
     "name": "stderr",
     "output_type": "stream",
     "text": [
      "\n",
      "100%|███████████████████████████████████████████████████| 256439/256439 [00:01<00:00, 128776.18it/s]"
     ]
    },
    {
     "name": "stdout",
     "output_type": "stream",
     "text": [
      "Constructing new graph\n"
     ]
    },
    {
     "name": "stderr",
     "output_type": "stream",
     "text": [
      "\n"
     ]
    },
    {
     "name": "stdout",
     "output_type": "stream",
     "text": [
      "There are 41 communities after passage 1\n",
      "Passage 2\n",
      "Iteration 1\n"
     ]
    },
    {
     "name": "stderr",
     "output_type": "stream",
     "text": [
      "100%|████████████████████████████████████████████████████████████| 41/41 [00:00<00:00, 43175.11it/s]"
     ]
    },
    {
     "name": "stdout",
     "output_type": "stream",
     "text": [
      "Iteration 2\n"
     ]
    },
    {
     "name": "stderr",
     "output_type": "stream",
     "text": [
      "\n",
      "100%|████████████████████████████████████████████████████████████| 41/41 [00:00<00:00, 47557.10it/s]"
     ]
    },
    {
     "name": "stdout",
     "output_type": "stream",
     "text": [
      "Iteration 3\n"
     ]
    },
    {
     "name": "stderr",
     "output_type": "stream",
     "text": [
      "\n",
      "100%|████████████████████████████████████████████████████████████| 41/41 [00:00<00:00, 50563.50it/s]"
     ]
    },
    {
     "name": "stdout",
     "output_type": "stream",
     "text": [
      "Iteration 4\n"
     ]
    },
    {
     "name": "stderr",
     "output_type": "stream",
     "text": [
      "\n",
      "100%|████████████████████████████████████████████████████████████| 41/41 [00:00<00:00, 52476.80it/s]"
     ]
    },
    {
     "name": "stdout",
     "output_type": "stream",
     "text": [
      "Iteration 5\n"
     ]
    },
    {
     "name": "stderr",
     "output_type": "stream",
     "text": [
      "\n",
      "100%|████████████████████████████████████████████████████████████| 41/41 [00:00<00:00, 57979.25it/s]"
     ]
    },
    {
     "name": "stdout",
     "output_type": "stream",
     "text": [
      "Iteration 6\n"
     ]
    },
    {
     "name": "stderr",
     "output_type": "stream",
     "text": [
      "\n",
      "100%|████████████████████████████████████████████████████████████| 41/41 [00:00<00:00, 59237.50it/s]"
     ]
    },
    {
     "name": "stdout",
     "output_type": "stream",
     "text": [
      "Constructing new graph\n",
      "There are 18 communities after passage 2\n",
      "Passage 3\n",
      "Iteration 1\n"
     ]
    },
    {
     "name": "stderr",
     "output_type": "stream",
     "text": [
      "\n",
      "100%|███████████████████████████████████████████████████████████| 18/18 [00:00<00:00, 116508.44it/s]"
     ]
    },
    {
     "name": "stdout",
     "output_type": "stream",
     "text": [
      "Iteration 2\n"
     ]
    },
    {
     "name": "stderr",
     "output_type": "stream",
     "text": [
      "\n",
      "100%|███████████████████████████████████████████████████████████| 18/18 [00:00<00:00, 138020.97it/s]"
     ]
    },
    {
     "name": "stdout",
     "output_type": "stream",
     "text": [
      "Constructing new graph\n",
      "There are 15 communities after passage 3\n",
      "\n",
      "\n",
      "Louvain on edgelists_any_sample\n",
      "Passage 1\n"
     ]
    },
    {
     "name": "stderr",
     "output_type": "stream",
     "text": [
      "\n"
     ]
    },
    {
     "name": "stdout",
     "output_type": "stream",
     "text": [
      "Iteration 1\n"
     ]
    },
    {
     "name": "stderr",
     "output_type": "stream",
     "text": [
      "100%|███████████████████████████████████████████████████| 267478/267478 [00:02<00:00, 109966.74it/s]"
     ]
    },
    {
     "name": "stdout",
     "output_type": "stream",
     "text": [
      "Iteration 2\n"
     ]
    },
    {
     "name": "stderr",
     "output_type": "stream",
     "text": [
      "\n",
      "100%|███████████████████████████████████████████████████| 267478/267478 [00:02<00:00, 130167.61it/s]"
     ]
    },
    {
     "name": "stdout",
     "output_type": "stream",
     "text": [
      "Iteration 3\n"
     ]
    },
    {
     "name": "stderr",
     "output_type": "stream",
     "text": [
      "\n",
      "100%|███████████████████████████████████████████████████| 267478/267478 [00:02<00:00, 130284.13it/s]"
     ]
    },
    {
     "name": "stdout",
     "output_type": "stream",
     "text": [
      "Constructing new graph\n"
     ]
    },
    {
     "name": "stderr",
     "output_type": "stream",
     "text": [
      "\n"
     ]
    },
    {
     "name": "stdout",
     "output_type": "stream",
     "text": [
      "There are 43 communities after passage 1\n",
      "Passage 2\n",
      "Iteration 1\n"
     ]
    },
    {
     "name": "stderr",
     "output_type": "stream",
     "text": [
      "100%|████████████████████████████████████████████████████████████| 43/43 [00:00<00:00, 38283.82it/s]"
     ]
    },
    {
     "name": "stdout",
     "output_type": "stream",
     "text": [
      "Iteration 2\n"
     ]
    },
    {
     "name": "stderr",
     "output_type": "stream",
     "text": [
      "\n",
      "100%|████████████████████████████████████████████████████████████| 43/43 [00:00<00:00, 42566.69it/s]"
     ]
    },
    {
     "name": "stdout",
     "output_type": "stream",
     "text": [
      "Iteration 3\n"
     ]
    },
    {
     "name": "stderr",
     "output_type": "stream",
     "text": [
      "\n",
      "100%|████████████████████████████████████████████████████████████| 43/43 [00:00<00:00, 44998.77it/s]"
     ]
    },
    {
     "name": "stdout",
     "output_type": "stream",
     "text": [
      "Iteration 4\n"
     ]
    },
    {
     "name": "stderr",
     "output_type": "stream",
     "text": [
      "\n",
      "100%|████████████████████████████████████████████████████████████| 43/43 [00:00<00:00, 47399.49it/s]"
     ]
    },
    {
     "name": "stdout",
     "output_type": "stream",
     "text": [
      "Iteration 5\n"
     ]
    },
    {
     "name": "stderr",
     "output_type": "stream",
     "text": [
      "\n",
      "100%|████████████████████████████████████████████████████████████| 43/43 [00:00<00:00, 49344.75it/s]"
     ]
    },
    {
     "name": "stdout",
     "output_type": "stream",
     "text": [
      "Iteration 6\n"
     ]
    },
    {
     "name": "stderr",
     "output_type": "stream",
     "text": [
      "\n",
      "100%|████████████████████████████████████████████████████████████| 43/43 [00:00<00:00, 51368.58it/s]"
     ]
    },
    {
     "name": "stdout",
     "output_type": "stream",
     "text": [
      "Iteration 7\n"
     ]
    },
    {
     "name": "stderr",
     "output_type": "stream",
     "text": [
      "\n",
      "100%|████████████████████████████████████████████████████████████| 43/43 [00:00<00:00, 56912.30it/s]"
     ]
    },
    {
     "name": "stdout",
     "output_type": "stream",
     "text": [
      "Iteration 8\n"
     ]
    },
    {
     "name": "stderr",
     "output_type": "stream",
     "text": [
      "\n",
      "100%|████████████████████████████████████████████████████████████| 43/43 [00:00<00:00, 54686.20it/s]"
     ]
    },
    {
     "name": "stdout",
     "output_type": "stream",
     "text": [
      "Constructing new graph\n",
      "There are 16 communities after passage 2\n",
      "Passage 3\n",
      "Iteration 1\n"
     ]
    },
    {
     "name": "stderr",
     "output_type": "stream",
     "text": [
      "\n",
      "100%|███████████████████████████████████████████████████████████| 16/16 [00:00<00:00, 115904.77it/s]"
     ]
    },
    {
     "name": "stdout",
     "output_type": "stream",
     "text": [
      "Iteration 2\n"
     ]
    },
    {
     "name": "stderr",
     "output_type": "stream",
     "text": [
      "\n",
      "100%|███████████████████████████████████████████████████████████| 16/16 [00:00<00:00, 102612.94it/s]"
     ]
    },
    {
     "name": "stdout",
     "output_type": "stream",
     "text": [
      "Constructing new graph\n",
      "There are 13 communities after passage 3\n",
      "\n",
      "\n",
      "Louvain on edgelists_retweeters_sample\n",
      "Passage 1\n"
     ]
    },
    {
     "name": "stderr",
     "output_type": "stream",
     "text": [
      "\n"
     ]
    },
    {
     "name": "stdout",
     "output_type": "stream",
     "text": [
      "Iteration 1\n"
     ]
    },
    {
     "name": "stderr",
     "output_type": "stream",
     "text": [
      "100%|█████████████████████████████████████████████████████| 44405/44405 [00:00<00:00, 113962.47it/s]"
     ]
    },
    {
     "name": "stdout",
     "output_type": "stream",
     "text": [
      "Iteration 2\n"
     ]
    },
    {
     "name": "stderr",
     "output_type": "stream",
     "text": [
      "\n",
      "100%|█████████████████████████████████████████████████████| 44405/44405 [00:00<00:00, 135680.59it/s]"
     ]
    },
    {
     "name": "stdout",
     "output_type": "stream",
     "text": [
      "Iteration 3\n"
     ]
    },
    {
     "name": "stderr",
     "output_type": "stream",
     "text": [
      "\n",
      "100%|█████████████████████████████████████████████████████| 44405/44405 [00:00<00:00, 136077.12it/s]"
     ]
    },
    {
     "name": "stdout",
     "output_type": "stream",
     "text": [
      "Iteration 4\n"
     ]
    },
    {
     "name": "stderr",
     "output_type": "stream",
     "text": [
      "\n",
      "100%|█████████████████████████████████████████████████████| 44405/44405 [00:00<00:00, 137173.24it/s]"
     ]
    },
    {
     "name": "stdout",
     "output_type": "stream",
     "text": [
      "Constructing new graph\n",
      "There are 43 communities after passage 1\n"
     ]
    },
    {
     "name": "stderr",
     "output_type": "stream",
     "text": [
      "\n"
     ]
    },
    {
     "name": "stdout",
     "output_type": "stream",
     "text": [
      "Passage 2\n",
      "Iteration 1\n"
     ]
    },
    {
     "name": "stderr",
     "output_type": "stream",
     "text": [
      "100%|████████████████████████████████████████████████████████████| 43/43 [00:00<00:00, 48043.44it/s]"
     ]
    },
    {
     "name": "stdout",
     "output_type": "stream",
     "text": [
      "Iteration 2\n"
     ]
    },
    {
     "name": "stderr",
     "output_type": "stream",
     "text": [
      "\n",
      "100%|████████████████████████████████████████████████████████████| 43/43 [00:00<00:00, 68969.43it/s]"
     ]
    },
    {
     "name": "stdout",
     "output_type": "stream",
     "text": [
      "Iteration 3\n"
     ]
    },
    {
     "name": "stderr",
     "output_type": "stream",
     "text": [
      "\n",
      "100%|████████████████████████████████████████████████████████████| 43/43 [00:00<00:00, 66039.94it/s]"
     ]
    },
    {
     "name": "stdout",
     "output_type": "stream",
     "text": [
      "Constructing new graph\n",
      "There are 25 communities after passage 2\n",
      "Passage 3\n",
      "Iteration 1\n"
     ]
    },
    {
     "name": "stderr",
     "output_type": "stream",
     "text": [
      "\n",
      "100%|███████████████████████████████████████████████████████████| 25/25 [00:00<00:00, 128817.69it/s]"
     ]
    },
    {
     "name": "stdout",
     "output_type": "stream",
     "text": [
      "Iteration 2\n"
     ]
    },
    {
     "name": "stderr",
     "output_type": "stream",
     "text": [
      "\n",
      "100%|███████████████████████████████████████████████████████████| 25/25 [00:00<00:00, 155806.24it/s]"
     ]
    },
    {
     "name": "stdout",
     "output_type": "stream",
     "text": [
      "Constructing new graph\n",
      "There are 20 communities after passage 3\n",
      "\n",
      "\n"
     ]
    },
    {
     "name": "stderr",
     "output_type": "stream",
     "text": [
      "\n"
     ]
    }
   ],
   "source": [
    "results = {}\n",
    "for name, G in nx_graphs.items():\n",
    "    print(f\"Louvain on {name}\")\n",
    "    data = louvain(G, 3)\n",
    "    results[name] = data\n",
    "    print(f\"\\n\")"
   ]
  },
  {
   "cell_type": "markdown",
   "id": "52f0c676-52fe-4807-b88c-e6218fdd6139",
   "metadata": {},
   "source": [
    "## Export and save label communities of each node (for Gephi)"
   ]
  },
  {
   "cell_type": "code",
   "execution_count": 23,
   "id": "fa51ae65",
   "metadata": {},
   "outputs": [],
   "source": [
    "Path.mkdir(Path(\"analysis\"), exist_ok=True)\n",
    "\n",
    "# Get the label communities for the nodes for each passage\n",
    "for name, result in results.items():\n",
    "    intermediate_results = []\n",
    "\n",
    "    for i in range(len(result)-1, -1, -1):\n",
    "        if i == 0:\n",
    "            break\n",
    "        curr = result[i]\n",
    "        prev = result[i-1]\n",
    "        intermediate_result =  {node: curr[val] for node, val in prev.items()}\n",
    "        intermediate_results.append(intermediate_result)\n",
    "    \n",
    "    try:\n",
    "        commu = intermediate_results[-1]\n",
    "    # If we run only for one passage\n",
    "    except IndexError:\n",
    "        commu = result[0]\n",
    "\n",
    "    communities_df = pd.DataFrame(commu.items(), columns=['Id', 'Community'])\n",
    "    communities_df[\"Label\"] = communities_df[\"Id\"].map(lambda x: x)\n",
    "    communities_df[\"Is_author\"] = False\n",
    "\n",
    "    communities_df.loc[communities_df['Id'].isin(edgelists[name]['Target'].unique()), \"Is_author\"] = True\n",
    "\n",
    "    communities_df.to_csv(f\"analysis/communities_{name}.csv\", index=False)"
   ]
  },
  {
   "cell_type": "markdown",
   "id": "ca73153c-14b9-4f30-88c7-e59222ce0e88",
   "metadata": {},
   "source": [
    "## Comparison between our implementation and the one from NetworkX"
   ]
  },
  {
   "cell_type": "code",
   "execution_count": 8,
   "id": "213a5f6b",
   "metadata": {},
   "outputs": [
    {
     "name": "stdout",
     "output_type": "stream",
     "text": [
      "Graph of 163592 nodes\n",
      "After first passage: 73 communities\n",
      "Time for NetworkX: 3.528716627999529\n",
      "Louvain on edgelists_any_sample_w_data\n",
      "Passage 1\n",
      "Iteration 1\n"
     ]
    },
    {
     "name": "stderr",
     "output_type": "stream",
     "text": [
      "100%|███████████████████████████████████████████████████| 163592/163592 [00:01<00:00, 113158.75it/s]"
     ]
    },
    {
     "name": "stdout",
     "output_type": "stream",
     "text": [
      "Iteration 2\n"
     ]
    },
    {
     "name": "stderr",
     "output_type": "stream",
     "text": [
      "\n",
      "100%|███████████████████████████████████████████████████| 163592/163592 [00:01<00:00, 133068.56it/s]"
     ]
    },
    {
     "name": "stdout",
     "output_type": "stream",
     "text": [
      "Iteration 3\n"
     ]
    },
    {
     "name": "stderr",
     "output_type": "stream",
     "text": [
      "\n",
      "100%|███████████████████████████████████████████████████| 163592/163592 [00:01<00:00, 132060.36it/s]"
     ]
    },
    {
     "name": "stdout",
     "output_type": "stream",
     "text": [
      "Constructing new graph\n"
     ]
    },
    {
     "name": "stderr",
     "output_type": "stream",
     "text": [
      "\n"
     ]
    },
    {
     "name": "stdout",
     "output_type": "stream",
     "text": [
      "There are 73 communities after passage 1\n",
      "Time for our implementation: 6.425920038000186\n",
      "Graph of 256439 nodes\n",
      "After first passage: 43 communities\n",
      "Time for NetworkX: 6.0250316310002745\n",
      "Louvain on edgelists_liking_sample\n",
      "Passage 1\n",
      "Iteration 1\n"
     ]
    },
    {
     "name": "stderr",
     "output_type": "stream",
     "text": [
      "100%|███████████████████████████████████████████████████| 256439/256439 [00:02<00:00, 109575.44it/s]"
     ]
    },
    {
     "name": "stdout",
     "output_type": "stream",
     "text": [
      "Iteration 2\n"
     ]
    },
    {
     "name": "stderr",
     "output_type": "stream",
     "text": [
      "\n",
      "100%|███████████████████████████████████████████████████| 256439/256439 [00:02<00:00, 126866.88it/s]"
     ]
    },
    {
     "name": "stdout",
     "output_type": "stream",
     "text": [
      "Iteration 3\n"
     ]
    },
    {
     "name": "stderr",
     "output_type": "stream",
     "text": [
      "\n",
      "100%|███████████████████████████████████████████████████| 256439/256439 [00:02<00:00, 128064.50it/s]"
     ]
    },
    {
     "name": "stdout",
     "output_type": "stream",
     "text": [
      "Constructing new graph\n"
     ]
    },
    {
     "name": "stderr",
     "output_type": "stream",
     "text": [
      "\n"
     ]
    },
    {
     "name": "stdout",
     "output_type": "stream",
     "text": [
      "There are 41 communities after passage 1\n",
      "Time for our implementation: 12.809249095000268\n",
      "Graph of 267478 nodes\n",
      "After first passage: 43 communities\n",
      "Time for NetworkX: 6.219644766000783\n",
      "Louvain on edgelists_any_sample\n",
      "Passage 1\n",
      "Iteration 1\n"
     ]
    },
    {
     "name": "stderr",
     "output_type": "stream",
     "text": [
      "100%|███████████████████████████████████████████████████| 267478/267478 [00:02<00:00, 108692.07it/s]"
     ]
    },
    {
     "name": "stdout",
     "output_type": "stream",
     "text": [
      "Iteration 2\n"
     ]
    },
    {
     "name": "stderr",
     "output_type": "stream",
     "text": [
      "\n",
      "100%|███████████████████████████████████████████████████| 267478/267478 [00:02<00:00, 127736.29it/s]"
     ]
    },
    {
     "name": "stdout",
     "output_type": "stream",
     "text": [
      "Iteration 3\n"
     ]
    },
    {
     "name": "stderr",
     "output_type": "stream",
     "text": [
      "\n",
      "100%|███████████████████████████████████████████████████| 267478/267478 [00:02<00:00, 128539.43it/s]"
     ]
    },
    {
     "name": "stdout",
     "output_type": "stream",
     "text": [
      "Constructing new graph\n"
     ]
    },
    {
     "name": "stderr",
     "output_type": "stream",
     "text": [
      "\n"
     ]
    },
    {
     "name": "stdout",
     "output_type": "stream",
     "text": [
      "There are 43 communities after passage 1\n",
      "Time for our implementation: 10.877268750999974\n",
      "Graph of 44405 nodes\n",
      "After first passage: 43 communities\n",
      "Time for NetworkX: 0.866604410999571\n",
      "Louvain on edgelists_retweeters_sample\n",
      "Passage 1\n",
      "Iteration 1\n"
     ]
    },
    {
     "name": "stderr",
     "output_type": "stream",
     "text": [
      "100%|█████████████████████████████████████████████████████| 44405/44405 [00:00<00:00, 114749.78it/s]"
     ]
    },
    {
     "name": "stdout",
     "output_type": "stream",
     "text": [
      "Iteration 2\n"
     ]
    },
    {
     "name": "stderr",
     "output_type": "stream",
     "text": [
      "\n",
      "100%|█████████████████████████████████████████████████████| 44405/44405 [00:00<00:00, 135066.80it/s]"
     ]
    },
    {
     "name": "stdout",
     "output_type": "stream",
     "text": [
      "Iteration 3\n"
     ]
    },
    {
     "name": "stderr",
     "output_type": "stream",
     "text": [
      "\n",
      "100%|█████████████████████████████████████████████████████| 44405/44405 [00:00<00:00, 136491.57it/s]"
     ]
    },
    {
     "name": "stdout",
     "output_type": "stream",
     "text": [
      "Iteration 4\n"
     ]
    },
    {
     "name": "stderr",
     "output_type": "stream",
     "text": [
      "\n",
      "100%|█████████████████████████████████████████████████████| 44405/44405 [00:00<00:00, 136368.95it/s]"
     ]
    },
    {
     "name": "stdout",
     "output_type": "stream",
     "text": [
      "Constructing new graph\n"
     ]
    },
    {
     "name": "stderr",
     "output_type": "stream",
     "text": [
      "\n"
     ]
    },
    {
     "name": "stdout",
     "output_type": "stream",
     "text": [
      "There are 43 communities after passage 1\n",
      "Time for our implementation: 1.827064564000466\n"
     ]
    }
   ],
   "source": [
    "results = {}\n",
    "for name, G in nx_graphs.items():\n",
    "    print(f\"Graph of {len(G.nodes)} nodes\")\n",
    "    \n",
    "    start_net = perf_counter()\n",
    "    louvain_nx = community.louvain_partitions(G)\n",
    "    first = next(louvain_nx)\n",
    "    stop_net = perf_counter()\n",
    "    print(f\"After first passage: {len(first)} communities\")\n",
    "    # second = next(louvain_nx)\n",
    "    # print(f\"After second passage: {len(second)} communities\")\n",
    "    # third = next(louvain_nx)\n",
    "    # print(f\"After third passage: {len(third)} communities\")\n",
    "    print(f\"Time for NetworkX: {stop_net - start_net}\")\n",
    "    \n",
    "    start_our = perf_counter()\n",
    "    print(f\"Louvain on {name}\")\n",
    "    data = louvain(G, 1)\n",
    "    stop_our = perf_counter()\n",
    "    print(f\"Time for our implementation: {stop_our - start_our}\")\n",
    "    results[name] = data"
   ]
  },
  {
   "cell_type": "code",
   "execution_count": null,
   "id": "6921534f-9fe6-4b47-be1e-38688abfdc41",
   "metadata": {},
   "outputs": [],
   "source": []
  }
 ],
 "metadata": {
  "interpreter": {
   "hash": "e17df53156a1cd5dcd810416833fc7bc2978cb4c660ed625567caafd9f935baa"
  },
  "kernelspec": {
   "display_name": "Python 3 (ipykernel)",
   "language": "python",
   "name": "python3"
  },
  "language_info": {
   "codemirror_mode": {
    "name": "ipython",
    "version": 3
   },
   "file_extension": ".py",
   "mimetype": "text/x-python",
   "name": "python",
   "nbconvert_exporter": "python",
   "pygments_lexer": "ipython3",
   "version": "3.8.10"
  }
 },
 "nbformat": 4,
 "nbformat_minor": 5
}
