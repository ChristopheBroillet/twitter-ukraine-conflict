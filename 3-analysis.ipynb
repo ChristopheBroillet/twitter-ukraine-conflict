{
 "cells": [
  {
   "cell_type": "markdown",
   "id": "9f3231ef-c5f9-4da3-b4cb-8e3f78739026",
   "metadata": {},
   "source": [
    "# Network component analysis"
   ]
  },
  {
   "cell_type": "code",
   "execution_count": 1,
   "id": "4c6a6bbe-959d-458d-b1f8-7c38d8b7f489",
   "metadata": {},
   "outputs": [],
   "source": [
    "import pandas as pd\n",
    "from pathlib import Path\n",
    "import networkx as nx\n",
    "from networkx.algorithms import community\n",
    "from tqdm import tqdm\n",
    "import copy\n",
    "from time import perf_counter\n",
    "import matplotlib.pyplot as plt\n",
    "from dotenv import load_dotenv\n",
    "load_dotenv(\"./.env.local\")\n",
    "import os\n",
    "BEARER_TOKEN = os.getenv(\"BEARER_TOKEN\")\n",
    "import tweepy\n",
    "client = tweepy.Client(BEARER_TOKEN, wait_on_rate_limit=True)"
   ]
  },
  {
   "cell_type": "markdown",
   "id": "134a5d31-81e3-458a-b5ab-b106b6809701",
   "metadata": {},
   "source": [
    "## Load the data and create NetworkX graphs"
   ]
  },
  {
   "cell_type": "code",
   "execution_count": 3,
   "id": "e40a848a",
   "metadata": {},
   "outputs": [],
   "source": [
    "edgelists = {}\n",
    "nx_graphs = {}\n",
    "\n",
    "for file in Path(\"edgelistsFull\").iterdir():\n",
    "    tmp_edgelist = pd.read_csv(file)\n",
    "    edgelists[file.stem] = tmp_edgelist\n",
    "\n",
    "    tmp_nx_graph = nx.from_pandas_edgelist(tmp_edgelist, source='Source', target='Target', create_using=nx.Graph())\n",
    "    # Ensure that graphs have a 'weight' edge attribute\n",
    "    nx.set_edge_attributes(tmp_nx_graph, 1, 'weight')\n",
    "    nx_graphs[file.stem] = tmp_nx_graph"
   ]
  },
  {
   "cell_type": "markdown",
   "id": "c0af5224-4e3c-4d76-a554-8fdca1e18956",
   "metadata": {},
   "source": [
    "## Our Louvain implementation"
   ]
  },
  {
   "cell_type": "code",
   "execution_count": 4,
   "id": "760c50ae-def8-483b-95f5-ee7d247ace32",
   "metadata": {},
   "outputs": [],
   "source": [
    "# Louvain implementation\n",
    "def louvain(G, npassage):\n",
    "    # Will contain the graph and the communities after each passage\n",
    "    data = {}\n",
    "    for i in range(0, npassage):\n",
    "        print(f\"Passage {i+1}\", flush=True)\n",
    "        G, communities, get_community = louvain_step(G, i==0)\n",
    "        data[i] = get_community\n",
    "        print(f\"There are {len(communities)} communities after passage {i+1}\", flush=True)\n",
    "    return data\n",
    "\n",
    "\n",
    "def louvain_step(G, is_first_passage):\n",
    "    # Step 1: Initialization, start with each node being a single community\n",
    "    communities = {idx: set([node]) for idx, node in enumerate(G.nodes)}\n",
    "    # To get direct access to the community (it speeds up a bit the algorithm)\n",
    "    get_community = {node: idx for idx, node in enumerate(G.nodes)}\n",
    "    # Used in the modularity computation\n",
    "    neighbors_sets = {node: set(G.neighbors(node)) for node in G.nodes}\n",
    "    m = len(G.edges)\n",
    "\n",
    "    # Sum the weights of the incident edges for all nodes inside a community, for all communities\n",
    "    # Separate first passage and other ones to speed up the algorithm\n",
    "    if is_first_passage:\n",
    "        sum_communities = {idx: sum(dict(G.degree(community)).values()) for idx, community in communities.items()}\n",
    "    else:\n",
    "        sum_communities = {idx: sum(dict(G.degree(community, 'weight')).values()) for idx, community in communities.items()}\n",
    "\n",
    "    prev_communities = {}\n",
    "    i = 0\n",
    "    # While there are changes in the communities, make another iteration\n",
    "    while(communities != prev_communities):\n",
    "        print(f\"Iteration {i+1}\", flush=True)\n",
    "        # Deepcopy to have a new object with a new reference\n",
    "        # Otherwise comparison in while is always True\n",
    "        prev_communities = copy.deepcopy(communities)\n",
    "        \n",
    "        for node in tqdm(G.nodes):\n",
    "            # Step 2: Remove node from its community\n",
    "            neighboring_communities = get_neighboring_communities(G, node, get_community)\n",
    "            if neighboring_communities == set():\n",
    "                continue\n",
    "            belong_to = get_community[node]\n",
    "            communities[belong_to].remove(node)\n",
    "            sum_communities[belong_to] -= G.degree(node, 'weight')\n",
    "            if communities[belong_to] == set():\n",
    "                del communities[belong_to]\n",
    "                del sum_communities[belong_to]\n",
    "\n",
    "            # Step 3: Insert the node in the community that maximizes the modularity\n",
    "            scores = [\n",
    "                (neighbor_community, modularity_gain(G, node, communities[neighbor_community], sum_communities[neighbor_community], neighbors_sets[node], m, is_first_passage))\n",
    "                for neighbor_community in neighboring_communities\n",
    "            ]\n",
    "            best_community, best_score = max(scores, key=lambda x: x[1])\n",
    "            communities[best_community].add(node)\n",
    "            get_community[node] = best_community\n",
    "            sum_communities[best_community] += G.degree(node, 'weight')\n",
    "          \n",
    "        i += 1\n",
    "\n",
    "    # Step 4: Update the graph\n",
    "    if is_first_passage:\n",
    "        return get_new_graph(G, communities, sum_communities, get_community), communities, get_community\n",
    "    return get_new_graph(G, communities, sum_communities, get_community), communities, get_community\n",
    "\n",
    "\n",
    "def get_neighboring_communities(G, node, get_community):\n",
    "    # Use a set to make sure a community only appear once\n",
    "    neighboring_communities = set()\n",
    "    for neighbor in G.neighbors(node):\n",
    "        if neighbor == node: continue\n",
    "        neighboring_communities.add(get_community[neighbor])\n",
    "    return neighboring_communities\n",
    "\n",
    "\n",
    "def modularity_gain(G, node, community, sum_community, neighbor_set, m, is_first_passage):\n",
    "    # Separate first passage and other ones to speed up the algorithm\n",
    "    if is_first_passage:\n",
    "        # Sum the weights of the edges from node into community nodes\n",
    "        # Using sets allow to use intersection()\n",
    "        sum_weights_node = len(neighbor_set.intersection(community))\n",
    "        right_member = (sum_community * G.degree[node]) / (2 * (m**2))\n",
    "    else:\n",
    "        # Sum the weights of the edges from node into community nodes\n",
    "        sum_weights_node = sum([G.get_edge_data(node, member)['weight'] for member in G.neighbors(node) if member in community])\n",
    "        right_member = (sum_community * G.degree(node, 'weight')) / (2 * (m**2))\n",
    "    # Compute modularity\n",
    "    left_member = sum_weights_node / (2 * m)\n",
    "    return left_member - right_member\n",
    "\n",
    "\n",
    "def get_new_graph(old_G, communities, sum_communities, get_community):\n",
    "    print(\"Constructing new graph\", flush=True)\n",
    "    G = nx.Graph()\n",
    "    G.add_nodes_from(communities.keys())\n",
    "    for community in communities:\n",
    "        G.add_edge(community, community, weight=sum_communities[community])\n",
    "\n",
    "    for source, dest, weight_dict in old_G.edges(data=True):\n",
    "        community1 = get_community[source]\n",
    "        community2 = get_community[dest]\n",
    "        # If edge not exist, weight initialized at 0\n",
    "        current_weight = G.get_edge_data(community1, community2, {'weight': 0})['weight']\n",
    "        new_weight = current_weight + weight_dict['weight']\n",
    "        G.add_edge(community1, community2, weight=new_weight)\n",
    "    return G"
   ]
  },
  {
   "cell_type": "markdown",
   "id": "05d1dac5-97e3-4f58-9bf3-db38296a4812",
   "metadata": {},
   "source": [
    "## Run our Louvain on the graphs"
   ]
  },
  {
   "cell_type": "code",
   "execution_count": 5,
   "id": "4bf96aed-55b5-4327-8139-f47ab7f07b92",
   "metadata": {},
   "outputs": [
    {
     "name": "stdout",
     "output_type": "stream",
     "text": [
      "Louvain on edgelists_any\n",
      "Passage 1\n",
      "Iteration 1\n"
     ]
    },
    {
     "name": "stderr",
     "output_type": "stream",
     "text": [
      "100%|██████████| 2790330/2790330 [00:51<00:00, 54604.53it/s]"
     ]
    },
    {
     "name": "stdout",
     "output_type": "stream",
     "text": [
      "Iteration 2\n"
     ]
    },
    {
     "name": "stderr",
     "output_type": "stream",
     "text": [
      "\n",
      "100%|██████████| 2790330/2790330 [00:46<00:00, 59730.01it/s]"
     ]
    },
    {
     "name": "stdout",
     "output_type": "stream",
     "text": [
      "Iteration 3\n"
     ]
    },
    {
     "name": "stderr",
     "output_type": "stream",
     "text": [
      "\n",
      "100%|██████████| 2790330/2790330 [00:44<00:00, 62137.09it/s]"
     ]
    },
    {
     "name": "stdout",
     "output_type": "stream",
     "text": [
      "Iteration 4\n"
     ]
    },
    {
     "name": "stderr",
     "output_type": "stream",
     "text": [
      "\n",
      "100%|██████████| 2790330/2790330 [00:45<00:00, 60797.15it/s]"
     ]
    },
    {
     "name": "stdout",
     "output_type": "stream",
     "text": [
      "Iteration 5\n"
     ]
    },
    {
     "name": "stderr",
     "output_type": "stream",
     "text": [
      "\n",
      "100%|██████████| 2790330/2790330 [00:45<00:00, 60739.98it/s]"
     ]
    },
    {
     "name": "stdout",
     "output_type": "stream",
     "text": [
      "Iteration 6\n"
     ]
    },
    {
     "name": "stderr",
     "output_type": "stream",
     "text": [
      "\n",
      "100%|██████████| 2790330/2790330 [00:45<00:00, 60767.75it/s]\n"
     ]
    },
    {
     "name": "stdout",
     "output_type": "stream",
     "text": [
      "Iteration 7\n"
     ]
    },
    {
     "name": "stderr",
     "output_type": "stream",
     "text": [
      "100%|██████████| 2790330/2790330 [00:48<00:00, 57249.51it/s]\n"
     ]
    },
    {
     "name": "stdout",
     "output_type": "stream",
     "text": [
      "Iteration 8\n"
     ]
    },
    {
     "name": "stderr",
     "output_type": "stream",
     "text": [
      "100%|██████████| 2790330/2790330 [00:54<00:00, 51613.38it/s]\n"
     ]
    },
    {
     "name": "stdout",
     "output_type": "stream",
     "text": [
      "Constructing new graph\n",
      "There are 769 communities after passage 1\n",
      "Passage 2\n",
      "Iteration 1\n"
     ]
    },
    {
     "name": "stderr",
     "output_type": "stream",
     "text": [
      "100%|██████████| 769/769 [00:01<00:00, 427.70it/s]"
     ]
    },
    {
     "name": "stdout",
     "output_type": "stream",
     "text": [
      "Iteration 2\n"
     ]
    },
    {
     "name": "stderr",
     "output_type": "stream",
     "text": [
      "\n",
      "100%|██████████| 769/769 [00:01<00:00, 461.30it/s]"
     ]
    },
    {
     "name": "stdout",
     "output_type": "stream",
     "text": [
      "Iteration 3\n"
     ]
    },
    {
     "name": "stderr",
     "output_type": "stream",
     "text": [
      "\n",
      "100%|██████████| 769/769 [00:01<00:00, 556.04it/s]"
     ]
    },
    {
     "name": "stdout",
     "output_type": "stream",
     "text": [
      "Iteration 4\n"
     ]
    },
    {
     "name": "stderr",
     "output_type": "stream",
     "text": [
      "\n",
      "100%|██████████| 769/769 [00:01<00:00, 489.19it/s]"
     ]
    },
    {
     "name": "stdout",
     "output_type": "stream",
     "text": [
      "Iteration 5\n"
     ]
    },
    {
     "name": "stderr",
     "output_type": "stream",
     "text": [
      "\n",
      "100%|██████████| 769/769 [00:01<00:00, 625.71it/s]"
     ]
    },
    {
     "name": "stdout",
     "output_type": "stream",
     "text": [
      "Iteration 6\n"
     ]
    },
    {
     "name": "stderr",
     "output_type": "stream",
     "text": [
      "\n",
      "100%|██████████| 769/769 [00:01<00:00, 732.38it/s]"
     ]
    },
    {
     "name": "stdout",
     "output_type": "stream",
     "text": [
      "Iteration 7\n"
     ]
    },
    {
     "name": "stderr",
     "output_type": "stream",
     "text": [
      "\n",
      "100%|██████████| 769/769 [00:01<00:00, 660.65it/s]"
     ]
    },
    {
     "name": "stdout",
     "output_type": "stream",
     "text": [
      "Iteration 8\n"
     ]
    },
    {
     "name": "stderr",
     "output_type": "stream",
     "text": [
      "\n",
      "100%|██████████| 769/769 [00:01<00:00, 753.18it/s] "
     ]
    },
    {
     "name": "stdout",
     "output_type": "stream",
     "text": [
      "Iteration 9\n"
     ]
    },
    {
     "name": "stderr",
     "output_type": "stream",
     "text": [
      "\n",
      "100%|██████████| 769/769 [00:00<00:00, 774.42it/s] "
     ]
    },
    {
     "name": "stdout",
     "output_type": "stream",
     "text": [
      "Iteration 10\n"
     ]
    },
    {
     "name": "stderr",
     "output_type": "stream",
     "text": [
      "\n",
      "100%|██████████| 769/769 [00:00<00:00, 978.38it/s] "
     ]
    },
    {
     "name": "stdout",
     "output_type": "stream",
     "text": [
      "Iteration 11\n"
     ]
    },
    {
     "name": "stderr",
     "output_type": "stream",
     "text": [
      "\n",
      "100%|██████████| 769/769 [00:00<00:00, 1060.70it/s]"
     ]
    },
    {
     "name": "stdout",
     "output_type": "stream",
     "text": [
      "Iteration 12\n"
     ]
    },
    {
     "name": "stderr",
     "output_type": "stream",
     "text": [
      "\n",
      "100%|██████████| 769/769 [00:00<00:00, 852.55it/s] "
     ]
    },
    {
     "name": "stdout",
     "output_type": "stream",
     "text": [
      "Iteration 13\n"
     ]
    },
    {
     "name": "stderr",
     "output_type": "stream",
     "text": [
      "\n",
      "100%|██████████| 769/769 [00:00<00:00, 1149.48it/s]"
     ]
    },
    {
     "name": "stdout",
     "output_type": "stream",
     "text": [
      "Iteration 14\n"
     ]
    },
    {
     "name": "stderr",
     "output_type": "stream",
     "text": [
      "\n",
      "100%|██████████| 769/769 [00:00<00:00, 1385.59it/s]"
     ]
    },
    {
     "name": "stdout",
     "output_type": "stream",
     "text": [
      "Iteration 15\n"
     ]
    },
    {
     "name": "stderr",
     "output_type": "stream",
     "text": [
      "\n",
      "100%|██████████| 769/769 [00:00<00:00, 1403.29it/s]"
     ]
    },
    {
     "name": "stdout",
     "output_type": "stream",
     "text": [
      "Iteration 16\n"
     ]
    },
    {
     "name": "stderr",
     "output_type": "stream",
     "text": [
      "\n",
      "100%|██████████| 769/769 [00:00<00:00, 1493.20it/s]"
     ]
    },
    {
     "name": "stdout",
     "output_type": "stream",
     "text": [
      "Iteration 17\n"
     ]
    },
    {
     "name": "stderr",
     "output_type": "stream",
     "text": [
      "\n",
      "100%|██████████| 769/769 [00:00<00:00, 1504.90it/s]"
     ]
    },
    {
     "name": "stdout",
     "output_type": "stream",
     "text": [
      "Iteration 18\n"
     ]
    },
    {
     "name": "stderr",
     "output_type": "stream",
     "text": [
      "\n",
      "100%|██████████| 769/769 [00:00<00:00, 1612.17it/s]"
     ]
    },
    {
     "name": "stdout",
     "output_type": "stream",
     "text": [
      "Iteration 19\n"
     ]
    },
    {
     "name": "stderr",
     "output_type": "stream",
     "text": [
      "\n",
      "100%|██████████| 769/769 [00:00<00:00, 1675.38it/s]"
     ]
    },
    {
     "name": "stdout",
     "output_type": "stream",
     "text": [
      "Iteration 20\n"
     ]
    },
    {
     "name": "stderr",
     "output_type": "stream",
     "text": [
      "\n",
      "100%|██████████| 769/769 [00:00<00:00, 1701.33it/s]"
     ]
    },
    {
     "name": "stdout",
     "output_type": "stream",
     "text": [
      "Iteration 21\n"
     ]
    },
    {
     "name": "stderr",
     "output_type": "stream",
     "text": [
      "\n",
      "100%|██████████| 769/769 [00:00<00:00, 1705.11it/s]"
     ]
    },
    {
     "name": "stdout",
     "output_type": "stream",
     "text": [
      "Iteration 22\n"
     ]
    },
    {
     "name": "stderr",
     "output_type": "stream",
     "text": [
      "\n",
      "100%|██████████| 769/769 [00:00<00:00, 1853.01it/s]"
     ]
    },
    {
     "name": "stdout",
     "output_type": "stream",
     "text": [
      "Iteration 23\n"
     ]
    },
    {
     "name": "stderr",
     "output_type": "stream",
     "text": [
      "\n",
      "100%|██████████| 769/769 [00:00<00:00, 1835.34it/s]"
     ]
    },
    {
     "name": "stdout",
     "output_type": "stream",
     "text": [
      "Iteration 24\n"
     ]
    },
    {
     "name": "stderr",
     "output_type": "stream",
     "text": [
      "\n",
      "100%|██████████| 769/769 [00:00<00:00, 1951.77it/s]"
     ]
    },
    {
     "name": "stdout",
     "output_type": "stream",
     "text": [
      "Iteration 25\n"
     ]
    },
    {
     "name": "stderr",
     "output_type": "stream",
     "text": [
      "\n",
      "100%|██████████| 769/769 [00:00<00:00, 1937.03it/s]"
     ]
    },
    {
     "name": "stdout",
     "output_type": "stream",
     "text": [
      "Iteration 26\n"
     ]
    },
    {
     "name": "stderr",
     "output_type": "stream",
     "text": [
      "\n",
      "100%|██████████| 769/769 [00:00<00:00, 2034.40it/s]"
     ]
    },
    {
     "name": "stdout",
     "output_type": "stream",
     "text": [
      "Iteration 27\n"
     ]
    },
    {
     "name": "stderr",
     "output_type": "stream",
     "text": [
      "\n",
      "100%|██████████| 769/769 [00:00<00:00, 2018.36it/s]"
     ]
    },
    {
     "name": "stdout",
     "output_type": "stream",
     "text": [
      "Iteration 28\n"
     ]
    },
    {
     "name": "stderr",
     "output_type": "stream",
     "text": [
      "\n",
      "100%|██████████| 769/769 [00:00<00:00, 2067.23it/s]"
     ]
    },
    {
     "name": "stdout",
     "output_type": "stream",
     "text": [
      "Iteration 29\n"
     ]
    },
    {
     "name": "stderr",
     "output_type": "stream",
     "text": [
      "\n",
      "100%|██████████| 769/769 [00:00<00:00, 2124.33it/s]"
     ]
    },
    {
     "name": "stdout",
     "output_type": "stream",
     "text": [
      "Iteration 30\n"
     ]
    },
    {
     "name": "stderr",
     "output_type": "stream",
     "text": [
      "\n",
      "100%|██████████| 769/769 [00:00<00:00, 2166.22it/s]"
     ]
    },
    {
     "name": "stdout",
     "output_type": "stream",
     "text": [
      "Iteration 31\n"
     ]
    },
    {
     "name": "stderr",
     "output_type": "stream",
     "text": [
      "\n",
      "100%|██████████| 769/769 [00:00<00:00, 2261.77it/s]"
     ]
    },
    {
     "name": "stdout",
     "output_type": "stream",
     "text": [
      "Iteration 32\n"
     ]
    },
    {
     "name": "stderr",
     "output_type": "stream",
     "text": [
      "\n",
      "100%|██████████| 769/769 [00:00<00:00, 2302.39it/s]"
     ]
    },
    {
     "name": "stdout",
     "output_type": "stream",
     "text": [
      "Iteration 33\n"
     ]
    },
    {
     "name": "stderr",
     "output_type": "stream",
     "text": [
      "\n",
      "100%|██████████| 769/769 [00:00<00:00, 2403.13it/s]"
     ]
    },
    {
     "name": "stdout",
     "output_type": "stream",
     "text": [
      "Iteration 34\n"
     ]
    },
    {
     "name": "stderr",
     "output_type": "stream",
     "text": [
      "\n",
      "100%|██████████| 769/769 [00:00<00:00, 2388.22it/s]"
     ]
    },
    {
     "name": "stdout",
     "output_type": "stream",
     "text": [
      "Iteration 35\n"
     ]
    },
    {
     "name": "stderr",
     "output_type": "stream",
     "text": [
      "\n",
      "100%|██████████| 769/769 [00:00<00:00, 2456.91it/s]"
     ]
    },
    {
     "name": "stdout",
     "output_type": "stream",
     "text": [
      "Iteration 36\n"
     ]
    },
    {
     "name": "stderr",
     "output_type": "stream",
     "text": [
      "\n",
      "100%|██████████| 769/769 [00:00<00:00, 2670.13it/s]"
     ]
    },
    {
     "name": "stdout",
     "output_type": "stream",
     "text": [
      "Iteration 37\n"
     ]
    },
    {
     "name": "stderr",
     "output_type": "stream",
     "text": [
      "\n",
      "100%|██████████| 769/769 [00:00<00:00, 2796.39it/s]"
     ]
    },
    {
     "name": "stdout",
     "output_type": "stream",
     "text": [
      "Iteration 38\n"
     ]
    },
    {
     "name": "stderr",
     "output_type": "stream",
     "text": [
      "\n",
      "100%|██████████| 769/769 [00:00<00:00, 3003.91it/s]"
     ]
    },
    {
     "name": "stdout",
     "output_type": "stream",
     "text": [
      "Iteration 39\n"
     ]
    },
    {
     "name": "stderr",
     "output_type": "stream",
     "text": [
      "\n",
      "100%|██████████| 769/769 [00:00<00:00, 3177.70it/s]"
     ]
    },
    {
     "name": "stdout",
     "output_type": "stream",
     "text": [
      "Iteration 40\n"
     ]
    },
    {
     "name": "stderr",
     "output_type": "stream",
     "text": [
      "\n",
      "100%|██████████| 769/769 [00:00<00:00, 3190.88it/s]"
     ]
    },
    {
     "name": "stdout",
     "output_type": "stream",
     "text": [
      "Iteration 41\n"
     ]
    },
    {
     "name": "stderr",
     "output_type": "stream",
     "text": [
      "\n",
      "100%|██████████| 769/769 [00:00<00:00, 3527.51it/s]"
     ]
    },
    {
     "name": "stdout",
     "output_type": "stream",
     "text": [
      "Iteration 42\n"
     ]
    },
    {
     "name": "stderr",
     "output_type": "stream",
     "text": [
      "\n",
      "100%|██████████| 769/769 [00:00<00:00, 3751.34it/s]"
     ]
    },
    {
     "name": "stdout",
     "output_type": "stream",
     "text": [
      "Iteration 43\n"
     ]
    },
    {
     "name": "stderr",
     "output_type": "stream",
     "text": [
      "\n",
      "100%|██████████| 769/769 [00:00<00:00, 3560.73it/s]"
     ]
    },
    {
     "name": "stdout",
     "output_type": "stream",
     "text": [
      "Iteration 44\n"
     ]
    },
    {
     "name": "stderr",
     "output_type": "stream",
     "text": [
      "\n",
      "100%|██████████| 769/769 [00:00<00:00, 3432.78it/s]"
     ]
    },
    {
     "name": "stdout",
     "output_type": "stream",
     "text": [
      "Iteration 45\n"
     ]
    },
    {
     "name": "stderr",
     "output_type": "stream",
     "text": [
      "\n",
      "100%|██████████| 769/769 [00:00<00:00, 3088.36it/s]"
     ]
    },
    {
     "name": "stdout",
     "output_type": "stream",
     "text": [
      "Iteration 46\n"
     ]
    },
    {
     "name": "stderr",
     "output_type": "stream",
     "text": [
      "\n",
      "100%|██████████| 769/769 [00:00<00:00, 3715.01it/s]"
     ]
    },
    {
     "name": "stdout",
     "output_type": "stream",
     "text": [
      "Iteration 47\n"
     ]
    },
    {
     "name": "stderr",
     "output_type": "stream",
     "text": [
      "\n",
      "100%|██████████| 769/769 [00:00<00:00, 3300.47it/s]"
     ]
    },
    {
     "name": "stdout",
     "output_type": "stream",
     "text": [
      "Iteration 48\n"
     ]
    },
    {
     "name": "stderr",
     "output_type": "stream",
     "text": [
      "\n",
      "100%|██████████| 769/769 [00:00<00:00, 3300.46it/s]"
     ]
    },
    {
     "name": "stdout",
     "output_type": "stream",
     "text": [
      "Iteration 49\n"
     ]
    },
    {
     "name": "stderr",
     "output_type": "stream",
     "text": [
      "\n",
      "100%|██████████| 769/769 [00:00<00:00, 3825.89it/s]"
     ]
    },
    {
     "name": "stdout",
     "output_type": "stream",
     "text": [
      "Iteration 50\n"
     ]
    },
    {
     "name": "stderr",
     "output_type": "stream",
     "text": [
      "\n",
      "100%|██████████| 769/769 [00:00<00:00, 3864.29it/s]"
     ]
    },
    {
     "name": "stdout",
     "output_type": "stream",
     "text": [
      "Iteration 51\n"
     ]
    },
    {
     "name": "stderr",
     "output_type": "stream",
     "text": [
      "\n",
      "100%|██████████| 769/769 [00:00<00:00, 3923.43it/s]"
     ]
    },
    {
     "name": "stdout",
     "output_type": "stream",
     "text": [
      "Iteration 52\n"
     ]
    },
    {
     "name": "stderr",
     "output_type": "stream",
     "text": [
      "\n",
      "100%|██████████| 769/769 [00:00<00:00, 3864.35it/s]"
     ]
    },
    {
     "name": "stdout",
     "output_type": "stream",
     "text": [
      "Iteration 53\n"
     ]
    },
    {
     "name": "stderr",
     "output_type": "stream",
     "text": [
      "\n",
      "100%|██████████| 769/769 [00:00<00:00, 3864.31it/s]"
     ]
    },
    {
     "name": "stdout",
     "output_type": "stream",
     "text": [
      "Iteration 54\n"
     ]
    },
    {
     "name": "stderr",
     "output_type": "stream",
     "text": [
      "\n",
      "100%|██████████| 769/769 [00:00<00:00, 3864.49it/s]"
     ]
    },
    {
     "name": "stdout",
     "output_type": "stream",
     "text": [
      "Iteration 55\n"
     ]
    },
    {
     "name": "stderr",
     "output_type": "stream",
     "text": [
      "\n",
      "100%|██████████| 769/769 [00:00<00:00, 3644.53it/s]"
     ]
    },
    {
     "name": "stdout",
     "output_type": "stream",
     "text": [
      "Iteration 56\n"
     ]
    },
    {
     "name": "stderr",
     "output_type": "stream",
     "text": [
      "\n",
      "100%|██████████| 769/769 [00:00<00:00, 3751.23it/s]"
     ]
    },
    {
     "name": "stdout",
     "output_type": "stream",
     "text": [
      "Iteration 57\n"
     ]
    },
    {
     "name": "stderr",
     "output_type": "stream",
     "text": [
      "\n",
      "100%|██████████| 769/769 [00:00<00:00, 3593.50it/s]"
     ]
    },
    {
     "name": "stdout",
     "output_type": "stream",
     "text": [
      "Iteration 58\n"
     ]
    },
    {
     "name": "stderr",
     "output_type": "stream",
     "text": [
      "\n",
      "100%|██████████| 769/769 [00:00<00:00, 3543.78it/s]"
     ]
    },
    {
     "name": "stdout",
     "output_type": "stream",
     "text": [
      "Iteration 59\n"
     ]
    },
    {
     "name": "stderr",
     "output_type": "stream",
     "text": [
      "\n",
      "100%|██████████| 769/769 [00:00<00:00, 3479.68it/s]"
     ]
    },
    {
     "name": "stdout",
     "output_type": "stream",
     "text": [
      "Iteration 60\n"
     ]
    },
    {
     "name": "stderr",
     "output_type": "stream",
     "text": [
      "\n",
      "100%|██████████| 769/769 [00:00<00:00, 3204.21it/s]"
     ]
    },
    {
     "name": "stdout",
     "output_type": "stream",
     "text": [
      "Constructing new graph\n"
     ]
    },
    {
     "name": "stderr",
     "output_type": "stream",
     "text": [
      "\n"
     ]
    },
    {
     "name": "stdout",
     "output_type": "stream",
     "text": [
      "There are 124 communities after passage 2\n",
      "\n",
      "\n",
      "Louvain on edgelists_liking\n",
      "Passage 1\n",
      "Iteration 1\n"
     ]
    },
    {
     "name": "stderr",
     "output_type": "stream",
     "text": [
      "100%|██████████| 2668995/2668995 [01:00<00:00, 43811.34it/s]"
     ]
    },
    {
     "name": "stdout",
     "output_type": "stream",
     "text": [
      "Iteration 2\n"
     ]
    },
    {
     "name": "stderr",
     "output_type": "stream",
     "text": [
      "\n",
      "100%|██████████| 2668995/2668995 [00:54<00:00, 48683.37it/s]"
     ]
    },
    {
     "name": "stdout",
     "output_type": "stream",
     "text": [
      "Iteration 3\n"
     ]
    },
    {
     "name": "stderr",
     "output_type": "stream",
     "text": [
      "\n",
      "100%|██████████| 2668995/2668995 [00:54<00:00, 48857.39it/s]"
     ]
    },
    {
     "name": "stdout",
     "output_type": "stream",
     "text": [
      "Iteration 4\n"
     ]
    },
    {
     "name": "stderr",
     "output_type": "stream",
     "text": [
      "\n",
      "100%|██████████| 2668995/2668995 [00:56<00:00, 47531.42it/s]"
     ]
    },
    {
     "name": "stdout",
     "output_type": "stream",
     "text": [
      "Iteration 5\n"
     ]
    },
    {
     "name": "stderr",
     "output_type": "stream",
     "text": [
      "\n",
      "100%|██████████| 2668995/2668995 [00:52<00:00, 50974.02it/s]"
     ]
    },
    {
     "name": "stdout",
     "output_type": "stream",
     "text": [
      "Iteration 6\n"
     ]
    },
    {
     "name": "stderr",
     "output_type": "stream",
     "text": [
      "\n",
      "100%|██████████| 2668995/2668995 [00:52<00:00, 50552.61it/s]"
     ]
    },
    {
     "name": "stdout",
     "output_type": "stream",
     "text": [
      "Iteration 7\n"
     ]
    },
    {
     "name": "stderr",
     "output_type": "stream",
     "text": [
      "\n",
      "100%|██████████| 2668995/2668995 [00:52<00:00, 51324.46it/s]"
     ]
    },
    {
     "name": "stdout",
     "output_type": "stream",
     "text": [
      "Iteration 8\n"
     ]
    },
    {
     "name": "stderr",
     "output_type": "stream",
     "text": [
      "\n",
      "100%|██████████| 2668995/2668995 [00:53<00:00, 49859.72it/s]"
     ]
    },
    {
     "name": "stdout",
     "output_type": "stream",
     "text": [
      "Iteration 9\n"
     ]
    },
    {
     "name": "stderr",
     "output_type": "stream",
     "text": [
      "\n",
      "100%|██████████| 2668995/2668995 [00:55<00:00, 47837.69it/s]"
     ]
    },
    {
     "name": "stdout",
     "output_type": "stream",
     "text": [
      "Iteration 10\n"
     ]
    },
    {
     "name": "stderr",
     "output_type": "stream",
     "text": [
      "\n",
      "100%|██████████| 2668995/2668995 [00:53<00:00, 49480.03it/s]"
     ]
    },
    {
     "name": "stdout",
     "output_type": "stream",
     "text": [
      "Iteration 11\n"
     ]
    },
    {
     "name": "stderr",
     "output_type": "stream",
     "text": [
      "\n",
      "100%|██████████| 2668995/2668995 [00:55<00:00, 48080.39it/s]\n"
     ]
    },
    {
     "name": "stdout",
     "output_type": "stream",
     "text": [
      "Constructing new graph\n",
      "There are 742 communities after passage 1\n",
      "Passage 2\n",
      "Iteration 1\n"
     ]
    },
    {
     "name": "stderr",
     "output_type": "stream",
     "text": [
      "100%|██████████| 742/742 [00:01<00:00, 395.73it/s]"
     ]
    },
    {
     "name": "stdout",
     "output_type": "stream",
     "text": [
      "Iteration 2\n"
     ]
    },
    {
     "name": "stderr",
     "output_type": "stream",
     "text": [
      "\n",
      "100%|██████████| 742/742 [00:01<00:00, 490.09it/s]"
     ]
    },
    {
     "name": "stdout",
     "output_type": "stream",
     "text": [
      "Iteration 3\n"
     ]
    },
    {
     "name": "stderr",
     "output_type": "stream",
     "text": [
      "\n",
      "100%|██████████| 742/742 [00:01<00:00, 565.98it/s]"
     ]
    },
    {
     "name": "stdout",
     "output_type": "stream",
     "text": [
      "Iteration 4\n"
     ]
    },
    {
     "name": "stderr",
     "output_type": "stream",
     "text": [
      "\n",
      "100%|██████████| 742/742 [00:01<00:00, 559.16it/s]"
     ]
    },
    {
     "name": "stdout",
     "output_type": "stream",
     "text": [
      "Iteration 5\n"
     ]
    },
    {
     "name": "stderr",
     "output_type": "stream",
     "text": [
      "\n",
      "100%|██████████| 742/742 [00:01<00:00, 649.74it/s]"
     ]
    },
    {
     "name": "stdout",
     "output_type": "stream",
     "text": [
      "Iteration 6\n"
     ]
    },
    {
     "name": "stderr",
     "output_type": "stream",
     "text": [
      "\n",
      "100%|██████████| 742/742 [00:00<00:00, 754.07it/s]"
     ]
    },
    {
     "name": "stdout",
     "output_type": "stream",
     "text": [
      "Iteration 7\n"
     ]
    },
    {
     "name": "stderr",
     "output_type": "stream",
     "text": [
      "\n",
      "100%|██████████| 742/742 [00:00<00:00, 816.28it/s] "
     ]
    },
    {
     "name": "stdout",
     "output_type": "stream",
     "text": [
      "Iteration 8\n"
     ]
    },
    {
     "name": "stderr",
     "output_type": "stream",
     "text": [
      "\n",
      "100%|██████████| 742/742 [00:00<00:00, 882.28it/s] "
     ]
    },
    {
     "name": "stdout",
     "output_type": "stream",
     "text": [
      "Iteration 9\n"
     ]
    },
    {
     "name": "stderr",
     "output_type": "stream",
     "text": [
      "\n",
      "100%|██████████| 742/742 [00:00<00:00, 1010.90it/s]"
     ]
    },
    {
     "name": "stdout",
     "output_type": "stream",
     "text": [
      "Iteration 10\n"
     ]
    },
    {
     "name": "stderr",
     "output_type": "stream",
     "text": [
      "\n",
      "100%|██████████| 742/742 [00:00<00:00, 1015.05it/s]"
     ]
    },
    {
     "name": "stdout",
     "output_type": "stream",
     "text": [
      "Iteration 11\n"
     ]
    },
    {
     "name": "stderr",
     "output_type": "stream",
     "text": [
      "\n",
      "100%|██████████| 742/742 [00:00<00:00, 1030.56it/s]"
     ]
    },
    {
     "name": "stdout",
     "output_type": "stream",
     "text": [
      "Iteration 12\n"
     ]
    },
    {
     "name": "stderr",
     "output_type": "stream",
     "text": [
      "\n",
      "100%|██████████| 742/742 [00:00<00:00, 1073.81it/s]"
     ]
    },
    {
     "name": "stdout",
     "output_type": "stream",
     "text": [
      "Iteration 13\n"
     ]
    },
    {
     "name": "stderr",
     "output_type": "stream",
     "text": [
      "\n",
      "100%|██████████| 742/742 [00:00<00:00, 1119.16it/s]"
     ]
    },
    {
     "name": "stdout",
     "output_type": "stream",
     "text": [
      "Iteration 14\n"
     ]
    },
    {
     "name": "stderr",
     "output_type": "stream",
     "text": [
      "\n",
      "100%|██████████| 742/742 [00:00<00:00, 1216.39it/s]"
     ]
    },
    {
     "name": "stdout",
     "output_type": "stream",
     "text": [
      "Iteration 15\n"
     ]
    },
    {
     "name": "stderr",
     "output_type": "stream",
     "text": [
      "\n",
      "100%|██████████| 742/742 [00:00<00:00, 1236.67it/s]"
     ]
    },
    {
     "name": "stdout",
     "output_type": "stream",
     "text": [
      "Iteration 16\n"
     ]
    },
    {
     "name": "stderr",
     "output_type": "stream",
     "text": [
      "\n",
      "100%|██████████| 742/742 [00:00<00:00, 1354.02it/s]"
     ]
    },
    {
     "name": "stdout",
     "output_type": "stream",
     "text": [
      "Iteration 17\n"
     ]
    },
    {
     "name": "stderr",
     "output_type": "stream",
     "text": [
      "\n",
      "100%|██████████| 742/742 [00:00<00:00, 1389.53it/s]"
     ]
    },
    {
     "name": "stdout",
     "output_type": "stream",
     "text": [
      "Iteration 18\n"
     ]
    },
    {
     "name": "stderr",
     "output_type": "stream",
     "text": [
      "\n",
      "100%|██████████| 742/742 [00:00<00:00, 1336.94it/s]"
     ]
    },
    {
     "name": "stdout",
     "output_type": "stream",
     "text": [
      "Iteration 19\n"
     ]
    },
    {
     "name": "stderr",
     "output_type": "stream",
     "text": [
      "\n",
      "100%|██████████| 742/742 [00:00<00:00, 1499.00it/s]"
     ]
    },
    {
     "name": "stdout",
     "output_type": "stream",
     "text": [
      "Iteration 20\n"
     ]
    },
    {
     "name": "stderr",
     "output_type": "stream",
     "text": [
      "\n",
      "100%|██████████| 742/742 [00:00<00:00, 1588.88it/s]"
     ]
    },
    {
     "name": "stdout",
     "output_type": "stream",
     "text": [
      "Iteration 21\n"
     ]
    },
    {
     "name": "stderr",
     "output_type": "stream",
     "text": [
      "\n",
      "100%|██████████| 742/742 [00:00<00:00, 1520.49it/s]"
     ]
    },
    {
     "name": "stdout",
     "output_type": "stream",
     "text": [
      "Iteration 22\n"
     ]
    },
    {
     "name": "stderr",
     "output_type": "stream",
     "text": [
      "\n",
      "100%|██████████| 742/742 [00:00<00:00, 1713.63it/s]"
     ]
    },
    {
     "name": "stdout",
     "output_type": "stream",
     "text": [
      "Iteration 23\n"
     ]
    },
    {
     "name": "stderr",
     "output_type": "stream",
     "text": [
      "\n",
      "100%|██████████| 742/742 [00:00<00:00, 1766.67it/s]"
     ]
    },
    {
     "name": "stdout",
     "output_type": "stream",
     "text": [
      "Iteration 24\n"
     ]
    },
    {
     "name": "stderr",
     "output_type": "stream",
     "text": [
      "\n",
      "100%|██████████| 742/742 [00:00<00:00, 1761.06it/s]"
     ]
    },
    {
     "name": "stdout",
     "output_type": "stream",
     "text": [
      "Iteration 25\n"
     ]
    },
    {
     "name": "stderr",
     "output_type": "stream",
     "text": [
      "\n",
      "100%|██████████| 742/742 [00:00<00:00, 1721.58it/s]"
     ]
    },
    {
     "name": "stdout",
     "output_type": "stream",
     "text": [
      "Iteration 26\n"
     ]
    },
    {
     "name": "stderr",
     "output_type": "stream",
     "text": [
      "\n",
      "100%|██████████| 742/742 [00:00<00:00, 1805.37it/s]"
     ]
    },
    {
     "name": "stdout",
     "output_type": "stream",
     "text": [
      "Iteration 27\n"
     ]
    },
    {
     "name": "stderr",
     "output_type": "stream",
     "text": [
      "\n",
      "100%|██████████| 742/742 [00:00<00:00, 1701.83it/s]"
     ]
    },
    {
     "name": "stdout",
     "output_type": "stream",
     "text": [
      "Iteration 28\n"
     ]
    },
    {
     "name": "stderr",
     "output_type": "stream",
     "text": [
      "\n",
      "100%|██████████| 742/742 [00:00<00:00, 1823.10it/s]"
     ]
    },
    {
     "name": "stdout",
     "output_type": "stream",
     "text": [
      "Iteration 29\n"
     ]
    },
    {
     "name": "stderr",
     "output_type": "stream",
     "text": [
      "\n",
      "100%|██████████| 742/742 [00:00<00:00, 1912.36it/s]"
     ]
    },
    {
     "name": "stdout",
     "output_type": "stream",
     "text": [
      "Iteration 30\n"
     ]
    },
    {
     "name": "stderr",
     "output_type": "stream",
     "text": [
      "\n",
      "100%|██████████| 742/742 [00:00<00:00, 1957.76it/s]"
     ]
    },
    {
     "name": "stdout",
     "output_type": "stream",
     "text": [
      "Iteration 31\n"
     ]
    },
    {
     "name": "stderr",
     "output_type": "stream",
     "text": [
      "\n",
      "100%|██████████| 742/742 [00:00<00:00, 2032.88it/s]"
     ]
    },
    {
     "name": "stdout",
     "output_type": "stream",
     "text": [
      "Iteration 32\n"
     ]
    },
    {
     "name": "stderr",
     "output_type": "stream",
     "text": [
      "\n",
      "100%|██████████| 742/742 [00:00<00:00, 1897.69it/s]"
     ]
    },
    {
     "name": "stdout",
     "output_type": "stream",
     "text": [
      "Iteration 33\n"
     ]
    },
    {
     "name": "stderr",
     "output_type": "stream",
     "text": [
      "\n",
      "100%|██████████| 742/742 [00:00<00:00, 1873.73it/s]"
     ]
    },
    {
     "name": "stdout",
     "output_type": "stream",
     "text": [
      "Iteration 34\n"
     ]
    },
    {
     "name": "stderr",
     "output_type": "stream",
     "text": [
      "\n",
      "100%|██████████| 742/742 [00:00<00:00, 2126.09it/s]"
     ]
    },
    {
     "name": "stdout",
     "output_type": "stream",
     "text": [
      "Iteration 35\n"
     ]
    },
    {
     "name": "stderr",
     "output_type": "stream",
     "text": [
      "\n",
      "100%|██████████| 742/742 [00:00<00:00, 1766.66it/s]"
     ]
    },
    {
     "name": "stdout",
     "output_type": "stream",
     "text": [
      "Iteration 36\n"
     ]
    },
    {
     "name": "stderr",
     "output_type": "stream",
     "text": [
      "\n",
      "100%|██████████| 742/742 [00:00<00:00, 1917.34it/s]"
     ]
    },
    {
     "name": "stdout",
     "output_type": "stream",
     "text": [
      "Iteration 37\n"
     ]
    },
    {
     "name": "stderr",
     "output_type": "stream",
     "text": [
      "\n",
      "100%|██████████| 742/742 [00:00<00:00, 1942.42it/s]"
     ]
    },
    {
     "name": "stdout",
     "output_type": "stream",
     "text": [
      "Iteration 38\n"
     ]
    },
    {
     "name": "stderr",
     "output_type": "stream",
     "text": [
      "\n",
      "100%|██████████| 742/742 [00:00<00:00, 1912.37it/s]"
     ]
    },
    {
     "name": "stdout",
     "output_type": "stream",
     "text": [
      "Iteration 39\n"
     ]
    },
    {
     "name": "stderr",
     "output_type": "stream",
     "text": [
      "\n",
      "100%|██████████| 742/742 [00:00<00:00, 1989.29it/s]"
     ]
    },
    {
     "name": "stdout",
     "output_type": "stream",
     "text": [
      "Iteration 40\n"
     ]
    },
    {
     "name": "stderr",
     "output_type": "stream",
     "text": [
      "\n",
      "100%|██████████| 742/742 [00:00<00:00, 1750.01it/s]"
     ]
    },
    {
     "name": "stdout",
     "output_type": "stream",
     "text": [
      "Iteration 41\n"
     ]
    },
    {
     "name": "stderr",
     "output_type": "stream",
     "text": [
      "\n",
      "100%|██████████| 742/742 [00:00<00:00, 1968.18it/s]"
     ]
    },
    {
     "name": "stdout",
     "output_type": "stream",
     "text": [
      "Iteration 42\n"
     ]
    },
    {
     "name": "stderr",
     "output_type": "stream",
     "text": [
      "\n",
      "100%|██████████| 742/742 [00:00<00:00, 2016.31it/s]"
     ]
    },
    {
     "name": "stdout",
     "output_type": "stream",
     "text": [
      "Iteration 43\n"
     ]
    },
    {
     "name": "stderr",
     "output_type": "stream",
     "text": [
      "\n",
      "100%|██████████| 742/742 [00:00<00:00, 2032.89it/s]"
     ]
    },
    {
     "name": "stdout",
     "output_type": "stream",
     "text": [
      "Iteration 44\n"
     ]
    },
    {
     "name": "stderr",
     "output_type": "stream",
     "text": [
      "\n",
      "100%|██████████| 742/742 [00:00<00:00, 1968.17it/s]"
     ]
    },
    {
     "name": "stdout",
     "output_type": "stream",
     "text": [
      "Constructing new graph\n"
     ]
    },
    {
     "name": "stderr",
     "output_type": "stream",
     "text": [
      "\n"
     ]
    },
    {
     "name": "stdout",
     "output_type": "stream",
     "text": [
      "There are 125 communities after passage 2\n",
      "\n",
      "\n",
      "Louvain on edgelists_retweeters\n",
      "Passage 1\n",
      "Iteration 1\n"
     ]
    },
    {
     "name": "stderr",
     "output_type": "stream",
     "text": [
      "100%|██████████| 520383/520383 [00:10<00:00, 48577.08it/s]"
     ]
    },
    {
     "name": "stdout",
     "output_type": "stream",
     "text": [
      "Iteration 2\n"
     ]
    },
    {
     "name": "stderr",
     "output_type": "stream",
     "text": [
      "\n",
      "100%|██████████| 520383/520383 [00:09<00:00, 54765.64it/s]"
     ]
    },
    {
     "name": "stdout",
     "output_type": "stream",
     "text": [
      "Iteration 3\n"
     ]
    },
    {
     "name": "stderr",
     "output_type": "stream",
     "text": [
      "\n",
      "100%|██████████| 520383/520383 [00:09<00:00, 55439.45it/s]"
     ]
    },
    {
     "name": "stdout",
     "output_type": "stream",
     "text": [
      "Iteration 4\n"
     ]
    },
    {
     "name": "stderr",
     "output_type": "stream",
     "text": [
      "\n",
      "100%|██████████| 520383/520383 [00:09<00:00, 55563.48it/s]"
     ]
    },
    {
     "name": "stdout",
     "output_type": "stream",
     "text": [
      "Iteration 5\n"
     ]
    },
    {
     "name": "stderr",
     "output_type": "stream",
     "text": [
      "\n",
      "100%|██████████| 520383/520383 [00:09<00:00, 56099.91it/s]"
     ]
    },
    {
     "name": "stdout",
     "output_type": "stream",
     "text": [
      "Iteration 6\n"
     ]
    },
    {
     "name": "stderr",
     "output_type": "stream",
     "text": [
      "\n",
      "100%|██████████| 520383/520383 [00:09<00:00, 53759.58it/s]"
     ]
    },
    {
     "name": "stdout",
     "output_type": "stream",
     "text": [
      "Iteration 7\n"
     ]
    },
    {
     "name": "stderr",
     "output_type": "stream",
     "text": [
      "\n",
      "100%|██████████| 520383/520383 [00:10<00:00, 49273.85it/s]"
     ]
    },
    {
     "name": "stdout",
     "output_type": "stream",
     "text": [
      "Constructing new graph\n"
     ]
    },
    {
     "name": "stderr",
     "output_type": "stream",
     "text": [
      "\n"
     ]
    },
    {
     "name": "stdout",
     "output_type": "stream",
     "text": [
      "There are 660 communities after passage 1\n",
      "Passage 2\n",
      "Iteration 1\n"
     ]
    },
    {
     "name": "stderr",
     "output_type": "stream",
     "text": [
      "100%|██████████| 660/660 [00:00<00:00, 664.65it/s]"
     ]
    },
    {
     "name": "stdout",
     "output_type": "stream",
     "text": [
      "Iteration 2\n"
     ]
    },
    {
     "name": "stderr",
     "output_type": "stream",
     "text": [
      "\n",
      "100%|██████████| 660/660 [00:00<00:00, 779.22it/s]"
     ]
    },
    {
     "name": "stdout",
     "output_type": "stream",
     "text": [
      "Iteration 3\n"
     ]
    },
    {
     "name": "stderr",
     "output_type": "stream",
     "text": [
      "\n",
      "100%|██████████| 660/660 [00:00<00:00, 866.14it/s] "
     ]
    },
    {
     "name": "stdout",
     "output_type": "stream",
     "text": [
      "Iteration 4\n"
     ]
    },
    {
     "name": "stderr",
     "output_type": "stream",
     "text": [
      "\n",
      "100%|██████████| 660/660 [00:00<00:00, 1137.93it/s]"
     ]
    },
    {
     "name": "stdout",
     "output_type": "stream",
     "text": [
      "Iteration 5\n"
     ]
    },
    {
     "name": "stderr",
     "output_type": "stream",
     "text": [
      "\n",
      "100%|██████████| 660/660 [00:00<00:00, 1363.64it/s]"
     ]
    },
    {
     "name": "stdout",
     "output_type": "stream",
     "text": [
      "Iteration 6\n"
     ]
    },
    {
     "name": "stderr",
     "output_type": "stream",
     "text": [
      "\n",
      "100%|██████████| 660/660 [00:00<00:00, 1327.97it/s]"
     ]
    },
    {
     "name": "stdout",
     "output_type": "stream",
     "text": [
      "Iteration 7\n"
     ]
    },
    {
     "name": "stderr",
     "output_type": "stream",
     "text": [
      "\n",
      "100%|██████████| 660/660 [00:00<00:00, 1506.86it/s]"
     ]
    },
    {
     "name": "stdout",
     "output_type": "stream",
     "text": [
      "Iteration 8\n"
     ]
    },
    {
     "name": "stderr",
     "output_type": "stream",
     "text": [
      "\n",
      "100%|██████████| 660/660 [00:00<00:00, 1739.47it/s]"
     ]
    },
    {
     "name": "stdout",
     "output_type": "stream",
     "text": [
      "Iteration 9\n"
     ]
    },
    {
     "name": "stderr",
     "output_type": "stream",
     "text": [
      "\n",
      "100%|██████████| 660/660 [00:00<00:00, 1896.56it/s]"
     ]
    },
    {
     "name": "stdout",
     "output_type": "stream",
     "text": [
      "Iteration 10\n"
     ]
    },
    {
     "name": "stderr",
     "output_type": "stream",
     "text": [
      "\n",
      "100%|██████████| 660/660 [00:00<00:00, 1859.15it/s]"
     ]
    },
    {
     "name": "stdout",
     "output_type": "stream",
     "text": [
      "Iteration 11\n"
     ]
    },
    {
     "name": "stderr",
     "output_type": "stream",
     "text": [
      "\n",
      "100%|██████████| 660/660 [00:00<00:00, 2049.69it/s]"
     ]
    },
    {
     "name": "stdout",
     "output_type": "stream",
     "text": [
      "Iteration 12\n"
     ]
    },
    {
     "name": "stderr",
     "output_type": "stream",
     "text": [
      "\n",
      "100%|██████████| 660/660 [00:00<00:00, 1935.50it/s]"
     ]
    },
    {
     "name": "stdout",
     "output_type": "stream",
     "text": [
      "Iteration 13\n"
     ]
    },
    {
     "name": "stderr",
     "output_type": "stream",
     "text": [
      "\n",
      "100%|██████████| 660/660 [00:00<00:00, 2108.64it/s]"
     ]
    },
    {
     "name": "stdout",
     "output_type": "stream",
     "text": [
      "Iteration 14\n"
     ]
    },
    {
     "name": "stderr",
     "output_type": "stream",
     "text": [
      "\n",
      "100%|██████████| 660/660 [00:00<00:00, 2101.95it/s]"
     ]
    },
    {
     "name": "stdout",
     "output_type": "stream",
     "text": [
      "Iteration 15\n"
     ]
    },
    {
     "name": "stderr",
     "output_type": "stream",
     "text": [
      "\n",
      "100%|██████████| 660/660 [00:00<00:00, 1875.01it/s]"
     ]
    },
    {
     "name": "stdout",
     "output_type": "stream",
     "text": [
      "Iteration 16\n"
     ]
    },
    {
     "name": "stderr",
     "output_type": "stream",
     "text": [
      "\n",
      "100%|██████████| 660/660 [00:00<00:00, 2171.04it/s]"
     ]
    },
    {
     "name": "stdout",
     "output_type": "stream",
     "text": [
      "Iteration 17\n"
     ]
    },
    {
     "name": "stderr",
     "output_type": "stream",
     "text": [
      "\n",
      "100%|██████████| 660/660 [00:00<00:00, 2214.77it/s]"
     ]
    },
    {
     "name": "stdout",
     "output_type": "stream",
     "text": [
      "Iteration 18\n"
     ]
    },
    {
     "name": "stderr",
     "output_type": "stream",
     "text": [
      "\n",
      "100%|██████████| 660/660 [00:00<00:00, 2252.58it/s]"
     ]
    },
    {
     "name": "stdout",
     "output_type": "stream",
     "text": [
      "Iteration 19\n"
     ]
    },
    {
     "name": "stderr",
     "output_type": "stream",
     "text": [
      "\n",
      "100%|██████████| 660/660 [00:00<00:00, 2082.02it/s]"
     ]
    },
    {
     "name": "stdout",
     "output_type": "stream",
     "text": [
      "Iteration 20\n"
     ]
    },
    {
     "name": "stderr",
     "output_type": "stream",
     "text": [
      "\n",
      "100%|██████████| 660/660 [00:00<00:00, 2068.98it/s]"
     ]
    },
    {
     "name": "stdout",
     "output_type": "stream",
     "text": [
      "Iteration 21\n"
     ]
    },
    {
     "name": "stderr",
     "output_type": "stream",
     "text": [
      "\n",
      "100%|██████████| 660/660 [00:00<00:00, 2283.72it/s]"
     ]
    },
    {
     "name": "stdout",
     "output_type": "stream",
     "text": [
      "Iteration 22\n"
     ]
    },
    {
     "name": "stderr",
     "output_type": "stream",
     "text": [
      "\n",
      "100%|██████████| 660/660 [00:00<00:00, 2391.30it/s]"
     ]
    },
    {
     "name": "stdout",
     "output_type": "stream",
     "text": [
      "Iteration 23\n"
     ]
    },
    {
     "name": "stderr",
     "output_type": "stream",
     "text": [
      "\n",
      "100%|██████████| 660/660 [00:00<00:00, 2323.99it/s]"
     ]
    },
    {
     "name": "stdout",
     "output_type": "stream",
     "text": [
      "Iteration 24\n"
     ]
    },
    {
     "name": "stderr",
     "output_type": "stream",
     "text": [
      "\n",
      "100%|██████████| 660/660 [00:00<00:00, 2260.28it/s]"
     ]
    },
    {
     "name": "stdout",
     "output_type": "stream",
     "text": [
      "Iteration 25\n"
     ]
    },
    {
     "name": "stderr",
     "output_type": "stream",
     "text": [
      "\n",
      "100%|██████████| 660/660 [00:00<00:00, 2332.19it/s]"
     ]
    },
    {
     "name": "stdout",
     "output_type": "stream",
     "text": [
      "Iteration 26\n"
     ]
    },
    {
     "name": "stderr",
     "output_type": "stream",
     "text": [
      "\n",
      "100%|██████████| 660/660 [00:00<00:00, 2088.59it/s]"
     ]
    },
    {
     "name": "stdout",
     "output_type": "stream",
     "text": [
      "Iteration 27\n"
     ]
    },
    {
     "name": "stderr",
     "output_type": "stream",
     "text": [
      "\n",
      "100%|██████████| 660/660 [00:00<00:00, 2268.05it/s]"
     ]
    },
    {
     "name": "stdout",
     "output_type": "stream",
     "text": [
      "Iteration 28\n"
     ]
    },
    {
     "name": "stderr",
     "output_type": "stream",
     "text": [
      "\n",
      "100%|██████████| 660/660 [00:00<00:00, 2275.86it/s]"
     ]
    },
    {
     "name": "stdout",
     "output_type": "stream",
     "text": [
      "Iteration 29\n"
     ]
    },
    {
     "name": "stderr",
     "output_type": "stream",
     "text": [
      "\n",
      "100%|██████████| 660/660 [00:00<00:00, 2332.16it/s]"
     ]
    },
    {
     "name": "stdout",
     "output_type": "stream",
     "text": [
      "Iteration 30\n"
     ]
    },
    {
     "name": "stderr",
     "output_type": "stream",
     "text": [
      "\n",
      "100%|██████████| 660/660 [00:00<00:00, 2365.60it/s]"
     ]
    },
    {
     "name": "stdout",
     "output_type": "stream",
     "text": [
      "Iteration 31\n"
     ]
    },
    {
     "name": "stderr",
     "output_type": "stream",
     "text": [
      "\n",
      "100%|██████████| 660/660 [00:00<00:00, 2538.47it/s]"
     ]
    },
    {
     "name": "stdout",
     "output_type": "stream",
     "text": [
      "Iteration 32\n"
     ]
    },
    {
     "name": "stderr",
     "output_type": "stream",
     "text": [
      "\n",
      "100%|██████████| 660/660 [00:00<00:00, 2357.15it/s]"
     ]
    },
    {
     "name": "stdout",
     "output_type": "stream",
     "text": [
      "Iteration 33\n"
     ]
    },
    {
     "name": "stderr",
     "output_type": "stream",
     "text": [
      "\n",
      "100%|██████████| 660/660 [00:00<00:00, 2444.47it/s]"
     ]
    },
    {
     "name": "stdout",
     "output_type": "stream",
     "text": [
      "Iteration 34\n"
     ]
    },
    {
     "name": "stderr",
     "output_type": "stream",
     "text": [
      "\n",
      "100%|██████████| 660/660 [00:00<00:00, 2307.72it/s]"
     ]
    },
    {
     "name": "stdout",
     "output_type": "stream",
     "text": [
      "Constructing new graph\n",
      "There are 167 communities after passage 2\n",
      "\n",
      "\n"
     ]
    },
    {
     "name": "stderr",
     "output_type": "stream",
     "text": [
      "\n"
     ]
    }
   ],
   "source": [
    "results = {}\n",
    "for name, G in nx_graphs.items():\n",
    "    print(f\"Louvain on {name}\")\n",
    "    data = louvain(G, 2)\n",
    "    results[name] = data\n",
    "    print(f\"\\n\")"
   ]
  },
  {
   "cell_type": "markdown",
   "id": "52f0c676-52fe-4807-b88c-e6218fdd6139",
   "metadata": {},
   "source": [
    "## Export and save label communities of each node (for Gephi)"
   ]
  },
  {
   "cell_type": "code",
   "execution_count": 7,
   "id": "fa51ae65",
   "metadata": {},
   "outputs": [],
   "source": [
    "Path.mkdir(Path(\"analysis\"), exist_ok=True)\n",
    "Path.mkdir(Path(\"analysis/communities\"), exist_ok=True)\n",
    "\n",
    "# Get the label communities for the nodes for each passage\n",
    "for name, result in results.items():\n",
    "    intermediate_results = []\n",
    "\n",
    "    for i in range(len(result)-1, -1, -1):\n",
    "        if i == 0:\n",
    "            break\n",
    "        curr = result[i]\n",
    "        prev = result[i-1]\n",
    "        intermediate_result =  {node: curr[val] for node, val in prev.items()}\n",
    "        intermediate_results.append(intermediate_result)\n",
    "    \n",
    "    try:\n",
    "        commu = intermediate_results[-1]\n",
    "    # If we run only for one passage\n",
    "    except IndexError:\n",
    "        commu = result[0]\n",
    "\n",
    "    communities_df = pd.DataFrame(commu.items(), columns=['Id', 'Community'])\n",
    "    communities_df[\"Label\"] = communities_df[\"Id\"].map(lambda x: x)\n",
    "    communities_df[\"Is_author\"] = False\n",
    "\n",
    "    communities_df.loc[communities_df['Id'].isin(edgelists[name]['Target'].unique()), \"Is_author\"] = True\n",
    "\n",
    "    communities_df.to_csv(f\"analysis/communities/communities_{name}.csv\", index=False)"
   ]
  },
  {
   "cell_type": "markdown",
   "id": "bd06c4d2",
   "metadata": {},
   "source": [
    "## Comparing the 3 results"
   ]
  },
  {
   "cell_type": "code",
   "execution_count": 8,
   "id": "82972a1f",
   "metadata": {},
   "outputs": [],
   "source": [
    "df_results = {\n",
    "    'any': pd.read_csv(\"analysis/communities/communities_edgelists_any.csv\"),\n",
    "    'like': pd.read_csv(\"analysis/communities/communities_edgelists_liking.csv\"),\n",
    "    'retweet': pd.read_csv(\"analysis/communities/communities_edgelists_retweeters.csv\")\n",
    "}"
   ]
  },
  {
   "cell_type": "markdown",
   "id": "a39db09e-ea1e-4fe5-8072-deb6f23fbccc",
   "metadata": {},
   "source": [
    "### Some stats"
   ]
  },
  {
   "cell_type": "code",
   "execution_count": 9,
   "id": "8a56bf67",
   "metadata": {},
   "outputs": [
    {
     "name": "stdout",
     "output_type": "stream",
     "text": [
      "Number of nodes in any: 2790330\n",
      "Number of nodes in like: 2668995\n",
      "Number of nodes in retweet: 520383\n"
     ]
    }
   ],
   "source": [
    "n = {}\n",
    "for name, result in df_results.items():\n",
    "    n[name] = len(result['Id'].unique())\n",
    "    print(f\"Number of nodes in {name}: {n[name]}\")"
   ]
  },
  {
   "cell_type": "code",
   "execution_count": 10,
   "id": "8552fadd-fa35-4514-b545-d77bad0b9a4e",
   "metadata": {},
   "outputs": [
    {
     "name": "stdout",
     "output_type": "stream",
     "text": [
      "any\n",
      "Community\n",
      "626    438050\n",
      "718    373989\n",
      "225    370657\n",
      "462    253171\n",
      "683    243922\n",
      "        ...  \n",
      "54          1\n",
      "715         1\n",
      "133         1\n",
      "711         1\n",
      "768         1\n",
      "Name: Id, Length: 124, dtype: int64\n",
      "\n",
      "\n",
      "like\n",
      "Community\n",
      "698    427486\n",
      "614    364996\n",
      "725    362671\n",
      "655    159337\n",
      "409    121251\n",
      "        ...  \n",
      "391         1\n",
      "468         1\n",
      "479         1\n",
      "534         1\n",
      "741         1\n",
      "Name: Id, Length: 125, dtype: int64\n",
      "\n",
      "\n",
      "retweet\n",
      "Community\n",
      "343    65089\n",
      "612    62918\n",
      "378    41742\n",
      "334    40730\n",
      "66     26667\n",
      "       ...  \n",
      "573        1\n",
      "470        1\n",
      "179        1\n",
      "589        1\n",
      "590        1\n",
      "Name: Id, Length: 167, dtype: int64\n",
      "\n",
      "\n"
     ]
    }
   ],
   "source": [
    "# Number of nodes for each community\n",
    "for name, result in df_results.items():\n",
    "    print(name)\n",
    "    print(result.groupby('Community')[\"Id\"].count().sort_values(ascending=False))\n",
    "    print('\\n')"
   ]
  },
  {
   "cell_type": "code",
   "execution_count": 11,
   "id": "7a4973a8-2f5d-4ab0-a1c4-63a439db13f1",
   "metadata": {},
   "outputs": [
    {
     "name": "stdout",
     "output_type": "stream",
     "text": [
      "any\n",
      "Community\n",
      "626    15.698860\n",
      "718    13.403038\n",
      "225    13.283626\n",
      "462     9.073156\n",
      "683     8.741690\n",
      "471     7.156680\n",
      "758     7.005515\n",
      "396     6.830733\n",
      "637     6.767766\n",
      "216     6.579974\n",
      "349     5.446703\n",
      "520     0.001541\n",
      "253     0.000502\n",
      "12      0.000430\n",
      "746     0.000323\n",
      "Name: Id, dtype: float64\n",
      "\n",
      "\n",
      "like\n",
      "Community\n",
      "698    16.016740\n",
      "614    13.675410\n",
      "725    13.588298\n",
      "655     5.969925\n",
      "409     4.542946\n",
      "597     4.540548\n",
      "577     4.256771\n",
      "178     2.320461\n",
      "395     2.314916\n",
      "681     2.147737\n",
      "110     2.146763\n",
      "547     2.077074\n",
      "365     2.028366\n",
      "303     1.977898\n",
      "412     1.903825\n",
      "Name: Id, dtype: float64\n",
      "\n",
      "\n",
      "retweet\n",
      "Community\n",
      "343    12.507903\n",
      "612    12.090710\n",
      "378     8.021400\n",
      "334     7.826927\n",
      "66      5.124495\n",
      "564     5.124111\n",
      "618     3.199374\n",
      "272     2.835219\n",
      "347     2.211832\n",
      "466     2.170517\n",
      "376     2.085964\n",
      "405     1.639369\n",
      "335     1.528105\n",
      "390     1.518305\n",
      "531     1.512155\n",
      "Name: Id, dtype: float64\n",
      "\n",
      "\n"
     ]
    }
   ],
   "source": [
    "# Percentage of the total nodes\n",
    "# Get the three biggest communities\n",
    "biggest_communities = {}\n",
    "\n",
    "for name, result in df_results.items():\n",
    "    print(name)\n",
    "    df_percent = result.groupby('Community')[\"Id\"].count().sort_values(ascending=False).div(n[name]).mul(100)\n",
    "    print(df_percent[:15])\n",
    "    biggest_communities[name] = list(df_percent[:3].index)\n",
    "    print('\\n')"
   ]
  },
  {
   "cell_type": "markdown",
   "id": "82ebbaa4-5796-45b2-98b6-b2bc5a1cac23",
   "metadata": {},
   "source": [
    "### Plots"
   ]
  },
  {
   "cell_type": "code",
   "execution_count": 12,
   "id": "86aa1cd4-e6fd-4034-a2b4-6092e9da9579",
   "metadata": {},
   "outputs": [
    {
     "name": "stdout",
     "output_type": "stream",
     "text": [
      "any\n"
     ]
    },
    {
     "data": {
      "image/png": "[encoded data removed]",
      "text/plain": [
       "<Figure size 432x288 with 1 Axes>"
      ]
     },
     "metadata": {},
     "output_type": "display_data"
    },
    {
     "name": "stdout",
     "output_type": "stream",
     "text": [
      "like\n"
     ]
    },
    {
     "data": {
      "image/png": "[encoded data removed]",
      "text/plain": [
       "<Figure size 432x288 with 1 Axes>"
      ]
     },
     "metadata": {},
     "output_type": "display_data"
    },
    {
     "name": "stdout",
     "output_type": "stream",
     "text": [
      "retweet\n"
     ]
    },
    {
     "data": {
      "image/png": "[encoded data removed]",
      "text/plain": [
       "<Figure size 432x288 with 1 Axes>"
      ]
     },
     "metadata": {},
     "output_type": "display_data"
    }
   ],
   "source": [
    "# Bar plot of the number of nodes in each community\n",
    "for name, result in df_results.items():\n",
    "    result.groupby('Community')[\"Id\"].count().sort_values(ascending=False).plot(kind='bar')\n",
    "    plt.xticks(color='w')\n",
    "    plt.tick_params(bottom=False)\n",
    "    plt.xlabel(\"Communities sorted by size\", labelpad=-10)\n",
    "    plt.ylabel(\"Number of nodes\")\n",
    "    plt.savefig(f\"analysis/nodes_in_each_community_{name}.pdf\", bbox_inches='tight')\n",
    "    print(name)\n",
    "    plt.show()"
   ]
  },
  {
   "cell_type": "code",
   "execution_count": 13,
   "id": "5bf404ae-5c2b-4770-9104-4d4e5af58d65",
   "metadata": {},
   "outputs": [
    {
     "ename": "FileNotFoundError",
     "evalue": "[Errno 2] No such file or directory: 'analysis\\\\gephistats_any.csv'",
     "output_type": "error",
     "traceback": [
      "\u001b[1;31m---------------------------------------------------------------------------\u001b[0m",
      "\u001b[1;31mFileNotFoundError\u001b[0m                         Traceback (most recent call last)",
      "\u001b[1;32me:\\Users\\Bao\\Documents\\Projects\\twitter-ukraine-conflict\\3-analysis.ipynb Cell 19'\u001b[0m in \u001b[0;36m<cell line: 2>\u001b[1;34m()\u001b[0m\n\u001b[0;32m      <a href='vscode-notebook-cell:/e%3A/Users/Bao/Documents/Projects/twitter-ukraine-conflict/3-analysis.ipynb#ch0000018?line=2'>3</a>\u001b[0m \u001b[39mif\u001b[39;00m name \u001b[39m!=\u001b[39m \u001b[39m\"\u001b[39m\u001b[39many\u001b[39m\u001b[39m\"\u001b[39m: \n\u001b[0;32m      <a href='vscode-notebook-cell:/e%3A/Users/Bao/Documents/Projects/twitter-ukraine-conflict/3-analysis.ipynb#ch0000018?line=3'>4</a>\u001b[0m     \u001b[39mcontinue\u001b[39;00m\n\u001b[1;32m----> <a href='vscode-notebook-cell:/e%3A/Users/Bao/Documents/Projects/twitter-ukraine-conflict/3-analysis.ipynb#ch0000018?line=4'>5</a>\u001b[0m gephi_data \u001b[39m=\u001b[39m pd\u001b[39m.\u001b[39;49mread_csv(Path(\u001b[39m\"\u001b[39;49m\u001b[39manalysis\u001b[39;49m\u001b[39m\"\u001b[39;49m) \u001b[39m/\u001b[39;49m \u001b[39mf\u001b[39;49m\u001b[39m\"\u001b[39;49m\u001b[39mgephistats_\u001b[39;49m\u001b[39m{\u001b[39;49;00mname\u001b[39m}\u001b[39;49;00m\u001b[39m.csv\u001b[39;49m\u001b[39m\"\u001b[39;49m)\n\u001b[0;32m      <a href='vscode-notebook-cell:/e%3A/Users/Bao/Documents/Projects/twitter-ukraine-conflict/3-analysis.ipynb#ch0000018?line=5'>6</a>\u001b[0m points \u001b[39m=\u001b[39m gephi_data\u001b[39m.\u001b[39mgroupby(\u001b[39m'\u001b[39m\u001b[39mDegree\u001b[39m\u001b[39m'\u001b[39m)[\u001b[39m\"\u001b[39m\u001b[39mId\u001b[39m\u001b[39m\"\u001b[39m]\u001b[39m.\u001b[39mcount()\u001b[39m.\u001b[39msort_values(ascending\u001b[39m=\u001b[39m\u001b[39mFalse\u001b[39;00m)\u001b[39m.\u001b[39mdiv(n[\u001b[39m'\u001b[39m\u001b[39many\u001b[39m\u001b[39m'\u001b[39m])\u001b[39m.\u001b[39mto_frame()\u001b[39m.\u001b[39mreset_index()\n\u001b[0;32m      <a href='vscode-notebook-cell:/e%3A/Users/Bao/Documents/Projects/twitter-ukraine-conflict/3-analysis.ipynb#ch0000018?line=6'>7</a>\u001b[0m points\u001b[39m.\u001b[39mplot(x\u001b[39m=\u001b[39m\u001b[39m'\u001b[39m\u001b[39mDegree\u001b[39m\u001b[39m'\u001b[39m, y\u001b[39m=\u001b[39m\u001b[39m'\u001b[39m\u001b[39mId\u001b[39m\u001b[39m'\u001b[39m, kind\u001b[39m=\u001b[39m\u001b[39m'\u001b[39m\u001b[39mscatter\u001b[39m\u001b[39m'\u001b[39m, logx\u001b[39m=\u001b[39m\u001b[39mTrue\u001b[39;00m, logy\u001b[39m=\u001b[39m\u001b[39mTrue\u001b[39;00m, s\u001b[39m=\u001b[39m\u001b[39m3\u001b[39m, c\u001b[39m=\u001b[39m\u001b[39m'\u001b[39m\u001b[39mred\u001b[39m\u001b[39m'\u001b[39m)\n",
      "File \u001b[1;32mc:\\Users\\Bao\\.virtualenvs\\twitter-ukraine-conflict-fVwmQvah\\lib\\site-packages\\pandas\\util\\_decorators.py:311\u001b[0m, in \u001b[0;36mdeprecate_nonkeyword_arguments.<locals>.decorate.<locals>.wrapper\u001b[1;34m(*args, **kwargs)\u001b[0m\n\u001b[0;32m    <a href='file:///c%3A/Users/Bao/.virtualenvs/twitter-ukraine-conflict-fVwmQvah/lib/site-packages/pandas/util/_decorators.py?line=304'>305</a>\u001b[0m \u001b[39mif\u001b[39;00m \u001b[39mlen\u001b[39m(args) \u001b[39m>\u001b[39m num_allow_args:\n\u001b[0;32m    <a href='file:///c%3A/Users/Bao/.virtualenvs/twitter-ukraine-conflict-fVwmQvah/lib/site-packages/pandas/util/_decorators.py?line=305'>306</a>\u001b[0m     warnings\u001b[39m.\u001b[39mwarn(\n\u001b[0;32m    <a href='file:///c%3A/Users/Bao/.virtualenvs/twitter-ukraine-conflict-fVwmQvah/lib/site-packages/pandas/util/_decorators.py?line=306'>307</a>\u001b[0m         msg\u001b[39m.\u001b[39mformat(arguments\u001b[39m=\u001b[39marguments),\n\u001b[0;32m    <a href='file:///c%3A/Users/Bao/.virtualenvs/twitter-ukraine-conflict-fVwmQvah/lib/site-packages/pandas/util/_decorators.py?line=307'>308</a>\u001b[0m         \u001b[39mFutureWarning\u001b[39;00m,\n\u001b[0;32m    <a href='file:///c%3A/Users/Bao/.virtualenvs/twitter-ukraine-conflict-fVwmQvah/lib/site-packages/pandas/util/_decorators.py?line=308'>309</a>\u001b[0m         stacklevel\u001b[39m=\u001b[39mstacklevel,\n\u001b[0;32m    <a href='file:///c%3A/Users/Bao/.virtualenvs/twitter-ukraine-conflict-fVwmQvah/lib/site-packages/pandas/util/_decorators.py?line=309'>310</a>\u001b[0m     )\n\u001b[1;32m--> <a href='file:///c%3A/Users/Bao/.virtualenvs/twitter-ukraine-conflict-fVwmQvah/lib/site-packages/pandas/util/_decorators.py?line=310'>311</a>\u001b[0m \u001b[39mreturn\u001b[39;00m func(\u001b[39m*\u001b[39;49margs, \u001b[39m*\u001b[39;49m\u001b[39m*\u001b[39;49mkwargs)\n",
      "File \u001b[1;32mc:\\Users\\Bao\\.virtualenvs\\twitter-ukraine-conflict-fVwmQvah\\lib\\site-packages\\pandas\\io\\parsers\\readers.py:680\u001b[0m, in \u001b[0;36mread_csv\u001b[1;34m(filepath_or_buffer, sep, delimiter, header, names, index_col, usecols, squeeze, prefix, mangle_dupe_cols, dtype, engine, converters, true_values, false_values, skipinitialspace, skiprows, skipfooter, nrows, na_values, keep_default_na, na_filter, verbose, skip_blank_lines, parse_dates, infer_datetime_format, keep_date_col, date_parser, dayfirst, cache_dates, iterator, chunksize, compression, thousands, decimal, lineterminator, quotechar, quoting, doublequote, escapechar, comment, encoding, encoding_errors, dialect, error_bad_lines, warn_bad_lines, on_bad_lines, delim_whitespace, low_memory, memory_map, float_precision, storage_options)\u001b[0m\n\u001b[0;32m    <a href='file:///c%3A/Users/Bao/.virtualenvs/twitter-ukraine-conflict-fVwmQvah/lib/site-packages/pandas/io/parsers/readers.py?line=664'>665</a>\u001b[0m kwds_defaults \u001b[39m=\u001b[39m _refine_defaults_read(\n\u001b[0;32m    <a href='file:///c%3A/Users/Bao/.virtualenvs/twitter-ukraine-conflict-fVwmQvah/lib/site-packages/pandas/io/parsers/readers.py?line=665'>666</a>\u001b[0m     dialect,\n\u001b[0;32m    <a href='file:///c%3A/Users/Bao/.virtualenvs/twitter-ukraine-conflict-fVwmQvah/lib/site-packages/pandas/io/parsers/readers.py?line=666'>667</a>\u001b[0m     delimiter,\n\u001b[1;32m   (...)\u001b[0m\n\u001b[0;32m    <a href='file:///c%3A/Users/Bao/.virtualenvs/twitter-ukraine-conflict-fVwmQvah/lib/site-packages/pandas/io/parsers/readers.py?line=675'>676</a>\u001b[0m     defaults\u001b[39m=\u001b[39m{\u001b[39m\"\u001b[39m\u001b[39mdelimiter\u001b[39m\u001b[39m\"\u001b[39m: \u001b[39m\"\u001b[39m\u001b[39m,\u001b[39m\u001b[39m\"\u001b[39m},\n\u001b[0;32m    <a href='file:///c%3A/Users/Bao/.virtualenvs/twitter-ukraine-conflict-fVwmQvah/lib/site-packages/pandas/io/parsers/readers.py?line=676'>677</a>\u001b[0m )\n\u001b[0;32m    <a href='file:///c%3A/Users/Bao/.virtualenvs/twitter-ukraine-conflict-fVwmQvah/lib/site-packages/pandas/io/parsers/readers.py?line=677'>678</a>\u001b[0m kwds\u001b[39m.\u001b[39mupdate(kwds_defaults)\n\u001b[1;32m--> <a href='file:///c%3A/Users/Bao/.virtualenvs/twitter-ukraine-conflict-fVwmQvah/lib/site-packages/pandas/io/parsers/readers.py?line=679'>680</a>\u001b[0m \u001b[39mreturn\u001b[39;00m _read(filepath_or_buffer, kwds)\n",
      "File \u001b[1;32mc:\\Users\\Bao\\.virtualenvs\\twitter-ukraine-conflict-fVwmQvah\\lib\\site-packages\\pandas\\io\\parsers\\readers.py:575\u001b[0m, in \u001b[0;36m_read\u001b[1;34m(filepath_or_buffer, kwds)\u001b[0m\n\u001b[0;32m    <a href='file:///c%3A/Users/Bao/.virtualenvs/twitter-ukraine-conflict-fVwmQvah/lib/site-packages/pandas/io/parsers/readers.py?line=571'>572</a>\u001b[0m _validate_names(kwds\u001b[39m.\u001b[39mget(\u001b[39m\"\u001b[39m\u001b[39mnames\u001b[39m\u001b[39m\"\u001b[39m, \u001b[39mNone\u001b[39;00m))\n\u001b[0;32m    <a href='file:///c%3A/Users/Bao/.virtualenvs/twitter-ukraine-conflict-fVwmQvah/lib/site-packages/pandas/io/parsers/readers.py?line=573'>574</a>\u001b[0m \u001b[39m# Create the parser.\u001b[39;00m\n\u001b[1;32m--> <a href='file:///c%3A/Users/Bao/.virtualenvs/twitter-ukraine-conflict-fVwmQvah/lib/site-packages/pandas/io/parsers/readers.py?line=574'>575</a>\u001b[0m parser \u001b[39m=\u001b[39m TextFileReader(filepath_or_buffer, \u001b[39m*\u001b[39;49m\u001b[39m*\u001b[39;49mkwds)\n\u001b[0;32m    <a href='file:///c%3A/Users/Bao/.virtualenvs/twitter-ukraine-conflict-fVwmQvah/lib/site-packages/pandas/io/parsers/readers.py?line=576'>577</a>\u001b[0m \u001b[39mif\u001b[39;00m chunksize \u001b[39mor\u001b[39;00m iterator:\n\u001b[0;32m    <a href='file:///c%3A/Users/Bao/.virtualenvs/twitter-ukraine-conflict-fVwmQvah/lib/site-packages/pandas/io/parsers/readers.py?line=577'>578</a>\u001b[0m     \u001b[39mreturn\u001b[39;00m parser\n",
      "File \u001b[1;32mc:\\Users\\Bao\\.virtualenvs\\twitter-ukraine-conflict-fVwmQvah\\lib\\site-packages\\pandas\\io\\parsers\\readers.py:933\u001b[0m, in \u001b[0;36mTextFileReader.__init__\u001b[1;34m(self, f, engine, **kwds)\u001b[0m\n\u001b[0;32m    <a href='file:///c%3A/Users/Bao/.virtualenvs/twitter-ukraine-conflict-fVwmQvah/lib/site-packages/pandas/io/parsers/readers.py?line=929'>930</a>\u001b[0m     \u001b[39mself\u001b[39m\u001b[39m.\u001b[39moptions[\u001b[39m\"\u001b[39m\u001b[39mhas_index_names\u001b[39m\u001b[39m\"\u001b[39m] \u001b[39m=\u001b[39m kwds[\u001b[39m\"\u001b[39m\u001b[39mhas_index_names\u001b[39m\u001b[39m\"\u001b[39m]\n\u001b[0;32m    <a href='file:///c%3A/Users/Bao/.virtualenvs/twitter-ukraine-conflict-fVwmQvah/lib/site-packages/pandas/io/parsers/readers.py?line=931'>932</a>\u001b[0m \u001b[39mself\u001b[39m\u001b[39m.\u001b[39mhandles: IOHandles \u001b[39m|\u001b[39m \u001b[39mNone\u001b[39;00m \u001b[39m=\u001b[39m \u001b[39mNone\u001b[39;00m\n\u001b[1;32m--> <a href='file:///c%3A/Users/Bao/.virtualenvs/twitter-ukraine-conflict-fVwmQvah/lib/site-packages/pandas/io/parsers/readers.py?line=932'>933</a>\u001b[0m \u001b[39mself\u001b[39m\u001b[39m.\u001b[39m_engine \u001b[39m=\u001b[39m \u001b[39mself\u001b[39;49m\u001b[39m.\u001b[39;49m_make_engine(f, \u001b[39mself\u001b[39;49m\u001b[39m.\u001b[39;49mengine)\n",
      "File \u001b[1;32mc:\\Users\\Bao\\.virtualenvs\\twitter-ukraine-conflict-fVwmQvah\\lib\\site-packages\\pandas\\io\\parsers\\readers.py:1217\u001b[0m, in \u001b[0;36mTextFileReader._make_engine\u001b[1;34m(self, f, engine)\u001b[0m\n\u001b[0;32m   <a href='file:///c%3A/Users/Bao/.virtualenvs/twitter-ukraine-conflict-fVwmQvah/lib/site-packages/pandas/io/parsers/readers.py?line=1212'>1213</a>\u001b[0m     mode \u001b[39m=\u001b[39m \u001b[39m\"\u001b[39m\u001b[39mrb\u001b[39m\u001b[39m\"\u001b[39m\n\u001b[0;32m   <a href='file:///c%3A/Users/Bao/.virtualenvs/twitter-ukraine-conflict-fVwmQvah/lib/site-packages/pandas/io/parsers/readers.py?line=1213'>1214</a>\u001b[0m \u001b[39m# error: No overload variant of \"get_handle\" matches argument types\u001b[39;00m\n\u001b[0;32m   <a href='file:///c%3A/Users/Bao/.virtualenvs/twitter-ukraine-conflict-fVwmQvah/lib/site-packages/pandas/io/parsers/readers.py?line=1214'>1215</a>\u001b[0m \u001b[39m# \"Union[str, PathLike[str], ReadCsvBuffer[bytes], ReadCsvBuffer[str]]\"\u001b[39;00m\n\u001b[0;32m   <a href='file:///c%3A/Users/Bao/.virtualenvs/twitter-ukraine-conflict-fVwmQvah/lib/site-packages/pandas/io/parsers/readers.py?line=1215'>1216</a>\u001b[0m \u001b[39m# , \"str\", \"bool\", \"Any\", \"Any\", \"Any\", \"Any\", \"Any\"\u001b[39;00m\n\u001b[1;32m-> <a href='file:///c%3A/Users/Bao/.virtualenvs/twitter-ukraine-conflict-fVwmQvah/lib/site-packages/pandas/io/parsers/readers.py?line=1216'>1217</a>\u001b[0m \u001b[39mself\u001b[39m\u001b[39m.\u001b[39mhandles \u001b[39m=\u001b[39m get_handle(  \u001b[39m# type: ignore[call-overload]\u001b[39;49;00m\n\u001b[0;32m   <a href='file:///c%3A/Users/Bao/.virtualenvs/twitter-ukraine-conflict-fVwmQvah/lib/site-packages/pandas/io/parsers/readers.py?line=1217'>1218</a>\u001b[0m     f,\n\u001b[0;32m   <a href='file:///c%3A/Users/Bao/.virtualenvs/twitter-ukraine-conflict-fVwmQvah/lib/site-packages/pandas/io/parsers/readers.py?line=1218'>1219</a>\u001b[0m     mode,\n\u001b[0;32m   <a href='file:///c%3A/Users/Bao/.virtualenvs/twitter-ukraine-conflict-fVwmQvah/lib/site-packages/pandas/io/parsers/readers.py?line=1219'>1220</a>\u001b[0m     encoding\u001b[39m=\u001b[39;49m\u001b[39mself\u001b[39;49m\u001b[39m.\u001b[39;49moptions\u001b[39m.\u001b[39;49mget(\u001b[39m\"\u001b[39;49m\u001b[39mencoding\u001b[39;49m\u001b[39m\"\u001b[39;49m, \u001b[39mNone\u001b[39;49;00m),\n\u001b[0;32m   <a href='file:///c%3A/Users/Bao/.virtualenvs/twitter-ukraine-conflict-fVwmQvah/lib/site-packages/pandas/io/parsers/readers.py?line=1220'>1221</a>\u001b[0m     compression\u001b[39m=\u001b[39;49m\u001b[39mself\u001b[39;49m\u001b[39m.\u001b[39;49moptions\u001b[39m.\u001b[39;49mget(\u001b[39m\"\u001b[39;49m\u001b[39mcompression\u001b[39;49m\u001b[39m\"\u001b[39;49m, \u001b[39mNone\u001b[39;49;00m),\n\u001b[0;32m   <a href='file:///c%3A/Users/Bao/.virtualenvs/twitter-ukraine-conflict-fVwmQvah/lib/site-packages/pandas/io/parsers/readers.py?line=1221'>1222</a>\u001b[0m     memory_map\u001b[39m=\u001b[39;49m\u001b[39mself\u001b[39;49m\u001b[39m.\u001b[39;49moptions\u001b[39m.\u001b[39;49mget(\u001b[39m\"\u001b[39;49m\u001b[39mmemory_map\u001b[39;49m\u001b[39m\"\u001b[39;49m, \u001b[39mFalse\u001b[39;49;00m),\n\u001b[0;32m   <a href='file:///c%3A/Users/Bao/.virtualenvs/twitter-ukraine-conflict-fVwmQvah/lib/site-packages/pandas/io/parsers/readers.py?line=1222'>1223</a>\u001b[0m     is_text\u001b[39m=\u001b[39;49mis_text,\n\u001b[0;32m   <a href='file:///c%3A/Users/Bao/.virtualenvs/twitter-ukraine-conflict-fVwmQvah/lib/site-packages/pandas/io/parsers/readers.py?line=1223'>1224</a>\u001b[0m     errors\u001b[39m=\u001b[39;49m\u001b[39mself\u001b[39;49m\u001b[39m.\u001b[39;49moptions\u001b[39m.\u001b[39;49mget(\u001b[39m\"\u001b[39;49m\u001b[39mencoding_errors\u001b[39;49m\u001b[39m\"\u001b[39;49m, \u001b[39m\"\u001b[39;49m\u001b[39mstrict\u001b[39;49m\u001b[39m\"\u001b[39;49m),\n\u001b[0;32m   <a href='file:///c%3A/Users/Bao/.virtualenvs/twitter-ukraine-conflict-fVwmQvah/lib/site-packages/pandas/io/parsers/readers.py?line=1224'>1225</a>\u001b[0m     storage_options\u001b[39m=\u001b[39;49m\u001b[39mself\u001b[39;49m\u001b[39m.\u001b[39;49moptions\u001b[39m.\u001b[39;49mget(\u001b[39m\"\u001b[39;49m\u001b[39mstorage_options\u001b[39;49m\u001b[39m\"\u001b[39;49m, \u001b[39mNone\u001b[39;49;00m),\n\u001b[0;32m   <a href='file:///c%3A/Users/Bao/.virtualenvs/twitter-ukraine-conflict-fVwmQvah/lib/site-packages/pandas/io/parsers/readers.py?line=1225'>1226</a>\u001b[0m )\n\u001b[0;32m   <a href='file:///c%3A/Users/Bao/.virtualenvs/twitter-ukraine-conflict-fVwmQvah/lib/site-packages/pandas/io/parsers/readers.py?line=1226'>1227</a>\u001b[0m \u001b[39massert\u001b[39;00m \u001b[39mself\u001b[39m\u001b[39m.\u001b[39mhandles \u001b[39mis\u001b[39;00m \u001b[39mnot\u001b[39;00m \u001b[39mNone\u001b[39;00m\n\u001b[0;32m   <a href='file:///c%3A/Users/Bao/.virtualenvs/twitter-ukraine-conflict-fVwmQvah/lib/site-packages/pandas/io/parsers/readers.py?line=1227'>1228</a>\u001b[0m f \u001b[39m=\u001b[39m \u001b[39mself\u001b[39m\u001b[39m.\u001b[39mhandles\u001b[39m.\u001b[39mhandle\n",
      "File \u001b[1;32mc:\\Users\\Bao\\.virtualenvs\\twitter-ukraine-conflict-fVwmQvah\\lib\\site-packages\\pandas\\io\\common.py:789\u001b[0m, in \u001b[0;36mget_handle\u001b[1;34m(path_or_buf, mode, encoding, compression, memory_map, is_text, errors, storage_options)\u001b[0m\n\u001b[0;32m    <a href='file:///c%3A/Users/Bao/.virtualenvs/twitter-ukraine-conflict-fVwmQvah/lib/site-packages/pandas/io/common.py?line=783'>784</a>\u001b[0m \u001b[39melif\u001b[39;00m \u001b[39misinstance\u001b[39m(handle, \u001b[39mstr\u001b[39m):\n\u001b[0;32m    <a href='file:///c%3A/Users/Bao/.virtualenvs/twitter-ukraine-conflict-fVwmQvah/lib/site-packages/pandas/io/common.py?line=784'>785</a>\u001b[0m     \u001b[39m# Check whether the filename is to be opened in binary mode.\u001b[39;00m\n\u001b[0;32m    <a href='file:///c%3A/Users/Bao/.virtualenvs/twitter-ukraine-conflict-fVwmQvah/lib/site-packages/pandas/io/common.py?line=785'>786</a>\u001b[0m     \u001b[39m# Binary mode does not support 'encoding' and 'newline'.\u001b[39;00m\n\u001b[0;32m    <a href='file:///c%3A/Users/Bao/.virtualenvs/twitter-ukraine-conflict-fVwmQvah/lib/site-packages/pandas/io/common.py?line=786'>787</a>\u001b[0m     \u001b[39mif\u001b[39;00m ioargs\u001b[39m.\u001b[39mencoding \u001b[39mand\u001b[39;00m \u001b[39m\"\u001b[39m\u001b[39mb\u001b[39m\u001b[39m\"\u001b[39m \u001b[39mnot\u001b[39;00m \u001b[39min\u001b[39;00m ioargs\u001b[39m.\u001b[39mmode:\n\u001b[0;32m    <a href='file:///c%3A/Users/Bao/.virtualenvs/twitter-ukraine-conflict-fVwmQvah/lib/site-packages/pandas/io/common.py?line=787'>788</a>\u001b[0m         \u001b[39m# Encoding\u001b[39;00m\n\u001b[1;32m--> <a href='file:///c%3A/Users/Bao/.virtualenvs/twitter-ukraine-conflict-fVwmQvah/lib/site-packages/pandas/io/common.py?line=788'>789</a>\u001b[0m         handle \u001b[39m=\u001b[39m \u001b[39mopen\u001b[39;49m(\n\u001b[0;32m    <a href='file:///c%3A/Users/Bao/.virtualenvs/twitter-ukraine-conflict-fVwmQvah/lib/site-packages/pandas/io/common.py?line=789'>790</a>\u001b[0m             handle,\n\u001b[0;32m    <a href='file:///c%3A/Users/Bao/.virtualenvs/twitter-ukraine-conflict-fVwmQvah/lib/site-packages/pandas/io/common.py?line=790'>791</a>\u001b[0m             ioargs\u001b[39m.\u001b[39;49mmode,\n\u001b[0;32m    <a href='file:///c%3A/Users/Bao/.virtualenvs/twitter-ukraine-conflict-fVwmQvah/lib/site-packages/pandas/io/common.py?line=791'>792</a>\u001b[0m             encoding\u001b[39m=\u001b[39;49mioargs\u001b[39m.\u001b[39;49mencoding,\n\u001b[0;32m    <a href='file:///c%3A/Users/Bao/.virtualenvs/twitter-ukraine-conflict-fVwmQvah/lib/site-packages/pandas/io/common.py?line=792'>793</a>\u001b[0m             errors\u001b[39m=\u001b[39;49merrors,\n\u001b[0;32m    <a href='file:///c%3A/Users/Bao/.virtualenvs/twitter-ukraine-conflict-fVwmQvah/lib/site-packages/pandas/io/common.py?line=793'>794</a>\u001b[0m             newline\u001b[39m=\u001b[39;49m\u001b[39m\"\u001b[39;49m\u001b[39m\"\u001b[39;49m,\n\u001b[0;32m    <a href='file:///c%3A/Users/Bao/.virtualenvs/twitter-ukraine-conflict-fVwmQvah/lib/site-packages/pandas/io/common.py?line=794'>795</a>\u001b[0m         )\n\u001b[0;32m    <a href='file:///c%3A/Users/Bao/.virtualenvs/twitter-ukraine-conflict-fVwmQvah/lib/site-packages/pandas/io/common.py?line=795'>796</a>\u001b[0m     \u001b[39melse\u001b[39;00m:\n\u001b[0;32m    <a href='file:///c%3A/Users/Bao/.virtualenvs/twitter-ukraine-conflict-fVwmQvah/lib/site-packages/pandas/io/common.py?line=796'>797</a>\u001b[0m         \u001b[39m# Binary mode\u001b[39;00m\n\u001b[0;32m    <a href='file:///c%3A/Users/Bao/.virtualenvs/twitter-ukraine-conflict-fVwmQvah/lib/site-packages/pandas/io/common.py?line=797'>798</a>\u001b[0m         handle \u001b[39m=\u001b[39m \u001b[39mopen\u001b[39m(handle, ioargs\u001b[39m.\u001b[39mmode)\n",
      "\u001b[1;31mFileNotFoundError\u001b[0m: [Errno 2] No such file or directory: 'analysis\\\\gephistats_any.csv'"
     ]
    }
   ],
   "source": [
    "# Plot the degree distribution\n",
    "for name, result in df_results.items():\n",
    "    if name != \"any\": \n",
    "        continue\n",
    "    gephi_data = pd.read_csv(Path(\"analysis\") / f\"gephistats_{name}.csv\")\n",
    "    points = gephi_data.groupby('Degree')[\"Id\"].count().sort_values(ascending=False).div(n['any']).to_frame().reset_index()\n",
    "    points.plot(x='Degree', y='Id', kind='scatter', logx=True, logy=True, s=3, c='red')\n",
    "    plt.xlabel(\"Degree\")\n",
    "    plt.ylabel(\"Fraction of nodes\")\n",
    "    plt.savefig(f\"analysis/degree_distribution_{name}.pdf\", bbox_inches='tight')\n",
    "    print(name)\n",
    "    plt.show()"
   ]
  },
  {
   "cell_type": "markdown",
   "id": "e85a710f-2633-4302-82ff-5dbddddabd24",
   "metadata": {},
   "source": [
    "### Take only the authors from the results"
   ]
  },
  {
   "cell_type": "code",
   "execution_count": 14,
   "id": "c33b1f75",
   "metadata": {},
   "outputs": [
    {
     "name": "stdout",
     "output_type": "stream",
     "text": [
      "Number of unique authors in any only authors: 786\n",
      "Number of unique authors in like only authors: 755\n",
      "Number of unique authors in retweet only authors: 682\n"
     ]
    }
   ],
   "source": [
    "df_results_only_authors = {}\n",
    "n_unique_only_authors = {}\n",
    "\n",
    "for name, result in df_results.items():\n",
    "    df_results_only_authors[name] = result[result['Is_author'] == True]\n",
    "    n_unique_only_authors[name] = len(df_results_only_authors[name]['Id'].unique())\n",
    "    print(f\"Number of unique authors in {name} only authors: {n_unique_only_authors[name]}\")"
   ]
  },
  {
   "cell_type": "code",
   "execution_count": 15,
   "id": "caa2e49c",
   "metadata": {},
   "outputs": [
    {
     "name": "stdout",
     "output_type": "stream",
     "text": [
      "any: Iteration 0-100 / 786\n"
     ]
    },
    {
     "ename": "Unauthorized",
     "evalue": "401 Unauthorized\nUnauthorized",
     "output_type": "error",
     "traceback": [
      "\u001b[1;31m---------------------------------------------------------------------------\u001b[0m",
      "\u001b[1;31mUnauthorized\u001b[0m                              Traceback (most recent call last)",
      "\u001b[1;32me:\\Users\\Bao\\Documents\\Projects\\twitter-ukraine-conflict\\3-analysis.ipynb Cell 22'\u001b[0m in \u001b[0;36m<cell line: 5>\u001b[1;34m()\u001b[0m\n\u001b[0;32m     <a href='vscode-notebook-cell:/e%3A/Users/Bao/Documents/Projects/twitter-ukraine-conflict/3-analysis.ipynb#ch0000021?line=10'>11</a>\u001b[0m \u001b[39mprint\u001b[39m(\u001b[39mf\u001b[39m\u001b[39m\"\u001b[39m\u001b[39m{\u001b[39;00mname\u001b[39m}\u001b[39;00m\u001b[39m: Iteration \u001b[39m\u001b[39m{\u001b[39;00mi\u001b[39m}\u001b[39;00m\u001b[39m-\u001b[39m\u001b[39m{\u001b[39;00mi\u001b[39m+\u001b[39m\u001b[39m100\u001b[39m\u001b[39m}\u001b[39;00m\u001b[39m / \u001b[39m\u001b[39m{\u001b[39;00m\u001b[39mlen\u001b[39m(authors)\u001b[39m}\u001b[39;00m\u001b[39m\"\u001b[39m)\n\u001b[0;32m     <a href='vscode-notebook-cell:/e%3A/Users/Bao/Documents/Projects/twitter-ukraine-conflict/3-analysis.ipynb#ch0000021?line=11'>12</a>\u001b[0m df_100 \u001b[39m=\u001b[39m authors[i:i\u001b[39m+\u001b[39m\u001b[39m100\u001b[39m]\n\u001b[1;32m---> <a href='vscode-notebook-cell:/e%3A/Users/Bao/Documents/Projects/twitter-ukraine-conflict/3-analysis.ipynb#ch0000021?line=12'>13</a>\u001b[0m res \u001b[39m=\u001b[39m client\u001b[39m.\u001b[39;49mget_users(ids\u001b[39m=\u001b[39;49mdf_100, user_fields\u001b[39m=\u001b[39;49m[\u001b[39m\"\u001b[39;49m\u001b[39mpublic_metrics\u001b[39;49m\u001b[39m\"\u001b[39;49m, \u001b[39m\"\u001b[39;49m\u001b[39mverified\u001b[39;49m\u001b[39m\"\u001b[39;49m])\n\u001b[0;32m     <a href='vscode-notebook-cell:/e%3A/Users/Bao/Documents/Projects/twitter-ukraine-conflict/3-analysis.ipynb#ch0000021?line=13'>14</a>\u001b[0m \u001b[39mfor\u001b[39;00m user_detail \u001b[39min\u001b[39;00m res\u001b[39m.\u001b[39mdata:\n\u001b[0;32m     <a href='vscode-notebook-cell:/e%3A/Users/Bao/Documents/Projects/twitter-ukraine-conflict/3-analysis.ipynb#ch0000021?line=14'>15</a>\u001b[0m     temp_result\u001b[39m.\u001b[39mloc[temp_result[\u001b[39m'\u001b[39m\u001b[39mId\u001b[39m\u001b[39m'\u001b[39m] \u001b[39m==\u001b[39m user_detail[\u001b[39m'\u001b[39m\u001b[39mid\u001b[39m\u001b[39m'\u001b[39m], \u001b[39m'\u001b[39m\u001b[39mUsername\u001b[39m\u001b[39m'\u001b[39m] \u001b[39m=\u001b[39m user_detail[\u001b[39m'\u001b[39m\u001b[39musername\u001b[39m\u001b[39m'\u001b[39m]\n",
      "File \u001b[1;32mc:\\Users\\Bao\\.virtualenvs\\twitter-ukraine-conflict-fVwmQvah\\lib\\site-packages\\tweepy\\client.py:2378\u001b[0m, in \u001b[0;36mClient.get_users\u001b[1;34m(self, ids, usernames, user_auth, **params)\u001b[0m\n\u001b[0;32m   <a href='file:///c%3A/Users/Bao/.virtualenvs/twitter-ukraine-conflict-fVwmQvah/lib/site-packages/tweepy/client.py?line=2374'>2375</a>\u001b[0m \u001b[39melse\u001b[39;00m:\n\u001b[0;32m   <a href='file:///c%3A/Users/Bao/.virtualenvs/twitter-ukraine-conflict-fVwmQvah/lib/site-packages/tweepy/client.py?line=2375'>2376</a>\u001b[0m     \u001b[39mraise\u001b[39;00m \u001b[39mTypeError\u001b[39;00m(\u001b[39m\"\u001b[39m\u001b[39mIDs or usernames are required\u001b[39m\u001b[39m\"\u001b[39m)\n\u001b[1;32m-> <a href='file:///c%3A/Users/Bao/.virtualenvs/twitter-ukraine-conflict-fVwmQvah/lib/site-packages/tweepy/client.py?line=2377'>2378</a>\u001b[0m \u001b[39mreturn\u001b[39;00m \u001b[39mself\u001b[39;49m\u001b[39m.\u001b[39;49m_make_request(\n\u001b[0;32m   <a href='file:///c%3A/Users/Bao/.virtualenvs/twitter-ukraine-conflict-fVwmQvah/lib/site-packages/tweepy/client.py?line=2378'>2379</a>\u001b[0m     \u001b[39m\"\u001b[39;49m\u001b[39mGET\u001b[39;49m\u001b[39m\"\u001b[39;49m, route, params\u001b[39m=\u001b[39;49mparams,\n\u001b[0;32m   <a href='file:///c%3A/Users/Bao/.virtualenvs/twitter-ukraine-conflict-fVwmQvah/lib/site-packages/tweepy/client.py?line=2379'>2380</a>\u001b[0m     endpoint_parameters\u001b[39m=\u001b[39;49m(\n\u001b[0;32m   <a href='file:///c%3A/Users/Bao/.virtualenvs/twitter-ukraine-conflict-fVwmQvah/lib/site-packages/tweepy/client.py?line=2380'>2381</a>\u001b[0m         \u001b[39m\"\u001b[39;49m\u001b[39mids\u001b[39;49m\u001b[39m\"\u001b[39;49m, \u001b[39m\"\u001b[39;49m\u001b[39musernames\u001b[39;49m\u001b[39m\"\u001b[39;49m, \u001b[39m\"\u001b[39;49m\u001b[39mexpansions\u001b[39;49m\u001b[39m\"\u001b[39;49m, \u001b[39m\"\u001b[39;49m\u001b[39mtweet.fields\u001b[39;49m\u001b[39m\"\u001b[39;49m, \u001b[39m\"\u001b[39;49m\u001b[39muser.fields\u001b[39;49m\u001b[39m\"\u001b[39;49m\n\u001b[0;32m   <a href='file:///c%3A/Users/Bao/.virtualenvs/twitter-ukraine-conflict-fVwmQvah/lib/site-packages/tweepy/client.py?line=2381'>2382</a>\u001b[0m     ), data_type\u001b[39m=\u001b[39;49mUser, user_auth\u001b[39m=\u001b[39;49muser_auth\n\u001b[0;32m   <a href='file:///c%3A/Users/Bao/.virtualenvs/twitter-ukraine-conflict-fVwmQvah/lib/site-packages/tweepy/client.py?line=2382'>2383</a>\u001b[0m )\n",
      "File \u001b[1;32mc:\\Users\\Bao\\.virtualenvs\\twitter-ukraine-conflict-fVwmQvah\\lib\\site-packages\\tweepy\\client.py:126\u001b[0m, in \u001b[0;36mBaseClient._make_request\u001b[1;34m(self, method, route, params, endpoint_parameters, json, data_type, user_auth)\u001b[0m\n\u001b[0;32m    <a href='file:///c%3A/Users/Bao/.virtualenvs/twitter-ukraine-conflict-fVwmQvah/lib/site-packages/tweepy/client.py?line=121'>122</a>\u001b[0m \u001b[39mdef\u001b[39;00m \u001b[39m_make_request\u001b[39m(\u001b[39mself\u001b[39m, method, route, params\u001b[39m=\u001b[39m{}, endpoint_parameters\u001b[39m=\u001b[39m\u001b[39mNone\u001b[39;00m,\n\u001b[0;32m    <a href='file:///c%3A/Users/Bao/.virtualenvs/twitter-ukraine-conflict-fVwmQvah/lib/site-packages/tweepy/client.py?line=122'>123</a>\u001b[0m                   json\u001b[39m=\u001b[39m\u001b[39mNone\u001b[39;00m, data_type\u001b[39m=\u001b[39m\u001b[39mNone\u001b[39;00m, user_auth\u001b[39m=\u001b[39m\u001b[39mFalse\u001b[39;00m):\n\u001b[0;32m    <a href='file:///c%3A/Users/Bao/.virtualenvs/twitter-ukraine-conflict-fVwmQvah/lib/site-packages/tweepy/client.py?line=123'>124</a>\u001b[0m     request_params \u001b[39m=\u001b[39m \u001b[39mself\u001b[39m\u001b[39m.\u001b[39m_process_params(params, endpoint_parameters)\n\u001b[1;32m--> <a href='file:///c%3A/Users/Bao/.virtualenvs/twitter-ukraine-conflict-fVwmQvah/lib/site-packages/tweepy/client.py?line=125'>126</a>\u001b[0m     response \u001b[39m=\u001b[39m \u001b[39mself\u001b[39;49m\u001b[39m.\u001b[39;49mrequest(method, route, params\u001b[39m=\u001b[39;49mrequest_params,\n\u001b[0;32m    <a href='file:///c%3A/Users/Bao/.virtualenvs/twitter-ukraine-conflict-fVwmQvah/lib/site-packages/tweepy/client.py?line=126'>127</a>\u001b[0m                             json\u001b[39m=\u001b[39;49mjson, user_auth\u001b[39m=\u001b[39;49muser_auth)\n\u001b[0;32m    <a href='file:///c%3A/Users/Bao/.virtualenvs/twitter-ukraine-conflict-fVwmQvah/lib/site-packages/tweepy/client.py?line=128'>129</a>\u001b[0m     \u001b[39mif\u001b[39;00m \u001b[39mself\u001b[39m\u001b[39m.\u001b[39mreturn_type \u001b[39mis\u001b[39;00m requests\u001b[39m.\u001b[39mResponse:\n\u001b[0;32m    <a href='file:///c%3A/Users/Bao/.virtualenvs/twitter-ukraine-conflict-fVwmQvah/lib/site-packages/tweepy/client.py?line=129'>130</a>\u001b[0m         \u001b[39mreturn\u001b[39;00m response\n",
      "File \u001b[1;32mc:\\Users\\Bao\\.virtualenvs\\twitter-ukraine-conflict-fVwmQvah\\lib\\site-packages\\tweepy\\client.py:97\u001b[0m, in \u001b[0;36mBaseClient.request\u001b[1;34m(self, method, route, params, json, user_auth)\u001b[0m\n\u001b[0;32m     <a href='file:///c%3A/Users/Bao/.virtualenvs/twitter-ukraine-conflict-fVwmQvah/lib/site-packages/tweepy/client.py?line=94'>95</a>\u001b[0m     \u001b[39mraise\u001b[39;00m BadRequest(response)\n\u001b[0;32m     <a href='file:///c%3A/Users/Bao/.virtualenvs/twitter-ukraine-conflict-fVwmQvah/lib/site-packages/tweepy/client.py?line=95'>96</a>\u001b[0m \u001b[39mif\u001b[39;00m response\u001b[39m.\u001b[39mstatus_code \u001b[39m==\u001b[39m \u001b[39m401\u001b[39m:\n\u001b[1;32m---> <a href='file:///c%3A/Users/Bao/.virtualenvs/twitter-ukraine-conflict-fVwmQvah/lib/site-packages/tweepy/client.py?line=96'>97</a>\u001b[0m     \u001b[39mraise\u001b[39;00m Unauthorized(response)\n\u001b[0;32m     <a href='file:///c%3A/Users/Bao/.virtualenvs/twitter-ukraine-conflict-fVwmQvah/lib/site-packages/tweepy/client.py?line=97'>98</a>\u001b[0m \u001b[39mif\u001b[39;00m response\u001b[39m.\u001b[39mstatus_code \u001b[39m==\u001b[39m \u001b[39m403\u001b[39m:\n\u001b[0;32m     <a href='file:///c%3A/Users/Bao/.virtualenvs/twitter-ukraine-conflict-fVwmQvah/lib/site-packages/tweepy/client.py?line=98'>99</a>\u001b[0m     \u001b[39mraise\u001b[39;00m Forbidden(response)\n",
      "\u001b[1;31mUnauthorized\u001b[0m: 401 Unauthorized\nUnauthorized"
     ]
    }
   ],
   "source": [
    "Path.mkdir(Path(\"analysis/authors\"), exist_ok=True)\n",
    "authors_info = {}\n",
    "\n",
    "# create a list of all the authors and call the Twitter API\n",
    "for name, result in df_results_only_authors.items():\n",
    "    temp_result = result\n",
    "    authors = list(result[\"Id\"].unique())\n",
    "    temp_df = pd.DataFrame()\n",
    "    # split df by 100\n",
    "    for i in range(0, len(authors), 100):\n",
    "        print(f\"{name}: Iteration {i}-{i+100} / {len(authors)}\")\n",
    "        df_100 = authors[i:i+100]\n",
    "        res = client.get_users(ids=df_100, user_fields=[\"public_metrics\", \"verified\"])\n",
    "        for user_detail in res.data:\n",
    "            temp_result.loc[temp_result['Id'] == user_detail['id'], 'Username'] = user_detail['username']\n",
    "            temp_result.loc[temp_result['Id'] == user_detail['id'], 'Verified'] = user_detail['verified']\n",
    "            temp_result.loc[temp_result['Id'] == user_detail['id'], 'followers_count'] = user_detail['public_metrics']['followers_count']\n",
    "            temp_result.loc[temp_result['Id'] == user_detail['id'], 'following_count'] = user_detail['public_metrics']['following_count']\n",
    "            temp_result.loc[temp_result['Id'] == user_detail['id'], 'tweet_count'] = user_detail['public_metrics']['tweet_count']\n",
    "    temp_df = pd.concat(\n",
    "        [temp_df, temp_result], ignore_index=True)\n",
    "    temp_df.to_csv(f\"analysis/authors/authors_{name}.csv\")\n",
    "    authors_info[name] = temp_df"
   ]
  },
  {
   "cell_type": "markdown",
   "id": "394c4e8b-9d69-42ef-bd02-41bdfd17ad65",
   "metadata": {},
   "source": [
    "### Retrieve authors info for the two biggest communities"
   ]
  },
  {
   "cell_type": "markdown",
   "id": "a42bfbc5-a8d0-4681-8565-44a0153ca87c",
   "metadata": {},
   "source": [
    "#### Any (likes + retweets)"
   ]
  },
  {
   "cell_type": "code",
   "execution_count": 10,
   "id": "7f0cd88e",
   "metadata": {},
   "outputs": [
    {
     "data": {
      "text/html": [
       "<div>\n",
       "<style scoped>\n",
       "    .dataframe tbody tr th:only-of-type {\n",
       "        vertical-align: middle;\n",
       "    }\n",
       "\n",
       "    .dataframe tbody tr th {\n",
       "        vertical-align: top;\n",
       "    }\n",
       "\n",
       "    .dataframe thead th {\n",
       "        text-align: right;\n",
       "    }\n",
       "</style>\n",
       "<table border=\"1\" class=\"dataframe\">\n",
       "  <thead>\n",
       "    <tr style=\"text-align: right;\">\n",
       "      <th></th>\n",
       "      <th>Id</th>\n",
       "      <th>Community</th>\n",
       "      <th>Label</th>\n",
       "      <th>Is_author</th>\n",
       "      <th>Username</th>\n",
       "      <th>Verified</th>\n",
       "      <th>followers_count</th>\n",
       "      <th>following_count</th>\n",
       "      <th>tweet_count</th>\n",
       "    </tr>\n",
       "  </thead>\n",
       "  <tbody>\n",
       "    <tr>\n",
       "      <th>30</th>\n",
       "      <td>300078224</td>\n",
       "      <td>567</td>\n",
       "      <td>300078224</td>\n",
       "      <td>True</td>\n",
       "      <td>MissMeryn</td>\n",
       "      <td>False</td>\n",
       "      <td>314.0</td>\n",
       "      <td>2990.0</td>\n",
       "      <td>7119.0</td>\n",
       "    </tr>\n",
       "    <tr>\n",
       "      <th>140</th>\n",
       "      <td>1164907412630827008</td>\n",
       "      <td>567</td>\n",
       "      <td>1164907412630827008</td>\n",
       "      <td>True</td>\n",
       "      <td>NaN</td>\n",
       "      <td>NaN</td>\n",
       "      <td>NaN</td>\n",
       "      <td>NaN</td>\n",
       "      <td>NaN</td>\n",
       "    </tr>\n",
       "    <tr>\n",
       "      <th>155</th>\n",
       "      <td>1341232362</td>\n",
       "      <td>567</td>\n",
       "      <td>1341232362</td>\n",
       "      <td>True</td>\n",
       "      <td>valuesearcher</td>\n",
       "      <td>False</td>\n",
       "      <td>218.0</td>\n",
       "      <td>96.0</td>\n",
       "      <td>5618.0</td>\n",
       "    </tr>\n",
       "    <tr>\n",
       "      <th>250</th>\n",
       "      <td>1340124668825657349</td>\n",
       "      <td>567</td>\n",
       "      <td>1340124668825657349</td>\n",
       "      <td>True</td>\n",
       "      <td>ARedbord</td>\n",
       "      <td>False</td>\n",
       "      <td>1063.0</td>\n",
       "      <td>494.0</td>\n",
       "      <td>619.0</td>\n",
       "    </tr>\n",
       "    <tr>\n",
       "      <th>266</th>\n",
       "      <td>1387847713065213954</td>\n",
       "      <td>567</td>\n",
       "      <td>1387847713065213954</td>\n",
       "      <td>True</td>\n",
       "      <td>masi82870170</td>\n",
       "      <td>False</td>\n",
       "      <td>557.0</td>\n",
       "      <td>1683.0</td>\n",
       "      <td>527.0</td>\n",
       "    </tr>\n",
       "    <tr>\n",
       "      <th>317</th>\n",
       "      <td>117213468</td>\n",
       "      <td>567</td>\n",
       "      <td>117213468</td>\n",
       "      <td>True</td>\n",
       "      <td>ArielFornari</td>\n",
       "      <td>False</td>\n",
       "      <td>2505.0</td>\n",
       "      <td>4510.0</td>\n",
       "      <td>194874.0</td>\n",
       "    </tr>\n",
       "    <tr>\n",
       "      <th>328</th>\n",
       "      <td>155627025</td>\n",
       "      <td>567</td>\n",
       "      <td>155627025</td>\n",
       "      <td>True</td>\n",
       "      <td>butterflySerend</td>\n",
       "      <td>False</td>\n",
       "      <td>138.0</td>\n",
       "      <td>238.0</td>\n",
       "      <td>15685.0</td>\n",
       "    </tr>\n",
       "    <tr>\n",
       "      <th>331</th>\n",
       "      <td>1175962189766643712</td>\n",
       "      <td>567</td>\n",
       "      <td>1175962189766643712</td>\n",
       "      <td>True</td>\n",
       "      <td>ThahirAmal</td>\n",
       "      <td>False</td>\n",
       "      <td>127.0</td>\n",
       "      <td>593.0</td>\n",
       "      <td>3020.0</td>\n",
       "    </tr>\n",
       "    <tr>\n",
       "      <th>362</th>\n",
       "      <td>2342054232</td>\n",
       "      <td>567</td>\n",
       "      <td>2342054232</td>\n",
       "      <td>True</td>\n",
       "      <td>KondratieffWave</td>\n",
       "      <td>False</td>\n",
       "      <td>2090.0</td>\n",
       "      <td>4638.0</td>\n",
       "      <td>30047.0</td>\n",
       "    </tr>\n",
       "    <tr>\n",
       "      <th>369</th>\n",
       "      <td>1281634934327828482</td>\n",
       "      <td>567</td>\n",
       "      <td>1281634934327828482</td>\n",
       "      <td>True</td>\n",
       "      <td>itayariel1</td>\n",
       "      <td>False</td>\n",
       "      <td>1793.0</td>\n",
       "      <td>726.0</td>\n",
       "      <td>9194.0</td>\n",
       "    </tr>\n",
       "    <tr>\n",
       "      <th>410</th>\n",
       "      <td>1497739877680570368</td>\n",
       "      <td>567</td>\n",
       "      <td>1497739877680570368</td>\n",
       "      <td>True</td>\n",
       "      <td>PeterHWurm</td>\n",
       "      <td>False</td>\n",
       "      <td>4.0</td>\n",
       "      <td>410.0</td>\n",
       "      <td>172.0</td>\n",
       "    </tr>\n",
       "    <tr>\n",
       "      <th>438</th>\n",
       "      <td>1387025040089227265</td>\n",
       "      <td>567</td>\n",
       "      <td>1387025040089227265</td>\n",
       "      <td>True</td>\n",
       "      <td>PikeWala</td>\n",
       "      <td>False</td>\n",
       "      <td>242.0</td>\n",
       "      <td>425.0</td>\n",
       "      <td>6831.0</td>\n",
       "    </tr>\n",
       "    <tr>\n",
       "      <th>484</th>\n",
       "      <td>26651370</td>\n",
       "      <td>567</td>\n",
       "      <td>26651370</td>\n",
       "      <td>True</td>\n",
       "      <td>FrancescoLugli</td>\n",
       "      <td>False</td>\n",
       "      <td>753.0</td>\n",
       "      <td>685.0</td>\n",
       "      <td>10190.0</td>\n",
       "    </tr>\n",
       "    <tr>\n",
       "      <th>489</th>\n",
       "      <td>764397613</td>\n",
       "      <td>567</td>\n",
       "      <td>764397613</td>\n",
       "      <td>True</td>\n",
       "      <td>ulrike_baumann</td>\n",
       "      <td>False</td>\n",
       "      <td>259.0</td>\n",
       "      <td>55.0</td>\n",
       "      <td>236.0</td>\n",
       "    </tr>\n",
       "    <tr>\n",
       "      <th>624</th>\n",
       "      <td>261885239</td>\n",
       "      <td>567</td>\n",
       "      <td>261885239</td>\n",
       "      <td>True</td>\n",
       "      <td>infoblind</td>\n",
       "      <td>False</td>\n",
       "      <td>154.0</td>\n",
       "      <td>522.0</td>\n",
       "      <td>67053.0</td>\n",
       "    </tr>\n",
       "    <tr>\n",
       "      <th>680</th>\n",
       "      <td>1429797346678874112</td>\n",
       "      <td>567</td>\n",
       "      <td>1429797346678874112</td>\n",
       "      <td>True</td>\n",
       "      <td>Lecca64035164</td>\n",
       "      <td>False</td>\n",
       "      <td>4.0</td>\n",
       "      <td>0.0</td>\n",
       "      <td>1349.0</td>\n",
       "    </tr>\n",
       "    <tr>\n",
       "      <th>712</th>\n",
       "      <td>1430307870982107140</td>\n",
       "      <td>567</td>\n",
       "      <td>1430307870982107140</td>\n",
       "      <td>True</td>\n",
       "      <td>CardanoNoodz</td>\n",
       "      <td>False</td>\n",
       "      <td>5937.0</td>\n",
       "      <td>4175.0</td>\n",
       "      <td>23623.0</td>\n",
       "    </tr>\n",
       "  </tbody>\n",
       "</table>\n",
       "</div>"
      ],
      "text/plain": [
       "                      Id  Community                Label  Is_author  \\\n",
       "30             300078224        567            300078224       True   \n",
       "140  1164907412630827008        567  1164907412630827008       True   \n",
       "155           1341232362        567           1341232362       True   \n",
       "250  1340124668825657349        567  1340124668825657349       True   \n",
       "266  1387847713065213954        567  1387847713065213954       True   \n",
       "317            117213468        567            117213468       True   \n",
       "328            155627025        567            155627025       True   \n",
       "331  1175962189766643712        567  1175962189766643712       True   \n",
       "362           2342054232        567           2342054232       True   \n",
       "369  1281634934327828482        567  1281634934327828482       True   \n",
       "410  1497739877680570368        567  1497739877680570368       True   \n",
       "438  1387025040089227265        567  1387025040089227265       True   \n",
       "484             26651370        567             26651370       True   \n",
       "489            764397613        567            764397613       True   \n",
       "624            261885239        567            261885239       True   \n",
       "680  1429797346678874112        567  1429797346678874112       True   \n",
       "712  1430307870982107140        567  1430307870982107140       True   \n",
       "\n",
       "            Username Verified  followers_count  following_count  tweet_count  \n",
       "30         MissMeryn    False            314.0           2990.0       7119.0  \n",
       "140              NaN      NaN              NaN              NaN          NaN  \n",
       "155    valuesearcher    False            218.0             96.0       5618.0  \n",
       "250         ARedbord    False           1063.0            494.0        619.0  \n",
       "266     masi82870170    False            557.0           1683.0        527.0  \n",
       "317     ArielFornari    False           2505.0           4510.0     194874.0  \n",
       "328  butterflySerend    False            138.0            238.0      15685.0  \n",
       "331       ThahirAmal    False            127.0            593.0       3020.0  \n",
       "362  KondratieffWave    False           2090.0           4638.0      30047.0  \n",
       "369       itayariel1    False           1793.0            726.0       9194.0  \n",
       "410       PeterHWurm    False              4.0            410.0        172.0  \n",
       "438         PikeWala    False            242.0            425.0       6831.0  \n",
       "484   FrancescoLugli    False            753.0            685.0      10190.0  \n",
       "489   ulrike_baumann    False            259.0             55.0        236.0  \n",
       "624        infoblind    False            154.0            522.0      67053.0  \n",
       "680    Lecca64035164    False              4.0              0.0       1349.0  \n",
       "712     CardanoNoodz    False           5937.0           4175.0      23623.0  "
      ]
     },
     "execution_count": 10,
     "metadata": {},
     "output_type": "execute_result"
    }
   ],
   "source": [
    "authors_info['any'][authors_info['any']['Community'] == biggest_communities['any'][0]]"
   ]
  },
  {
   "cell_type": "code",
   "execution_count": 11,
   "id": "51a9d2b6-dd62-41f6-9ae7-92e3737c7e1b",
   "metadata": {},
   "outputs": [
    {
     "data": {
      "text/html": [
       "<div>\n",
       "<style scoped>\n",
       "    .dataframe tbody tr th:only-of-type {\n",
       "        vertical-align: middle;\n",
       "    }\n",
       "\n",
       "    .dataframe tbody tr th {\n",
       "        vertical-align: top;\n",
       "    }\n",
       "\n",
       "    .dataframe thead th {\n",
       "        text-align: right;\n",
       "    }\n",
       "</style>\n",
       "<table border=\"1\" class=\"dataframe\">\n",
       "  <thead>\n",
       "    <tr style=\"text-align: right;\">\n",
       "      <th></th>\n",
       "      <th>Id</th>\n",
       "      <th>Community</th>\n",
       "      <th>Label</th>\n",
       "      <th>Is_author</th>\n",
       "      <th>Username</th>\n",
       "      <th>Verified</th>\n",
       "      <th>followers_count</th>\n",
       "      <th>following_count</th>\n",
       "      <th>tweet_count</th>\n",
       "    </tr>\n",
       "  </thead>\n",
       "  <tbody>\n",
       "    <tr>\n",
       "      <th>9</th>\n",
       "      <td>1461676508808978437</td>\n",
       "      <td>554</td>\n",
       "      <td>1461676508808978437</td>\n",
       "      <td>True</td>\n",
       "      <td>NaN</td>\n",
       "      <td>NaN</td>\n",
       "      <td>NaN</td>\n",
       "      <td>NaN</td>\n",
       "      <td>NaN</td>\n",
       "    </tr>\n",
       "    <tr>\n",
       "      <th>16</th>\n",
       "      <td>1405991133017169926</td>\n",
       "      <td>554</td>\n",
       "      <td>1405991133017169926</td>\n",
       "      <td>True</td>\n",
       "      <td>JoeSmols</td>\n",
       "      <td>False</td>\n",
       "      <td>993.0</td>\n",
       "      <td>246.0</td>\n",
       "      <td>15422.0</td>\n",
       "    </tr>\n",
       "    <tr>\n",
       "      <th>17</th>\n",
       "      <td>89437990</td>\n",
       "      <td>554</td>\n",
       "      <td>89437990</td>\n",
       "      <td>True</td>\n",
       "      <td>AimHigh_TV1</td>\n",
       "      <td>False</td>\n",
       "      <td>87757.0</td>\n",
       "      <td>6180.0</td>\n",
       "      <td>5958.0</td>\n",
       "    </tr>\n",
       "    <tr>\n",
       "      <th>34</th>\n",
       "      <td>393896089</td>\n",
       "      <td>554</td>\n",
       "      <td>393896089</td>\n",
       "      <td>True</td>\n",
       "      <td>olha2810</td>\n",
       "      <td>False</td>\n",
       "      <td>6.0</td>\n",
       "      <td>54.0</td>\n",
       "      <td>312.0</td>\n",
       "    </tr>\n",
       "    <tr>\n",
       "      <th>38</th>\n",
       "      <td>4188145335</td>\n",
       "      <td>554</td>\n",
       "      <td>4188145335</td>\n",
       "      <td>True</td>\n",
       "      <td>Sawomir86174818</td>\n",
       "      <td>False</td>\n",
       "      <td>622.0</td>\n",
       "      <td>1841.0</td>\n",
       "      <td>122231.0</td>\n",
       "    </tr>\n",
       "    <tr>\n",
       "      <th>41</th>\n",
       "      <td>12166972</td>\n",
       "      <td>554</td>\n",
       "      <td>12166972</td>\n",
       "      <td>True</td>\n",
       "      <td>niniwe</td>\n",
       "      <td>False</td>\n",
       "      <td>261.0</td>\n",
       "      <td>834.0</td>\n",
       "      <td>8865.0</td>\n",
       "    </tr>\n",
       "    <tr>\n",
       "      <th>49</th>\n",
       "      <td>729702644</td>\n",
       "      <td>554</td>\n",
       "      <td>729702644</td>\n",
       "      <td>True</td>\n",
       "      <td>BlueDotCitizen</td>\n",
       "      <td>False</td>\n",
       "      <td>6533.0</td>\n",
       "      <td>6574.0</td>\n",
       "      <td>78048.0</td>\n",
       "    </tr>\n",
       "    <tr>\n",
       "      <th>73</th>\n",
       "      <td>1456600599940710467</td>\n",
       "      <td>554</td>\n",
       "      <td>1456600599940710467</td>\n",
       "      <td>True</td>\n",
       "      <td>bijouaicha3</td>\n",
       "      <td>False</td>\n",
       "      <td>206.0</td>\n",
       "      <td>199.0</td>\n",
       "      <td>14094.0</td>\n",
       "    </tr>\n",
       "    <tr>\n",
       "      <th>74</th>\n",
       "      <td>1390351886704947200</td>\n",
       "      <td>554</td>\n",
       "      <td>1390351886704947200</td>\n",
       "      <td>True</td>\n",
       "      <td>stellarwp</td>\n",
       "      <td>False</td>\n",
       "      <td>1074.0</td>\n",
       "      <td>472.0</td>\n",
       "      <td>1073.0</td>\n",
       "    </tr>\n",
       "    <tr>\n",
       "      <th>95</th>\n",
       "      <td>2651414005</td>\n",
       "      <td>554</td>\n",
       "      <td>2651414005</td>\n",
       "      <td>True</td>\n",
       "      <td>Europa97531</td>\n",
       "      <td>False</td>\n",
       "      <td>1702.0</td>\n",
       "      <td>2345.0</td>\n",
       "      <td>47815.0</td>\n",
       "    </tr>\n",
       "    <tr>\n",
       "      <th>116</th>\n",
       "      <td>2791120677</td>\n",
       "      <td>554</td>\n",
       "      <td>2791120677</td>\n",
       "      <td>True</td>\n",
       "      <td>RPR_ua</td>\n",
       "      <td>False</td>\n",
       "      <td>9499.0</td>\n",
       "      <td>770.0</td>\n",
       "      <td>20525.0</td>\n",
       "    </tr>\n",
       "    <tr>\n",
       "      <th>118</th>\n",
       "      <td>2258102198</td>\n",
       "      <td>554</td>\n",
       "      <td>2258102198</td>\n",
       "      <td>True</td>\n",
       "      <td>fozzybear77</td>\n",
       "      <td>False</td>\n",
       "      <td>1435.0</td>\n",
       "      <td>1568.0</td>\n",
       "      <td>115249.0</td>\n",
       "    </tr>\n",
       "    <tr>\n",
       "      <th>119</th>\n",
       "      <td>3614561476</td>\n",
       "      <td>554</td>\n",
       "      <td>3614561476</td>\n",
       "      <td>True</td>\n",
       "      <td>BonSaunderson</td>\n",
       "      <td>False</td>\n",
       "      <td>78.0</td>\n",
       "      <td>77.0</td>\n",
       "      <td>1318.0</td>\n",
       "    </tr>\n",
       "    <tr>\n",
       "      <th>130</th>\n",
       "      <td>16324653</td>\n",
       "      <td>554</td>\n",
       "      <td>16324653</td>\n",
       "      <td>True</td>\n",
       "      <td>Rayperez88</td>\n",
       "      <td>False</td>\n",
       "      <td>525.0</td>\n",
       "      <td>2627.0</td>\n",
       "      <td>244689.0</td>\n",
       "    </tr>\n",
       "    <tr>\n",
       "      <th>139</th>\n",
       "      <td>18529487</td>\n",
       "      <td>554</td>\n",
       "      <td>18529487</td>\n",
       "      <td>True</td>\n",
       "      <td>79msugrad</td>\n",
       "      <td>False</td>\n",
       "      <td>150.0</td>\n",
       "      <td>416.0</td>\n",
       "      <td>5823.0</td>\n",
       "    </tr>\n",
       "    <tr>\n",
       "      <th>175</th>\n",
       "      <td>71902263</td>\n",
       "      <td>554</td>\n",
       "      <td>71902263</td>\n",
       "      <td>True</td>\n",
       "      <td>O_G_Log</td>\n",
       "      <td>False</td>\n",
       "      <td>3570.0</td>\n",
       "      <td>2459.0</td>\n",
       "      <td>510180.0</td>\n",
       "    </tr>\n",
       "    <tr>\n",
       "      <th>182</th>\n",
       "      <td>1014514281642102785</td>\n",
       "      <td>554</td>\n",
       "      <td>1014514281642102785</td>\n",
       "      <td>True</td>\n",
       "      <td>OurReclaim</td>\n",
       "      <td>False</td>\n",
       "      <td>1414.0</td>\n",
       "      <td>380.0</td>\n",
       "      <td>147434.0</td>\n",
       "    </tr>\n",
       "    <tr>\n",
       "      <th>201</th>\n",
       "      <td>850239531978702848</td>\n",
       "      <td>554</td>\n",
       "      <td>850239531978702848</td>\n",
       "      <td>True</td>\n",
       "      <td>adam_chweya</td>\n",
       "      <td>False</td>\n",
       "      <td>277.0</td>\n",
       "      <td>248.0</td>\n",
       "      <td>503.0</td>\n",
       "    </tr>\n",
       "    <tr>\n",
       "      <th>235</th>\n",
       "      <td>1007945678000140289</td>\n",
       "      <td>554</td>\n",
       "      <td>1007945678000140289</td>\n",
       "      <td>True</td>\n",
       "      <td>HWNewsEnglish</td>\n",
       "      <td>False</td>\n",
       "      <td>9613.0</td>\n",
       "      <td>38.0</td>\n",
       "      <td>30950.0</td>\n",
       "    </tr>\n",
       "    <tr>\n",
       "      <th>291</th>\n",
       "      <td>62993130</td>\n",
       "      <td>554</td>\n",
       "      <td>62993130</td>\n",
       "      <td>True</td>\n",
       "      <td>psa_rising</td>\n",
       "      <td>False</td>\n",
       "      <td>179.0</td>\n",
       "      <td>472.0</td>\n",
       "      <td>738.0</td>\n",
       "    </tr>\n",
       "    <tr>\n",
       "      <th>330</th>\n",
       "      <td>2189257184</td>\n",
       "      <td>554</td>\n",
       "      <td>2189257184</td>\n",
       "      <td>True</td>\n",
       "      <td>Virgini98900230</td>\n",
       "      <td>False</td>\n",
       "      <td>2007.0</td>\n",
       "      <td>2852.0</td>\n",
       "      <td>70775.0</td>\n",
       "    </tr>\n",
       "    <tr>\n",
       "      <th>335</th>\n",
       "      <td>1325486068578258945</td>\n",
       "      <td>554</td>\n",
       "      <td>1325486068578258945</td>\n",
       "      <td>True</td>\n",
       "      <td>Susan_Adam_01</td>\n",
       "      <td>False</td>\n",
       "      <td>922.0</td>\n",
       "      <td>1416.0</td>\n",
       "      <td>6367.0</td>\n",
       "    </tr>\n",
       "    <tr>\n",
       "      <th>349</th>\n",
       "      <td>1356786368656138241</td>\n",
       "      <td>554</td>\n",
       "      <td>1356786368656138241</td>\n",
       "      <td>True</td>\n",
       "      <td>JamesTate121</td>\n",
       "      <td>False</td>\n",
       "      <td>22925.0</td>\n",
       "      <td>21665.0</td>\n",
       "      <td>71855.0</td>\n",
       "    </tr>\n",
       "    <tr>\n",
       "      <th>356</th>\n",
       "      <td>1324766023778750464</td>\n",
       "      <td>554</td>\n",
       "      <td>1324766023778750464</td>\n",
       "      <td>True</td>\n",
       "      <td>SeadaAbedlekar</td>\n",
       "      <td>False</td>\n",
       "      <td>3182.0</td>\n",
       "      <td>2527.0</td>\n",
       "      <td>74688.0</td>\n",
       "    </tr>\n",
       "    <tr>\n",
       "      <th>390</th>\n",
       "      <td>1476074620570812416</td>\n",
       "      <td>554</td>\n",
       "      <td>1476074620570812416</td>\n",
       "      <td>True</td>\n",
       "      <td>TheBarrettMiser</td>\n",
       "      <td>False</td>\n",
       "      <td>272.0</td>\n",
       "      <td>300.0</td>\n",
       "      <td>1846.0</td>\n",
       "    </tr>\n",
       "    <tr>\n",
       "      <th>395</th>\n",
       "      <td>173562303</td>\n",
       "      <td>554</td>\n",
       "      <td>173562303</td>\n",
       "      <td>True</td>\n",
       "      <td>Zayphar</td>\n",
       "      <td>False</td>\n",
       "      <td>32.0</td>\n",
       "      <td>245.0</td>\n",
       "      <td>26749.0</td>\n",
       "    </tr>\n",
       "    <tr>\n",
       "      <th>411</th>\n",
       "      <td>218494359</td>\n",
       "      <td>554</td>\n",
       "      <td>218494359</td>\n",
       "      <td>True</td>\n",
       "      <td>jozannevdvelden</td>\n",
       "      <td>False</td>\n",
       "      <td>761.0</td>\n",
       "      <td>500.0</td>\n",
       "      <td>1042.0</td>\n",
       "    </tr>\n",
       "    <tr>\n",
       "      <th>422</th>\n",
       "      <td>1458602144702078980</td>\n",
       "      <td>554</td>\n",
       "      <td>1458602144702078980</td>\n",
       "      <td>True</td>\n",
       "      <td>DBAToken3</td>\n",
       "      <td>False</td>\n",
       "      <td>65.0</td>\n",
       "      <td>426.0</td>\n",
       "      <td>1296.0</td>\n",
       "    </tr>\n",
       "    <tr>\n",
       "      <th>425</th>\n",
       "      <td>904047154997719040</td>\n",
       "      <td>554</td>\n",
       "      <td>904047154997719040</td>\n",
       "      <td>True</td>\n",
       "      <td>techz_dave</td>\n",
       "      <td>False</td>\n",
       "      <td>1056.0</td>\n",
       "      <td>35.0</td>\n",
       "      <td>2357.0</td>\n",
       "    </tr>\n",
       "    <tr>\n",
       "      <th>457</th>\n",
       "      <td>2542147872</td>\n",
       "      <td>554</td>\n",
       "      <td>2542147872</td>\n",
       "      <td>True</td>\n",
       "      <td>emma12206821</td>\n",
       "      <td>False</td>\n",
       "      <td>80.0</td>\n",
       "      <td>38.0</td>\n",
       "      <td>9384.0</td>\n",
       "    </tr>\n",
       "    <tr>\n",
       "      <th>502</th>\n",
       "      <td>48170768</td>\n",
       "      <td>554</td>\n",
       "      <td>48170768</td>\n",
       "      <td>True</td>\n",
       "      <td>E_Hard</td>\n",
       "      <td>False</td>\n",
       "      <td>572.0</td>\n",
       "      <td>562.0</td>\n",
       "      <td>5577.0</td>\n",
       "    </tr>\n",
       "    <tr>\n",
       "      <th>508</th>\n",
       "      <td>1343955256640733184</td>\n",
       "      <td>554</td>\n",
       "      <td>1343955256640733184</td>\n",
       "      <td>True</td>\n",
       "      <td>AlotJot</td>\n",
       "      <td>False</td>\n",
       "      <td>295.0</td>\n",
       "      <td>504.0</td>\n",
       "      <td>2008.0</td>\n",
       "    </tr>\n",
       "    <tr>\n",
       "      <th>515</th>\n",
       "      <td>1061081637578919936</td>\n",
       "      <td>554</td>\n",
       "      <td>1061081637578919936</td>\n",
       "      <td>True</td>\n",
       "      <td>Danialhassan89</td>\n",
       "      <td>False</td>\n",
       "      <td>34.0</td>\n",
       "      <td>549.0</td>\n",
       "      <td>977.0</td>\n",
       "    </tr>\n",
       "    <tr>\n",
       "      <th>537</th>\n",
       "      <td>1267114325921001472</td>\n",
       "      <td>554</td>\n",
       "      <td>1267114325921001472</td>\n",
       "      <td>True</td>\n",
       "      <td>MarteloHeights</td>\n",
       "      <td>False</td>\n",
       "      <td>40.0</td>\n",
       "      <td>611.0</td>\n",
       "      <td>1548.0</td>\n",
       "    </tr>\n",
       "    <tr>\n",
       "      <th>556</th>\n",
       "      <td>1087126290166173702</td>\n",
       "      <td>554</td>\n",
       "      <td>1087126290166173702</td>\n",
       "      <td>True</td>\n",
       "      <td>PaulaClancy8</td>\n",
       "      <td>False</td>\n",
       "      <td>54.0</td>\n",
       "      <td>272.0</td>\n",
       "      <td>2048.0</td>\n",
       "    </tr>\n",
       "    <tr>\n",
       "      <th>561</th>\n",
       "      <td>868670948</td>\n",
       "      <td>554</td>\n",
       "      <td>868670948</td>\n",
       "      <td>True</td>\n",
       "      <td>LeoVenez</td>\n",
       "      <td>False</td>\n",
       "      <td>1408.0</td>\n",
       "      <td>4999.0</td>\n",
       "      <td>19530.0</td>\n",
       "    </tr>\n",
       "    <tr>\n",
       "      <th>570</th>\n",
       "      <td>51285724</td>\n",
       "      <td>554</td>\n",
       "      <td>51285724</td>\n",
       "      <td>True</td>\n",
       "      <td>crashoverried</td>\n",
       "      <td>False</td>\n",
       "      <td>130.0</td>\n",
       "      <td>178.0</td>\n",
       "      <td>17287.0</td>\n",
       "    </tr>\n",
       "    <tr>\n",
       "      <th>585</th>\n",
       "      <td>243876917</td>\n",
       "      <td>554</td>\n",
       "      <td>243876917</td>\n",
       "      <td>True</td>\n",
       "      <td>MatanteJu</td>\n",
       "      <td>False</td>\n",
       "      <td>414.0</td>\n",
       "      <td>930.0</td>\n",
       "      <td>26355.0</td>\n",
       "    </tr>\n",
       "    <tr>\n",
       "      <th>586</th>\n",
       "      <td>1498293613523968005</td>\n",
       "      <td>554</td>\n",
       "      <td>1498293613523968005</td>\n",
       "      <td>True</td>\n",
       "      <td>NaN</td>\n",
       "      <td>NaN</td>\n",
       "      <td>NaN</td>\n",
       "      <td>NaN</td>\n",
       "      <td>NaN</td>\n",
       "    </tr>\n",
       "    <tr>\n",
       "      <th>597</th>\n",
       "      <td>1494687558621663239</td>\n",
       "      <td>554</td>\n",
       "      <td>1494687558621663239</td>\n",
       "      <td>True</td>\n",
       "      <td>Artemcook21</td>\n",
       "      <td>False</td>\n",
       "      <td>0.0</td>\n",
       "      <td>107.0</td>\n",
       "      <td>916.0</td>\n",
       "    </tr>\n",
       "    <tr>\n",
       "      <th>606</th>\n",
       "      <td>1925004564</td>\n",
       "      <td>554</td>\n",
       "      <td>1925004564</td>\n",
       "      <td>True</td>\n",
       "      <td>casciatowriting</td>\n",
       "      <td>False</td>\n",
       "      <td>2484.0</td>\n",
       "      <td>2869.0</td>\n",
       "      <td>118668.0</td>\n",
       "    </tr>\n",
       "    <tr>\n",
       "      <th>618</th>\n",
       "      <td>2389823918</td>\n",
       "      <td>554</td>\n",
       "      <td>2389823918</td>\n",
       "      <td>True</td>\n",
       "      <td>AlAkBseth</td>\n",
       "      <td>False</td>\n",
       "      <td>3810.0</td>\n",
       "      <td>3391.0</td>\n",
       "      <td>431448.0</td>\n",
       "    </tr>\n",
       "    <tr>\n",
       "      <th>639</th>\n",
       "      <td>1172336971</td>\n",
       "      <td>554</td>\n",
       "      <td>1172336971</td>\n",
       "      <td>True</td>\n",
       "      <td>mrbobdaly</td>\n",
       "      <td>False</td>\n",
       "      <td>2257.0</td>\n",
       "      <td>1853.0</td>\n",
       "      <td>158398.0</td>\n",
       "    </tr>\n",
       "    <tr>\n",
       "      <th>653</th>\n",
       "      <td>1479835582167662602</td>\n",
       "      <td>554</td>\n",
       "      <td>1479835582167662602</td>\n",
       "      <td>True</td>\n",
       "      <td>AdrianSowa15</td>\n",
       "      <td>False</td>\n",
       "      <td>40.0</td>\n",
       "      <td>236.0</td>\n",
       "      <td>976.0</td>\n",
       "    </tr>\n",
       "    <tr>\n",
       "      <th>656</th>\n",
       "      <td>280546030</td>\n",
       "      <td>554</td>\n",
       "      <td>280546030</td>\n",
       "      <td>True</td>\n",
       "      <td>londonhf</td>\n",
       "      <td>False</td>\n",
       "      <td>3352.0</td>\n",
       "      <td>1935.0</td>\n",
       "      <td>9132.0</td>\n",
       "    </tr>\n",
       "    <tr>\n",
       "      <th>657</th>\n",
       "      <td>1407536553417609221</td>\n",
       "      <td>554</td>\n",
       "      <td>1407536553417609221</td>\n",
       "      <td>True</td>\n",
       "      <td>alotmoon</td>\n",
       "      <td>False</td>\n",
       "      <td>80.0</td>\n",
       "      <td>74.0</td>\n",
       "      <td>1772.0</td>\n",
       "    </tr>\n",
       "    <tr>\n",
       "      <th>661</th>\n",
       "      <td>1289693848315351043</td>\n",
       "      <td>554</td>\n",
       "      <td>1289693848315351043</td>\n",
       "      <td>True</td>\n",
       "      <td>MagdaTeter</td>\n",
       "      <td>False</td>\n",
       "      <td>392.0</td>\n",
       "      <td>433.0</td>\n",
       "      <td>4824.0</td>\n",
       "    </tr>\n",
       "    <tr>\n",
       "      <th>663</th>\n",
       "      <td>2731499692</td>\n",
       "      <td>554</td>\n",
       "      <td>2731499692</td>\n",
       "      <td>True</td>\n",
       "      <td>JuliaOvcharenko</td>\n",
       "      <td>False</td>\n",
       "      <td>20.0</td>\n",
       "      <td>327.0</td>\n",
       "      <td>946.0</td>\n",
       "    </tr>\n",
       "    <tr>\n",
       "      <th>685</th>\n",
       "      <td>1284890693907951618</td>\n",
       "      <td>554</td>\n",
       "      <td>1284890693907951618</td>\n",
       "      <td>True</td>\n",
       "      <td>thewarrage</td>\n",
       "      <td>False</td>\n",
       "      <td>76668.0</td>\n",
       "      <td>32.0</td>\n",
       "      <td>27668.0</td>\n",
       "    </tr>\n",
       "    <tr>\n",
       "      <th>691</th>\n",
       "      <td>1365583186319863811</td>\n",
       "      <td>554</td>\n",
       "      <td>1365583186319863811</td>\n",
       "      <td>True</td>\n",
       "      <td>TigraiHub</td>\n",
       "      <td>False</td>\n",
       "      <td>13664.0</td>\n",
       "      <td>97.0</td>\n",
       "      <td>3681.0</td>\n",
       "    </tr>\n",
       "    <tr>\n",
       "      <th>697</th>\n",
       "      <td>972891356</td>\n",
       "      <td>554</td>\n",
       "      <td>972891356</td>\n",
       "      <td>True</td>\n",
       "      <td>HenzeTimon</td>\n",
       "      <td>False</td>\n",
       "      <td>641.0</td>\n",
       "      <td>1984.0</td>\n",
       "      <td>10842.0</td>\n",
       "    </tr>\n",
       "    <tr>\n",
       "      <th>711</th>\n",
       "      <td>245991073</td>\n",
       "      <td>554</td>\n",
       "      <td>245991073</td>\n",
       "      <td>True</td>\n",
       "      <td>b_m_hughes</td>\n",
       "      <td>False</td>\n",
       "      <td>5629.0</td>\n",
       "      <td>3199.0</td>\n",
       "      <td>16211.0</td>\n",
       "    </tr>\n",
       "    <tr>\n",
       "      <th>773</th>\n",
       "      <td>375733820</td>\n",
       "      <td>554</td>\n",
       "      <td>375733820</td>\n",
       "      <td>True</td>\n",
       "      <td>AndrewScott40</td>\n",
       "      <td>False</td>\n",
       "      <td>724.0</td>\n",
       "      <td>1400.0</td>\n",
       "      <td>680.0</td>\n",
       "    </tr>\n",
       "    <tr>\n",
       "      <th>778</th>\n",
       "      <td>252365681</td>\n",
       "      <td>554</td>\n",
       "      <td>252365681</td>\n",
       "      <td>True</td>\n",
       "      <td>TheTimDeFelice</td>\n",
       "      <td>False</td>\n",
       "      <td>2699.0</td>\n",
       "      <td>4030.0</td>\n",
       "      <td>44350.0</td>\n",
       "    </tr>\n",
       "  </tbody>\n",
       "</table>\n",
       "</div>"
      ],
      "text/plain": [
       "                      Id  Community                Label  Is_author  \\\n",
       "9    1461676508808978437        554  1461676508808978437       True   \n",
       "16   1405991133017169926        554  1405991133017169926       True   \n",
       "17              89437990        554             89437990       True   \n",
       "34             393896089        554            393896089       True   \n",
       "38            4188145335        554           4188145335       True   \n",
       "41              12166972        554             12166972       True   \n",
       "49             729702644        554            729702644       True   \n",
       "73   1456600599940710467        554  1456600599940710467       True   \n",
       "74   1390351886704947200        554  1390351886704947200       True   \n",
       "95            2651414005        554           2651414005       True   \n",
       "116           2791120677        554           2791120677       True   \n",
       "118           2258102198        554           2258102198       True   \n",
       "119           3614561476        554           3614561476       True   \n",
       "130             16324653        554             16324653       True   \n",
       "139             18529487        554             18529487       True   \n",
       "175             71902263        554             71902263       True   \n",
       "182  1014514281642102785        554  1014514281642102785       True   \n",
       "201   850239531978702848        554   850239531978702848       True   \n",
       "235  1007945678000140289        554  1007945678000140289       True   \n",
       "291             62993130        554             62993130       True   \n",
       "330           2189257184        554           2189257184       True   \n",
       "335  1325486068578258945        554  1325486068578258945       True   \n",
       "349  1356786368656138241        554  1356786368656138241       True   \n",
       "356  1324766023778750464        554  1324766023778750464       True   \n",
       "390  1476074620570812416        554  1476074620570812416       True   \n",
       "395            173562303        554            173562303       True   \n",
       "411            218494359        554            218494359       True   \n",
       "422  1458602144702078980        554  1458602144702078980       True   \n",
       "425   904047154997719040        554   904047154997719040       True   \n",
       "457           2542147872        554           2542147872       True   \n",
       "502             48170768        554             48170768       True   \n",
       "508  1343955256640733184        554  1343955256640733184       True   \n",
       "515  1061081637578919936        554  1061081637578919936       True   \n",
       "537  1267114325921001472        554  1267114325921001472       True   \n",
       "556  1087126290166173702        554  1087126290166173702       True   \n",
       "561            868670948        554            868670948       True   \n",
       "570             51285724        554             51285724       True   \n",
       "585            243876917        554            243876917       True   \n",
       "586  1498293613523968005        554  1498293613523968005       True   \n",
       "597  1494687558621663239        554  1494687558621663239       True   \n",
       "606           1925004564        554           1925004564       True   \n",
       "618           2389823918        554           2389823918       True   \n",
       "639           1172336971        554           1172336971       True   \n",
       "653  1479835582167662602        554  1479835582167662602       True   \n",
       "656            280546030        554            280546030       True   \n",
       "657  1407536553417609221        554  1407536553417609221       True   \n",
       "661  1289693848315351043        554  1289693848315351043       True   \n",
       "663           2731499692        554           2731499692       True   \n",
       "685  1284890693907951618        554  1284890693907951618       True   \n",
       "691  1365583186319863811        554  1365583186319863811       True   \n",
       "697            972891356        554            972891356       True   \n",
       "711            245991073        554            245991073       True   \n",
       "773            375733820        554            375733820       True   \n",
       "778            252365681        554            252365681       True   \n",
       "\n",
       "            Username Verified  followers_count  following_count  tweet_count  \n",
       "9                NaN      NaN              NaN              NaN          NaN  \n",
       "16          JoeSmols    False            993.0            246.0      15422.0  \n",
       "17       AimHigh_TV1    False          87757.0           6180.0       5958.0  \n",
       "34          olha2810    False              6.0             54.0        312.0  \n",
       "38   Sawomir86174818    False            622.0           1841.0     122231.0  \n",
       "41            niniwe    False            261.0            834.0       8865.0  \n",
       "49    BlueDotCitizen    False           6533.0           6574.0      78048.0  \n",
       "73       bijouaicha3    False            206.0            199.0      14094.0  \n",
       "74         stellarwp    False           1074.0            472.0       1073.0  \n",
       "95       Europa97531    False           1702.0           2345.0      47815.0  \n",
       "116           RPR_ua    False           9499.0            770.0      20525.0  \n",
       "118      fozzybear77    False           1435.0           1568.0     115249.0  \n",
       "119    BonSaunderson    False             78.0             77.0       1318.0  \n",
       "130       Rayperez88    False            525.0           2627.0     244689.0  \n",
       "139        79msugrad    False            150.0            416.0       5823.0  \n",
       "175          O_G_Log    False           3570.0           2459.0     510180.0  \n",
       "182       OurReclaim    False           1414.0            380.0     147434.0  \n",
       "201      adam_chweya    False            277.0            248.0        503.0  \n",
       "235    HWNewsEnglish    False           9613.0             38.0      30950.0  \n",
       "291       psa_rising    False            179.0            472.0        738.0  \n",
       "330  Virgini98900230    False           2007.0           2852.0      70775.0  \n",
       "335    Susan_Adam_01    False            922.0           1416.0       6367.0  \n",
       "349     JamesTate121    False          22925.0          21665.0      71855.0  \n",
       "356   SeadaAbedlekar    False           3182.0           2527.0      74688.0  \n",
       "390  TheBarrettMiser    False            272.0            300.0       1846.0  \n",
       "395          Zayphar    False             32.0            245.0      26749.0  \n",
       "411  jozannevdvelden    False            761.0            500.0       1042.0  \n",
       "422        DBAToken3    False             65.0            426.0       1296.0  \n",
       "425       techz_dave    False           1056.0             35.0       2357.0  \n",
       "457     emma12206821    False             80.0             38.0       9384.0  \n",
       "502           E_Hard    False            572.0            562.0       5577.0  \n",
       "508          AlotJot    False            295.0            504.0       2008.0  \n",
       "515   Danialhassan89    False             34.0            549.0        977.0  \n",
       "537   MarteloHeights    False             40.0            611.0       1548.0  \n",
       "556     PaulaClancy8    False             54.0            272.0       2048.0  \n",
       "561         LeoVenez    False           1408.0           4999.0      19530.0  \n",
       "570    crashoverried    False            130.0            178.0      17287.0  \n",
       "585        MatanteJu    False            414.0            930.0      26355.0  \n",
       "586              NaN      NaN              NaN              NaN          NaN  \n",
       "597      Artemcook21    False              0.0            107.0        916.0  \n",
       "606  casciatowriting    False           2484.0           2869.0     118668.0  \n",
       "618        AlAkBseth    False           3810.0           3391.0     431448.0  \n",
       "639        mrbobdaly    False           2257.0           1853.0     158398.0  \n",
       "653     AdrianSowa15    False             40.0            236.0        976.0  \n",
       "656         londonhf    False           3352.0           1935.0       9132.0  \n",
       "657         alotmoon    False             80.0             74.0       1772.0  \n",
       "661       MagdaTeter    False            392.0            433.0       4824.0  \n",
       "663  JuliaOvcharenko    False             20.0            327.0        946.0  \n",
       "685       thewarrage    False          76668.0             32.0      27668.0  \n",
       "691        TigraiHub    False          13664.0             97.0       3681.0  \n",
       "697       HenzeTimon    False            641.0           1984.0      10842.0  \n",
       "711       b_m_hughes    False           5629.0           3199.0      16211.0  \n",
       "773    AndrewScott40    False            724.0           1400.0        680.0  \n",
       "778   TheTimDeFelice    False           2699.0           4030.0      44350.0  "
      ]
     },
     "execution_count": 11,
     "metadata": {},
     "output_type": "execute_result"
    }
   ],
   "source": [
    "authors_info['any'][authors_info['any']['Community'] == biggest_communities['any'][1]]"
   ]
  },
  {
   "cell_type": "markdown",
   "id": "64742c77-11ec-4768-a66f-9fb6af260184",
   "metadata": {},
   "source": [
    "#### Likes"
   ]
  },
  {
   "cell_type": "code",
   "execution_count": 12,
   "id": "43efe41d-5984-4ee5-bab0-ce12c5adc95c",
   "metadata": {},
   "outputs": [
    {
     "data": {
      "text/html": [
       "<div>\n",
       "<style scoped>\n",
       "    .dataframe tbody tr th:only-of-type {\n",
       "        vertical-align: middle;\n",
       "    }\n",
       "\n",
       "    .dataframe tbody tr th {\n",
       "        vertical-align: top;\n",
       "    }\n",
       "\n",
       "    .dataframe thead th {\n",
       "        text-align: right;\n",
       "    }\n",
       "</style>\n",
       "<table border=\"1\" class=\"dataframe\">\n",
       "  <thead>\n",
       "    <tr style=\"text-align: right;\">\n",
       "      <th></th>\n",
       "      <th>Id</th>\n",
       "      <th>Community</th>\n",
       "      <th>Label</th>\n",
       "      <th>Is_author</th>\n",
       "      <th>Username</th>\n",
       "      <th>Verified</th>\n",
       "      <th>followers_count</th>\n",
       "      <th>following_count</th>\n",
       "      <th>tweet_count</th>\n",
       "    </tr>\n",
       "  </thead>\n",
       "  <tbody>\n",
       "    <tr>\n",
       "      <th>275</th>\n",
       "      <td>1044937263489134592</td>\n",
       "      <td>183</td>\n",
       "      <td>1044937263489134592</td>\n",
       "      <td>True</td>\n",
       "      <td>stefano688</td>\n",
       "      <td>False</td>\n",
       "      <td>701.0</td>\n",
       "      <td>4948.0</td>\n",
       "      <td>81903.0</td>\n",
       "    </tr>\n",
       "    <tr>\n",
       "      <th>283</th>\n",
       "      <td>26651370</td>\n",
       "      <td>183</td>\n",
       "      <td>26651370</td>\n",
       "      <td>True</td>\n",
       "      <td>FrancescoLugli</td>\n",
       "      <td>False</td>\n",
       "      <td>753.0</td>\n",
       "      <td>685.0</td>\n",
       "      <td>10190.0</td>\n",
       "    </tr>\n",
       "    <tr>\n",
       "      <th>292</th>\n",
       "      <td>764397613</td>\n",
       "      <td>183</td>\n",
       "      <td>764397613</td>\n",
       "      <td>True</td>\n",
       "      <td>ulrike_baumann</td>\n",
       "      <td>False</td>\n",
       "      <td>259.0</td>\n",
       "      <td>55.0</td>\n",
       "      <td>236.0</td>\n",
       "    </tr>\n",
       "    <tr>\n",
       "      <th>519</th>\n",
       "      <td>1341232362</td>\n",
       "      <td>183</td>\n",
       "      <td>1341232362</td>\n",
       "      <td>True</td>\n",
       "      <td>valuesearcher</td>\n",
       "      <td>False</td>\n",
       "      <td>218.0</td>\n",
       "      <td>96.0</td>\n",
       "      <td>5618.0</td>\n",
       "    </tr>\n",
       "    <tr>\n",
       "      <th>607</th>\n",
       "      <td>1429797346678874112</td>\n",
       "      <td>183</td>\n",
       "      <td>1429797346678874112</td>\n",
       "      <td>True</td>\n",
       "      <td>Lecca64035164</td>\n",
       "      <td>False</td>\n",
       "      <td>4.0</td>\n",
       "      <td>0.0</td>\n",
       "      <td>1349.0</td>\n",
       "    </tr>\n",
       "    <tr>\n",
       "      <th>647</th>\n",
       "      <td>1430307870982107140</td>\n",
       "      <td>183</td>\n",
       "      <td>1430307870982107140</td>\n",
       "      <td>True</td>\n",
       "      <td>CardanoNoodz</td>\n",
       "      <td>False</td>\n",
       "      <td>5937.0</td>\n",
       "      <td>4175.0</td>\n",
       "      <td>23623.0</td>\n",
       "    </tr>\n",
       "  </tbody>\n",
       "</table>\n",
       "</div>"
      ],
      "text/plain": [
       "                      Id  Community                Label  Is_author  \\\n",
       "275  1044937263489134592        183  1044937263489134592       True   \n",
       "283             26651370        183             26651370       True   \n",
       "292            764397613        183            764397613       True   \n",
       "519           1341232362        183           1341232362       True   \n",
       "607  1429797346678874112        183  1429797346678874112       True   \n",
       "647  1430307870982107140        183  1430307870982107140       True   \n",
       "\n",
       "           Username Verified  followers_count  following_count  tweet_count  \n",
       "275      stefano688    False            701.0           4948.0      81903.0  \n",
       "283  FrancescoLugli    False            753.0            685.0      10190.0  \n",
       "292  ulrike_baumann    False            259.0             55.0        236.0  \n",
       "519   valuesearcher    False            218.0             96.0       5618.0  \n",
       "607   Lecca64035164    False              4.0              0.0       1349.0  \n",
       "647    CardanoNoodz    False           5937.0           4175.0      23623.0  "
      ]
     },
     "execution_count": 12,
     "metadata": {},
     "output_type": "execute_result"
    }
   ],
   "source": [
    "authors_info['like'][authors_info['like']['Community'] == biggest_communities['like'][0]]"
   ]
  },
  {
   "cell_type": "code",
   "execution_count": 13,
   "id": "80dd093a-4cca-430d-990b-f8af6d2ae89f",
   "metadata": {},
   "outputs": [
    {
     "data": {
      "text/html": [
       "<div>\n",
       "<style scoped>\n",
       "    .dataframe tbody tr th:only-of-type {\n",
       "        vertical-align: middle;\n",
       "    }\n",
       "\n",
       "    .dataframe tbody tr th {\n",
       "        vertical-align: top;\n",
       "    }\n",
       "\n",
       "    .dataframe thead th {\n",
       "        text-align: right;\n",
       "    }\n",
       "</style>\n",
       "<table border=\"1\" class=\"dataframe\">\n",
       "  <thead>\n",
       "    <tr style=\"text-align: right;\">\n",
       "      <th></th>\n",
       "      <th>Id</th>\n",
       "      <th>Community</th>\n",
       "      <th>Label</th>\n",
       "      <th>Is_author</th>\n",
       "      <th>Username</th>\n",
       "      <th>Verified</th>\n",
       "      <th>followers_count</th>\n",
       "      <th>following_count</th>\n",
       "      <th>tweet_count</th>\n",
       "    </tr>\n",
       "  </thead>\n",
       "  <tbody>\n",
       "    <tr>\n",
       "      <th>41</th>\n",
       "      <td>12166972</td>\n",
       "      <td>597</td>\n",
       "      <td>12166972</td>\n",
       "      <td>True</td>\n",
       "      <td>niniwe</td>\n",
       "      <td>False</td>\n",
       "      <td>261.0</td>\n",
       "      <td>834.0</td>\n",
       "      <td>8865.0</td>\n",
       "    </tr>\n",
       "    <tr>\n",
       "      <th>72</th>\n",
       "      <td>1390351886704947200</td>\n",
       "      <td>597</td>\n",
       "      <td>1390351886704947200</td>\n",
       "      <td>True</td>\n",
       "      <td>stellarwp</td>\n",
       "      <td>False</td>\n",
       "      <td>1074.0</td>\n",
       "      <td>472.0</td>\n",
       "      <td>1073.0</td>\n",
       "    </tr>\n",
       "    <tr>\n",
       "      <th>458</th>\n",
       "      <td>2389823918</td>\n",
       "      <td>597</td>\n",
       "      <td>2389823918</td>\n",
       "      <td>True</td>\n",
       "      <td>AlAkBseth</td>\n",
       "      <td>False</td>\n",
       "      <td>3810.0</td>\n",
       "      <td>3391.0</td>\n",
       "      <td>431448.0</td>\n",
       "    </tr>\n",
       "  </tbody>\n",
       "</table>\n",
       "</div>"
      ],
      "text/plain": [
       "                      Id  Community                Label  Is_author  \\\n",
       "41              12166972        597             12166972       True   \n",
       "72   1390351886704947200        597  1390351886704947200       True   \n",
       "458           2389823918        597           2389823918       True   \n",
       "\n",
       "      Username Verified  followers_count  following_count  tweet_count  \n",
       "41      niniwe    False            261.0            834.0       8865.0  \n",
       "72   stellarwp    False           1074.0            472.0       1073.0  \n",
       "458  AlAkBseth    False           3810.0           3391.0     431448.0  "
      ]
     },
     "execution_count": 13,
     "metadata": {},
     "output_type": "execute_result"
    }
   ],
   "source": [
    "authors_info['like'][authors_info['like']['Community'] == biggest_communities['like'][1]]"
   ]
  },
  {
   "cell_type": "markdown",
   "id": "4c55059c-5651-4a4e-bf13-775a5484199c",
   "metadata": {},
   "source": [
    "#### Retweet"
   ]
  },
  {
   "cell_type": "code",
   "execution_count": 14,
   "id": "06beea2a-aaad-45af-a71e-667bbef78608",
   "metadata": {},
   "outputs": [
    {
     "data": {
      "text/html": [
       "<div>\n",
       "<style scoped>\n",
       "    .dataframe tbody tr th:only-of-type {\n",
       "        vertical-align: middle;\n",
       "    }\n",
       "\n",
       "    .dataframe tbody tr th {\n",
       "        vertical-align: top;\n",
       "    }\n",
       "\n",
       "    .dataframe thead th {\n",
       "        text-align: right;\n",
       "    }\n",
       "</style>\n",
       "<table border=\"1\" class=\"dataframe\">\n",
       "  <thead>\n",
       "    <tr style=\"text-align: right;\">\n",
       "      <th></th>\n",
       "      <th>Id</th>\n",
       "      <th>Community</th>\n",
       "      <th>Label</th>\n",
       "      <th>Is_author</th>\n",
       "      <th>Username</th>\n",
       "      <th>Verified</th>\n",
       "      <th>followers_count</th>\n",
       "      <th>following_count</th>\n",
       "      <th>tweet_count</th>\n",
       "    </tr>\n",
       "  </thead>\n",
       "  <tbody>\n",
       "    <tr>\n",
       "      <th>174</th>\n",
       "      <td>1065202791621296128</td>\n",
       "      <td>614</td>\n",
       "      <td>1065202791621296128</td>\n",
       "      <td>True</td>\n",
       "      <td>urbanhaiti</td>\n",
       "      <td>False</td>\n",
       "      <td>333.0</td>\n",
       "      <td>186.0</td>\n",
       "      <td>5622.0</td>\n",
       "    </tr>\n",
       "    <tr>\n",
       "      <th>186</th>\n",
       "      <td>895966977407074304</td>\n",
       "      <td>614</td>\n",
       "      <td>895966977407074304</td>\n",
       "      <td>True</td>\n",
       "      <td>EastMojo</td>\n",
       "      <td>True</td>\n",
       "      <td>17498.0</td>\n",
       "      <td>625.0</td>\n",
       "      <td>40829.0</td>\n",
       "    </tr>\n",
       "    <tr>\n",
       "      <th>251</th>\n",
       "      <td>2342054232</td>\n",
       "      <td>614</td>\n",
       "      <td>2342054232</td>\n",
       "      <td>True</td>\n",
       "      <td>KondratieffWave</td>\n",
       "      <td>False</td>\n",
       "      <td>2090.0</td>\n",
       "      <td>4638.0</td>\n",
       "      <td>30047.0</td>\n",
       "    </tr>\n",
       "    <tr>\n",
       "      <th>440</th>\n",
       "      <td>1265133839258697728</td>\n",
       "      <td>614</td>\n",
       "      <td>1265133839258697728</td>\n",
       "      <td>True</td>\n",
       "      <td>RR52725843</td>\n",
       "      <td>False</td>\n",
       "      <td>110.0</td>\n",
       "      <td>21.0</td>\n",
       "      <td>7361.0</td>\n",
       "    </tr>\n",
       "    <tr>\n",
       "      <th>461</th>\n",
       "      <td>360164560</td>\n",
       "      <td>614</td>\n",
       "      <td>360164560</td>\n",
       "      <td>True</td>\n",
       "      <td>SyriaArchives</td>\n",
       "      <td>False</td>\n",
       "      <td>672.0</td>\n",
       "      <td>2651.0</td>\n",
       "      <td>4955.0</td>\n",
       "    </tr>\n",
       "    <tr>\n",
       "      <th>531</th>\n",
       "      <td>26651370</td>\n",
       "      <td>614</td>\n",
       "      <td>26651370</td>\n",
       "      <td>True</td>\n",
       "      <td>FrancescoLugli</td>\n",
       "      <td>False</td>\n",
       "      <td>753.0</td>\n",
       "      <td>685.0</td>\n",
       "      <td>10190.0</td>\n",
       "    </tr>\n",
       "    <tr>\n",
       "      <th>533</th>\n",
       "      <td>1496805133279277061</td>\n",
       "      <td>614</td>\n",
       "      <td>1496805133279277061</td>\n",
       "      <td>True</td>\n",
       "      <td>GC35786982</td>\n",
       "      <td>False</td>\n",
       "      <td>2.0</td>\n",
       "      <td>34.0</td>\n",
       "      <td>560.0</td>\n",
       "    </tr>\n",
       "    <tr>\n",
       "      <th>534</th>\n",
       "      <td>41014243</td>\n",
       "      <td>614</td>\n",
       "      <td>41014243</td>\n",
       "      <td>True</td>\n",
       "      <td>qvalemangusta</td>\n",
       "      <td>False</td>\n",
       "      <td>1774.0</td>\n",
       "      <td>1226.0</td>\n",
       "      <td>144737.0</td>\n",
       "    </tr>\n",
       "  </tbody>\n",
       "</table>\n",
       "</div>"
      ],
      "text/plain": [
       "                      Id  Community                Label  Is_author  \\\n",
       "174  1065202791621296128        614  1065202791621296128       True   \n",
       "186   895966977407074304        614   895966977407074304       True   \n",
       "251           2342054232        614           2342054232       True   \n",
       "440  1265133839258697728        614  1265133839258697728       True   \n",
       "461            360164560        614            360164560       True   \n",
       "531             26651370        614             26651370       True   \n",
       "533  1496805133279277061        614  1496805133279277061       True   \n",
       "534             41014243        614             41014243       True   \n",
       "\n",
       "            Username Verified  followers_count  following_count  tweet_count  \n",
       "174       urbanhaiti    False            333.0            186.0       5622.0  \n",
       "186         EastMojo     True          17498.0            625.0      40829.0  \n",
       "251  KondratieffWave    False           2090.0           4638.0      30047.0  \n",
       "440       RR52725843    False            110.0             21.0       7361.0  \n",
       "461    SyriaArchives    False            672.0           2651.0       4955.0  \n",
       "531   FrancescoLugli    False            753.0            685.0      10190.0  \n",
       "533       GC35786982    False              2.0             34.0        560.0  \n",
       "534    qvalemangusta    False           1774.0           1226.0     144737.0  "
      ]
     },
     "execution_count": 14,
     "metadata": {},
     "output_type": "execute_result"
    }
   ],
   "source": [
    "authors_info['retweet'][authors_info['retweet']['Community'] == biggest_communities['retweet'][0]]"
   ]
  },
  {
   "cell_type": "code",
   "execution_count": 15,
   "id": "d6fc6baf-d106-4643-8463-aa7e3c6e8d7f",
   "metadata": {},
   "outputs": [
    {
     "data": {
      "text/html": [
       "<div>\n",
       "<style scoped>\n",
       "    .dataframe tbody tr th:only-of-type {\n",
       "        vertical-align: middle;\n",
       "    }\n",
       "\n",
       "    .dataframe tbody tr th {\n",
       "        vertical-align: top;\n",
       "    }\n",
       "\n",
       "    .dataframe thead th {\n",
       "        text-align: right;\n",
       "    }\n",
       "</style>\n",
       "<table border=\"1\" class=\"dataframe\">\n",
       "  <thead>\n",
       "    <tr style=\"text-align: right;\">\n",
       "      <th></th>\n",
       "      <th>Id</th>\n",
       "      <th>Community</th>\n",
       "      <th>Label</th>\n",
       "      <th>Is_author</th>\n",
       "      <th>Username</th>\n",
       "      <th>Verified</th>\n",
       "      <th>followers_count</th>\n",
       "      <th>following_count</th>\n",
       "      <th>tweet_count</th>\n",
       "    </tr>\n",
       "  </thead>\n",
       "  <tbody>\n",
       "    <tr>\n",
       "      <th>116</th>\n",
       "      <td>1340124668825657349</td>\n",
       "      <td>467</td>\n",
       "      <td>1340124668825657349</td>\n",
       "      <td>True</td>\n",
       "      <td>ARedbord</td>\n",
       "      <td>False</td>\n",
       "      <td>1063.0</td>\n",
       "      <td>494.0</td>\n",
       "      <td>619.0</td>\n",
       "    </tr>\n",
       "    <tr>\n",
       "      <th>276</th>\n",
       "      <td>864504738691268609</td>\n",
       "      <td>467</td>\n",
       "      <td>864504738691268609</td>\n",
       "      <td>True</td>\n",
       "      <td>DocsPSCbasics</td>\n",
       "      <td>False</td>\n",
       "      <td>787.0</td>\n",
       "      <td>680.0</td>\n",
       "      <td>13788.0</td>\n",
       "    </tr>\n",
       "    <tr>\n",
       "      <th>312</th>\n",
       "      <td>1941753763</td>\n",
       "      <td>467</td>\n",
       "      <td>1941753763</td>\n",
       "      <td>True</td>\n",
       "      <td>Lainielah</td>\n",
       "      <td>False</td>\n",
       "      <td>3667.0</td>\n",
       "      <td>3385.0</td>\n",
       "      <td>20635.0</td>\n",
       "    </tr>\n",
       "    <tr>\n",
       "      <th>318</th>\n",
       "      <td>138898251</td>\n",
       "      <td>467</td>\n",
       "      <td>138898251</td>\n",
       "      <td>True</td>\n",
       "      <td>btkrth</td>\n",
       "      <td>False</td>\n",
       "      <td>1837.0</td>\n",
       "      <td>4980.0</td>\n",
       "      <td>404063.0</td>\n",
       "    </tr>\n",
       "    <tr>\n",
       "      <th>392</th>\n",
       "      <td>1333125538706296833</td>\n",
       "      <td>467</td>\n",
       "      <td>1333125538706296833</td>\n",
       "      <td>True</td>\n",
       "      <td>Gurmind69618903</td>\n",
       "      <td>False</td>\n",
       "      <td>1728.0</td>\n",
       "      <td>2405.0</td>\n",
       "      <td>20355.0</td>\n",
       "    </tr>\n",
       "  </tbody>\n",
       "</table>\n",
       "</div>"
      ],
      "text/plain": [
       "                      Id  Community                Label  Is_author  \\\n",
       "116  1340124668825657349        467  1340124668825657349       True   \n",
       "276   864504738691268609        467   864504738691268609       True   \n",
       "312           1941753763        467           1941753763       True   \n",
       "318            138898251        467            138898251       True   \n",
       "392  1333125538706296833        467  1333125538706296833       True   \n",
       "\n",
       "            Username Verified  followers_count  following_count  tweet_count  \n",
       "116         ARedbord    False           1063.0            494.0        619.0  \n",
       "276    DocsPSCbasics    False            787.0            680.0      13788.0  \n",
       "312        Lainielah    False           3667.0           3385.0      20635.0  \n",
       "318           btkrth    False           1837.0           4980.0     404063.0  \n",
       "392  Gurmind69618903    False           1728.0           2405.0      20355.0  "
      ]
     },
     "execution_count": 15,
     "metadata": {},
     "output_type": "execute_result"
    }
   ],
   "source": [
    "authors_info['retweet'][authors_info['retweet']['Community'] == biggest_communities['retweet'][1]]"
   ]
  },
  {
   "cell_type": "code",
   "execution_count": null,
   "id": "c2027307",
   "metadata": {},
   "outputs": [],
   "source": [
    "# intersection between id of the authors in the biggest communities for like and\n",
    "# retweet\n",
    "set(authors_info['like'][authors_info['like']['Community'] == biggest_communities['like'][0]]['Id']).intersection(set(authors_info['retweet'][authors_info['retweet']['Community'] == biggest_communities['retweet'][0]]['Id']))"
   ]
  },
  {
   "cell_type": "markdown",
   "id": "ca73153c-14b9-4f30-88c7-e59222ce0e88",
   "metadata": {},
   "source": [
    "## Comparison between our implementation and the one from NetworkX"
   ]
  },
  {
   "cell_type": "code",
   "execution_count": 98,
   "id": "213a5f6b",
   "metadata": {},
   "outputs": [
    {
     "name": "stdout",
     "output_type": "stream",
     "text": [
      "Graph of 375247 nodes\n",
      "After first passage: 100 communities\n",
      "Time for NetworkX: 29.213629999999284\n",
      "Louvain on edgelists_any_sample\n",
      "Passage 1\n",
      "Iteration 1\n"
     ]
    },
    {
     "name": "stderr",
     "output_type": "stream",
     "text": [
      "100%|██████████| 375247/375247 [00:14<00:00, 25661.33it/s]"
     ]
    },
    {
     "name": "stdout",
     "output_type": "stream",
     "text": [
      "Iteration 2\n"
     ]
    },
    {
     "name": "stderr",
     "output_type": "stream",
     "text": [
      "\n",
      "100%|██████████| 375247/375247 [00:11<00:00, 34082.38it/s]"
     ]
    },
    {
     "name": "stdout",
     "output_type": "stream",
     "text": [
      "Iteration 3\n"
     ]
    },
    {
     "name": "stderr",
     "output_type": "stream",
     "text": [
      "\n",
      "100%|██████████| 375247/375247 [00:11<00:00, 33998.23it/s]"
     ]
    },
    {
     "name": "stdout",
     "output_type": "stream",
     "text": [
      "Iteration 4\n"
     ]
    },
    {
     "name": "stderr",
     "output_type": "stream",
     "text": [
      "\n",
      "100%|██████████| 375247/375247 [00:10<00:00, 35020.22it/s]"
     ]
    },
    {
     "name": "stdout",
     "output_type": "stream",
     "text": [
      "Constructing new graph\n"
     ]
    },
    {
     "name": "stderr",
     "output_type": "stream",
     "text": [
      "\n"
     ]
    },
    {
     "name": "stdout",
     "output_type": "stream",
     "text": [
      "There are 100 communities after passage 1\n",
      "Time for our implementation: 66.32583280000017\n",
      "Graph of 350872 nodes\n"
     ]
    },
    {
     "ename": "KeyboardInterrupt",
     "evalue": "",
     "output_type": "error",
     "traceback": [
      "\u001b[1;31m---------------------------------------------------------------------------\u001b[0m",
      "\u001b[1;31mKeyboardInterrupt\u001b[0m                         Traceback (most recent call last)",
      "\u001b[1;32mc:\\Users\\bao_l\\Projects\\twitter-ukraine-conflict\\3-analysis.ipynb Cell 26'\u001b[0m in \u001b[0;36m<cell line: 2>\u001b[1;34m()\u001b[0m\n\u001b[0;32m      <a href='vscode-notebook-cell:/c%3A/Users/bao_l/Projects/twitter-ukraine-conflict/3-analysis.ipynb#ch0000020?line=4'>5</a>\u001b[0m start_net \u001b[39m=\u001b[39m perf_counter()\n\u001b[0;32m      <a href='vscode-notebook-cell:/c%3A/Users/bao_l/Projects/twitter-ukraine-conflict/3-analysis.ipynb#ch0000020?line=5'>6</a>\u001b[0m louvain_nx \u001b[39m=\u001b[39m community\u001b[39m.\u001b[39mlouvain_partitions(G)\n\u001b[1;32m----> <a href='vscode-notebook-cell:/c%3A/Users/bao_l/Projects/twitter-ukraine-conflict/3-analysis.ipynb#ch0000020?line=6'>7</a>\u001b[0m first \u001b[39m=\u001b[39m \u001b[39mnext\u001b[39;49m(louvain_nx)\n\u001b[0;32m      <a href='vscode-notebook-cell:/c%3A/Users/bao_l/Projects/twitter-ukraine-conflict/3-analysis.ipynb#ch0000020?line=7'>8</a>\u001b[0m stop_net \u001b[39m=\u001b[39m perf_counter()\n\u001b[0;32m      <a href='vscode-notebook-cell:/c%3A/Users/bao_l/Projects/twitter-ukraine-conflict/3-analysis.ipynb#ch0000020?line=8'>9</a>\u001b[0m \u001b[39mprint\u001b[39m(\u001b[39mf\u001b[39m\u001b[39m\"\u001b[39m\u001b[39mAfter first passage: \u001b[39m\u001b[39m{\u001b[39;00m\u001b[39mlen\u001b[39m(first)\u001b[39m}\u001b[39;00m\u001b[39m communities\u001b[39m\u001b[39m\"\u001b[39m)\n",
      "File \u001b[1;32m<class 'networkx.utils.decorators.argmap'> compilation 8:4\u001b[0m, in \u001b[0;36margmap_louvain_partitions_5\u001b[1;34m(G, weight, resolution, threshold, seed)\u001b[0m\n\u001b[0;32m      <a href='file:///%3Cclass%20%27networkx.utils.decorators.argmap%27%3E%20compilation%208?line=1'>2</a>\u001b[0m \u001b[39mfrom\u001b[39;00m \u001b[39mos\u001b[39;00m\u001b[39m.\u001b[39;00m\u001b[39mpath\u001b[39;00m \u001b[39mimport\u001b[39;00m splitext\n\u001b[0;32m      <a href='file:///%3Cclass%20%27networkx.utils.decorators.argmap%27%3E%20compilation%208?line=2'>3</a>\u001b[0m \u001b[39mfrom\u001b[39;00m \u001b[39mcontextlib\u001b[39;00m \u001b[39mimport\u001b[39;00m contextmanager\n\u001b[1;32m----> <a href='file:///%3Cclass%20%27networkx.utils.decorators.argmap%27%3E%20compilation%208?line=3'>4</a>\u001b[0m \u001b[39mfrom\u001b[39;00m \u001b[39mpathlib\u001b[39;00m \u001b[39mimport\u001b[39;00m Path\n\u001b[0;32m      <a href='file:///%3Cclass%20%27networkx.utils.decorators.argmap%27%3E%20compilation%208?line=5'>6</a>\u001b[0m \u001b[39mimport\u001b[39;00m \u001b[39mnetworkx\u001b[39;00m \u001b[39mas\u001b[39;00m \u001b[39mnx\u001b[39;00m\n\u001b[0;32m      <a href='file:///%3Cclass%20%27networkx.utils.decorators.argmap%27%3E%20compilation%208?line=6'>7</a>\u001b[0m \u001b[39mfrom\u001b[39;00m \u001b[39mnetworkx\u001b[39;00m\u001b[39m.\u001b[39;00m\u001b[39mutils\u001b[39;00m \u001b[39mimport\u001b[39;00m create_random_state, create_py_random_state\n",
      "File \u001b[1;32mc:\\Users\\bao_l\\.virtualenvs\\twitter-ukraine-conflict-H_rK_fvr\\lib\\site-packages\\networkx\\algorithms\\community\\louvain.py:177\u001b[0m, in \u001b[0;36mlouvain_partitions\u001b[1;34m(G, weight, resolution, threshold, seed)\u001b[0m\n\u001b[0;32m    <a href='file:///c%3A/Users/bao_l/.virtualenvs/twitter-ukraine-conflict-H_rK_fvr/lib/site-packages/networkx/algorithms/community/louvain.py?line=173'>174</a>\u001b[0m     graph\u001b[39m.\u001b[39madd_weighted_edges_from(G\u001b[39m.\u001b[39medges(data\u001b[39m=\u001b[39mweight, default\u001b[39m=\u001b[39m\u001b[39m1\u001b[39m))\n\u001b[0;32m    <a href='file:///c%3A/Users/bao_l/.virtualenvs/twitter-ukraine-conflict-H_rK_fvr/lib/site-packages/networkx/algorithms/community/louvain.py?line=175'>176</a>\u001b[0m m \u001b[39m=\u001b[39m graph\u001b[39m.\u001b[39msize(weight\u001b[39m=\u001b[39m\u001b[39m\"\u001b[39m\u001b[39mweight\u001b[39m\u001b[39m\"\u001b[39m)\n\u001b[1;32m--> <a href='file:///c%3A/Users/bao_l/.virtualenvs/twitter-ukraine-conflict-H_rK_fvr/lib/site-packages/networkx/algorithms/community/louvain.py?line=176'>177</a>\u001b[0m partition, inner_partition, improvement \u001b[39m=\u001b[39m _one_level(\n\u001b[0;32m    <a href='file:///c%3A/Users/bao_l/.virtualenvs/twitter-ukraine-conflict-H_rK_fvr/lib/site-packages/networkx/algorithms/community/louvain.py?line=177'>178</a>\u001b[0m     graph, m, partition, resolution, is_directed, seed\n\u001b[0;32m    <a href='file:///c%3A/Users/bao_l/.virtualenvs/twitter-ukraine-conflict-H_rK_fvr/lib/site-packages/networkx/algorithms/community/louvain.py?line=178'>179</a>\u001b[0m )\n\u001b[0;32m    <a href='file:///c%3A/Users/bao_l/.virtualenvs/twitter-ukraine-conflict-H_rK_fvr/lib/site-packages/networkx/algorithms/community/louvain.py?line=179'>180</a>\u001b[0m improvement \u001b[39m=\u001b[39m \u001b[39mTrue\u001b[39;00m\n\u001b[0;32m    <a href='file:///c%3A/Users/bao_l/.virtualenvs/twitter-ukraine-conflict-H_rK_fvr/lib/site-packages/networkx/algorithms/community/louvain.py?line=180'>181</a>\u001b[0m \u001b[39mwhile\u001b[39;00m improvement:\n",
      "File \u001b[1;32mc:\\Users\\bao_l\\.virtualenvs\\twitter-ukraine-conflict-H_rK_fvr\\lib\\site-packages\\networkx\\algorithms\\community\\louvain.py:225\u001b[0m, in \u001b[0;36m_one_level\u001b[1;34m(G, m, partition, resolution, is_directed, seed)\u001b[0m\n\u001b[0;32m    <a href='file:///c%3A/Users/bao_l/.virtualenvs/twitter-ukraine-conflict-H_rK_fvr/lib/site-packages/networkx/algorithms/community/louvain.py?line=222'>223</a>\u001b[0m     degrees \u001b[39m=\u001b[39m \u001b[39mdict\u001b[39m(G\u001b[39m.\u001b[39mdegree(weight\u001b[39m=\u001b[39m\u001b[39m\"\u001b[39m\u001b[39mweight\u001b[39m\u001b[39m\"\u001b[39m))\n\u001b[0;32m    <a href='file:///c%3A/Users/bao_l/.virtualenvs/twitter-ukraine-conflict-H_rK_fvr/lib/site-packages/networkx/algorithms/community/louvain.py?line=223'>224</a>\u001b[0m     Stot \u001b[39m=\u001b[39m [deg \u001b[39mfor\u001b[39;00m deg \u001b[39min\u001b[39;00m degrees\u001b[39m.\u001b[39mvalues()]\n\u001b[1;32m--> <a href='file:///c%3A/Users/bao_l/.virtualenvs/twitter-ukraine-conflict-H_rK_fvr/lib/site-packages/networkx/algorithms/community/louvain.py?line=224'>225</a>\u001b[0m nbrs \u001b[39m=\u001b[39m {u: {v: data[\u001b[39m\"\u001b[39m\u001b[39mweight\u001b[39m\u001b[39m\"\u001b[39m] \u001b[39mfor\u001b[39;00m v, data \u001b[39min\u001b[39;00m G[u]\u001b[39m.\u001b[39mitems() \u001b[39mif\u001b[39;00m v \u001b[39m!=\u001b[39m u} \u001b[39mfor\u001b[39;00m u \u001b[39min\u001b[39;00m G}\n\u001b[0;32m    <a href='file:///c%3A/Users/bao_l/.virtualenvs/twitter-ukraine-conflict-H_rK_fvr/lib/site-packages/networkx/algorithms/community/louvain.py?line=225'>226</a>\u001b[0m rand_nodes \u001b[39m=\u001b[39m \u001b[39mlist\u001b[39m(G\u001b[39m.\u001b[39mnodes)\n\u001b[0;32m    <a href='file:///c%3A/Users/bao_l/.virtualenvs/twitter-ukraine-conflict-H_rK_fvr/lib/site-packages/networkx/algorithms/community/louvain.py?line=226'>227</a>\u001b[0m seed\u001b[39m.\u001b[39mshuffle(rand_nodes)\n",
      "File \u001b[1;32mc:\\Users\\bao_l\\.virtualenvs\\twitter-ukraine-conflict-H_rK_fvr\\lib\\site-packages\\networkx\\algorithms\\community\\louvain.py:225\u001b[0m, in \u001b[0;36m<dictcomp>\u001b[1;34m(.0)\u001b[0m\n\u001b[0;32m    <a href='file:///c%3A/Users/bao_l/.virtualenvs/twitter-ukraine-conflict-H_rK_fvr/lib/site-packages/networkx/algorithms/community/louvain.py?line=222'>223</a>\u001b[0m     degrees \u001b[39m=\u001b[39m \u001b[39mdict\u001b[39m(G\u001b[39m.\u001b[39mdegree(weight\u001b[39m=\u001b[39m\u001b[39m\"\u001b[39m\u001b[39mweight\u001b[39m\u001b[39m\"\u001b[39m))\n\u001b[0;32m    <a href='file:///c%3A/Users/bao_l/.virtualenvs/twitter-ukraine-conflict-H_rK_fvr/lib/site-packages/networkx/algorithms/community/louvain.py?line=223'>224</a>\u001b[0m     Stot \u001b[39m=\u001b[39m [deg \u001b[39mfor\u001b[39;00m deg \u001b[39min\u001b[39;00m degrees\u001b[39m.\u001b[39mvalues()]\n\u001b[1;32m--> <a href='file:///c%3A/Users/bao_l/.virtualenvs/twitter-ukraine-conflict-H_rK_fvr/lib/site-packages/networkx/algorithms/community/louvain.py?line=224'>225</a>\u001b[0m nbrs \u001b[39m=\u001b[39m {u: {v: data[\u001b[39m\"\u001b[39m\u001b[39mweight\u001b[39m\u001b[39m\"\u001b[39m] \u001b[39mfor\u001b[39;00m v, data \u001b[39min\u001b[39;00m G[u]\u001b[39m.\u001b[39mitems() \u001b[39mif\u001b[39;00m v \u001b[39m!=\u001b[39m u} \u001b[39mfor\u001b[39;00m u \u001b[39min\u001b[39;00m G}\n\u001b[0;32m    <a href='file:///c%3A/Users/bao_l/.virtualenvs/twitter-ukraine-conflict-H_rK_fvr/lib/site-packages/networkx/algorithms/community/louvain.py?line=225'>226</a>\u001b[0m rand_nodes \u001b[39m=\u001b[39m \u001b[39mlist\u001b[39m(G\u001b[39m.\u001b[39mnodes)\n\u001b[0;32m    <a href='file:///c%3A/Users/bao_l/.virtualenvs/twitter-ukraine-conflict-H_rK_fvr/lib/site-packages/networkx/algorithms/community/louvain.py?line=226'>227</a>\u001b[0m seed\u001b[39m.\u001b[39mshuffle(rand_nodes)\n",
      "File \u001b[1;32mc:\\Users\\bao_l\\.virtualenvs\\twitter-ukraine-conflict-H_rK_fvr\\lib\\site-packages\\networkx\\algorithms\\community\\louvain.py:225\u001b[0m, in \u001b[0;36m<dictcomp>\u001b[1;34m(.0)\u001b[0m\n\u001b[0;32m    <a href='file:///c%3A/Users/bao_l/.virtualenvs/twitter-ukraine-conflict-H_rK_fvr/lib/site-packages/networkx/algorithms/community/louvain.py?line=222'>223</a>\u001b[0m     degrees \u001b[39m=\u001b[39m \u001b[39mdict\u001b[39m(G\u001b[39m.\u001b[39mdegree(weight\u001b[39m=\u001b[39m\u001b[39m\"\u001b[39m\u001b[39mweight\u001b[39m\u001b[39m\"\u001b[39m))\n\u001b[0;32m    <a href='file:///c%3A/Users/bao_l/.virtualenvs/twitter-ukraine-conflict-H_rK_fvr/lib/site-packages/networkx/algorithms/community/louvain.py?line=223'>224</a>\u001b[0m     Stot \u001b[39m=\u001b[39m [deg \u001b[39mfor\u001b[39;00m deg \u001b[39min\u001b[39;00m degrees\u001b[39m.\u001b[39mvalues()]\n\u001b[1;32m--> <a href='file:///c%3A/Users/bao_l/.virtualenvs/twitter-ukraine-conflict-H_rK_fvr/lib/site-packages/networkx/algorithms/community/louvain.py?line=224'>225</a>\u001b[0m nbrs \u001b[39m=\u001b[39m {u: {v: data[\u001b[39m\"\u001b[39m\u001b[39mweight\u001b[39m\u001b[39m\"\u001b[39m] \u001b[39mfor\u001b[39;00m v, data \u001b[39min\u001b[39;00m G[u]\u001b[39m.\u001b[39mitems() \u001b[39mif\u001b[39;00m v \u001b[39m!=\u001b[39m u} \u001b[39mfor\u001b[39;00m u \u001b[39min\u001b[39;00m G}\n\u001b[0;32m    <a href='file:///c%3A/Users/bao_l/.virtualenvs/twitter-ukraine-conflict-H_rK_fvr/lib/site-packages/networkx/algorithms/community/louvain.py?line=225'>226</a>\u001b[0m rand_nodes \u001b[39m=\u001b[39m \u001b[39mlist\u001b[39m(G\u001b[39m.\u001b[39mnodes)\n\u001b[0;32m    <a href='file:///c%3A/Users/bao_l/.virtualenvs/twitter-ukraine-conflict-H_rK_fvr/lib/site-packages/networkx/algorithms/community/louvain.py?line=226'>227</a>\u001b[0m seed\u001b[39m.\u001b[39mshuffle(rand_nodes)\n",
      "File \u001b[1;32m~\\AppData\\Local\\Programs\\Python\\Python38\\lib\\_collections_abc.py:743\u001b[0m, in \u001b[0;36mItemsView.__iter__\u001b[1;34m(self)\u001b[0m\n\u001b[0;32m    <a href='file:///c%3A/Users/bao_l/AppData/Local/Programs/Python/Python38/lib/_collections_abc.py?line=741'>742</a>\u001b[0m \u001b[39mdef\u001b[39;00m \u001b[39m__iter__\u001b[39m(\u001b[39mself\u001b[39m):\n\u001b[1;32m--> <a href='file:///c%3A/Users/bao_l/AppData/Local/Programs/Python/Python38/lib/_collections_abc.py?line=742'>743</a>\u001b[0m     \u001b[39mfor\u001b[39;00m key \u001b[39min\u001b[39;00m \u001b[39mself\u001b[39;49m\u001b[39m.\u001b[39;49m_mapping:\n\u001b[0;32m    <a href='file:///c%3A/Users/bao_l/AppData/Local/Programs/Python/Python38/lib/_collections_abc.py?line=743'>744</a>\u001b[0m         \u001b[39myield\u001b[39;00m (key, \u001b[39mself\u001b[39m\u001b[39m.\u001b[39m_mapping[key])\n",
      "\u001b[1;31mKeyboardInterrupt\u001b[0m: "
     ]
    }
   ],
   "source": [
    "results = {}\n",
    "for name, G in nx_graphs.items():\n",
    "    print(f\"Graph of {len(G.nodes)} nodes\")\n",
    "    \n",
    "    start_net = perf_counter()\n",
    "    louvain_nx = community.louvain_partitions(G)\n",
    "    first = next(louvain_nx)\n",
    "    stop_net = perf_counter()\n",
    "    print(f\"After first passage: {len(first)} communities\")\n",
    "    # second = next(louvain_nx)\n",
    "    # print(f\"After second passage: {len(second)} communities\")\n",
    "    # third = next(louvain_nx)\n",
    "    # print(f\"After third passage: {len(third)} communities\")\n",
    "    print(f\"Time for NetworkX: {stop_net - start_net}\")\n",
    "    \n",
    "    start_our = perf_counter()\n",
    "    print(f\"Louvain on {name}\")\n",
    "    data = louvain(G, 1)\n",
    "    stop_our = perf_counter()\n",
    "    print(f\"Time for our implementation: {stop_our - start_our}\")\n",
    "    results[name] = data"
   ]
  }
 ],
 "metadata": {
  "interpreter": {
   "hash": "f69a235d427c4fe719ea8284164731a8d2ba8b54ade3dc970a89542ed07142ed"
  },
  "kernelspec": {
   "display_name": "Python 3.8.0 ('twitter-ukraine-conflict-fVwmQvah')",
   "language": "python",
   "name": "python3"
  },
  "language_info": {
   "codemirror_mode": {
    "name": "ipython",
    "version": 3
   },
   "file_extension": ".py",
   "mimetype": "text/x-python",
   "name": "python",
   "nbconvert_exporter": "python",
   "pygments_lexer": "ipython3",
   "version": "3.8.0"
  }
 },
 "nbformat": 4,
 "nbformat_minor": 5
}
