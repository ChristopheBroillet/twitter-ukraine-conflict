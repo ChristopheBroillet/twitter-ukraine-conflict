{
 "cells": [
  {
   "cell_type": "markdown",
   "id": "9f3231ef-c5f9-4da3-b4cb-8e3f78739026",
   "metadata": {},
   "source": [
    "# Network component analysis"
   ]
  },
  {
   "cell_type": "code",
   "execution_count": 81,
   "id": "4c6a6bbe-959d-458d-b1f8-7c38d8b7f489",
   "metadata": {},
   "outputs": [],
   "source": [
    "import pandas as pd\n",
    "from pathlib import Path\n",
    "import networkx as nx\n",
    "from networkx.algorithms import community\n",
    "from tqdm import tqdm\n",
    "import copy\n",
    "from time import perf_counter\n",
    "import matplotlib.pyplot as plt\n",
    "import seaborn as sns\n",
    "from dotenv import load_dotenv\n",
    "load_dotenv(\"./.env.local\")\n",
    "import os\n",
    "BEARER_TOKEN = os.getenv(\"BEARER_TOKEN\")\n",
    "import tweepy\n",
    "client = tweepy.Client(BEARER_TOKEN, wait_on_rate_limit=True)"
   ]
  },
  {
   "cell_type": "markdown",
   "id": "134a5d31-81e3-458a-b5ab-b106b6809701",
   "metadata": {},
   "source": [
    "## Load the data (sampled) and create NetworkX graphs"
   ]
  },
  {
   "cell_type": "code",
   "execution_count": 82,
   "id": "e40a848a",
   "metadata": {},
   "outputs": [],
   "source": [
    "edgelists = {}\n",
    "nx_graphs = {}\n",
    "\n",
    "for file in Path(\"edgelistsSample\").iterdir():\n",
    "    # if file.stem == \"edgelists_any_sample_w_data\": continue\n",
    "    tmp_edgelist = pd.read_csv(file)\n",
    "    edgelists[file.stem] = tmp_edgelist\n",
    "\n",
    "    tmp_nx_graph = nx.from_pandas_edgelist(tmp_edgelist, source='Source', target='Target', create_using=nx.Graph())\n",
    "    # Ensure that graphs have a 'weight' edge attribute\n",
    "    nx.set_edge_attributes(tmp_nx_graph, 1, 'weight')\n",
    "    nx_graphs[file.stem] = tmp_nx_graph"
   ]
  },
  {
   "cell_type": "markdown",
   "id": "c0af5224-4e3c-4d76-a554-8fdca1e18956",
   "metadata": {},
   "source": [
    "## Our Louvain implementation"
   ]
  },
  {
   "cell_type": "code",
   "execution_count": 83,
   "id": "760c50ae-def8-483b-95f5-ee7d247ace32",
   "metadata": {},
   "outputs": [],
   "source": [
    "# Louvain implementation\n",
    "def louvain(G, npassage):\n",
    "    # Will contain the graph and the communities after each passage\n",
    "    data = {}\n",
    "    for i in range(0, npassage):\n",
    "        print(f\"Passage {i+1}\", flush=True)\n",
    "        G, communities, get_community = louvain_step(G, i==0)\n",
    "        data[i] = get_community\n",
    "        print(f\"There are {len(communities)} communities after passage {i+1}\", flush=True)\n",
    "    return data\n",
    "\n",
    "\n",
    "def louvain_step(G, is_first_passage):\n",
    "    # Step 1: Initialization, start with each node being a single community\n",
    "    communities = {idx: set([node]) for idx, node in enumerate(G.nodes)}\n",
    "    # To get direct access to the community (it speeds up a bit the algorithm)\n",
    "    get_community = {node: idx for idx, node in enumerate(G.nodes)}\n",
    "    # Used in the modularity computation\n",
    "    neighbors_sets = {node: set(G.neighbors(node)) for node in G.nodes}\n",
    "    m = len(G.edges)\n",
    "\n",
    "    # Sum the weights of the incident edges for all nodes inside a community, for all communities\n",
    "    # Separate first passage and other ones to speed up the algorithm\n",
    "    if is_first_passage:\n",
    "        sum_communities = {idx: sum(dict(G.degree(community)).values()) for idx, community in communities.items()}\n",
    "    else:\n",
    "        sum_communities = {idx: sum(dict(G.degree(community, 'weight')).values()) for idx, community in communities.items()}\n",
    "\n",
    "    prev_communities = {}\n",
    "    i = 0\n",
    "    # While there are changes in the communities, make another iteration\n",
    "    while(communities != prev_communities):\n",
    "        print(f\"Iteration {i+1}\", flush=True)\n",
    "        # Deepcopy to have a new object with a new reference\n",
    "        # Otherwise comparison in while is always True\n",
    "        prev_communities = copy.deepcopy(communities)\n",
    "        \n",
    "        for node in tqdm(G.nodes):\n",
    "            # Step 2: Remove node from its community\n",
    "            neighboring_communities = get_neighboring_communities(G, node, get_community)\n",
    "            if neighboring_communities == set():\n",
    "                continue\n",
    "            belong_to = get_community[node]\n",
    "            communities[belong_to].remove(node)\n",
    "            sum_communities[belong_to] -= G.degree(node, 'weight')\n",
    "            if communities[belong_to] == set():\n",
    "                del communities[belong_to]\n",
    "                del sum_communities[belong_to]\n",
    "\n",
    "            # Step 3: Insert the node in the community that maximizes the modularity\n",
    "            scores = [\n",
    "                (neighbor_community, modularity_gain(G, node, communities[neighbor_community], sum_communities[neighbor_community], neighbors_sets[node], m, is_first_passage))\n",
    "                for neighbor_community in neighboring_communities\n",
    "            ]\n",
    "            best_community, best_score = max(scores, key=lambda x: x[1])\n",
    "            communities[best_community].add(node)\n",
    "            get_community[node] = best_community\n",
    "            sum_communities[best_community] += G.degree(node, 'weight')\n",
    "          \n",
    "        i += 1\n",
    "\n",
    "    # Step 4: Update the graph\n",
    "    if is_first_passage:\n",
    "        return get_new_graph(G, communities, sum_communities, get_community), communities, get_community\n",
    "    return get_new_graph(G, communities, sum_communities, get_community), communities, get_community\n",
    "\n",
    "\n",
    "def get_neighboring_communities(G, node, get_community):\n",
    "    # Use a set to make sure a community only appear once\n",
    "    neighboring_communities = set()\n",
    "    for neighbor in G.neighbors(node):\n",
    "        if neighbor == node: continue\n",
    "        neighboring_communities.add(get_community[neighbor])\n",
    "    return neighboring_communities\n",
    "\n",
    "\n",
    "def modularity_gain(G, node, community, sum_community, neighbor_set, m, is_first_passage):\n",
    "    # Separate first passage and other ones to speed up the algorithm\n",
    "    if is_first_passage:\n",
    "        # Sum the weights of the edges from node into community nodes\n",
    "        # Using sets allow to use intersection()\n",
    "        sum_weights_node = len(neighbor_set.intersection(community))\n",
    "        right_member = (sum_community * G.degree[node]) / (2 * (m**2))\n",
    "    else:\n",
    "        # Sum the weights of the edges from node into community nodes\n",
    "        sum_weights_node = sum([G.get_edge_data(node, member)['weight'] for member in G.neighbors(node) if member in community])\n",
    "        right_member = (sum_community * G.degree(node, 'weight')) / (2 * (m**2))\n",
    "    # Compute modularity\n",
    "    left_member = sum_weights_node / (2 * m)\n",
    "    return left_member - right_member\n",
    "\n",
    "\n",
    "def get_new_graph(old_G, communities, sum_communities, get_community):\n",
    "    print(\"Constructing new graph\", flush=True)\n",
    "    G = nx.Graph()\n",
    "    G.add_nodes_from(communities.keys())\n",
    "    for community in communities:\n",
    "        G.add_edge(community, community, weight=sum_communities[community])\n",
    "\n",
    "    for source, dest, weight_dict in old_G.edges(data=True):\n",
    "        community1 = get_community[source]\n",
    "        community2 = get_community[dest]\n",
    "        # If edge not exist, weight initialized at 0\n",
    "        current_weight = G.get_edge_data(community1, community2, {'weight': 0})['weight']\n",
    "        new_weight = current_weight + weight_dict['weight']\n",
    "        G.add_edge(community1, community2, weight=new_weight)\n",
    "    return G"
   ]
  },
  {
   "cell_type": "markdown",
   "id": "05d1dac5-97e3-4f58-9bf3-db38296a4812",
   "metadata": {},
   "source": [
    "## Run our Louvain on the graphs"
   ]
  },
  {
   "cell_type": "code",
   "execution_count": 84,
   "id": "4bf96aed-55b5-4327-8139-f47ab7f07b92",
   "metadata": {},
   "outputs": [
    {
     "name": "stdout",
     "output_type": "stream",
     "text": [
      "Louvain on edgelists_any_sample\n",
      "Passage 1\n",
      "Iteration 1\n"
     ]
    },
    {
     "name": "stderr",
     "output_type": "stream",
     "text": [
      "100%|██████████| 375247/375247 [00:13<00:00, 28418.41it/s]"
     ]
    },
    {
     "name": "stdout",
     "output_type": "stream",
     "text": [
      "Iteration 2\n"
     ]
    },
    {
     "name": "stderr",
     "output_type": "stream",
     "text": [
      "\n",
      "100%|██████████| 375247/375247 [00:11<00:00, 31291.22it/s]"
     ]
    },
    {
     "name": "stdout",
     "output_type": "stream",
     "text": [
      "Iteration 3\n"
     ]
    },
    {
     "name": "stderr",
     "output_type": "stream",
     "text": [
      "\n",
      "100%|██████████| 375247/375247 [00:10<00:00, 34561.80it/s]"
     ]
    },
    {
     "name": "stdout",
     "output_type": "stream",
     "text": [
      "Iteration 4\n"
     ]
    },
    {
     "name": "stderr",
     "output_type": "stream",
     "text": [
      "\n",
      "100%|██████████| 375247/375247 [00:11<00:00, 33582.33it/s]"
     ]
    },
    {
     "name": "stdout",
     "output_type": "stream",
     "text": [
      "Constructing new graph\n"
     ]
    },
    {
     "name": "stderr",
     "output_type": "stream",
     "text": [
      "\n"
     ]
    },
    {
     "name": "stdout",
     "output_type": "stream",
     "text": [
      "There are 100 communities after passage 1\n",
      "Passage 2\n",
      "Iteration 1\n"
     ]
    },
    {
     "name": "stderr",
     "output_type": "stream",
     "text": [
      "100%|██████████| 100/100 [00:00<00:00, 3104.52it/s]"
     ]
    },
    {
     "name": "stdout",
     "output_type": "stream",
     "text": [
      "Iteration 2\n"
     ]
    },
    {
     "name": "stderr",
     "output_type": "stream",
     "text": [
      "\n",
      "100%|██████████| 100/100 [00:00<00:00, 3021.16it/s]"
     ]
    },
    {
     "name": "stdout",
     "output_type": "stream",
     "text": [
      "Iteration 3\n"
     ]
    },
    {
     "name": "stderr",
     "output_type": "stream",
     "text": [
      "\n",
      "100%|██████████| 100/100 [00:00<00:00, 4523.33it/s]"
     ]
    },
    {
     "name": "stdout",
     "output_type": "stream",
     "text": [
      "Iteration 4\n"
     ]
    },
    {
     "name": "stderr",
     "output_type": "stream",
     "text": [
      "\n",
      "100%|██████████| 100/100 [00:00<00:00, 6574.87it/s]"
     ]
    },
    {
     "name": "stdout",
     "output_type": "stream",
     "text": [
      "Iteration 5\n"
     ]
    },
    {
     "name": "stderr",
     "output_type": "stream",
     "text": [
      "\n",
      "100%|██████████| 100/100 [00:00<00:00, 5189.81it/s]"
     ]
    },
    {
     "name": "stdout",
     "output_type": "stream",
     "text": [
      "Iteration 6\n"
     ]
    },
    {
     "name": "stderr",
     "output_type": "stream",
     "text": [
      "\n",
      "100%|██████████| 100/100 [00:00<00:00, 5806.47it/s]"
     ]
    },
    {
     "name": "stdout",
     "output_type": "stream",
     "text": [
      "Iteration 7\n"
     ]
    },
    {
     "name": "stderr",
     "output_type": "stream",
     "text": [
      "\n",
      "100%|██████████| 100/100 [00:00<00:00, 4308.17it/s]"
     ]
    },
    {
     "name": "stdout",
     "output_type": "stream",
     "text": [
      "Iteration 8\n"
     ]
    },
    {
     "name": "stderr",
     "output_type": "stream",
     "text": [
      "\n",
      "100%|██████████| 100/100 [00:00<00:00, 7708.13it/s]"
     ]
    },
    {
     "name": "stdout",
     "output_type": "stream",
     "text": [
      "Iteration 9\n"
     ]
    },
    {
     "name": "stderr",
     "output_type": "stream",
     "text": [
      "\n",
      "100%|██████████| 100/100 [00:00<00:00, 6621.57it/s]"
     ]
    },
    {
     "name": "stdout",
     "output_type": "stream",
     "text": [
      "Iteration 10\n"
     ]
    },
    {
     "name": "stderr",
     "output_type": "stream",
     "text": [
      "\n",
      "100%|██████████| 100/100 [00:00<00:00, 6297.94it/s]"
     ]
    },
    {
     "name": "stdout",
     "output_type": "stream",
     "text": [
      "Constructing new graph\n",
      "There are 37 communities after passage 2"
     ]
    },
    {
     "name": "stderr",
     "output_type": "stream",
     "text": [
      "\n"
     ]
    },
    {
     "name": "stdout",
     "output_type": "stream",
     "text": [
      "\n",
      "\n",
      "\n",
      "Louvain on edgelists_liking_sample\n",
      "Passage 1\n",
      "Iteration 1\n"
     ]
    },
    {
     "name": "stderr",
     "output_type": "stream",
     "text": [
      "100%|██████████| 350872/350872 [00:12<00:00, 28719.86it/s]"
     ]
    },
    {
     "name": "stdout",
     "output_type": "stream",
     "text": [
      "Iteration 2\n"
     ]
    },
    {
     "name": "stderr",
     "output_type": "stream",
     "text": [
      "\n",
      "100%|██████████| 350872/350872 [00:11<00:00, 30424.75it/s]"
     ]
    },
    {
     "name": "stdout",
     "output_type": "stream",
     "text": [
      "Iteration 3\n"
     ]
    },
    {
     "name": "stderr",
     "output_type": "stream",
     "text": [
      "\n",
      "100%|██████████| 350872/350872 [00:10<00:00, 33953.86it/s]"
     ]
    },
    {
     "name": "stdout",
     "output_type": "stream",
     "text": [
      "Iteration 4\n"
     ]
    },
    {
     "name": "stderr",
     "output_type": "stream",
     "text": [
      "\n",
      "100%|██████████| 350872/350872 [00:10<00:00, 34075.87it/s]"
     ]
    },
    {
     "name": "stdout",
     "output_type": "stream",
     "text": [
      "Constructing new graph\n"
     ]
    },
    {
     "name": "stderr",
     "output_type": "stream",
     "text": [
      "\n"
     ]
    },
    {
     "name": "stdout",
     "output_type": "stream",
     "text": [
      "There are 100 communities after passage 1\n",
      "Passage 2\n",
      "Iteration 1\n"
     ]
    },
    {
     "name": "stderr",
     "output_type": "stream",
     "text": [
      "100%|██████████| 100/100 [00:00<00:00, 3801.05it/s]"
     ]
    },
    {
     "name": "stdout",
     "output_type": "stream",
     "text": [
      "Iteration 2\n"
     ]
    },
    {
     "name": "stderr",
     "output_type": "stream",
     "text": [
      "\n",
      "100%|██████████| 100/100 [00:00<00:00, 4183.93it/s]"
     ]
    },
    {
     "name": "stdout",
     "output_type": "stream",
     "text": [
      "Iteration 3\n"
     ]
    },
    {
     "name": "stderr",
     "output_type": "stream",
     "text": [
      "\n",
      "100%|██████████| 100/100 [00:00<00:00, 7213.28it/s]"
     ]
    },
    {
     "name": "stdout",
     "output_type": "stream",
     "text": [
      "Iteration 4\n"
     ]
    },
    {
     "name": "stderr",
     "output_type": "stream",
     "text": [
      "\n",
      "100%|██████████| 100/100 [00:00<00:00, 9214.40it/s]"
     ]
    },
    {
     "name": "stdout",
     "output_type": "stream",
     "text": [
      "Iteration 5\n"
     ]
    },
    {
     "name": "stderr",
     "output_type": "stream",
     "text": [
      "\n",
      "100%|██████████| 100/100 [00:00<00:00, 6181.55it/s]"
     ]
    },
    {
     "name": "stdout",
     "output_type": "stream",
     "text": [
      "Iteration 6\n"
     ]
    },
    {
     "name": "stderr",
     "output_type": "stream",
     "text": [
      "\n",
      "100%|██████████| 100/100 [00:00<00:00, 14860.24it/s]"
     ]
    },
    {
     "name": "stdout",
     "output_type": "stream",
     "text": [
      "Iteration 7\n"
     ]
    },
    {
     "name": "stderr",
     "output_type": "stream",
     "text": [
      "\n",
      "100%|██████████| 100/100 [00:00<00:00, 12821.52it/s]"
     ]
    },
    {
     "name": "stdout",
     "output_type": "stream",
     "text": [
      "Iteration 8\n"
     ]
    },
    {
     "name": "stderr",
     "output_type": "stream",
     "text": [
      "\n",
      "100%|██████████| 100/100 [00:00<00:00, 12039.80it/s]"
     ]
    },
    {
     "name": "stdout",
     "output_type": "stream",
     "text": [
      "Iteration 9\n"
     ]
    },
    {
     "name": "stderr",
     "output_type": "stream",
     "text": [
      "\n",
      "100%|██████████| 100/100 [00:00<00:00, 9857.59it/s]"
     ]
    },
    {
     "name": "stdout",
     "output_type": "stream",
     "text": [
      "Iteration 10\n"
     ]
    },
    {
     "name": "stderr",
     "output_type": "stream",
     "text": [
      "\n",
      "100%|██████████| 100/100 [00:00<00:00, 8073.73it/s]"
     ]
    },
    {
     "name": "stdout",
     "output_type": "stream",
     "text": [
      "Constructing new graph\n"
     ]
    },
    {
     "name": "stderr",
     "output_type": "stream",
     "text": [
      "\n"
     ]
    },
    {
     "name": "stdout",
     "output_type": "stream",
     "text": [
      "There are 32 communities after passage 2\n",
      "\n",
      "\n",
      "Louvain on edgelists_retweeters_sample\n",
      "Passage 1\n",
      "Iteration 1\n"
     ]
    },
    {
     "name": "stderr",
     "output_type": "stream",
     "text": [
      "100%|██████████| 83303/83303 [00:02<00:00, 31173.83it/s]"
     ]
    },
    {
     "name": "stdout",
     "output_type": "stream",
     "text": [
      "Iteration 2\n"
     ]
    },
    {
     "name": "stderr",
     "output_type": "stream",
     "text": [
      "\n",
      "100%|██████████| 83303/83303 [00:04<00:00, 18859.62it/s]"
     ]
    },
    {
     "name": "stdout",
     "output_type": "stream",
     "text": [
      "Iteration 3\n"
     ]
    },
    {
     "name": "stderr",
     "output_type": "stream",
     "text": [
      "\n",
      "100%|██████████| 83303/83303 [00:02<00:00, 39840.14it/s]"
     ]
    },
    {
     "name": "stdout",
     "output_type": "stream",
     "text": [
      "Iteration 4\n"
     ]
    },
    {
     "name": "stderr",
     "output_type": "stream",
     "text": [
      "\n",
      "100%|██████████| 83303/83303 [00:02<00:00, 39861.48it/s]"
     ]
    },
    {
     "name": "stdout",
     "output_type": "stream",
     "text": [
      "Constructing new graph\n"
     ]
    },
    {
     "name": "stderr",
     "output_type": "stream",
     "text": [
      "\n"
     ]
    },
    {
     "name": "stdout",
     "output_type": "stream",
     "text": [
      "There are 100 communities after passage 1\n",
      "Passage 2\n",
      "Iteration 1\n"
     ]
    },
    {
     "name": "stderr",
     "output_type": "stream",
     "text": [
      "100%|██████████| 100/100 [00:00<00:00, 9358.94it/s]"
     ]
    },
    {
     "name": "stdout",
     "output_type": "stream",
     "text": [
      "Iteration 2\n"
     ]
    },
    {
     "name": "stderr",
     "output_type": "stream",
     "text": [
      "\n",
      "100%|██████████| 100/100 [00:00<00:00, 13771.23it/s]"
     ]
    },
    {
     "name": "stdout",
     "output_type": "stream",
     "text": [
      "Iteration 3\n"
     ]
    },
    {
     "name": "stderr",
     "output_type": "stream",
     "text": [
      "\n",
      "100%|██████████| 100/100 [00:00<00:00, 13229.16it/s]"
     ]
    },
    {
     "name": "stdout",
     "output_type": "stream",
     "text": [
      "Iteration 4\n"
     ]
    },
    {
     "name": "stderr",
     "output_type": "stream",
     "text": [
      "\n",
      "100%|██████████| 100/100 [00:00<00:00, 99959.58it/s]"
     ]
    },
    {
     "name": "stdout",
     "output_type": "stream",
     "text": [
      "Iteration 5\n"
     ]
    },
    {
     "name": "stderr",
     "output_type": "stream",
     "text": [
      "\n",
      "100%|██████████| 100/100 [00:00<00:00, 6097.70it/s]"
     ]
    },
    {
     "name": "stdout",
     "output_type": "stream",
     "text": [
      "Iteration 6\n"
     ]
    },
    {
     "name": "stderr",
     "output_type": "stream",
     "text": [
      "\n",
      "100%|██████████| 100/100 [00:00<00:00, 18806.01it/s]"
     ]
    },
    {
     "name": "stdout",
     "output_type": "stream",
     "text": [
      "Iteration 7\n"
     ]
    },
    {
     "name": "stderr",
     "output_type": "stream",
     "text": [
      "\n",
      "100%|██████████| 100/100 [00:00<00:00, 6884.71it/s]"
     ]
    },
    {
     "name": "stdout",
     "output_type": "stream",
     "text": [
      "Iteration 8\n"
     ]
    },
    {
     "name": "stderr",
     "output_type": "stream",
     "text": [
      "\n",
      "100%|██████████| 100/100 [00:00<00:00, 15150.64it/s]"
     ]
    },
    {
     "name": "stdout",
     "output_type": "stream",
     "text": [
      "Iteration 9\n"
     ]
    },
    {
     "name": "stderr",
     "output_type": "stream",
     "text": [
      "\n",
      "100%|██████████| 100/100 [00:00<00:00, 14101.34it/s]"
     ]
    },
    {
     "name": "stdout",
     "output_type": "stream",
     "text": [
      "Iteration 10\n"
     ]
    },
    {
     "name": "stderr",
     "output_type": "stream",
     "text": [
      "\n",
      "100%|██████████| 100/100 [00:00<00:00, 18508.91it/s]"
     ]
    },
    {
     "name": "stdout",
     "output_type": "stream",
     "text": [
      "Iteration 11\n"
     ]
    },
    {
     "name": "stderr",
     "output_type": "stream",
     "text": [
      "\n",
      "100%|██████████| 100/100 [00:00<00:00, 16998.19it/s]"
     ]
    },
    {
     "name": "stdout",
     "output_type": "stream",
     "text": [
      "Iteration 12\n"
     ]
    },
    {
     "name": "stderr",
     "output_type": "stream",
     "text": [
      "\n",
      "100%|██████████| 100/100 [00:00<00:00, 22973.68it/s]"
     ]
    },
    {
     "name": "stdout",
     "output_type": "stream",
     "text": [
      "Iteration 13\n"
     ]
    },
    {
     "name": "stderr",
     "output_type": "stream",
     "text": [
      "\n",
      "100%|██████████| 100/100 [00:00<00:00, 9521.91it/s]"
     ]
    },
    {
     "name": "stdout",
     "output_type": "stream",
     "text": [
      "Iteration 14\n"
     ]
    },
    {
     "name": "stderr",
     "output_type": "stream",
     "text": [
      "\n",
      "100%|██████████| 100/100 [00:00<00:00, 10140.72it/s]"
     ]
    },
    {
     "name": "stdout",
     "output_type": "stream",
     "text": [
      "Constructing new graph\n",
      "There are 43 communities after passage 2\n"
     ]
    },
    {
     "name": "stderr",
     "output_type": "stream",
     "text": [
      "\n"
     ]
    },
    {
     "name": "stdout",
     "output_type": "stream",
     "text": [
      "\n",
      "\n"
     ]
    }
   ],
   "source": [
    "results = {}\n",
    "for name, G in nx_graphs.items():\n",
    "    print(f\"Louvain on {name}\")\n",
    "    data = louvain(G, 2)\n",
    "    results[name] = data\n",
    "    print(f\"\\n\")"
   ]
  },
  {
   "cell_type": "markdown",
   "id": "52f0c676-52fe-4807-b88c-e6218fdd6139",
   "metadata": {},
   "source": [
    "## Export and save label communities of each node (for Gephi)"
   ]
  },
  {
   "cell_type": "code",
   "execution_count": 85,
   "id": "fa51ae65",
   "metadata": {},
   "outputs": [],
   "source": [
    "Path.mkdir(Path(\"analysis\"), exist_ok=True)\n",
    "\n",
    "# Get the label communities for the nodes for each passage\n",
    "for name, result in results.items():\n",
    "    intermediate_results = []\n",
    "\n",
    "    for i in range(len(result)-1, -1, -1):\n",
    "        if i == 0:\n",
    "            break\n",
    "        curr = result[i]\n",
    "        prev = result[i-1]\n",
    "        intermediate_result =  {node: curr[val] for node, val in prev.items()}\n",
    "        intermediate_results.append(intermediate_result)\n",
    "    \n",
    "    try:\n",
    "        commu = intermediate_results[-1]\n",
    "    # If we run only for one passage\n",
    "    except IndexError:\n",
    "        commu = result[0]\n",
    "\n",
    "    communities_df = pd.DataFrame(commu.items(), columns=['Id', 'Community'])\n",
    "    communities_df[\"Label\"] = communities_df[\"Id\"].map(lambda x: x)\n",
    "    communities_df[\"Is_author\"] = False\n",
    "\n",
    "    communities_df.loc[communities_df['Id'].isin(edgelists[name]['Target'].unique()), \"Is_author\"] = True\n",
    "\n",
    "    communities_df.to_csv(f\"analysis/communities_{name}.csv\", index=False)"
   ]
  },
  {
   "cell_type": "markdown",
   "id": "bd06c4d2",
   "metadata": {},
   "source": [
    "## Comparing the 3 results"
   ]
  },
  {
   "cell_type": "code",
   "execution_count": 86,
   "id": "82972a1f",
   "metadata": {},
   "outputs": [],
   "source": [
    "df_result_any = pd.read_csv(\"analysis/communities_edgelists_any_sample.csv\")\n",
    "df_result_like = pd.read_csv(\"analysis/communities_edgelists_liking_sample.csv\")\n",
    "df_result_retweet = pd.read_csv(\"analysis/communities_edgelists_retweeters_sample.csv\")"
   ]
  },
  {
   "cell_type": "code",
   "execution_count": 87,
   "id": "8a56bf67",
   "metadata": {},
   "outputs": [
    {
     "name": "stdout",
     "output_type": "stream",
     "text": [
      "Number of nodes in any: 375247\n",
      "Number of nodes in retweet: 83303\n",
      "Number of nodes in like: 350872\n"
     ]
    }
   ],
   "source": [
    "n_any = len(df_result_any['Id'].unique())\n",
    "n_retweet = len(df_result_retweet['Id'].unique())\n",
    "n_like = len(df_result_like['Id'].unique())\n",
    "\n",
    "print(f\"Number of nodes in any: {n_any}\")\n",
    "print(f\"Number of nodes in retweet: {n_retweet}\")\n",
    "print(f\"Number of nodes in like: {n_like}\")\n"
   ]
  },
  {
   "cell_type": "code",
   "execution_count": 88,
   "id": "d05ccbea",
   "metadata": {},
   "outputs": [
    {
     "name": "stdout",
     "output_type": "stream",
     "text": [
      "Number of unique communities in any: 37\n",
      "Number of unique communities in retweet: 43\n",
      "Number of unique communities in like: 32\n"
     ]
    }
   ],
   "source": [
    "n_unique_any = len(df_result_any['Community'].unique())\n",
    "n_unique_retweet = len(df_result_retweet['Community'].unique())\n",
    "n_unique_like = len(df_result_like['Community'].unique())\n",
    "\n",
    "print(f\"Number of unique communities in any: {n_unique_any}\")\n",
    "print(f\"Number of unique communities in retweet: {n_unique_retweet}\")\n",
    "print(f\"Number of unique communities in like: {n_unique_like}\")"
   ]
  },
  {
   "cell_type": "code",
   "execution_count": 89,
   "id": "497cd4b8",
   "metadata": {},
   "outputs": [
    {
     "name": "stdout",
     "output_type": "stream",
     "text": [
      "Number of nodes in the intersection between like and retweet: 58928\n"
     ]
    }
   ],
   "source": [
    "intersection_ids = set(df_result_like['Id'].unique()).intersection(set(df_result_retweet['Id'].unique()))\n",
    "\n",
    "print(f\"Number of nodes in the intersection between like and retweet: {len(intersection_ids)}\")"
   ]
  },
  {
   "cell_type": "code",
   "execution_count": 90,
   "id": "c33b1f75",
   "metadata": {},
   "outputs": [
    {
     "name": "stdout",
     "output_type": "stream",
     "text": [
      "Number of unique authors in like only authors: 100\n",
      "Number of unique authors in retweet only authors: 100\n"
     ]
    }
   ],
   "source": [
    "\n",
    "df_result_like_only_authors = df_result_like[df_result_like['Is_author'] == True]\n",
    "df_result_retweet_only_authors = df_result_retweet[df_result_retweet['Is_author'] == True]\n",
    "df_result_any_only_authors = df_result_any[df_result_any['Is_author'] == True]\n",
    "\n",
    "# number of unique communities in df_result_like_only_authors\n",
    "n_unique_like_only_authors = len(df_result_like_only_authors['Id'].unique())\n",
    "# number of unique communities in df_result_retweet_only_authors\n",
    "n_unique_retweet_only_authors = len(df_result_retweet_only_authors['Id'].unique())\n",
    "\n",
    "# print the number of unique authors \n",
    "print(f\"Number of unique authors in like only authors: {n_unique_like_only_authors}\")\n",
    "print(f\"Number of unique authors in retweet only authors: {n_unique_retweet_only_authors}\")"
   ]
  },
  {
   "cell_type": "code",
   "execution_count": 91,
   "id": "caa2e49c",
   "metadata": {},
   "outputs": [],
   "source": [
    "# create a list of all the authors\n",
    "authors = list(df_result_any_only_authors[\"Id\"].unique())\n",
    "res = client.get_users(ids=authors, user_fields=[\"public_metrics\", \"verified\"])\n"
   ]
  },
  {
   "cell_type": "code",
   "execution_count": 92,
   "id": "dc05f4af",
   "metadata": {},
   "outputs": [
    {
     "name": "stderr",
     "output_type": "stream",
     "text": [
      "C:\\Users\\bao_l\\AppData\\Local\\Temp\\ipykernel_11212\\99766956.py:2: SettingWithCopyWarning: \n",
      "A value is trying to be set on a copy of a slice from a DataFrame.\n",
      "Try using .loc[row_indexer,col_indexer] = value instead\n",
      "\n",
      "See the caveats in the documentation: https://pandas.pydata.org/pandas-docs/stable/user_guide/indexing.html#returning-a-view-versus-a-copy\n",
      "  df_result_any_only_authors.loc[df_result_any_only_authors['Id'] == user_detail['id'], 'Username'] = user_detail['username']\n",
      "C:\\Users\\bao_l\\AppData\\Local\\Temp\\ipykernel_11212\\99766956.py:3: SettingWithCopyWarning: \n",
      "A value is trying to be set on a copy of a slice from a DataFrame.\n",
      "Try using .loc[row_indexer,col_indexer] = value instead\n",
      "\n",
      "See the caveats in the documentation: https://pandas.pydata.org/pandas-docs/stable/user_guide/indexing.html#returning-a-view-versus-a-copy\n",
      "  df_result_any_only_authors.loc[df_result_any_only_authors['Id'] == user_detail['id'], 'Verified'] = user_detail['verified']\n",
      "C:\\Users\\bao_l\\AppData\\Local\\Temp\\ipykernel_11212\\99766956.py:4: SettingWithCopyWarning: \n",
      "A value is trying to be set on a copy of a slice from a DataFrame.\n",
      "Try using .loc[row_indexer,col_indexer] = value instead\n",
      "\n",
      "See the caveats in the documentation: https://pandas.pydata.org/pandas-docs/stable/user_guide/indexing.html#returning-a-view-versus-a-copy\n",
      "  df_result_any_only_authors.loc[df_result_any_only_authors['Id'] == user_detail['id'], 'followers_count'] = user_detail['public_metrics']['followers_count']\n",
      "C:\\Users\\bao_l\\AppData\\Local\\Temp\\ipykernel_11212\\99766956.py:5: SettingWithCopyWarning: \n",
      "A value is trying to be set on a copy of a slice from a DataFrame.\n",
      "Try using .loc[row_indexer,col_indexer] = value instead\n",
      "\n",
      "See the caveats in the documentation: https://pandas.pydata.org/pandas-docs/stable/user_guide/indexing.html#returning-a-view-versus-a-copy\n",
      "  df_result_any_only_authors.loc[df_result_any_only_authors['Id'] == user_detail['id'], 'following_count'] = user_detail['public_metrics']['following_count']\n",
      "C:\\Users\\bao_l\\AppData\\Local\\Temp\\ipykernel_11212\\99766956.py:6: SettingWithCopyWarning: \n",
      "A value is trying to be set on a copy of a slice from a DataFrame.\n",
      "Try using .loc[row_indexer,col_indexer] = value instead\n",
      "\n",
      "See the caveats in the documentation: https://pandas.pydata.org/pandas-docs/stable/user_guide/indexing.html#returning-a-view-versus-a-copy\n",
      "  df_result_any_only_authors.loc[df_result_any_only_authors['Id'] == user_detail['id'], 'tweet_count'] = user_detail['public_metrics']['tweet_count']\n"
     ]
    }
   ],
   "source": [
    "for user_detail in res.data:\n",
    "    df_result_any_only_authors.loc[df_result_any_only_authors['Id'] == user_detail['id'], 'Username'] = user_detail['username']\n",
    "    df_result_any_only_authors.loc[df_result_any_only_authors['Id'] == user_detail['id'], 'Verified'] = user_detail['verified']\n",
    "    df_result_any_only_authors.loc[df_result_any_only_authors['Id'] == user_detail['id'], 'followers_count'] = user_detail['public_metrics']['followers_count']\n",
    "    df_result_any_only_authors.loc[df_result_any_only_authors['Id'] == user_detail['id'], 'following_count'] = user_detail['public_metrics']['following_count']\n",
    "    df_result_any_only_authors.loc[df_result_any_only_authors['Id'] == user_detail['id'], 'tweet_count'] = user_detail['public_metrics']['tweet_count']"
   ]
  },
  {
   "cell_type": "code",
   "execution_count": 93,
   "id": "15cab368",
   "metadata": {},
   "outputs": [
    {
     "data": {
      "text/html": [
       "<div>\n",
       "<style scoped>\n",
       "    .dataframe tbody tr th:only-of-type {\n",
       "        vertical-align: middle;\n",
       "    }\n",
       "\n",
       "    .dataframe tbody tr th {\n",
       "        vertical-align: top;\n",
       "    }\n",
       "\n",
       "    .dataframe thead th {\n",
       "        text-align: right;\n",
       "    }\n",
       "</style>\n",
       "<table border=\"1\" class=\"dataframe\">\n",
       "  <thead>\n",
       "    <tr style=\"text-align: right;\">\n",
       "      <th></th>\n",
       "      <th>Id</th>\n",
       "      <th>Community</th>\n",
       "      <th>Label</th>\n",
       "      <th>Is_author</th>\n",
       "      <th>Username</th>\n",
       "      <th>Verified</th>\n",
       "      <th>followers_count</th>\n",
       "      <th>following_count</th>\n",
       "      <th>tweet_count</th>\n",
       "    </tr>\n",
       "  </thead>\n",
       "  <tbody>\n",
       "    <tr>\n",
       "      <th>1</th>\n",
       "      <td>1489241986389651458</td>\n",
       "      <td>62</td>\n",
       "      <td>1489241986389651458</td>\n",
       "      <td>True</td>\n",
       "      <td>Breakin62278210</td>\n",
       "      <td>False</td>\n",
       "      <td>212.0</td>\n",
       "      <td>51.0</td>\n",
       "      <td>580.0</td>\n",
       "    </tr>\n",
       "    <tr>\n",
       "      <th>6</th>\n",
       "      <td>363601382</td>\n",
       "      <td>86</td>\n",
       "      <td>363601382</td>\n",
       "      <td>True</td>\n",
       "      <td>healthonaplate</td>\n",
       "      <td>False</td>\n",
       "      <td>1200.0</td>\n",
       "      <td>3782.0</td>\n",
       "      <td>3774.0</td>\n",
       "    </tr>\n",
       "    <tr>\n",
       "      <th>1023</th>\n",
       "      <td>1466829518274969609</td>\n",
       "      <td>58</td>\n",
       "      <td>1466829518274969609</td>\n",
       "      <td>True</td>\n",
       "      <td>BrexitPirates</td>\n",
       "      <td>False</td>\n",
       "      <td>3346.0</td>\n",
       "      <td>3015.0</td>\n",
       "      <td>13887.0</td>\n",
       "    </tr>\n",
       "    <tr>\n",
       "      <th>1444</th>\n",
       "      <td>44909158</td>\n",
       "      <td>2</td>\n",
       "      <td>44909158</td>\n",
       "      <td>True</td>\n",
       "      <td>Speramus</td>\n",
       "      <td>False</td>\n",
       "      <td>2091.0</td>\n",
       "      <td>904.0</td>\n",
       "      <td>23100.0</td>\n",
       "    </tr>\n",
       "    <tr>\n",
       "      <th>1448</th>\n",
       "      <td>44574528</td>\n",
       "      <td>67</td>\n",
       "      <td>44574528</td>\n",
       "      <td>True</td>\n",
       "      <td>HarrisonTF</td>\n",
       "      <td>False</td>\n",
       "      <td>2029.0</td>\n",
       "      <td>1698.0</td>\n",
       "      <td>62041.0</td>\n",
       "    </tr>\n",
       "    <tr>\n",
       "      <th>...</th>\n",
       "      <td>...</td>\n",
       "      <td>...</td>\n",
       "      <td>...</td>\n",
       "      <td>...</td>\n",
       "      <td>...</td>\n",
       "      <td>...</td>\n",
       "      <td>...</td>\n",
       "      <td>...</td>\n",
       "      <td>...</td>\n",
       "    </tr>\n",
       "    <tr>\n",
       "      <th>349614</th>\n",
       "      <td>2159907348</td>\n",
       "      <td>88</td>\n",
       "      <td>2159907348</td>\n",
       "      <td>True</td>\n",
       "      <td>Smilan317</td>\n",
       "      <td>False</td>\n",
       "      <td>56176.0</td>\n",
       "      <td>36261.0</td>\n",
       "      <td>646273.0</td>\n",
       "    </tr>\n",
       "    <tr>\n",
       "      <th>349645</th>\n",
       "      <td>783149246178553856</td>\n",
       "      <td>99</td>\n",
       "      <td>783149246178553856</td>\n",
       "      <td>True</td>\n",
       "      <td>GamerGalsRT</td>\n",
       "      <td>False</td>\n",
       "      <td>7789.0</td>\n",
       "      <td>2109.0</td>\n",
       "      <td>240704.0</td>\n",
       "    </tr>\n",
       "    <tr>\n",
       "      <th>349652</th>\n",
       "      <td>210750170</td>\n",
       "      <td>86</td>\n",
       "      <td>210750170</td>\n",
       "      <td>True</td>\n",
       "      <td>phreakoutaston</td>\n",
       "      <td>False</td>\n",
       "      <td>81.0</td>\n",
       "      <td>350.0</td>\n",
       "      <td>1234.0</td>\n",
       "    </tr>\n",
       "    <tr>\n",
       "      <th>349714</th>\n",
       "      <td>1121353898126606337</td>\n",
       "      <td>90</td>\n",
       "      <td>1121353898126606337</td>\n",
       "      <td>True</td>\n",
       "      <td>Mycupsofcoffee</td>\n",
       "      <td>False</td>\n",
       "      <td>66.0</td>\n",
       "      <td>31.0</td>\n",
       "      <td>1356.0</td>\n",
       "    </tr>\n",
       "    <tr>\n",
       "      <th>349716</th>\n",
       "      <td>123174829</td>\n",
       "      <td>93</td>\n",
       "      <td>123174829</td>\n",
       "      <td>True</td>\n",
       "      <td>MoterSensha</td>\n",
       "      <td>False</td>\n",
       "      <td>6584.0</td>\n",
       "      <td>1473.0</td>\n",
       "      <td>335416.0</td>\n",
       "    </tr>\n",
       "  </tbody>\n",
       "</table>\n",
       "<p>100 rows × 9 columns</p>\n",
       "</div>"
      ],
      "text/plain": [
       "                         Id  Community                Label  Is_author  \\\n",
       "1       1489241986389651458         62  1489241986389651458       True   \n",
       "6                 363601382         86            363601382       True   \n",
       "1023    1466829518274969609         58  1466829518274969609       True   \n",
       "1444               44909158          2             44909158       True   \n",
       "1448               44574528         67             44574528       True   \n",
       "...                     ...        ...                  ...        ...   \n",
       "349614           2159907348         88           2159907348       True   \n",
       "349645   783149246178553856         99   783149246178553856       True   \n",
       "349652            210750170         86            210750170       True   \n",
       "349714  1121353898126606337         90  1121353898126606337       True   \n",
       "349716            123174829         93            123174829       True   \n",
       "\n",
       "               Username Verified  followers_count  following_count  \\\n",
       "1       Breakin62278210    False            212.0             51.0   \n",
       "6        healthonaplate    False           1200.0           3782.0   \n",
       "1023      BrexitPirates    False           3346.0           3015.0   \n",
       "1444           Speramus    False           2091.0            904.0   \n",
       "1448         HarrisonTF    False           2029.0           1698.0   \n",
       "...                 ...      ...              ...              ...   \n",
       "349614        Smilan317    False          56176.0          36261.0   \n",
       "349645      GamerGalsRT    False           7789.0           2109.0   \n",
       "349652   phreakoutaston    False             81.0            350.0   \n",
       "349714   Mycupsofcoffee    False             66.0             31.0   \n",
       "349716      MoterSensha    False           6584.0           1473.0   \n",
       "\n",
       "        tweet_count  \n",
       "1             580.0  \n",
       "6            3774.0  \n",
       "1023        13887.0  \n",
       "1444        23100.0  \n",
       "1448        62041.0  \n",
       "...             ...  \n",
       "349614     646273.0  \n",
       "349645     240704.0  \n",
       "349652       1234.0  \n",
       "349714       1356.0  \n",
       "349716     335416.0  \n",
       "\n",
       "[100 rows x 9 columns]"
      ]
     },
     "execution_count": 93,
     "metadata": {},
     "output_type": "execute_result"
    }
   ],
   "source": [
    "df_result_any_only_authors"
   ]
  },
  {
   "cell_type": "code",
   "execution_count": 101,
   "id": "cec2c2bd",
   "metadata": {},
   "outputs": [
    {
     "data": {
      "text/plain": [
       "Community\n",
       "37    222915\n",
       "89     86046\n",
       "62      7934\n",
       "47      6639\n",
       "88      6608\n",
       "35      6379\n",
       "81      5327\n",
       "72      4826\n",
       "86      4749\n",
       "67      4716\n",
       "80      4713\n",
       "93      4672\n",
       "77      4669\n",
       "58      4518\n",
       "48       367\n",
       "97        41\n",
       "60        17\n",
       "98        14\n",
       "8         14\n",
       "99        10\n",
       "9          9\n",
       "94         9\n",
       "92         8\n",
       "24         7\n",
       "36         7\n",
       "73         6\n",
       "69         5\n",
       "40         4\n",
       "2          3\n",
       "90         2\n",
       "68         2\n",
       "29         2\n",
       "31         2\n",
       "96         2\n",
       "66         2\n",
       "30         2\n",
       "42         1\n",
       "Name: Id, dtype: int64"
      ]
     },
     "execution_count": 101,
     "metadata": {},
     "output_type": "execute_result"
    }
   ],
   "source": [
    "df_result_any.groupby('Community')[\"Id\"].count().sort_values(ascending=False)\n"
   ]
  },
  {
   "cell_type": "code",
   "execution_count": 100,
   "id": "d5b03aab",
   "metadata": {},
   "outputs": [
    {
     "data": {
      "text/plain": [
       "Community\n",
       "37    59.404872\n",
       "89    22.930496\n",
       "62     2.114341\n",
       "47     1.769235\n",
       "88     1.760973\n",
       "35     1.699947\n",
       "81     1.419598\n",
       "72     1.286086\n",
       "86     1.265566\n",
       "67     1.256772\n",
       "80     1.255973\n",
       "93     1.245047\n",
       "77     1.244247\n",
       "58     1.204007\n",
       "48     0.097802\n",
       "97     0.010926\n",
       "60     0.004530\n",
       "98     0.003731\n",
       "8      0.003731\n",
       "99     0.002665\n",
       "9      0.002398\n",
       "94     0.002398\n",
       "92     0.002132\n",
       "24     0.001865\n",
       "36     0.001865\n",
       "73     0.001599\n",
       "69     0.001332\n",
       "40     0.001066\n",
       "2      0.000799\n",
       "90     0.000533\n",
       "68     0.000533\n",
       "29     0.000533\n",
       "31     0.000533\n",
       "96     0.000533\n",
       "66     0.000533\n",
       "30     0.000533\n",
       "42     0.000266\n",
       "Name: Id, dtype: float64"
      ]
     },
     "execution_count": 100,
     "metadata": {},
     "output_type": "execute_result"
    }
   ],
   "source": [
    "df_result_any.groupby('Community')[\"Id\"].count().sort_values(ascending=False).div(n_any).mul(100)"
   ]
  },
  {
   "cell_type": "code",
   "execution_count": 106,
   "id": "9eb1f4bd",
   "metadata": {},
   "outputs": [
    {
     "data": {
      "image/png": "[encoded data removed]",
      "text/plain": [
       "<Figure size 432x288 with 1 Axes>"
      ]
     },
     "metadata": {},
     "output_type": "display_data"
    }
   ],
   "source": [
    "# Bar plot of the number of nodes in each community\n",
    "df_result_any.groupby('Community')[\"Id\"].count().sort_values(ascending=False).plot(kind='bar')\n",
    "plt.title(\"Number of nodes in each community\")\n",
    "plt.xlabel(\"Community\")\n",
    "plt.ylabel(\"Number of nodes\")\n",
    "plt.savefig(\"analysis/nodes_in_each_community.pdf\")"
   ]
  },
  {
   "cell_type": "code",
   "execution_count": 95,
   "id": "2ef9a9f1",
   "metadata": {},
   "outputs": [
    {
     "data": {
      "text/plain": [
       "Community\n",
       "2                                            [Speramus]\n",
       "8                                        [MarjoOinonen]\n",
       "9                                           [AlAkBseth]\n",
       "24                                         [MurphKathy]\n",
       "29                                    [AfricanWatchman]\n",
       "30                                    [SASSandATTITUDE]\n",
       "31                                      [AthulJohnson8]\n",
       "35             [Jawalansheel, PKB_Canada, tejaschogale]\n",
       "36                                           [deomanyt]\n",
       "37                           [gurico0516, CyberRealms1]\n",
       "40                                     [TelanganaToday]\n",
       "42                                         [victoramle]\n",
       "47                    [Victor_Vas_Her, PatriciaSomer11]\n",
       "48                         [BooBooBearsNFT, itayariel1]\n",
       "58                [BrexitPirates, evilcos, annabotting]\n",
       "60                                             [IAC_MD]\n",
       "62         [Breakin62278210, ukraini239540, CRYPTOS369]\n",
       "66                                      [simonecortesi]\n",
       "67    [HarrisonTF, Kaboom68370235, Bobischoff, Julia...\n",
       "68                                          [VanBizWiz]\n",
       "69                                         [psa_rising]\n",
       "72    [ExBatsforEver, txwikinger_ea, SpiritOfKabanah...\n",
       "73                                           [EastMojo]\n",
       "77                             [MaciejGdynia, JoeGAbdo]\n",
       "80    [Lauren4homes2, djasminenoir, VernyJiri, sanip...\n",
       "81          [ceciliabrainard, AlotJot, jozannevdvelden]\n",
       "86    [healthonaplate, Batesm1TCD_MPR, sumanspiel, A...\n",
       "88                             [planckisone, Smilan317]\n",
       "89    [BPSGroup, qvalemangusta, OurReclaim, mustefa_...\n",
       "90                                     [Mycupsofcoffee]\n",
       "92                                        [SuzanneGoin]\n",
       "93    [xwolf, BabalooGogh, HQstories, celosia, Sawom...\n",
       "94                                    [Farhat_Nadeem78]\n",
       "96                                    [VictorK37694416]\n",
       "97                                          [DBAToken3]\n",
       "98                                         [techz_dave]\n",
       "99                                        [GamerGalsRT]\n",
       "Name: Username, dtype: object"
      ]
     },
     "execution_count": 95,
     "metadata": {},
     "output_type": "execute_result"
    }
   ],
   "source": [
    "df_result_any_only_authors.groupby('Community')['Username'].apply(lambda x: x.tolist())"
   ]
  },
  {
   "cell_type": "code",
   "execution_count": 96,
   "id": "7f0cd88e",
   "metadata": {},
   "outputs": [
    {
     "data": {
      "text/html": [
       "<div>\n",
       "<style scoped>\n",
       "    .dataframe tbody tr th:only-of-type {\n",
       "        vertical-align: middle;\n",
       "    }\n",
       "\n",
       "    .dataframe tbody tr th {\n",
       "        vertical-align: top;\n",
       "    }\n",
       "\n",
       "    .dataframe thead th {\n",
       "        text-align: right;\n",
       "    }\n",
       "</style>\n",
       "<table border=\"1\" class=\"dataframe\">\n",
       "  <thead>\n",
       "    <tr style=\"text-align: right;\">\n",
       "      <th></th>\n",
       "      <th>Id</th>\n",
       "      <th>Community</th>\n",
       "      <th>Label</th>\n",
       "      <th>Is_author</th>\n",
       "      <th>Username</th>\n",
       "      <th>Verified</th>\n",
       "      <th>followers_count</th>\n",
       "      <th>following_count</th>\n",
       "      <th>tweet_count</th>\n",
       "    </tr>\n",
       "  </thead>\n",
       "  <tbody>\n",
       "    <tr>\n",
       "      <th>3333</th>\n",
       "      <td>982830096925917184</td>\n",
       "      <td>37</td>\n",
       "      <td>982830096925917184</td>\n",
       "      <td>True</td>\n",
       "      <td>gurico0516</td>\n",
       "      <td>False</td>\n",
       "      <td>1007.0</td>\n",
       "      <td>737.0</td>\n",
       "      <td>540.0</td>\n",
       "    </tr>\n",
       "    <tr>\n",
       "      <th>237668</th>\n",
       "      <td>1460159240782462984</td>\n",
       "      <td>37</td>\n",
       "      <td>1460159240782462984</td>\n",
       "      <td>True</td>\n",
       "      <td>CyberRealms1</td>\n",
       "      <td>False</td>\n",
       "      <td>1379.0</td>\n",
       "      <td>0.0</td>\n",
       "      <td>10073.0</td>\n",
       "    </tr>\n",
       "  </tbody>\n",
       "</table>\n",
       "</div>"
      ],
      "text/plain": [
       "                         Id  Community                Label  Is_author  \\\n",
       "3333     982830096925917184         37   982830096925917184       True   \n",
       "237668  1460159240782462984         37  1460159240782462984       True   \n",
       "\n",
       "            Username Verified  followers_count  following_count  tweet_count  \n",
       "3333      gurico0516    False           1007.0            737.0        540.0  \n",
       "237668  CyberRealms1    False           1379.0              0.0      10073.0  "
      ]
     },
     "execution_count": 96,
     "metadata": {},
     "output_type": "execute_result"
    }
   ],
   "source": [
    "# retrieve community 61\n",
    "df_result_any_only_authors[df_result_any_only_authors['Community'] == 37]"
   ]
  },
  {
   "cell_type": "code",
   "execution_count": 97,
   "id": "085da3f1",
   "metadata": {},
   "outputs": [
    {
     "data": {
      "text/html": [
       "<div>\n",
       "<style scoped>\n",
       "    .dataframe tbody tr th:only-of-type {\n",
       "        vertical-align: middle;\n",
       "    }\n",
       "\n",
       "    .dataframe tbody tr th {\n",
       "        vertical-align: top;\n",
       "    }\n",
       "\n",
       "    .dataframe thead th {\n",
       "        text-align: right;\n",
       "    }\n",
       "</style>\n",
       "<table border=\"1\" class=\"dataframe\">\n",
       "  <thead>\n",
       "    <tr style=\"text-align: right;\">\n",
       "      <th></th>\n",
       "      <th>Id</th>\n",
       "      <th>Community</th>\n",
       "      <th>Label</th>\n",
       "      <th>Is_author</th>\n",
       "      <th>Username</th>\n",
       "      <th>Verified</th>\n",
       "      <th>followers_count</th>\n",
       "      <th>following_count</th>\n",
       "      <th>tweet_count</th>\n",
       "    </tr>\n",
       "  </thead>\n",
       "  <tbody>\n",
       "    <tr>\n",
       "      <th>2152</th>\n",
       "      <td>445184492</td>\n",
       "      <td>89</td>\n",
       "      <td>445184492</td>\n",
       "      <td>True</td>\n",
       "      <td>BPSGroup</td>\n",
       "      <td>False</td>\n",
       "      <td>3909.0</td>\n",
       "      <td>4542.0</td>\n",
       "      <td>121965.0</td>\n",
       "    </tr>\n",
       "    <tr>\n",
       "      <th>251519</th>\n",
       "      <td>41014243</td>\n",
       "      <td>89</td>\n",
       "      <td>41014243</td>\n",
       "      <td>True</td>\n",
       "      <td>qvalemangusta</td>\n",
       "      <td>False</td>\n",
       "      <td>1774.0</td>\n",
       "      <td>1223.0</td>\n",
       "      <td>144485.0</td>\n",
       "    </tr>\n",
       "    <tr>\n",
       "      <th>257411</th>\n",
       "      <td>1014514281642102785</td>\n",
       "      <td>89</td>\n",
       "      <td>1014514281642102785</td>\n",
       "      <td>True</td>\n",
       "      <td>OurReclaim</td>\n",
       "      <td>False</td>\n",
       "      <td>1415.0</td>\n",
       "      <td>380.0</td>\n",
       "      <td>147098.0</td>\n",
       "    </tr>\n",
       "    <tr>\n",
       "      <th>257514</th>\n",
       "      <td>1358713872228753408</td>\n",
       "      <td>89</td>\n",
       "      <td>1358713872228753408</td>\n",
       "      <td>True</td>\n",
       "      <td>mustefa_salim</td>\n",
       "      <td>False</td>\n",
       "      <td>827.0</td>\n",
       "      <td>704.0</td>\n",
       "      <td>14144.0</td>\n",
       "    </tr>\n",
       "    <tr>\n",
       "      <th>264473</th>\n",
       "      <td>221644660</td>\n",
       "      <td>89</td>\n",
       "      <td>221644660</td>\n",
       "      <td>True</td>\n",
       "      <td>WWalkerWW</td>\n",
       "      <td>False</td>\n",
       "      <td>2078.0</td>\n",
       "      <td>5000.0</td>\n",
       "      <td>109101.0</td>\n",
       "    </tr>\n",
       "    <tr>\n",
       "      <th>340079</th>\n",
       "      <td>2149769419</td>\n",
       "      <td>89</td>\n",
       "      <td>2149769419</td>\n",
       "      <td>True</td>\n",
       "      <td>epaphotos</td>\n",
       "      <td>False</td>\n",
       "      <td>13662.0</td>\n",
       "      <td>1782.0</td>\n",
       "      <td>18881.0</td>\n",
       "    </tr>\n",
       "    <tr>\n",
       "      <th>349529</th>\n",
       "      <td>45882349</td>\n",
       "      <td>89</td>\n",
       "      <td>45882349</td>\n",
       "      <td>True</td>\n",
       "      <td>boijingle</td>\n",
       "      <td>False</td>\n",
       "      <td>658.0</td>\n",
       "      <td>1214.0</td>\n",
       "      <td>28956.0</td>\n",
       "    </tr>\n",
       "  </tbody>\n",
       "</table>\n",
       "</div>"
      ],
      "text/plain": [
       "                         Id  Community                Label  Is_author  \\\n",
       "2152              445184492         89            445184492       True   \n",
       "251519             41014243         89             41014243       True   \n",
       "257411  1014514281642102785         89  1014514281642102785       True   \n",
       "257514  1358713872228753408         89  1358713872228753408       True   \n",
       "264473            221644660         89            221644660       True   \n",
       "340079           2149769419         89           2149769419       True   \n",
       "349529             45882349         89             45882349       True   \n",
       "\n",
       "             Username Verified  followers_count  following_count  tweet_count  \n",
       "2152         BPSGroup    False           3909.0           4542.0     121965.0  \n",
       "251519  qvalemangusta    False           1774.0           1223.0     144485.0  \n",
       "257411     OurReclaim    False           1415.0            380.0     147098.0  \n",
       "257514  mustefa_salim    False            827.0            704.0      14144.0  \n",
       "264473      WWalkerWW    False           2078.0           5000.0     109101.0  \n",
       "340079      epaphotos    False          13662.0           1782.0      18881.0  \n",
       "349529      boijingle    False            658.0           1214.0      28956.0  "
      ]
     },
     "execution_count": 97,
     "metadata": {},
     "output_type": "execute_result"
    }
   ],
   "source": [
    "df_result_any_only_authors[df_result_any_only_authors['Community'] == 89]"
   ]
  },
  {
   "cell_type": "code",
   "execution_count": 80,
   "id": "cc477bd7",
   "metadata": {},
   "outputs": [
    {
     "data": {
      "text/html": [
       "<div>\n",
       "<style scoped>\n",
       "    .dataframe tbody tr th:only-of-type {\n",
       "        vertical-align: middle;\n",
       "    }\n",
       "\n",
       "    .dataframe tbody tr th {\n",
       "        vertical-align: top;\n",
       "    }\n",
       "\n",
       "    .dataframe thead th {\n",
       "        text-align: right;\n",
       "    }\n",
       "</style>\n",
       "<table border=\"1\" class=\"dataframe\">\n",
       "  <thead>\n",
       "    <tr style=\"text-align: right;\">\n",
       "      <th></th>\n",
       "      <th>Id</th>\n",
       "      <th>Community</th>\n",
       "      <th>Label</th>\n",
       "      <th>Is_author</th>\n",
       "      <th>Username</th>\n",
       "      <th>Verified</th>\n",
       "      <th>followers_count</th>\n",
       "      <th>following_count</th>\n",
       "      <th>tweet_count</th>\n",
       "    </tr>\n",
       "  </thead>\n",
       "  <tbody>\n",
       "    <tr>\n",
       "      <th>281294</th>\n",
       "      <td>980694573855817728</td>\n",
       "      <td>90</td>\n",
       "      <td>980694573855817728</td>\n",
       "      <td>True</td>\n",
       "      <td>UNCambodia</td>\n",
       "      <td>True</td>\n",
       "      <td>6615.0</td>\n",
       "      <td>558.0</td>\n",
       "      <td>4398.0</td>\n",
       "    </tr>\n",
       "    <tr>\n",
       "      <th>300672</th>\n",
       "      <td>82828746</td>\n",
       "      <td>90</td>\n",
       "      <td>82828746</td>\n",
       "      <td>True</td>\n",
       "      <td>gtorges</td>\n",
       "      <td>False</td>\n",
       "      <td>5959.0</td>\n",
       "      <td>2857.0</td>\n",
       "      <td>83165.0</td>\n",
       "    </tr>\n",
       "    <tr>\n",
       "      <th>311382</th>\n",
       "      <td>979769447656382464</td>\n",
       "      <td>90</td>\n",
       "      <td>979769447656382464</td>\n",
       "      <td>True</td>\n",
       "      <td>NaN</td>\n",
       "      <td>NaN</td>\n",
       "      <td>NaN</td>\n",
       "      <td>NaN</td>\n",
       "      <td>NaN</td>\n",
       "    </tr>\n",
       "  </tbody>\n",
       "</table>\n",
       "</div>"
      ],
      "text/plain": [
       "                        Id  Community               Label  Is_author  \\\n",
       "281294  980694573855817728         90  980694573855817728       True   \n",
       "300672            82828746         90            82828746       True   \n",
       "311382  979769447656382464         90  979769447656382464       True   \n",
       "\n",
       "          Username Verified  followers_count  following_count  tweet_count  \n",
       "281294  UNCambodia     True           6615.0            558.0       4398.0  \n",
       "300672     gtorges    False           5959.0           2857.0      83165.0  \n",
       "311382         NaN      NaN              NaN              NaN          NaN  "
      ]
     },
     "execution_count": 80,
     "metadata": {},
     "output_type": "execute_result"
    }
   ],
   "source": [
    "df_result_any_only_authors[df_result_any_only_authors['Community'] == 90]"
   ]
  },
  {
   "cell_type": "markdown",
   "id": "ca73153c-14b9-4f30-88c7-e59222ce0e88",
   "metadata": {},
   "source": [
    "## Comparison between our implementation and the one from NetworkX"
   ]
  },
  {
   "cell_type": "code",
   "execution_count": 98,
   "id": "213a5f6b",
   "metadata": {},
   "outputs": [
    {
     "name": "stdout",
     "output_type": "stream",
     "text": [
      "Graph of 375247 nodes\n",
      "After first passage: 100 communities\n",
      "Time for NetworkX: 29.213629999999284\n",
      "Louvain on edgelists_any_sample\n",
      "Passage 1\n",
      "Iteration 1\n"
     ]
    },
    {
     "name": "stderr",
     "output_type": "stream",
     "text": [
      "100%|██████████| 375247/375247 [00:14<00:00, 25661.33it/s]"
     ]
    },
    {
     "name": "stdout",
     "output_type": "stream",
     "text": [
      "Iteration 2\n"
     ]
    },
    {
     "name": "stderr",
     "output_type": "stream",
     "text": [
      "\n",
      "100%|██████████| 375247/375247 [00:11<00:00, 34082.38it/s]"
     ]
    },
    {
     "name": "stdout",
     "output_type": "stream",
     "text": [
      "Iteration 3\n"
     ]
    },
    {
     "name": "stderr",
     "output_type": "stream",
     "text": [
      "\n",
      "100%|██████████| 375247/375247 [00:11<00:00, 33998.23it/s]"
     ]
    },
    {
     "name": "stdout",
     "output_type": "stream",
     "text": [
      "Iteration 4\n"
     ]
    },
    {
     "name": "stderr",
     "output_type": "stream",
     "text": [
      "\n",
      "100%|██████████| 375247/375247 [00:10<00:00, 35020.22it/s]"
     ]
    },
    {
     "name": "stdout",
     "output_type": "stream",
     "text": [
      "Constructing new graph\n"
     ]
    },
    {
     "name": "stderr",
     "output_type": "stream",
     "text": [
      "\n"
     ]
    },
    {
     "name": "stdout",
     "output_type": "stream",
     "text": [
      "There are 100 communities after passage 1\n",
      "Time for our implementation: 66.32583280000017\n",
      "Graph of 350872 nodes\n"
     ]
    },
    {
     "ename": "KeyboardInterrupt",
     "evalue": "",
     "output_type": "error",
     "traceback": [
      "\u001b[1;31m---------------------------------------------------------------------------\u001b[0m",
      "\u001b[1;31mKeyboardInterrupt\u001b[0m                         Traceback (most recent call last)",
      "\u001b[1;32mc:\\Users\\bao_l\\Projects\\twitter-ukraine-conflict\\3-analysis.ipynb Cell 26'\u001b[0m in \u001b[0;36m<cell line: 2>\u001b[1;34m()\u001b[0m\n\u001b[0;32m      <a href='vscode-notebook-cell:/c%3A/Users/bao_l/Projects/twitter-ukraine-conflict/3-analysis.ipynb#ch0000020?line=4'>5</a>\u001b[0m start_net \u001b[39m=\u001b[39m perf_counter()\n\u001b[0;32m      <a href='vscode-notebook-cell:/c%3A/Users/bao_l/Projects/twitter-ukraine-conflict/3-analysis.ipynb#ch0000020?line=5'>6</a>\u001b[0m louvain_nx \u001b[39m=\u001b[39m community\u001b[39m.\u001b[39mlouvain_partitions(G)\n\u001b[1;32m----> <a href='vscode-notebook-cell:/c%3A/Users/bao_l/Projects/twitter-ukraine-conflict/3-analysis.ipynb#ch0000020?line=6'>7</a>\u001b[0m first \u001b[39m=\u001b[39m \u001b[39mnext\u001b[39;49m(louvain_nx)\n\u001b[0;32m      <a href='vscode-notebook-cell:/c%3A/Users/bao_l/Projects/twitter-ukraine-conflict/3-analysis.ipynb#ch0000020?line=7'>8</a>\u001b[0m stop_net \u001b[39m=\u001b[39m perf_counter()\n\u001b[0;32m      <a href='vscode-notebook-cell:/c%3A/Users/bao_l/Projects/twitter-ukraine-conflict/3-analysis.ipynb#ch0000020?line=8'>9</a>\u001b[0m \u001b[39mprint\u001b[39m(\u001b[39mf\u001b[39m\u001b[39m\"\u001b[39m\u001b[39mAfter first passage: \u001b[39m\u001b[39m{\u001b[39;00m\u001b[39mlen\u001b[39m(first)\u001b[39m}\u001b[39;00m\u001b[39m communities\u001b[39m\u001b[39m\"\u001b[39m)\n",
      "File \u001b[1;32m<class 'networkx.utils.decorators.argmap'> compilation 8:4\u001b[0m, in \u001b[0;36margmap_louvain_partitions_5\u001b[1;34m(G, weight, resolution, threshold, seed)\u001b[0m\n\u001b[0;32m      <a href='file:///%3Cclass%20%27networkx.utils.decorators.argmap%27%3E%20compilation%208?line=1'>2</a>\u001b[0m \u001b[39mfrom\u001b[39;00m \u001b[39mos\u001b[39;00m\u001b[39m.\u001b[39;00m\u001b[39mpath\u001b[39;00m \u001b[39mimport\u001b[39;00m splitext\n\u001b[0;32m      <a href='file:///%3Cclass%20%27networkx.utils.decorators.argmap%27%3E%20compilation%208?line=2'>3</a>\u001b[0m \u001b[39mfrom\u001b[39;00m \u001b[39mcontextlib\u001b[39;00m \u001b[39mimport\u001b[39;00m contextmanager\n\u001b[1;32m----> <a href='file:///%3Cclass%20%27networkx.utils.decorators.argmap%27%3E%20compilation%208?line=3'>4</a>\u001b[0m \u001b[39mfrom\u001b[39;00m \u001b[39mpathlib\u001b[39;00m \u001b[39mimport\u001b[39;00m Path\n\u001b[0;32m      <a href='file:///%3Cclass%20%27networkx.utils.decorators.argmap%27%3E%20compilation%208?line=5'>6</a>\u001b[0m \u001b[39mimport\u001b[39;00m \u001b[39mnetworkx\u001b[39;00m \u001b[39mas\u001b[39;00m \u001b[39mnx\u001b[39;00m\n\u001b[0;32m      <a href='file:///%3Cclass%20%27networkx.utils.decorators.argmap%27%3E%20compilation%208?line=6'>7</a>\u001b[0m \u001b[39mfrom\u001b[39;00m \u001b[39mnetworkx\u001b[39;00m\u001b[39m.\u001b[39;00m\u001b[39mutils\u001b[39;00m \u001b[39mimport\u001b[39;00m create_random_state, create_py_random_state\n",
      "File \u001b[1;32mc:\\Users\\bao_l\\.virtualenvs\\twitter-ukraine-conflict-H_rK_fvr\\lib\\site-packages\\networkx\\algorithms\\community\\louvain.py:177\u001b[0m, in \u001b[0;36mlouvain_partitions\u001b[1;34m(G, weight, resolution, threshold, seed)\u001b[0m\n\u001b[0;32m    <a href='file:///c%3A/Users/bao_l/.virtualenvs/twitter-ukraine-conflict-H_rK_fvr/lib/site-packages/networkx/algorithms/community/louvain.py?line=173'>174</a>\u001b[0m     graph\u001b[39m.\u001b[39madd_weighted_edges_from(G\u001b[39m.\u001b[39medges(data\u001b[39m=\u001b[39mweight, default\u001b[39m=\u001b[39m\u001b[39m1\u001b[39m))\n\u001b[0;32m    <a href='file:///c%3A/Users/bao_l/.virtualenvs/twitter-ukraine-conflict-H_rK_fvr/lib/site-packages/networkx/algorithms/community/louvain.py?line=175'>176</a>\u001b[0m m \u001b[39m=\u001b[39m graph\u001b[39m.\u001b[39msize(weight\u001b[39m=\u001b[39m\u001b[39m\"\u001b[39m\u001b[39mweight\u001b[39m\u001b[39m\"\u001b[39m)\n\u001b[1;32m--> <a href='file:///c%3A/Users/bao_l/.virtualenvs/twitter-ukraine-conflict-H_rK_fvr/lib/site-packages/networkx/algorithms/community/louvain.py?line=176'>177</a>\u001b[0m partition, inner_partition, improvement \u001b[39m=\u001b[39m _one_level(\n\u001b[0;32m    <a href='file:///c%3A/Users/bao_l/.virtualenvs/twitter-ukraine-conflict-H_rK_fvr/lib/site-packages/networkx/algorithms/community/louvain.py?line=177'>178</a>\u001b[0m     graph, m, partition, resolution, is_directed, seed\n\u001b[0;32m    <a href='file:///c%3A/Users/bao_l/.virtualenvs/twitter-ukraine-conflict-H_rK_fvr/lib/site-packages/networkx/algorithms/community/louvain.py?line=178'>179</a>\u001b[0m )\n\u001b[0;32m    <a href='file:///c%3A/Users/bao_l/.virtualenvs/twitter-ukraine-conflict-H_rK_fvr/lib/site-packages/networkx/algorithms/community/louvain.py?line=179'>180</a>\u001b[0m improvement \u001b[39m=\u001b[39m \u001b[39mTrue\u001b[39;00m\n\u001b[0;32m    <a href='file:///c%3A/Users/bao_l/.virtualenvs/twitter-ukraine-conflict-H_rK_fvr/lib/site-packages/networkx/algorithms/community/louvain.py?line=180'>181</a>\u001b[0m \u001b[39mwhile\u001b[39;00m improvement:\n",
      "File \u001b[1;32mc:\\Users\\bao_l\\.virtualenvs\\twitter-ukraine-conflict-H_rK_fvr\\lib\\site-packages\\networkx\\algorithms\\community\\louvain.py:225\u001b[0m, in \u001b[0;36m_one_level\u001b[1;34m(G, m, partition, resolution, is_directed, seed)\u001b[0m\n\u001b[0;32m    <a href='file:///c%3A/Users/bao_l/.virtualenvs/twitter-ukraine-conflict-H_rK_fvr/lib/site-packages/networkx/algorithms/community/louvain.py?line=222'>223</a>\u001b[0m     degrees \u001b[39m=\u001b[39m \u001b[39mdict\u001b[39m(G\u001b[39m.\u001b[39mdegree(weight\u001b[39m=\u001b[39m\u001b[39m\"\u001b[39m\u001b[39mweight\u001b[39m\u001b[39m\"\u001b[39m))\n\u001b[0;32m    <a href='file:///c%3A/Users/bao_l/.virtualenvs/twitter-ukraine-conflict-H_rK_fvr/lib/site-packages/networkx/algorithms/community/louvain.py?line=223'>224</a>\u001b[0m     Stot \u001b[39m=\u001b[39m [deg \u001b[39mfor\u001b[39;00m deg \u001b[39min\u001b[39;00m degrees\u001b[39m.\u001b[39mvalues()]\n\u001b[1;32m--> <a href='file:///c%3A/Users/bao_l/.virtualenvs/twitter-ukraine-conflict-H_rK_fvr/lib/site-packages/networkx/algorithms/community/louvain.py?line=224'>225</a>\u001b[0m nbrs \u001b[39m=\u001b[39m {u: {v: data[\u001b[39m\"\u001b[39m\u001b[39mweight\u001b[39m\u001b[39m\"\u001b[39m] \u001b[39mfor\u001b[39;00m v, data \u001b[39min\u001b[39;00m G[u]\u001b[39m.\u001b[39mitems() \u001b[39mif\u001b[39;00m v \u001b[39m!=\u001b[39m u} \u001b[39mfor\u001b[39;00m u \u001b[39min\u001b[39;00m G}\n\u001b[0;32m    <a href='file:///c%3A/Users/bao_l/.virtualenvs/twitter-ukraine-conflict-H_rK_fvr/lib/site-packages/networkx/algorithms/community/louvain.py?line=225'>226</a>\u001b[0m rand_nodes \u001b[39m=\u001b[39m \u001b[39mlist\u001b[39m(G\u001b[39m.\u001b[39mnodes)\n\u001b[0;32m    <a href='file:///c%3A/Users/bao_l/.virtualenvs/twitter-ukraine-conflict-H_rK_fvr/lib/site-packages/networkx/algorithms/community/louvain.py?line=226'>227</a>\u001b[0m seed\u001b[39m.\u001b[39mshuffle(rand_nodes)\n",
      "File \u001b[1;32mc:\\Users\\bao_l\\.virtualenvs\\twitter-ukraine-conflict-H_rK_fvr\\lib\\site-packages\\networkx\\algorithms\\community\\louvain.py:225\u001b[0m, in \u001b[0;36m<dictcomp>\u001b[1;34m(.0)\u001b[0m\n\u001b[0;32m    <a href='file:///c%3A/Users/bao_l/.virtualenvs/twitter-ukraine-conflict-H_rK_fvr/lib/site-packages/networkx/algorithms/community/louvain.py?line=222'>223</a>\u001b[0m     degrees \u001b[39m=\u001b[39m \u001b[39mdict\u001b[39m(G\u001b[39m.\u001b[39mdegree(weight\u001b[39m=\u001b[39m\u001b[39m\"\u001b[39m\u001b[39mweight\u001b[39m\u001b[39m\"\u001b[39m))\n\u001b[0;32m    <a href='file:///c%3A/Users/bao_l/.virtualenvs/twitter-ukraine-conflict-H_rK_fvr/lib/site-packages/networkx/algorithms/community/louvain.py?line=223'>224</a>\u001b[0m     Stot \u001b[39m=\u001b[39m [deg \u001b[39mfor\u001b[39;00m deg \u001b[39min\u001b[39;00m degrees\u001b[39m.\u001b[39mvalues()]\n\u001b[1;32m--> <a href='file:///c%3A/Users/bao_l/.virtualenvs/twitter-ukraine-conflict-H_rK_fvr/lib/site-packages/networkx/algorithms/community/louvain.py?line=224'>225</a>\u001b[0m nbrs \u001b[39m=\u001b[39m {u: {v: data[\u001b[39m\"\u001b[39m\u001b[39mweight\u001b[39m\u001b[39m\"\u001b[39m] \u001b[39mfor\u001b[39;00m v, data \u001b[39min\u001b[39;00m G[u]\u001b[39m.\u001b[39mitems() \u001b[39mif\u001b[39;00m v \u001b[39m!=\u001b[39m u} \u001b[39mfor\u001b[39;00m u \u001b[39min\u001b[39;00m G}\n\u001b[0;32m    <a href='file:///c%3A/Users/bao_l/.virtualenvs/twitter-ukraine-conflict-H_rK_fvr/lib/site-packages/networkx/algorithms/community/louvain.py?line=225'>226</a>\u001b[0m rand_nodes \u001b[39m=\u001b[39m \u001b[39mlist\u001b[39m(G\u001b[39m.\u001b[39mnodes)\n\u001b[0;32m    <a href='file:///c%3A/Users/bao_l/.virtualenvs/twitter-ukraine-conflict-H_rK_fvr/lib/site-packages/networkx/algorithms/community/louvain.py?line=226'>227</a>\u001b[0m seed\u001b[39m.\u001b[39mshuffle(rand_nodes)\n",
      "File \u001b[1;32mc:\\Users\\bao_l\\.virtualenvs\\twitter-ukraine-conflict-H_rK_fvr\\lib\\site-packages\\networkx\\algorithms\\community\\louvain.py:225\u001b[0m, in \u001b[0;36m<dictcomp>\u001b[1;34m(.0)\u001b[0m\n\u001b[0;32m    <a href='file:///c%3A/Users/bao_l/.virtualenvs/twitter-ukraine-conflict-H_rK_fvr/lib/site-packages/networkx/algorithms/community/louvain.py?line=222'>223</a>\u001b[0m     degrees \u001b[39m=\u001b[39m \u001b[39mdict\u001b[39m(G\u001b[39m.\u001b[39mdegree(weight\u001b[39m=\u001b[39m\u001b[39m\"\u001b[39m\u001b[39mweight\u001b[39m\u001b[39m\"\u001b[39m))\n\u001b[0;32m    <a href='file:///c%3A/Users/bao_l/.virtualenvs/twitter-ukraine-conflict-H_rK_fvr/lib/site-packages/networkx/algorithms/community/louvain.py?line=223'>224</a>\u001b[0m     Stot \u001b[39m=\u001b[39m [deg \u001b[39mfor\u001b[39;00m deg \u001b[39min\u001b[39;00m degrees\u001b[39m.\u001b[39mvalues()]\n\u001b[1;32m--> <a href='file:///c%3A/Users/bao_l/.virtualenvs/twitter-ukraine-conflict-H_rK_fvr/lib/site-packages/networkx/algorithms/community/louvain.py?line=224'>225</a>\u001b[0m nbrs \u001b[39m=\u001b[39m {u: {v: data[\u001b[39m\"\u001b[39m\u001b[39mweight\u001b[39m\u001b[39m\"\u001b[39m] \u001b[39mfor\u001b[39;00m v, data \u001b[39min\u001b[39;00m G[u]\u001b[39m.\u001b[39mitems() \u001b[39mif\u001b[39;00m v \u001b[39m!=\u001b[39m u} \u001b[39mfor\u001b[39;00m u \u001b[39min\u001b[39;00m G}\n\u001b[0;32m    <a href='file:///c%3A/Users/bao_l/.virtualenvs/twitter-ukraine-conflict-H_rK_fvr/lib/site-packages/networkx/algorithms/community/louvain.py?line=225'>226</a>\u001b[0m rand_nodes \u001b[39m=\u001b[39m \u001b[39mlist\u001b[39m(G\u001b[39m.\u001b[39mnodes)\n\u001b[0;32m    <a href='file:///c%3A/Users/bao_l/.virtualenvs/twitter-ukraine-conflict-H_rK_fvr/lib/site-packages/networkx/algorithms/community/louvain.py?line=226'>227</a>\u001b[0m seed\u001b[39m.\u001b[39mshuffle(rand_nodes)\n",
      "File \u001b[1;32m~\\AppData\\Local\\Programs\\Python\\Python38\\lib\\_collections_abc.py:743\u001b[0m, in \u001b[0;36mItemsView.__iter__\u001b[1;34m(self)\u001b[0m\n\u001b[0;32m    <a href='file:///c%3A/Users/bao_l/AppData/Local/Programs/Python/Python38/lib/_collections_abc.py?line=741'>742</a>\u001b[0m \u001b[39mdef\u001b[39;00m \u001b[39m__iter__\u001b[39m(\u001b[39mself\u001b[39m):\n\u001b[1;32m--> <a href='file:///c%3A/Users/bao_l/AppData/Local/Programs/Python/Python38/lib/_collections_abc.py?line=742'>743</a>\u001b[0m     \u001b[39mfor\u001b[39;00m key \u001b[39min\u001b[39;00m \u001b[39mself\u001b[39;49m\u001b[39m.\u001b[39;49m_mapping:\n\u001b[0;32m    <a href='file:///c%3A/Users/bao_l/AppData/Local/Programs/Python/Python38/lib/_collections_abc.py?line=743'>744</a>\u001b[0m         \u001b[39myield\u001b[39;00m (key, \u001b[39mself\u001b[39m\u001b[39m.\u001b[39m_mapping[key])\n",
      "\u001b[1;31mKeyboardInterrupt\u001b[0m: "
     ]
    }
   ],
   "source": [
    "results = {}\n",
    "for name, G in nx_graphs.items():\n",
    "    print(f\"Graph of {len(G.nodes)} nodes\")\n",
    "    \n",
    "    start_net = perf_counter()\n",
    "    louvain_nx = community.louvain_partitions(G)\n",
    "    first = next(louvain_nx)\n",
    "    stop_net = perf_counter()\n",
    "    print(f\"After first passage: {len(first)} communities\")\n",
    "    # second = next(louvain_nx)\n",
    "    # print(f\"After second passage: {len(second)} communities\")\n",
    "    # third = next(louvain_nx)\n",
    "    # print(f\"After third passage: {len(third)} communities\")\n",
    "    print(f\"Time for NetworkX: {stop_net - start_net}\")\n",
    "    \n",
    "    start_our = perf_counter()\n",
    "    print(f\"Louvain on {name}\")\n",
    "    data = louvain(G, 1)\n",
    "    stop_our = perf_counter()\n",
    "    print(f\"Time for our implementation: {stop_our - start_our}\")\n",
    "    results[name] = data"
   ]
  }
 ],
 "metadata": {
  "interpreter": {
   "hash": "e17df53156a1cd5dcd810416833fc7bc2978cb4c660ed625567caafd9f935baa"
  },
  "kernelspec": {
   "display_name": "Python 3.8.10 ('twitter-ukraine-conflict-H_rK_fvr')",
   "language": "python",
   "name": "python3"
  },
  "language_info": {
   "codemirror_mode": {
    "name": "ipython",
    "version": 3
   },
   "file_extension": ".py",
   "mimetype": "text/x-python",
   "name": "python",
   "nbconvert_exporter": "python",
   "pygments_lexer": "ipython3",
   "version": "3.8.10"
  }
 },
 "nbformat": 4,
 "nbformat_minor": 5
}
