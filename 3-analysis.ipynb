{
 "cells": [
  {
   "cell_type": "markdown",
   "id": "9f3231ef-c5f9-4da3-b4cb-8e3f78739026",
   "metadata": {},
   "source": [
    "# Network component analysis"
   ]
  },
  {
   "cell_type": "code",
   "execution_count": 1,
   "id": "4c6a6bbe-959d-458d-b1f8-7c38d8b7f489",
   "metadata": {},
   "outputs": [],
   "source": [
    "import pandas as pd\n",
    "import numpy as np\n",
    "from pathlib import Path\n",
    "import networkx as nx\n",
    "from networkx.algorithms import community\n",
    "from numba import jit\n",
    "from tqdm import tqdm\n",
    "from itertools import tee"
   ]
  },
  {
   "cell_type": "code",
   "execution_count": 24,
   "id": "c1c300e2",
   "metadata": {},
   "outputs": [
    {
     "name": "stdout",
     "output_type": "stream",
     "text": [
      "359703\n"
     ]
    }
   ],
   "source": [
    "# Read csv from edgelistsSample folder\n",
    "edgelists_sample_df = pd.read_csv(\"edgelistsSample/edgelists_any_sample.csv\")\n",
    "edgelists_sample_df\n",
    "G = nx.from_pandas_edgelist(edgelists_sample_df, source='Source', target='Target', create_using=nx.Graph())\n",
    "# Set all weights to 1\n",
    "nx.set_edge_attributes(G, 1, 'weight')\n",
    "print(len(G.nodes))"
   ]
  },
  {
   "cell_type": "code",
   "execution_count": 25,
   "id": "e11a0a94",
   "metadata": {},
   "outputs": [
    {
     "name": "stdout",
     "output_type": "stream",
     "text": [
      "After first passage: 43 communities\n",
      "After second passage: 33 communities\n"
     ]
    }
   ],
   "source": [
    "louvain_nx = community.louvain_partitions(G)\n",
    "first = next(louvain_nx)\n",
    "print(f\"After first passage: {len(first)} communities\")\n",
    "second = next(louvain_nx)\n",
    "print(f\"After second passage: {len(second)} communities\")"
   ]
  },
  {
   "cell_type": "code",
   "execution_count": 26,
   "id": "760c50ae-def8-483b-95f5-ee7d247ace32",
   "metadata": {},
   "outputs": [
    {
     "name": "stdout",
     "output_type": "stream",
     "text": [
      "Passage 0\n",
      "Iteration 0\n"
     ]
    },
    {
     "name": "stderr",
     "output_type": "stream",
     "text": [
      "100%|███████████████████████████████████████████████████| 359703/359703 [00:03<00:00, 111285.91it/s]"
     ]
    },
    {
     "name": "stdout",
     "output_type": "stream",
     "text": [
      "Iteration 1\n"
     ]
    },
    {
     "name": "stderr",
     "output_type": "stream",
     "text": [
      "\n",
      "100%|███████████████████████████████████████████████████| 359703/359703 [00:02<00:00, 133350.81it/s]"
     ]
    },
    {
     "name": "stdout",
     "output_type": "stream",
     "text": [
      "Iteration 2\n"
     ]
    },
    {
     "name": "stderr",
     "output_type": "stream",
     "text": [
      "\n",
      "100%|███████████████████████████████████████████████████| 359703/359703 [00:02<00:00, 134921.01it/s]"
     ]
    },
    {
     "name": "stdout",
     "output_type": "stream",
     "text": [
      "Iteration 3\n"
     ]
    },
    {
     "name": "stderr",
     "output_type": "stream",
     "text": [
      "\n",
      "100%|███████████████████████████████████████████████████| 359703/359703 [00:02<00:00, 134068.58it/s]"
     ]
    },
    {
     "name": "stdout",
     "output_type": "stream",
     "text": [
      "Construct new graph\n"
     ]
    },
    {
     "name": "stderr",
     "output_type": "stream",
     "text": [
      "\n"
     ]
    },
    {
     "name": "stdout",
     "output_type": "stream",
     "text": [
      "There are 43 communities after passage 0\n",
      "Passage 1\n",
      "Iteration 0\n"
     ]
    },
    {
     "name": "stderr",
     "output_type": "stream",
     "text": [
      "100%|████████████████████████████████████████████████████████████| 43/43 [00:00<00:00, 62536.43it/s]"
     ]
    },
    {
     "name": "stdout",
     "output_type": "stream",
     "text": [
      "Iteration 1\n"
     ]
    },
    {
     "name": "stderr",
     "output_type": "stream",
     "text": [
      "\n",
      "100%|████████████████████████████████████████████████████████████| 43/43 [00:00<00:00, 71711.76it/s]"
     ]
    },
    {
     "name": "stdout",
     "output_type": "stream",
     "text": [
      "Iteration 2\n"
     ]
    },
    {
     "name": "stderr",
     "output_type": "stream",
     "text": [
      "\n",
      "100%|████████████████████████████████████████████████████████████| 43/43 [00:00<00:00, 71825.99it/s]"
     ]
    },
    {
     "name": "stdout",
     "output_type": "stream",
     "text": [
      "Iteration 3\n"
     ]
    },
    {
     "name": "stderr",
     "output_type": "stream",
     "text": [
      "\n",
      "100%|████████████████████████████████████████████████████████████| 43/43 [00:00<00:00, 72635.95it/s]"
     ]
    },
    {
     "name": "stdout",
     "output_type": "stream",
     "text": [
      "Construct new graph\n",
      "There are 21 communities after passage 1\n"
     ]
    },
    {
     "name": "stderr",
     "output_type": "stream",
     "text": [
      "\n"
     ]
    }
   ],
   "source": [
    "# Louvain implementation\n",
    "def louvain(G, npassage):\n",
    "    # Will contain the graph and the communities after each passage\n",
    "    data = {}\n",
    "    for i in range(npassage):\n",
    "        print(f\"Passage {i}\", flush=True)\n",
    "        old_G, G, communities = louvain_step(G, G, i==0)\n",
    "        data[i] = (old_G, communities)\n",
    "        print(f\"There are {len(communities)} communities after passage {i}\", flush=True)\n",
    "    return data\n",
    "\n",
    "\n",
    "def louvain_step(G, copy, is_first_passage):\n",
    "    # Step 1: Initialization, start with each node being a single community\n",
    "    communities = {idx: set([node]) for idx, node in enumerate(G.nodes)}\n",
    "    # To get direct access to the community (it speeds up a bit the algorithm)\n",
    "    get_community = {node: idx for idx, node in enumerate(G.nodes)}\n",
    "    # Used in the modularity computation\n",
    "    neighbors_sets = {node: set(G.neighbors(node)) for node in G.nodes}\n",
    "    m = len(G.edges)\n",
    "\n",
    "    # Sum the weights of the incident edges for all nodes inside a community, for all communities\n",
    "    # Separate first passage and other ones to speed up the algorithm\n",
    "    if is_first_passage:\n",
    "        sum_communities = {idx: sum(dict(G.degree(community)).values()) for idx, community in communities.items()}\n",
    "    else:\n",
    "        sum_communities = {idx: sum(dict(G.degree(community, 'weight')).values()) for idx, community in communities.items()}\n",
    "\n",
    "    # Fixed number of iterations\n",
    "    # TODO: change it?\n",
    "    for i in range(4):\n",
    "        print(f\"Iteration {i}\", flush=True)\n",
    "        for node in tqdm(G.nodes):\n",
    "            # Step 2: Remove node from its community\n",
    "            # TODO: make sure what we want to do if the node has no neighboring communities\n",
    "            neighboring_communities = get_neighboring_communities(G, node, get_community)\n",
    "            if neighboring_communities == set():\n",
    "                continue\n",
    "            belong_to = get_community[node]\n",
    "            communities[belong_to].remove(node)\n",
    "            sum_communities[belong_to] -= G.degree(node, 'weight')\n",
    "            if communities[belong_to] == set():\n",
    "                del communities[belong_to]\n",
    "                del sum_communities[belong_to]\n",
    "\n",
    "            # Step 3: Insert the node in the community that maximizes the modularity\n",
    "            scores = [\n",
    "                (neighbor_community, modularity_gain(G, node, communities[neighbor_community], sum_communities[neighbor_community], neighbors_sets[node], m, is_first_passage))\n",
    "                for neighbor_community in neighboring_communities\n",
    "            ]\n",
    "            best_community, best_score = max(scores, key=lambda x: x[1])\n",
    "            communities[best_community].add(node)\n",
    "            get_community[node] = best_community\n",
    "            sum_communities[best_community] += G.degree(node, 'weight')\n",
    "\n",
    "    return G, get_new_graph(G, communities, sum_communities, get_community), communities\n",
    "\n",
    "\n",
    "def get_neighboring_communities(G, node, get_community):\n",
    "    # Use a set to make sure a community only appear once\n",
    "    neighboring_communities = set()\n",
    "    for neighbor in G.neighbors(node):\n",
    "        if neighbor == node: continue\n",
    "        neighboring_communities.add(get_community[neighbor])\n",
    "\n",
    "    return neighboring_communities\n",
    "\n",
    "\n",
    "def modularity_gain(G, node, community, sum_community, neighbor_set, m, is_first_passage):\n",
    "    # Separate first passage and other ones to speed up the algorithm\n",
    "    if is_first_passage:\n",
    "        # Sum the weights of the edges from node into community nodes\n",
    "        # Using sets allow to use intersection()\n",
    "        sum_weights_node = len(neighbor_set.intersection(community))\n",
    "        right_member = (sum_community * G.degree[node]) / (2 * (m**2))\n",
    "    else:\n",
    "        # Sum the weights of the edges from node into community nodes\n",
    "        sum_weights_node = sum([G.get_edge_data(node, member)['weight'] for member in G.neighbors(node) if member in community])\n",
    "        right_member = (sum_community * G.degree(node, 'weight')) / (2 * (m**2))\n",
    "    # Compute modularity\n",
    "    left_member = sum_weights_node / (2 * m)\n",
    "    return left_member - right_member\n",
    "\n",
    "\n",
    "def get_new_graph(old_G, communities, sum_communities, get_community):\n",
    "    print(\"Construct new graph\", flush=True)\n",
    "    G = nx.Graph()\n",
    "    G.add_nodes_from(communities.keys())\n",
    "    for community in communities:\n",
    "        G.add_edge(community, community, weight=sum_communities[community])\n",
    "\n",
    "    for source, dest, weight_dict in old_G.edges(data=True):\n",
    "        community1 = get_community[source]\n",
    "        community2 = get_community[dest]\n",
    "        current_weight = G.get_edge_data(community1, community2, {'weight': 0})['weight']\n",
    "        # TODO: is this correct?\n",
    "        new_weight = current_weight + weight_dict['weight']\n",
    "        G.add_edge(community1, community2, weight=new_weight)\n",
    "    return G\n",
    "\n",
    "\n",
    "data = louvain(G, 2)"
   ]
  },
  {
   "cell_type": "code",
   "execution_count": 20,
   "id": "bdebf1eb",
   "metadata": {},
   "outputs": [],
   "source": [
    "# get last entry of data\n",
    "last_entry = data[0]\n",
    "networkx_graph, communities_dict = last_entry"
   ]
  },
  {
   "cell_type": "code",
   "execution_count": 21,
   "id": "a751f3dc",
   "metadata": {},
   "outputs": [],
   "source": [
    "communities_df = pd.DataFrame(columns=[\"Id\",\"Label\", \"Community\", \"Is_author\"])\n",
    "\n",
    "# tranform communities_dict into a dataframe \n",
    "# key is the community, value is the Id\n",
    "for key, value in communities_dict.items():\n",
    "    for idx in value:\n",
    "        communities_df = pd.concat([communities_df, pd.DataFrame({\"Id\":idx, \"Label\":idx, \"Community\":key, \"Is_author\":False}, index=[0])], ignore_index=True)"
   ]
  },
  {
   "cell_type": "code",
   "execution_count": 22,
   "id": "5cd13212",
   "metadata": {},
   "outputs": [],
   "source": [
    "communities_df.loc[communities_df['Id'].isin(edgelists_sample_df['Target'].unique()), \"Is_author\"] = True"
   ]
  },
  {
   "cell_type": "code",
   "execution_count": 23,
   "id": "70fc76bd",
   "metadata": {},
   "outputs": [
    {
     "data": {
      "text/html": [
       "<div>\n",
       "<style scoped>\n",
       "    .dataframe tbody tr th:only-of-type {\n",
       "        vertical-align: middle;\n",
       "    }\n",
       "\n",
       "    .dataframe tbody tr th {\n",
       "        vertical-align: top;\n",
       "    }\n",
       "\n",
       "    .dataframe thead th {\n",
       "        text-align: right;\n",
       "    }\n",
       "</style>\n",
       "<table border=\"1\" class=\"dataframe\">\n",
       "  <thead>\n",
       "    <tr style=\"text-align: right;\">\n",
       "      <th></th>\n",
       "      <th>Id</th>\n",
       "      <th>Label</th>\n",
       "      <th>Community</th>\n",
       "      <th>Is_author</th>\n",
       "    </tr>\n",
       "  </thead>\n",
       "  <tbody>\n",
       "    <tr>\n",
       "      <th>0</th>\n",
       "      <td>911968842548736000</td>\n",
       "      <td>911968842548736000</td>\n",
       "      <td>1</td>\n",
       "      <td>False</td>\n",
       "    </tr>\n",
       "    <tr>\n",
       "      <th>1</th>\n",
       "      <td>898353394636566529</td>\n",
       "      <td>898353394636566529</td>\n",
       "      <td>1</td>\n",
       "      <td>False</td>\n",
       "    </tr>\n",
       "    <tr>\n",
       "      <th>2</th>\n",
       "      <td>831170686311882753</td>\n",
       "      <td>831170686311882753</td>\n",
       "      <td>1</td>\n",
       "      <td>False</td>\n",
       "    </tr>\n",
       "    <tr>\n",
       "      <th>3</th>\n",
       "      <td>1479359505292951555</td>\n",
       "      <td>1479359505292951555</td>\n",
       "      <td>1</td>\n",
       "      <td>True</td>\n",
       "    </tr>\n",
       "    <tr>\n",
       "      <th>4</th>\n",
       "      <td>1492606363733737473</td>\n",
       "      <td>1492606363733737473</td>\n",
       "      <td>1</td>\n",
       "      <td>False</td>\n",
       "    </tr>\n",
       "    <tr>\n",
       "      <th>...</th>\n",
       "      <td>...</td>\n",
       "      <td>...</td>\n",
       "      <td>...</td>\n",
       "      <td>...</td>\n",
       "    </tr>\n",
       "    <tr>\n",
       "      <th>6287</th>\n",
       "      <td>2619827831</td>\n",
       "      <td>2619827831</td>\n",
       "      <td>3603</td>\n",
       "      <td>False</td>\n",
       "    </tr>\n",
       "    <tr>\n",
       "      <th>6288</th>\n",
       "      <td>2533360464</td>\n",
       "      <td>2533360464</td>\n",
       "      <td>3603</td>\n",
       "      <td>False</td>\n",
       "    </tr>\n",
       "    <tr>\n",
       "      <th>6289</th>\n",
       "      <td>3107281715</td>\n",
       "      <td>3107281715</td>\n",
       "      <td>3603</td>\n",
       "      <td>False</td>\n",
       "    </tr>\n",
       "    <tr>\n",
       "      <th>6290</th>\n",
       "      <td>50552213</td>\n",
       "      <td>50552213</td>\n",
       "      <td>3603</td>\n",
       "      <td>False</td>\n",
       "    </tr>\n",
       "    <tr>\n",
       "      <th>6291</th>\n",
       "      <td>71902263</td>\n",
       "      <td>71902263</td>\n",
       "      <td>3603</td>\n",
       "      <td>True</td>\n",
       "    </tr>\n",
       "  </tbody>\n",
       "</table>\n",
       "<p>6292 rows × 4 columns</p>\n",
       "</div>"
      ],
      "text/plain": [
       "                       Id                Label Community Is_author\n",
       "0      911968842548736000   911968842548736000         1     False\n",
       "1      898353394636566529   898353394636566529         1     False\n",
       "2      831170686311882753   831170686311882753         1     False\n",
       "3     1479359505292951555  1479359505292951555         1      True\n",
       "4     1492606363733737473  1492606363733737473         1     False\n",
       "...                   ...                  ...       ...       ...\n",
       "6287           2619827831           2619827831      3603     False\n",
       "6288           2533360464           2533360464      3603     False\n",
       "6289           3107281715           3107281715      3603     False\n",
       "6290             50552213             50552213      3603     False\n",
       "6291             71902263             71902263      3603      True\n",
       "\n",
       "[6292 rows x 4 columns]"
      ]
     },
     "execution_count": 23,
     "metadata": {},
     "output_type": "execute_result"
    }
   ],
   "source": [
    "communities_df"
   ]
  },
  {
   "cell_type": "code",
   "execution_count": 58,
   "id": "34d09d4c",
   "metadata": {},
   "outputs": [],
   "source": [
    "# save to csv, ignore index\n",
    "communities_df.to_csv(\"communities_df.csv\", index=False)"
   ]
  },
  {
   "cell_type": "markdown",
   "id": "f0bee368-d7bf-4f60-b364-2a73ad6e0d1b",
   "metadata": {},
   "source": [
    "## TODO:\n",
    "- Sample by taking random author_id and take all edges connected to it\n",
    "- Implement from scratch community detection: Louvain (faster than Girvan)\n",
    "- Look at how to store the communities (edgelist or so)\n",
    "- Look at the caracteristics of the huge communities: what is the Tweet, who is the author, what are the hashtags etc...\n",
    "- Make profiles of users: press, random guy, famous guy, etc...\n",
    "- Look at outliers\n",
    "- Load communities to Gephi to vizualise them"
   ]
  },
  {
   "cell_type": "code",
   "execution_count": null,
   "id": "6921534f-9fe6-4b47-be1e-38688abfdc41",
   "metadata": {},
   "outputs": [],
   "source": []
  }
 ],
 "metadata": {
  "interpreter": {
   "hash": "e17df53156a1cd5dcd810416833fc7bc2978cb4c660ed625567caafd9f935baa"
  },
  "kernelspec": {
   "display_name": "Python 3 (ipykernel)",
   "language": "python",
   "name": "python3"
  },
  "language_info": {
   "codemirror_mode": {
    "name": "ipython",
    "version": 3
   },
   "file_extension": ".py",
   "mimetype": "text/x-python",
   "name": "python",
   "nbconvert_exporter": "python",
   "pygments_lexer": "ipython3",
   "version": "3.8.10"
  }
 },
 "nbformat": 4,
 "nbformat_minor": 5
}
