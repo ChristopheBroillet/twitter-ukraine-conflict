{
 "cells": [
  {
   "cell_type": "markdown",
   "id": "9f3231ef-c5f9-4da3-b4cb-8e3f78739026",
   "metadata": {},
   "source": [
    "# Network component analysis"
   ]
  },
  {
   "cell_type": "code",
   "execution_count": 44,
   "id": "4c6a6bbe-959d-458d-b1f8-7c38d8b7f489",
   "metadata": {},
   "outputs": [],
   "source": [
    "import pandas as pd\n",
    "from pathlib import Path\n",
    "import networkx as nx\n",
    "from networkx.algorithms import community\n",
    "from tqdm import tqdm\n",
    "import copy\n",
    "from time import perf_counter\n",
    "import matplotlib.pyplot as plt\n",
    "import seaborn as sns"
   ]
  },
  {
   "cell_type": "markdown",
   "id": "134a5d31-81e3-458a-b5ab-b106b6809701",
   "metadata": {},
   "source": [
    "## Load the data (sampled) and create NetworkX graphs"
   ]
  },
  {
   "cell_type": "code",
   "execution_count": 2,
   "id": "e40a848a",
   "metadata": {},
   "outputs": [],
   "source": [
    "edgelists = {}\n",
    "nx_graphs = {}\n",
    "\n",
    "for file in Path(\"edgelistsSample\").iterdir():\n",
    "    # if file.stem == \"edgelists_any_sample_w_data\": continue\n",
    "    tmp_edgelist = pd.read_csv(file)\n",
    "    edgelists[file.stem] = tmp_edgelist\n",
    "\n",
    "    tmp_nx_graph = nx.from_pandas_edgelist(tmp_edgelist, source='Source', target='Target', create_using=nx.Graph())\n",
    "    # Ensure that graphs have a 'weight' edge attribute\n",
    "    nx.set_edge_attributes(tmp_nx_graph, 1, 'weight')\n",
    "    nx_graphs[file.stem] = tmp_nx_graph"
   ]
  },
  {
   "cell_type": "markdown",
   "id": "c0af5224-4e3c-4d76-a554-8fdca1e18956",
   "metadata": {},
   "source": [
    "## Our Louvain implementation"
   ]
  },
  {
   "cell_type": "code",
   "execution_count": 3,
   "id": "760c50ae-def8-483b-95f5-ee7d247ace32",
   "metadata": {},
   "outputs": [],
   "source": [
    "# Louvain implementation\n",
    "def louvain(G, npassage):\n",
    "    # Will contain the graph and the communities after each passage\n",
    "    data = {}\n",
    "    for i in range(0, npassage):\n",
    "        print(f\"Passage {i+1}\", flush=True)\n",
    "        G, communities, get_community = louvain_step(G, i==0)\n",
    "        data[i] = get_community\n",
    "        print(f\"There are {len(communities)} communities after passage {i+1}\", flush=True)\n",
    "    return data\n",
    "\n",
    "\n",
    "def louvain_step(G, is_first_passage):\n",
    "    # Step 1: Initialization, start with each node being a single community\n",
    "    communities = {idx: set([node]) for idx, node in enumerate(G.nodes)}\n",
    "    # To get direct access to the community (it speeds up a bit the algorithm)\n",
    "    get_community = {node: idx for idx, node in enumerate(G.nodes)}\n",
    "    # Used in the modularity computation\n",
    "    neighbors_sets = {node: set(G.neighbors(node)) for node in G.nodes}\n",
    "    m = len(G.edges)\n",
    "\n",
    "    # Sum the weights of the incident edges for all nodes inside a community, for all communities\n",
    "    # Separate first passage and other ones to speed up the algorithm\n",
    "    if is_first_passage:\n",
    "        sum_communities = {idx: sum(dict(G.degree(community)).values()) for idx, community in communities.items()}\n",
    "    else:\n",
    "        sum_communities = {idx: sum(dict(G.degree(community, 'weight')).values()) for idx, community in communities.items()}\n",
    "\n",
    "    prev_communities = {}\n",
    "    i = 0\n",
    "    # While there are changes in the communities, make another iteration\n",
    "    while(communities != prev_communities):\n",
    "        print(f\"Iteration {i+1}\", flush=True)\n",
    "        # Deepcopy to have a new object with a new reference\n",
    "        # Otherwise comparison in while is always True\n",
    "        prev_communities = copy.deepcopy(communities)\n",
    "        \n",
    "        for node in tqdm(G.nodes):\n",
    "            # Step 2: Remove node from its community\n",
    "            neighboring_communities = get_neighboring_communities(G, node, get_community)\n",
    "            if neighboring_communities == set():\n",
    "                continue\n",
    "            belong_to = get_community[node]\n",
    "            communities[belong_to].remove(node)\n",
    "            sum_communities[belong_to] -= G.degree(node, 'weight')\n",
    "            if communities[belong_to] == set():\n",
    "                del communities[belong_to]\n",
    "                del sum_communities[belong_to]\n",
    "\n",
    "            # Step 3: Insert the node in the community that maximizes the modularity\n",
    "            scores = [\n",
    "                (neighbor_community, modularity_gain(G, node, communities[neighbor_community], sum_communities[neighbor_community], neighbors_sets[node], m, is_first_passage))\n",
    "                for neighbor_community in neighboring_communities\n",
    "            ]\n",
    "            best_community, best_score = max(scores, key=lambda x: x[1])\n",
    "            communities[best_community].add(node)\n",
    "            get_community[node] = best_community\n",
    "            sum_communities[best_community] += G.degree(node, 'weight')\n",
    "          \n",
    "        i += 1\n",
    "\n",
    "    # Step 4: Update the graph\n",
    "    if is_first_passage:\n",
    "        return get_new_graph(G, communities, sum_communities, get_community), communities, get_community\n",
    "    return get_new_graph(G, communities, sum_communities, get_community), communities, get_community\n",
    "\n",
    "\n",
    "def get_neighboring_communities(G, node, get_community):\n",
    "    # Use a set to make sure a community only appear once\n",
    "    neighboring_communities = set()\n",
    "    for neighbor in G.neighbors(node):\n",
    "        if neighbor == node: continue\n",
    "        neighboring_communities.add(get_community[neighbor])\n",
    "    return neighboring_communities\n",
    "\n",
    "\n",
    "def modularity_gain(G, node, community, sum_community, neighbor_set, m, is_first_passage):\n",
    "    # Separate first passage and other ones to speed up the algorithm\n",
    "    if is_first_passage:\n",
    "        # Sum the weights of the edges from node into community nodes\n",
    "        # Using sets allow to use intersection()\n",
    "        sum_weights_node = len(neighbor_set.intersection(community))\n",
    "        right_member = (sum_community * G.degree[node]) / (2 * (m**2))\n",
    "    else:\n",
    "        # Sum the weights of the edges from node into community nodes\n",
    "        sum_weights_node = sum([G.get_edge_data(node, member)['weight'] for member in G.neighbors(node) if member in community])\n",
    "        right_member = (sum_community * G.degree(node, 'weight')) / (2 * (m**2))\n",
    "    # Compute modularity\n",
    "    left_member = sum_weights_node / (2 * m)\n",
    "    return left_member - right_member\n",
    "\n",
    "\n",
    "def get_new_graph(old_G, communities, sum_communities, get_community):\n",
    "    print(\"Constructing new graph\", flush=True)\n",
    "    G = nx.Graph()\n",
    "    G.add_nodes_from(communities.keys())\n",
    "    for community in communities:\n",
    "        G.add_edge(community, community, weight=sum_communities[community])\n",
    "\n",
    "    for source, dest, weight_dict in old_G.edges(data=True):\n",
    "        community1 = get_community[source]\n",
    "        community2 = get_community[dest]\n",
    "        # If edge not exist, weight initialized at 0\n",
    "        current_weight = G.get_edge_data(community1, community2, {'weight': 0})['weight']\n",
    "        new_weight = current_weight + weight_dict['weight']\n",
    "        G.add_edge(community1, community2, weight=new_weight)\n",
    "    return G"
   ]
  },
  {
   "cell_type": "markdown",
   "id": "05d1dac5-97e3-4f58-9bf3-db38296a4812",
   "metadata": {},
   "source": [
    "## Run our Louvain on the graphs"
   ]
  },
  {
   "cell_type": "code",
   "execution_count": 7,
   "id": "4bf96aed-55b5-4327-8139-f47ab7f07b92",
   "metadata": {},
   "outputs": [
    {
     "name": "stdout",
     "output_type": "stream",
     "text": [
      "Louvain on edgelists_any_sample\n",
      "Passage 1\n",
      "Iteration 1\n"
     ]
    },
    {
     "name": "stderr",
     "output_type": "stream",
     "text": [
      "100%|██████████| 221327/221327 [00:03<00:00, 69951.68it/s]"
     ]
    },
    {
     "name": "stdout",
     "output_type": "stream",
     "text": [
      "Iteration 2\n"
     ]
    },
    {
     "name": "stderr",
     "output_type": "stream",
     "text": [
      "\n",
      "100%|██████████| 221327/221327 [00:02<00:00, 81280.18it/s]"
     ]
    },
    {
     "name": "stdout",
     "output_type": "stream",
     "text": [
      "Iteration 3\n"
     ]
    },
    {
     "name": "stderr",
     "output_type": "stream",
     "text": [
      "\n",
      "100%|██████████| 221327/221327 [00:02<00:00, 81850.99it/s]"
     ]
    },
    {
     "name": "stdout",
     "output_type": "stream",
     "text": [
      "Constructing new graph\n"
     ]
    },
    {
     "name": "stderr",
     "output_type": "stream",
     "text": [
      "\n"
     ]
    },
    {
     "name": "stdout",
     "output_type": "stream",
     "text": [
      "There are 99 communities after passage 1\n",
      "Passage 2\n",
      "Iteration 1\n"
     ]
    },
    {
     "name": "stderr",
     "output_type": "stream",
     "text": [
      "100%|██████████| 99/99 [00:00<00:00, 10961.88it/s]"
     ]
    },
    {
     "name": "stdout",
     "output_type": "stream",
     "text": [
      "Iteration 2\n"
     ]
    },
    {
     "name": "stderr",
     "output_type": "stream",
     "text": [
      "\n",
      "100%|██████████| 99/99 [00:00<00:00, 12329.96it/s]"
     ]
    },
    {
     "name": "stdout",
     "output_type": "stream",
     "text": [
      "Iteration 3\n"
     ]
    },
    {
     "name": "stderr",
     "output_type": "stream",
     "text": [
      "\n",
      "100%|██████████| 99/99 [00:00<00:00, 12371.10it/s]"
     ]
    },
    {
     "name": "stdout",
     "output_type": "stream",
     "text": [
      "Iteration 4\n"
     ]
    },
    {
     "name": "stderr",
     "output_type": "stream",
     "text": [
      "\n",
      "100%|██████████| 99/99 [00:00<00:00, 14093.48it/s]"
     ]
    },
    {
     "name": "stdout",
     "output_type": "stream",
     "text": [
      "Iteration 5\n"
     ]
    },
    {
     "name": "stderr",
     "output_type": "stream",
     "text": [
      "\n",
      "100%|██████████| 99/99 [00:00<00:00, 14088.22it/s]"
     ]
    },
    {
     "name": "stdout",
     "output_type": "stream",
     "text": [
      "Iteration 6\n"
     ]
    },
    {
     "name": "stderr",
     "output_type": "stream",
     "text": [
      "\n",
      "100%|██████████| 99/99 [00:00<00:00, 16426.13it/s]"
     ]
    },
    {
     "name": "stdout",
     "output_type": "stream",
     "text": [
      "Iteration 7\n"
     ]
    },
    {
     "name": "stderr",
     "output_type": "stream",
     "text": [
      "\n",
      "100%|██████████| 99/99 [00:00<00:00, 16541.95it/s]"
     ]
    },
    {
     "name": "stdout",
     "output_type": "stream",
     "text": [
      "Iteration 8\n"
     ]
    },
    {
     "name": "stderr",
     "output_type": "stream",
     "text": [
      "\n",
      "100%|██████████| 99/99 [00:00<00:00, 19798.60it/s]"
     ]
    },
    {
     "name": "stdout",
     "output_type": "stream",
     "text": [
      "Iteration 9\n"
     ]
    },
    {
     "name": "stderr",
     "output_type": "stream",
     "text": [
      "\n",
      "100%|██████████| 99/99 [00:00<00:00, 24741.47it/s]"
     ]
    },
    {
     "name": "stdout",
     "output_type": "stream",
     "text": [
      "Iteration 10\n"
     ]
    },
    {
     "name": "stderr",
     "output_type": "stream",
     "text": [
      "\n",
      "100%|██████████| 99/99 [00:00<00:00, 24760.65it/s]"
     ]
    },
    {
     "name": "stdout",
     "output_type": "stream",
     "text": [
      "Iteration 11\n"
     ]
    },
    {
     "name": "stderr",
     "output_type": "stream",
     "text": [
      "\n",
      "100%|██████████| 99/99 [00:00<00:00, 33015.51it/s]"
     ]
    },
    {
     "name": "stdout",
     "output_type": "stream",
     "text": [
      "Iteration 12\n"
     ]
    },
    {
     "name": "stderr",
     "output_type": "stream",
     "text": [
      "\n",
      "100%|██████████| 99/99 [00:00<00:00, 24753.27it/s]"
     ]
    },
    {
     "name": "stdout",
     "output_type": "stream",
     "text": [
      "Iteration 13\n"
     ]
    },
    {
     "name": "stderr",
     "output_type": "stream",
     "text": [
      "\n",
      "100%|██████████| 99/99 [00:00<00:00, 24726.74it/s]"
     ]
    },
    {
     "name": "stdout",
     "output_type": "stream",
     "text": [
      "Iteration 14\n"
     ]
    },
    {
     "name": "stderr",
     "output_type": "stream",
     "text": [
      "\n",
      "100%|██████████| 99/99 [00:00<00:00, 33010.26it/s]"
     ]
    },
    {
     "name": "stdout",
     "output_type": "stream",
     "text": [
      "Iteration 15\n"
     ]
    },
    {
     "name": "stderr",
     "output_type": "stream",
     "text": [
      "\n",
      "100%|██████████| 99/99 [00:00<00:00, 24753.27it/s]"
     ]
    },
    {
     "name": "stdout",
     "output_type": "stream",
     "text": [
      "Constructing new graph\n",
      "There are 17 communities after passage 2\n",
      "Passage 3\n",
      "Iteration 1\n"
     ]
    },
    {
     "name": "stderr",
     "output_type": "stream",
     "text": [
      "\n",
      "100%|██████████| 17/17 [00:00<?, ?it/s]"
     ]
    },
    {
     "name": "stdout",
     "output_type": "stream",
     "text": [
      "Iteration 2\n"
     ]
    },
    {
     "name": "stderr",
     "output_type": "stream",
     "text": [
      "\n",
      "100%|██████████| 17/17 [00:00<?, ?it/s]"
     ]
    },
    {
     "name": "stdout",
     "output_type": "stream",
     "text": [
      "Constructing new graph\n",
      "There are 15 communities after passage 3\n",
      "\n",
      "\n",
      "Louvain on edgelists_liking_sample\n",
      "Passage 1\n"
     ]
    },
    {
     "name": "stderr",
     "output_type": "stream",
     "text": [
      "\n"
     ]
    },
    {
     "name": "stdout",
     "output_type": "stream",
     "text": [
      "Iteration 1\n"
     ]
    },
    {
     "name": "stderr",
     "output_type": "stream",
     "text": [
      "100%|██████████| 199158/199158 [00:02<00:00, 67488.34it/s]"
     ]
    },
    {
     "name": "stdout",
     "output_type": "stream",
     "text": [
      "Iteration 2\n"
     ]
    },
    {
     "name": "stderr",
     "output_type": "stream",
     "text": [
      "\n",
      "100%|██████████| 199158/199158 [00:02<00:00, 81155.74it/s]"
     ]
    },
    {
     "name": "stdout",
     "output_type": "stream",
     "text": [
      "Iteration 3\n"
     ]
    },
    {
     "name": "stderr",
     "output_type": "stream",
     "text": [
      "\n",
      "100%|██████████| 199158/199158 [00:02<00:00, 82832.45it/s]"
     ]
    },
    {
     "name": "stdout",
     "output_type": "stream",
     "text": [
      "Iteration 4\n"
     ]
    },
    {
     "name": "stderr",
     "output_type": "stream",
     "text": [
      "\n",
      "100%|██████████| 199158/199158 [00:02<00:00, 83258.99it/s]"
     ]
    },
    {
     "name": "stdout",
     "output_type": "stream",
     "text": [
      "Iteration 5\n"
     ]
    },
    {
     "name": "stderr",
     "output_type": "stream",
     "text": [
      "\n",
      "100%|██████████| 199158/199158 [00:02<00:00, 81990.80it/s]"
     ]
    },
    {
     "name": "stdout",
     "output_type": "stream",
     "text": [
      "Constructing new graph\n"
     ]
    },
    {
     "name": "stderr",
     "output_type": "stream",
     "text": [
      "\n"
     ]
    },
    {
     "name": "stdout",
     "output_type": "stream",
     "text": [
      "There are 99 communities after passage 1\n",
      "Passage 2\n",
      "Iteration 1\n"
     ]
    },
    {
     "name": "stderr",
     "output_type": "stream",
     "text": [
      "100%|██████████| 99/99 [00:00<00:00, 10966.80it/s]"
     ]
    },
    {
     "name": "stdout",
     "output_type": "stream",
     "text": [
      "Iteration 2\n"
     ]
    },
    {
     "name": "stderr",
     "output_type": "stream",
     "text": [
      "\n",
      "100%|██████████| 99/99 [00:00<00:00, 12376.63it/s]"
     ]
    },
    {
     "name": "stdout",
     "output_type": "stream",
     "text": [
      "Iteration 3\n"
     ]
    },
    {
     "name": "stderr",
     "output_type": "stream",
     "text": [
      "\n",
      "100%|██████████| 99/99 [00:00<00:00, 12375.16it/s]"
     ]
    },
    {
     "name": "stdout",
     "output_type": "stream",
     "text": [
      "Iteration 4\n"
     ]
    },
    {
     "name": "stderr",
     "output_type": "stream",
     "text": [
      "\n",
      "100%|██████████| 99/99 [00:00<00:00, 14145.81it/s]"
     ]
    },
    {
     "name": "stdout",
     "output_type": "stream",
     "text": [
      "Iteration 5\n"
     ]
    },
    {
     "name": "stderr",
     "output_type": "stream",
     "text": [
      "\n",
      "100%|██████████| 99/99 [00:00<00:00, 12330.33it/s]"
     ]
    },
    {
     "name": "stdout",
     "output_type": "stream",
     "text": [
      "Iteration 6\n"
     ]
    },
    {
     "name": "stderr",
     "output_type": "stream",
     "text": [
      "\n",
      "100%|██████████| 99/99 [00:00<00:00, 12386.23it/s]"
     ]
    },
    {
     "name": "stdout",
     "output_type": "stream",
     "text": [
      "Iteration 7\n"
     ]
    },
    {
     "name": "stderr",
     "output_type": "stream",
     "text": [
      "\n",
      "100%|██████████| 99/99 [00:00<00:00, 14213.60it/s]"
     ]
    },
    {
     "name": "stdout",
     "output_type": "stream",
     "text": [
      "Iteration 8\n"
     ]
    },
    {
     "name": "stderr",
     "output_type": "stream",
     "text": [
      "\n",
      "100%|██████████| 99/99 [00:00<00:00, 14142.44it/s]"
     ]
    },
    {
     "name": "stdout",
     "output_type": "stream",
     "text": [
      "Iteration 9\n"
     ]
    },
    {
     "name": "stderr",
     "output_type": "stream",
     "text": [
      "\n",
      "100%|██████████| 99/99 [00:00<00:00, 9873.88it/s]"
     ]
    },
    {
     "name": "stdout",
     "output_type": "stream",
     "text": [
      "Iteration 10\n"
     ]
    },
    {
     "name": "stderr",
     "output_type": "stream",
     "text": [
      "\n",
      "100%|██████████| 99/99 [00:00<00:00, 14146.77it/s]"
     ]
    },
    {
     "name": "stdout",
     "output_type": "stream",
     "text": [
      "Iteration 11\n"
     ]
    },
    {
     "name": "stderr",
     "output_type": "stream",
     "text": [
      "\n",
      "100%|██████████| 99/99 [00:00<00:00, 12377.37it/s]"
     ]
    },
    {
     "name": "stdout",
     "output_type": "stream",
     "text": [
      "Iteration 12\n"
     ]
    },
    {
     "name": "stderr",
     "output_type": "stream",
     "text": [
      "\n",
      "100%|██████████| 99/99 [00:00<00:00, 14143.40it/s]"
     ]
    },
    {
     "name": "stdout",
     "output_type": "stream",
     "text": [
      "Iteration 13\n"
     ]
    },
    {
     "name": "stderr",
     "output_type": "stream",
     "text": [
      "\n",
      "100%|██████████| 99/99 [00:00<00:00, 14142.92it/s]"
     ]
    },
    {
     "name": "stdout",
     "output_type": "stream",
     "text": [
      "Iteration 14\n"
     ]
    },
    {
     "name": "stderr",
     "output_type": "stream",
     "text": [
      "\n",
      "100%|██████████| 99/99 [00:00<00:00, 14146.77it/s]"
     ]
    },
    {
     "name": "stdout",
     "output_type": "stream",
     "text": [
      "Iteration 15\n"
     ]
    },
    {
     "name": "stderr",
     "output_type": "stream",
     "text": [
      "\n",
      "100%|██████████| 99/99 [00:00<00:00, 12378.11it/s]"
     ]
    },
    {
     "name": "stdout",
     "output_type": "stream",
     "text": [
      "Iteration 16\n"
     ]
    },
    {
     "name": "stderr",
     "output_type": "stream",
     "text": [
      "\n",
      "100%|██████████| 99/99 [00:00<00:00, 14147.74it/s]"
     ]
    },
    {
     "name": "stdout",
     "output_type": "stream",
     "text": [
      "Iteration 17\n"
     ]
    },
    {
     "name": "stderr",
     "output_type": "stream",
     "text": [
      "\n",
      "100%|██████████| 99/99 [00:00<00:00, 12376.27it/s]"
     ]
    },
    {
     "name": "stdout",
     "output_type": "stream",
     "text": [
      "Iteration 18\n"
     ]
    },
    {
     "name": "stderr",
     "output_type": "stream",
     "text": [
      "\n",
      "100%|██████████| 99/99 [00:00<00:00, 12373.68it/s]"
     ]
    },
    {
     "name": "stdout",
     "output_type": "stream",
     "text": [
      "Iteration 19\n"
     ]
    },
    {
     "name": "stderr",
     "output_type": "stream",
     "text": [
      "\n",
      "100%|██████████| 99/99 [00:00<00:00, 12375.90it/s]"
     ]
    },
    {
     "name": "stdout",
     "output_type": "stream",
     "text": [
      "Iteration 20\n"
     ]
    },
    {
     "name": "stderr",
     "output_type": "stream",
     "text": [
      "\n",
      "100%|██████████| 99/99 [00:00<00:00, 14146.29it/s]"
     ]
    },
    {
     "name": "stdout",
     "output_type": "stream",
     "text": [
      "Iteration 21\n"
     ]
    },
    {
     "name": "stderr",
     "output_type": "stream",
     "text": [
      "\n",
      "100%|██████████| 99/99 [00:00<00:00, 12377.74it/s]"
     ]
    },
    {
     "name": "stdout",
     "output_type": "stream",
     "text": [
      "Iteration 22\n"
     ]
    },
    {
     "name": "stderr",
     "output_type": "stream",
     "text": [
      "\n",
      "100%|██████████| 99/99 [00:00<00:00, 12378.85it/s]"
     ]
    },
    {
     "name": "stdout",
     "output_type": "stream",
     "text": [
      "Iteration 23\n"
     ]
    },
    {
     "name": "stderr",
     "output_type": "stream",
     "text": [
      "\n",
      "100%|██████████| 99/99 [00:00<00:00, 14145.33it/s]"
     ]
    },
    {
     "name": "stdout",
     "output_type": "stream",
     "text": [
      "Iteration 24\n"
     ]
    },
    {
     "name": "stderr",
     "output_type": "stream",
     "text": [
      "\n",
      "100%|██████████| 99/99 [00:00<00:00, 12374.42it/s]"
     ]
    },
    {
     "name": "stdout",
     "output_type": "stream",
     "text": [
      "Iteration 25\n"
     ]
    },
    {
     "name": "stderr",
     "output_type": "stream",
     "text": [
      "\n",
      "100%|██████████| 99/99 [00:00<00:00, 12374.42it/s]"
     ]
    },
    {
     "name": "stdout",
     "output_type": "stream",
     "text": [
      "Iteration 26\n"
     ]
    },
    {
     "name": "stderr",
     "output_type": "stream",
     "text": [
      "\n",
      "100%|██████████| 99/99 [00:00<00:00, 14145.81it/s]"
     ]
    },
    {
     "name": "stdout",
     "output_type": "stream",
     "text": [
      "Iteration 27\n"
     ]
    },
    {
     "name": "stderr",
     "output_type": "stream",
     "text": [
      "\n",
      "100%|██████████| 99/99 [00:00<00:00, 14145.33it/s]"
     ]
    },
    {
     "name": "stdout",
     "output_type": "stream",
     "text": [
      "Iteration 28\n"
     ]
    },
    {
     "name": "stderr",
     "output_type": "stream",
     "text": [
      "\n",
      "100%|██████████| 99/99 [00:00<00:00, 12372.58it/s]"
     ]
    },
    {
     "name": "stdout",
     "output_type": "stream",
     "text": [
      "Iteration 29\n"
     ]
    },
    {
     "name": "stderr",
     "output_type": "stream",
     "text": [
      "\n",
      "100%|██████████| 99/99 [00:00<00:00, 12377.00it/s]"
     ]
    },
    {
     "name": "stdout",
     "output_type": "stream",
     "text": [
      "Iteration 30\n"
     ]
    },
    {
     "name": "stderr",
     "output_type": "stream",
     "text": [
      "\n",
      "100%|██████████| 99/99 [00:00<00:00, 14143.40it/s]"
     ]
    },
    {
     "name": "stdout",
     "output_type": "stream",
     "text": [
      "Iteration 31\n"
     ]
    },
    {
     "name": "stderr",
     "output_type": "stream",
     "text": [
      "\n",
      "100%|██████████| 99/99 [00:00<00:00, 14146.77it/s]"
     ]
    },
    {
     "name": "stdout",
     "output_type": "stream",
     "text": [
      "Iteration 32\n"
     ]
    },
    {
     "name": "stderr",
     "output_type": "stream",
     "text": [
      "\n",
      "100%|██████████| 99/99 [00:00<00:00, 12378.85it/s]"
     ]
    },
    {
     "name": "stdout",
     "output_type": "stream",
     "text": [
      "Iteration 33\n"
     ]
    },
    {
     "name": "stderr",
     "output_type": "stream",
     "text": [
      "\n",
      "100%|██████████| 99/99 [00:00<00:00, 14143.40it/s]"
     ]
    },
    {
     "name": "stdout",
     "output_type": "stream",
     "text": [
      "Iteration 34\n"
     ]
    },
    {
     "name": "stderr",
     "output_type": "stream",
     "text": [
      "\n",
      "100%|██████████| 99/99 [00:00<00:00, 12376.27it/s]"
     ]
    },
    {
     "name": "stdout",
     "output_type": "stream",
     "text": [
      "Iteration 35\n"
     ]
    },
    {
     "name": "stderr",
     "output_type": "stream",
     "text": [
      "\n",
      "100%|██████████| 99/99 [00:00<00:00, 11000.80it/s]"
     ]
    },
    {
     "name": "stdout",
     "output_type": "stream",
     "text": [
      "Iteration 36\n"
     ]
    },
    {
     "name": "stderr",
     "output_type": "stream",
     "text": [
      "\n",
      "100%|██████████| 99/99 [00:00<00:00, 14144.85it/s]"
     ]
    },
    {
     "name": "stdout",
     "output_type": "stream",
     "text": [
      "Iteration 37\n"
     ]
    },
    {
     "name": "stderr",
     "output_type": "stream",
     "text": [
      "\n",
      "100%|██████████| 99/99 [00:00<00:00, 12379.22it/s]"
     ]
    },
    {
     "name": "stdout",
     "output_type": "stream",
     "text": [
      "Iteration 38\n"
     ]
    },
    {
     "name": "stderr",
     "output_type": "stream",
     "text": [
      "\n",
      "100%|██████████| 99/99 [00:00<00:00, 14144.36it/s]"
     ]
    },
    {
     "name": "stdout",
     "output_type": "stream",
     "text": [
      "Iteration 39\n"
     ]
    },
    {
     "name": "stderr",
     "output_type": "stream",
     "text": [
      "\n",
      "100%|██████████| 99/99 [00:00<00:00, 12377.00it/s]"
     ]
    },
    {
     "name": "stdout",
     "output_type": "stream",
     "text": [
      "Iteration 40\n"
     ]
    },
    {
     "name": "stderr",
     "output_type": "stream",
     "text": [
      "\n",
      "100%|██████████| 99/99 [00:00<00:00, 12373.68it/s]"
     ]
    },
    {
     "name": "stdout",
     "output_type": "stream",
     "text": [
      "Iteration 41\n"
     ]
    },
    {
     "name": "stderr",
     "output_type": "stream",
     "text": [
      "\n",
      "100%|██████████| 99/99 [00:00<00:00, 14143.88it/s]"
     ]
    },
    {
     "name": "stdout",
     "output_type": "stream",
     "text": [
      "Iteration 42\n"
     ]
    },
    {
     "name": "stderr",
     "output_type": "stream",
     "text": [
      "\n",
      "100%|██████████| 99/99 [00:00<00:00, 14147.26it/s]"
     ]
    },
    {
     "name": "stdout",
     "output_type": "stream",
     "text": [
      "Iteration 43\n"
     ]
    },
    {
     "name": "stderr",
     "output_type": "stream",
     "text": [
      "\n",
      "100%|██████████| 99/99 [00:00<00:00, 14144.36it/s]"
     ]
    },
    {
     "name": "stdout",
     "output_type": "stream",
     "text": [
      "Iteration 44\n"
     ]
    },
    {
     "name": "stderr",
     "output_type": "stream",
     "text": [
      "\n",
      "100%|██████████| 99/99 [00:00<00:00, 14144.36it/s]"
     ]
    },
    {
     "name": "stdout",
     "output_type": "stream",
     "text": [
      "Iteration 45\n"
     ]
    },
    {
     "name": "stderr",
     "output_type": "stream",
     "text": [
      "\n",
      "100%|██████████| 99/99 [00:00<00:00, 14145.81it/s]"
     ]
    },
    {
     "name": "stdout",
     "output_type": "stream",
     "text": [
      "Iteration 46\n"
     ]
    },
    {
     "name": "stderr",
     "output_type": "stream",
     "text": [
      "\n",
      "100%|██████████| 99/99 [00:00<00:00, 12377.00it/s]"
     ]
    },
    {
     "name": "stdout",
     "output_type": "stream",
     "text": [
      "Iteration 47\n"
     ]
    },
    {
     "name": "stderr",
     "output_type": "stream",
     "text": [
      "\n",
      "100%|██████████| 99/99 [00:00<00:00, 14145.33it/s]"
     ]
    },
    {
     "name": "stdout",
     "output_type": "stream",
     "text": [
      "Iteration 48\n"
     ]
    },
    {
     "name": "stderr",
     "output_type": "stream",
     "text": [
      "\n",
      "100%|██████████| 99/99 [00:00<00:00, 12378.85it/s]"
     ]
    },
    {
     "name": "stdout",
     "output_type": "stream",
     "text": [
      "Iteration 49\n"
     ]
    },
    {
     "name": "stderr",
     "output_type": "stream",
     "text": [
      "\n",
      "100%|██████████| 99/99 [00:00<00:00, 14144.36it/s]"
     ]
    },
    {
     "name": "stdout",
     "output_type": "stream",
     "text": [
      "Iteration 50\n"
     ]
    },
    {
     "name": "stderr",
     "output_type": "stream",
     "text": [
      "\n",
      "100%|██████████| 99/99 [00:00<00:00, 14146.29it/s]"
     ]
    },
    {
     "name": "stdout",
     "output_type": "stream",
     "text": [
      "Iteration 51\n"
     ]
    },
    {
     "name": "stderr",
     "output_type": "stream",
     "text": [
      "\n",
      "100%|██████████| 99/99 [00:00<00:00, 10998.17it/s]"
     ]
    },
    {
     "name": "stdout",
     "output_type": "stream",
     "text": [
      "Iteration 52\n"
     ]
    },
    {
     "name": "stderr",
     "output_type": "stream",
     "text": [
      "\n",
      "100%|██████████| 99/99 [00:00<00:00, 14144.85it/s]"
     ]
    },
    {
     "name": "stdout",
     "output_type": "stream",
     "text": [
      "Iteration 53\n"
     ]
    },
    {
     "name": "stderr",
     "output_type": "stream",
     "text": [
      "\n",
      "100%|██████████| 99/99 [00:00<00:00, 14151.59it/s]"
     ]
    },
    {
     "name": "stdout",
     "output_type": "stream",
     "text": [
      "Iteration 54\n"
     ]
    },
    {
     "name": "stderr",
     "output_type": "stream",
     "text": [
      "\n",
      "100%|██████████| 99/99 [00:00<00:00, 12373.68it/s]"
     ]
    },
    {
     "name": "stdout",
     "output_type": "stream",
     "text": [
      "Iteration 55\n"
     ]
    },
    {
     "name": "stderr",
     "output_type": "stream",
     "text": [
      "\n",
      "100%|██████████| 99/99 [00:00<00:00, 12375.16it/s]"
     ]
    },
    {
     "name": "stdout",
     "output_type": "stream",
     "text": [
      "Iteration 56\n"
     ]
    },
    {
     "name": "stderr",
     "output_type": "stream",
     "text": [
      "\n",
      "100%|██████████| 99/99 [00:00<00:00, 14144.85it/s]"
     ]
    },
    {
     "name": "stdout",
     "output_type": "stream",
     "text": [
      "Iteration 57\n"
     ]
    },
    {
     "name": "stderr",
     "output_type": "stream",
     "text": [
      "\n",
      "100%|██████████| 99/99 [00:00<00:00, 14145.33it/s]"
     ]
    },
    {
     "name": "stdout",
     "output_type": "stream",
     "text": [
      "Iteration 58\n"
     ]
    },
    {
     "name": "stderr",
     "output_type": "stream",
     "text": [
      "\n",
      "100%|██████████| 99/99 [00:00<00:00, 14145.33it/s]\n"
     ]
    },
    {
     "name": "stdout",
     "output_type": "stream",
     "text": [
      "Iteration 59\n"
     ]
    },
    {
     "name": "stderr",
     "output_type": "stream",
     "text": [
      "100%|██████████| 99/99 [00:00<00:00, 14144.85it/s]"
     ]
    },
    {
     "name": "stdout",
     "output_type": "stream",
     "text": [
      "Iteration 60\n"
     ]
    },
    {
     "name": "stderr",
     "output_type": "stream",
     "text": [
      "\n",
      "100%|██████████| 99/99 [00:00<00:00, 14146.29it/s]"
     ]
    },
    {
     "name": "stdout",
     "output_type": "stream",
     "text": [
      "Iteration 61\n"
     ]
    },
    {
     "name": "stderr",
     "output_type": "stream",
     "text": [
      "\n",
      "100%|██████████| 99/99 [00:00<00:00, 12376.27it/s]"
     ]
    },
    {
     "name": "stdout",
     "output_type": "stream",
     "text": [
      "Iteration 62\n"
     ]
    },
    {
     "name": "stderr",
     "output_type": "stream",
     "text": [
      "\n",
      "100%|██████████| 99/99 [00:00<00:00, 14148.70it/s]\n"
     ]
    },
    {
     "name": "stdout",
     "output_type": "stream",
     "text": [
      "Constructing new graph\n",
      "There are 37 communities after passage 2\n",
      "Passage 3\n",
      "Iteration 1\n"
     ]
    },
    {
     "name": "stderr",
     "output_type": "stream",
     "text": [
      "100%|██████████| 37/37 [00:00<00:00, 12336.19it/s]"
     ]
    },
    {
     "name": "stdout",
     "output_type": "stream",
     "text": [
      "Iteration 2\n"
     ]
    },
    {
     "name": "stderr",
     "output_type": "stream",
     "text": [
      "\n",
      "100%|██████████| 37/37 [00:00<00:00, 18512.38it/s]"
     ]
    },
    {
     "name": "stdout",
     "output_type": "stream",
     "text": [
      "Iteration 3\n"
     ]
    },
    {
     "name": "stderr",
     "output_type": "stream",
     "text": [
      "\n",
      "100%|██████████| 37/37 [00:00<00:00, 18525.64it/s]"
     ]
    },
    {
     "name": "stdout",
     "output_type": "stream",
     "text": [
      "Iteration 4\n"
     ]
    },
    {
     "name": "stderr",
     "output_type": "stream",
     "text": [
      "\n",
      "100%|██████████| 37/37 [00:00<00:00, 18503.55it/s]"
     ]
    },
    {
     "name": "stdout",
     "output_type": "stream",
     "text": [
      "Iteration 5\n"
     ]
    },
    {
     "name": "stderr",
     "output_type": "stream",
     "text": [
      "\n",
      "100%|██████████| 37/37 [00:00<00:00, 37020.34it/s]"
     ]
    },
    {
     "name": "stdout",
     "output_type": "stream",
     "text": [
      "Iteration 6\n"
     ]
    },
    {
     "name": "stderr",
     "output_type": "stream",
     "text": [
      "\n",
      "100%|██████████| 37/37 [00:00<00:00, 37011.51it/s]"
     ]
    },
    {
     "name": "stdout",
     "output_type": "stream",
     "text": [
      "Constructing new graph\n",
      "There are 18 communities after passage 3\n",
      "\n",
      "\n",
      "Louvain on edgelists_retweeters_sample\n",
      "Passage 1\n"
     ]
    },
    {
     "name": "stderr",
     "output_type": "stream",
     "text": [
      "\n"
     ]
    },
    {
     "name": "stdout",
     "output_type": "stream",
     "text": [
      "Iteration 1\n"
     ]
    },
    {
     "name": "stderr",
     "output_type": "stream",
     "text": [
      "100%|██████████| 56088/56088 [00:00<00:00, 71543.24it/s]"
     ]
    },
    {
     "name": "stdout",
     "output_type": "stream",
     "text": [
      "Iteration 2\n"
     ]
    },
    {
     "name": "stderr",
     "output_type": "stream",
     "text": [
      "\n",
      "100%|██████████| 56088/56088 [00:00<00:00, 84470.69it/s]"
     ]
    },
    {
     "name": "stdout",
     "output_type": "stream",
     "text": [
      "Iteration 3\n"
     ]
    },
    {
     "name": "stderr",
     "output_type": "stream",
     "text": [
      "\n",
      "100%|██████████| 56088/56088 [00:00<00:00, 84339.14it/s]"
     ]
    },
    {
     "name": "stdout",
     "output_type": "stream",
     "text": [
      "Constructing new graph\n"
     ]
    },
    {
     "name": "stderr",
     "output_type": "stream",
     "text": [
      "\n"
     ]
    },
    {
     "name": "stdout",
     "output_type": "stream",
     "text": [
      "There are 99 communities after passage 1\n",
      "Passage 2\n",
      "Iteration 1\n"
     ]
    },
    {
     "name": "stderr",
     "output_type": "stream",
     "text": [
      "100%|██████████| 99/99 [00:00<00:00, 19672.91it/s]"
     ]
    },
    {
     "name": "stdout",
     "output_type": "stream",
     "text": [
      "Iteration 2\n"
     ]
    },
    {
     "name": "stderr",
     "output_type": "stream",
     "text": [
      "\n",
      "100%|██████████| 99/99 [00:00<00:00, 24750.32it/s]"
     ]
    },
    {
     "name": "stdout",
     "output_type": "stream",
     "text": [
      "Iteration 3\n"
     ]
    },
    {
     "name": "stderr",
     "output_type": "stream",
     "text": [
      "\n",
      "100%|██████████| 99/99 [00:00<00:00, 33033.90it/s]"
     ]
    },
    {
     "name": "stdout",
     "output_type": "stream",
     "text": [
      "Iteration 4\n"
     ]
    },
    {
     "name": "stderr",
     "output_type": "stream",
     "text": [
      "\n",
      "100%|██████████| 99/99 [00:00<00:00, 24760.65it/s]"
     ]
    },
    {
     "name": "stdout",
     "output_type": "stream",
     "text": [
      "Iteration 5\n"
     ]
    },
    {
     "name": "stderr",
     "output_type": "stream",
     "text": [
      "\n",
      "100%|██████████| 99/99 [00:00<00:00, 24750.32it/s]"
     ]
    },
    {
     "name": "stdout",
     "output_type": "stream",
     "text": [
      "Iteration 6\n"
     ]
    },
    {
     "name": "stderr",
     "output_type": "stream",
     "text": [
      "\n",
      "100%|██████████| 99/99 [00:00<00:00, 32706.06it/s]"
     ]
    },
    {
     "name": "stdout",
     "output_type": "stream",
     "text": [
      "Iteration 7\n"
     ]
    },
    {
     "name": "stderr",
     "output_type": "stream",
     "text": [
      "\n",
      "100%|██████████| 99/99 [00:00<00:00, 32905.63it/s]"
     ]
    },
    {
     "name": "stdout",
     "output_type": "stream",
     "text": [
      "Iteration 8\n"
     ]
    },
    {
     "name": "stderr",
     "output_type": "stream",
     "text": [
      "\n",
      "100%|██████████| 99/99 [00:00<00:00, 32929.11it/s]"
     ]
    },
    {
     "name": "stdout",
     "output_type": "stream",
     "text": [
      "Iteration 9\n"
     ]
    },
    {
     "name": "stderr",
     "output_type": "stream",
     "text": [
      "\n",
      "100%|██████████| 99/99 [00:00<00:00, 33057.57it/s]"
     ]
    },
    {
     "name": "stdout",
     "output_type": "stream",
     "text": [
      "Iteration 10\n"
     ]
    },
    {
     "name": "stderr",
     "output_type": "stream",
     "text": [
      "\n",
      "100%|██████████| 99/99 [00:00<00:00, 24742.94it/s]"
     ]
    },
    {
     "name": "stdout",
     "output_type": "stream",
     "text": [
      "Iteration 11\n"
     ]
    },
    {
     "name": "stderr",
     "output_type": "stream",
     "text": [
      "\n",
      "100%|██████████| 99/99 [00:00<00:00, 24561.46it/s]"
     ]
    },
    {
     "name": "stdout",
     "output_type": "stream",
     "text": [
      "Iteration 12\n"
     ]
    },
    {
     "name": "stderr",
     "output_type": "stream",
     "text": [
      "\n",
      "100%|██████████| 99/99 [00:00<00:00, 33018.14it/s]"
     ]
    },
    {
     "name": "stdout",
     "output_type": "stream",
     "text": [
      "Iteration 13\n"
     ]
    },
    {
     "name": "stderr",
     "output_type": "stream",
     "text": [
      "\n",
      "100%|██████████| 99/99 [00:00<00:00, 32724.10it/s]"
     ]
    },
    {
     "name": "stdout",
     "output_type": "stream",
     "text": [
      "Constructing new graph\n",
      "There are 37 communities after passage 2\n",
      "Passage 3\n",
      "Iteration 1\n"
     ]
    },
    {
     "name": "stderr",
     "output_type": "stream",
     "text": [
      "\n",
      "100%|██████████| 37/37 [00:00<?, ?it/s]"
     ]
    },
    {
     "name": "stdout",
     "output_type": "stream",
     "text": [
      "Iteration 2\n"
     ]
    },
    {
     "name": "stderr",
     "output_type": "stream",
     "text": [
      "\n",
      "100%|██████████| 37/37 [00:00<?, ?it/s]"
     ]
    },
    {
     "name": "stdout",
     "output_type": "stream",
     "text": [
      "Iteration 3\n"
     ]
    },
    {
     "name": "stderr",
     "output_type": "stream",
     "text": [
      "\n",
      "100%|██████████| 37/37 [00:00<00:00, 36967.42it/s]"
     ]
    },
    {
     "name": "stdout",
     "output_type": "stream",
     "text": [
      "Constructing new graph\n",
      "There are 33 communities after passage 3\n",
      "\n",
      "\n"
     ]
    },
    {
     "name": "stderr",
     "output_type": "stream",
     "text": [
      "\n"
     ]
    }
   ],
   "source": [
    "results = {}\n",
    "for name, G in nx_graphs.items():\n",
    "    print(f\"Louvain on {name}\")\n",
    "    data = louvain(G, 3)\n",
    "    results[name] = data\n",
    "    print(f\"\\n\")"
   ]
  },
  {
   "cell_type": "markdown",
   "id": "52f0c676-52fe-4807-b88c-e6218fdd6139",
   "metadata": {},
   "source": [
    "## Export and save label communities of each node (for Gephi)"
   ]
  },
  {
   "cell_type": "code",
   "execution_count": 10,
   "id": "fa51ae65",
   "metadata": {},
   "outputs": [],
   "source": [
    "Path.mkdir(Path(\"analysis\"), exist_ok=True)\n",
    "\n",
    "# Get the label communities for the nodes for each passage\n",
    "for name, result in results.items():\n",
    "    intermediate_results = []\n",
    "\n",
    "    for i in range(len(result)-1, -1, -1):\n",
    "        if i == 0:\n",
    "            break\n",
    "        curr = result[i]\n",
    "        prev = result[i-1]\n",
    "        intermediate_result =  {node: curr[val] for node, val in prev.items()}\n",
    "        intermediate_results.append(intermediate_result)\n",
    "    \n",
    "    try:\n",
    "        commu = intermediate_results[-1]\n",
    "    # If we run only for one passage\n",
    "    except IndexError:\n",
    "        commu = result[0]\n",
    "\n",
    "    communities_df = pd.DataFrame(commu.items(), columns=['Id', 'Community'])\n",
    "    communities_df[\"Label\"] = communities_df[\"Id\"].map(lambda x: x)\n",
    "    communities_df[\"Is_author\"] = False\n",
    "\n",
    "    communities_df.loc[communities_df['Id'].isin(edgelists[name]['Target'].unique()), \"Is_author\"] = True\n",
    "\n",
    "    communities_df.to_csv(f\"analysis/communities_{name}.csv\", index=False)"
   ]
  },
  {
   "cell_type": "markdown",
   "id": "bd06c4d2",
   "metadata": {},
   "source": [
    "## Comparing the 3 results"
   ]
  },
  {
   "cell_type": "code",
   "execution_count": 18,
   "id": "82972a1f",
   "metadata": {},
   "outputs": [],
   "source": [
    "df_result_any = pd.read_csv(\"analysis/communities_edgelists_any_sample.csv\")\n",
    "df_result_like = pd.read_csv(\"analysis/communities_edgelists_liking_sample.csv\")\n",
    "df_result_retweet = pd.read_csv(\"analysis/communities_edgelists_retweeters_sample.csv\")"
   ]
  },
  {
   "cell_type": "code",
   "execution_count": 19,
   "id": "8a56bf67",
   "metadata": {},
   "outputs": [
    {
     "name": "stdout",
     "output_type": "stream",
     "text": [
      "Number of nodes in any: 221327\n",
      "Number of nodes in retweet: 56088\n",
      "Number of nodes in like: 199158\n"
     ]
    }
   ],
   "source": [
    "n_any = len(df_result_any['Id'].unique())\n",
    "n_retweet = len(df_result_retweet['Id'].unique())\n",
    "n_like = len(df_result_like['Id'].unique())\n",
    "\n",
    "print(f\"Number of nodes in any: {n_any}\")\n",
    "print(f\"Number of nodes in retweet: {n_retweet}\")\n",
    "print(f\"Number of nodes in like: {n_like}\")\n"
   ]
  },
  {
   "cell_type": "code",
   "execution_count": 21,
   "id": "d05ccbea",
   "metadata": {},
   "outputs": [
    {
     "name": "stdout",
     "output_type": "stream",
     "text": [
      "Number of unique communities in any: 17\n",
      "Number of unique communities in retweet: 37\n",
      "Number of unique communities in like: 37\n"
     ]
    }
   ],
   "source": [
    "# number of unique communities in df_result_any\n",
    "n_unique_any = len(df_result_any['Community'].unique())\n",
    "n_unique_retweet = len(df_result_retweet['Community'].unique())\n",
    "n_unique_like = len(df_result_like['Community'].unique())\n",
    "\n",
    "# print the number of unique communities\n",
    "print(f\"Number of unique communities in any: {n_unique_any}\")\n",
    "print(f\"Number of unique communities in retweet: {n_unique_retweet}\")\n",
    "print(f\"Number of unique communities in like: {n_unique_like}\")"
   ]
  },
  {
   "cell_type": "code",
   "execution_count": 31,
   "id": "497cd4b8",
   "metadata": {},
   "outputs": [
    {
     "name": "stdout",
     "output_type": "stream",
     "text": [
      "Number of nodes in the intersection between like and retweet: 33919\n"
     ]
    }
   ],
   "source": [
    "# intersection of the IDs between like and retweet\n",
    "intersection_ids = set(df_result_like['Id'].unique()).intersection(set(df_result_retweet['Id'].unique()))\n",
    "\n",
    "# print the number of nodes in the intersection\n",
    "print(f\"Number of nodes in the intersection between like and retweet: {len(intersection_ids)}\")"
   ]
  },
  {
   "cell_type": "code",
   "execution_count": 38,
   "id": "11ad823f",
   "metadata": {},
   "outputs": [
    {
     "data": {
      "text/html": [
       "<div>\n",
       "<style scoped>\n",
       "    .dataframe tbody tr th:only-of-type {\n",
       "        vertical-align: middle;\n",
       "    }\n",
       "\n",
       "    .dataframe tbody tr th {\n",
       "        vertical-align: top;\n",
       "    }\n",
       "\n",
       "    .dataframe thead th {\n",
       "        text-align: right;\n",
       "    }\n",
       "</style>\n",
       "<table border=\"1\" class=\"dataframe\">\n",
       "  <thead>\n",
       "    <tr style=\"text-align: right;\">\n",
       "      <th></th>\n",
       "      <th>Id</th>\n",
       "      <th>Community_x</th>\n",
       "      <th>Label_x</th>\n",
       "      <th>Is_author_x</th>\n",
       "      <th>Community_y</th>\n",
       "      <th>Label_y</th>\n",
       "      <th>Is_author_y</th>\n",
       "      <th>Is_same_community</th>\n",
       "    </tr>\n",
       "  </thead>\n",
       "  <tbody>\n",
       "    <tr>\n",
       "      <th>0</th>\n",
       "      <td>300625980</td>\n",
       "      <td>30</td>\n",
       "      <td>300625980</td>\n",
       "      <td>False</td>\n",
       "      <td>30</td>\n",
       "      <td>300625980</td>\n",
       "      <td>False</td>\n",
       "      <td>True</td>\n",
       "    </tr>\n",
       "    <tr>\n",
       "      <th>1</th>\n",
       "      <td>1152348175761465344</td>\n",
       "      <td>30</td>\n",
       "      <td>1152348175761465344</td>\n",
       "      <td>True</td>\n",
       "      <td>30</td>\n",
       "      <td>1152348175761465344</td>\n",
       "      <td>True</td>\n",
       "      <td>True</td>\n",
       "    </tr>\n",
       "    <tr>\n",
       "      <th>2</th>\n",
       "      <td>1303264019831234560</td>\n",
       "      <td>30</td>\n",
       "      <td>1303264019831234560</td>\n",
       "      <td>False</td>\n",
       "      <td>30</td>\n",
       "      <td>1303264019831234560</td>\n",
       "      <td>False</td>\n",
       "      <td>True</td>\n",
       "    </tr>\n",
       "    <tr>\n",
       "      <th>3</th>\n",
       "      <td>1109390623411499008</td>\n",
       "      <td>30</td>\n",
       "      <td>1109390623411499008</td>\n",
       "      <td>False</td>\n",
       "      <td>88</td>\n",
       "      <td>1109390623411499008</td>\n",
       "      <td>False</td>\n",
       "      <td>False</td>\n",
       "    </tr>\n",
       "    <tr>\n",
       "      <th>4</th>\n",
       "      <td>139761674</td>\n",
       "      <td>30</td>\n",
       "      <td>139761674</td>\n",
       "      <td>False</td>\n",
       "      <td>30</td>\n",
       "      <td>139761674</td>\n",
       "      <td>False</td>\n",
       "      <td>True</td>\n",
       "    </tr>\n",
       "    <tr>\n",
       "      <th>...</th>\n",
       "      <td>...</td>\n",
       "      <td>...</td>\n",
       "      <td>...</td>\n",
       "      <td>...</td>\n",
       "      <td>...</td>\n",
       "      <td>...</td>\n",
       "      <td>...</td>\n",
       "      <td>...</td>\n",
       "    </tr>\n",
       "    <tr>\n",
       "      <th>33914</th>\n",
       "      <td>1341075013735202822</td>\n",
       "      <td>36</td>\n",
       "      <td>1341075013735202822</td>\n",
       "      <td>False</td>\n",
       "      <td>98</td>\n",
       "      <td>1341075013735202822</td>\n",
       "      <td>False</td>\n",
       "      <td>False</td>\n",
       "    </tr>\n",
       "    <tr>\n",
       "      <th>33915</th>\n",
       "      <td>790351541135867904</td>\n",
       "      <td>36</td>\n",
       "      <td>790351541135867904</td>\n",
       "      <td>False</td>\n",
       "      <td>98</td>\n",
       "      <td>790351541135867904</td>\n",
       "      <td>False</td>\n",
       "      <td>False</td>\n",
       "    </tr>\n",
       "    <tr>\n",
       "      <th>33916</th>\n",
       "      <td>1064414690</td>\n",
       "      <td>36</td>\n",
       "      <td>1064414690</td>\n",
       "      <td>False</td>\n",
       "      <td>98</td>\n",
       "      <td>1064414690</td>\n",
       "      <td>False</td>\n",
       "      <td>False</td>\n",
       "    </tr>\n",
       "    <tr>\n",
       "      <th>33917</th>\n",
       "      <td>1347713012199788550</td>\n",
       "      <td>36</td>\n",
       "      <td>1347713012199788550</td>\n",
       "      <td>False</td>\n",
       "      <td>98</td>\n",
       "      <td>1347713012199788550</td>\n",
       "      <td>False</td>\n",
       "      <td>False</td>\n",
       "    </tr>\n",
       "    <tr>\n",
       "      <th>33918</th>\n",
       "      <td>491461409</td>\n",
       "      <td>36</td>\n",
       "      <td>491461409</td>\n",
       "      <td>False</td>\n",
       "      <td>98</td>\n",
       "      <td>491461409</td>\n",
       "      <td>False</td>\n",
       "      <td>False</td>\n",
       "    </tr>\n",
       "  </tbody>\n",
       "</table>\n",
       "<p>33919 rows × 8 columns</p>\n",
       "</div>"
      ],
      "text/plain": [
       "                        Id  Community_x              Label_x  Is_author_x  \\\n",
       "0                300625980           30            300625980        False   \n",
       "1      1152348175761465344           30  1152348175761465344         True   \n",
       "2      1303264019831234560           30  1303264019831234560        False   \n",
       "3      1109390623411499008           30  1109390623411499008        False   \n",
       "4                139761674           30            139761674        False   \n",
       "...                    ...          ...                  ...          ...   \n",
       "33914  1341075013735202822           36  1341075013735202822        False   \n",
       "33915   790351541135867904           36   790351541135867904        False   \n",
       "33916           1064414690           36           1064414690        False   \n",
       "33917  1347713012199788550           36  1347713012199788550        False   \n",
       "33918            491461409           36            491461409        False   \n",
       "\n",
       "       Community_y              Label_y  Is_author_y  Is_same_community  \n",
       "0               30            300625980        False               True  \n",
       "1               30  1152348175761465344         True               True  \n",
       "2               30  1303264019831234560        False               True  \n",
       "3               88  1109390623411499008        False              False  \n",
       "4               30            139761674        False               True  \n",
       "...            ...                  ...          ...                ...  \n",
       "33914           98  1341075013735202822        False              False  \n",
       "33915           98   790351541135867904        False              False  \n",
       "33916           98           1064414690        False              False  \n",
       "33917           98  1347713012199788550        False              False  \n",
       "33918           98            491461409        False              False  \n",
       "\n",
       "[33919 rows x 8 columns]"
      ]
     },
     "execution_count": 38,
     "metadata": {},
     "output_type": "execute_result"
    }
   ],
   "source": [
    "# not same label anyway => maybe check only to see if the same authors end up together\n",
    "\n",
    "# compare like and retweet communities\n",
    "df_result_like_retweet = df_result_like.merge(df_result_retweet, on='Id', how='inner')\n",
    "\n",
    "# check if community_x is the same as community_y\n",
    "df_result_like_retweet['Is_same_community'] = df_result_like_retweet.apply(lambda x: x['Community_x'] == x['Community_y'], axis=1)\n",
    "\n",
    "df_result_like_retweet"
   ]
  },
  {
   "cell_type": "code",
   "execution_count": 61,
   "id": "c33b1f75",
   "metadata": {},
   "outputs": [
    {
     "name": "stdout",
     "output_type": "stream",
     "text": [
      "Number of unique authors in like only authors: 100\n",
      "Number of unique authors in retweet only authors: 100\n"
     ]
    }
   ],
   "source": [
    "# df_result_like only keep is_author = True\n",
    "df_result_like_only_authors = df_result_like[df_result_like['Is_author'] == True]\n",
    "# df_result_retweet only keep is_author = True\n",
    "df_result_retweet_only_authors = df_result_retweet[df_result_retweet['Is_author'] == True]\n",
    "\n",
    "# number of unique communities in df_result_like_only_authors\n",
    "n_unique_like_only_authors = len(df_result_like_only_authors['Id'].unique())\n",
    "# number of unique communities in df_result_retweet_only_authors\n",
    "n_unique_retweet_only_authors = len(df_result_retweet_only_authors['Id'].unique())\n",
    "\n",
    "# print the number of unique authors \n",
    "print(f\"Number of unique authors in like only authors: {n_unique_like_only_authors}\")\n",
    "print(f\"Number of unique authors in retweet only authors: {n_unique_retweet_only_authors}\")"
   ]
  },
  {
   "cell_type": "code",
   "execution_count": null,
   "id": "3b22e230",
   "metadata": {},
   "outputs": [],
   "source": []
  },
  {
   "cell_type": "markdown",
   "id": "ca73153c-14b9-4f30-88c7-e59222ce0e88",
   "metadata": {},
   "source": [
    "## Comparison between our implementation and the one from NetworkX"
   ]
  },
  {
   "cell_type": "code",
   "execution_count": 6,
   "id": "213a5f6b",
   "metadata": {},
   "outputs": [
    {
     "name": "stdout",
     "output_type": "stream",
     "text": [
      "Graph of 221327 nodes\n",
      "After first passage: 100 communities\n",
      "Time for NetworkX: 7.501972300000006\n",
      "Louvain on edgelists_any_sample\n",
      "Passage 1\n",
      "Iteration 1\n"
     ]
    },
    {
     "name": "stderr",
     "output_type": "stream",
     "text": [
      "100%|██████████| 221327/221327 [00:03<00:00, 69617.02it/s]"
     ]
    },
    {
     "name": "stdout",
     "output_type": "stream",
     "text": [
      "Iteration 2\n"
     ]
    },
    {
     "name": "stderr",
     "output_type": "stream",
     "text": [
      "\n",
      "100%|██████████| 221327/221327 [00:02<00:00, 82769.90it/s]"
     ]
    },
    {
     "name": "stdout",
     "output_type": "stream",
     "text": [
      "Iteration 3\n"
     ]
    },
    {
     "name": "stderr",
     "output_type": "stream",
     "text": [
      "\n",
      "100%|██████████| 221327/221327 [00:02<00:00, 78512.72it/s]"
     ]
    },
    {
     "name": "stdout",
     "output_type": "stream",
     "text": [
      "Constructing new graph\n"
     ]
    },
    {
     "name": "stderr",
     "output_type": "stream",
     "text": [
      "\n"
     ]
    },
    {
     "name": "stdout",
     "output_type": "stream",
     "text": [
      "There are 99 communities after passage 1\n",
      "Time for our implementation: 13.7340528\n",
      "Graph of 199158 nodes\n",
      "After first passage: 100 communities\n",
      "Time for NetworkX: 8.056387700000016\n",
      "Louvain on edgelists_liking_sample\n",
      "Passage 1\n",
      "Iteration 1\n"
     ]
    },
    {
     "name": "stderr",
     "output_type": "stream",
     "text": [
      "100%|██████████| 199158/199158 [00:02<00:00, 67741.55it/s]"
     ]
    },
    {
     "name": "stdout",
     "output_type": "stream",
     "text": [
      "Iteration 2\n"
     ]
    },
    {
     "name": "stderr",
     "output_type": "stream",
     "text": [
      "\n",
      "100%|██████████| 199158/199158 [00:02<00:00, 80143.16it/s]"
     ]
    },
    {
     "name": "stdout",
     "output_type": "stream",
     "text": [
      "Iteration 3\n"
     ]
    },
    {
     "name": "stderr",
     "output_type": "stream",
     "text": [
      "\n",
      "100%|██████████| 199158/199158 [00:02<00:00, 81089.56it/s]"
     ]
    },
    {
     "name": "stdout",
     "output_type": "stream",
     "text": [
      "Iteration 4\n"
     ]
    },
    {
     "name": "stderr",
     "output_type": "stream",
     "text": [
      "\n",
      "100%|██████████| 199158/199158 [00:02<00:00, 82741.20it/s]"
     ]
    },
    {
     "name": "stdout",
     "output_type": "stream",
     "text": [
      "Iteration 5\n"
     ]
    },
    {
     "name": "stderr",
     "output_type": "stream",
     "text": [
      "\n",
      "100%|██████████| 199158/199158 [00:02<00:00, 80500.44it/s]"
     ]
    },
    {
     "name": "stdout",
     "output_type": "stream",
     "text": [
      "Constructing new graph\n"
     ]
    },
    {
     "name": "stderr",
     "output_type": "stream",
     "text": [
      "\n"
     ]
    },
    {
     "name": "stdout",
     "output_type": "stream",
     "text": [
      "There are 99 communities after passage 1\n",
      "Time for our implementation: 17.570455100000004\n",
      "Graph of 56088 nodes\n",
      "After first passage: 100 communities\n",
      "Time for NetworkX: 1.9476826000000074\n",
      "Louvain on edgelists_retweeters_sample\n",
      "Passage 1\n",
      "Iteration 1\n"
     ]
    },
    {
     "name": "stderr",
     "output_type": "stream",
     "text": [
      "100%|██████████| 56088/56088 [00:00<00:00, 70997.41it/s]"
     ]
    },
    {
     "name": "stdout",
     "output_type": "stream",
     "text": [
      "Iteration 2\n"
     ]
    },
    {
     "name": "stderr",
     "output_type": "stream",
     "text": [
      "\n",
      "100%|██████████| 56088/56088 [00:00<00:00, 84176.51it/s]"
     ]
    },
    {
     "name": "stdout",
     "output_type": "stream",
     "text": [
      "Iteration 3\n"
     ]
    },
    {
     "name": "stderr",
     "output_type": "stream",
     "text": [
      "\n",
      "100%|██████████| 56088/56088 [00:00<00:00, 83964.22it/s]"
     ]
    },
    {
     "name": "stdout",
     "output_type": "stream",
     "text": [
      "Constructing new graph\n"
     ]
    },
    {
     "name": "stderr",
     "output_type": "stream",
     "text": [
      "\n"
     ]
    },
    {
     "name": "stdout",
     "output_type": "stream",
     "text": [
      "There are 99 communities after passage 1\n",
      "Time for our implementation: 3.2745122000000038\n"
     ]
    }
   ],
   "source": [
    "results = {}\n",
    "for name, G in nx_graphs.items():\n",
    "    print(f\"Graph of {len(G.nodes)} nodes\")\n",
    "    \n",
    "    start_net = perf_counter()\n",
    "    louvain_nx = community.louvain_partitions(G)\n",
    "    first = next(louvain_nx)\n",
    "    stop_net = perf_counter()\n",
    "    print(f\"After first passage: {len(first)} communities\")\n",
    "    # second = next(louvain_nx)\n",
    "    # print(f\"After second passage: {len(second)} communities\")\n",
    "    # third = next(louvain_nx)\n",
    "    # print(f\"After third passage: {len(third)} communities\")\n",
    "    print(f\"Time for NetworkX: {stop_net - start_net}\")\n",
    "    \n",
    "    start_our = perf_counter()\n",
    "    print(f\"Louvain on {name}\")\n",
    "    data = louvain(G, 1)\n",
    "    stop_our = perf_counter()\n",
    "    print(f\"Time for our implementation: {stop_our - start_our}\")\n",
    "    results[name] = data"
   ]
  }
 ],
 "metadata": {
  "interpreter": {
   "hash": "f69a235d427c4fe719ea8284164731a8d2ba8b54ade3dc970a89542ed07142ed"
  },
  "kernelspec": {
   "display_name": "Python 3.8.0 ('twitter-ukraine-conflict-fVwmQvah')",
   "language": "python",
   "name": "python3"
  },
  "language_info": {
   "codemirror_mode": {
    "name": "ipython",
    "version": 3
   },
   "file_extension": ".py",
   "mimetype": "text/x-python",
   "name": "python",
   "nbconvert_exporter": "python",
   "pygments_lexer": "ipython3",
   "version": "3.8.0"
  }
 },
 "nbformat": 4,
 "nbformat_minor": 5
}
