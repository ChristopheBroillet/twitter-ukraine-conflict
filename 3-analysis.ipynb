{
 "cells": [
  {
   "cell_type": "markdown",
   "id": "9f3231ef-c5f9-4da3-b4cb-8e3f78739026",
   "metadata": {},
   "source": [
    "# Network component analysis"
   ]
  },
  {
   "cell_type": "code",
   "execution_count": 13,
   "id": "4c6a6bbe-959d-458d-b1f8-7c38d8b7f489",
   "metadata": {},
   "outputs": [],
   "source": [
    "import pandas as pd\n",
    "from pathlib import Path\n",
    "import networkx as nx\n",
    "from networkx.algorithms import community\n",
    "from tqdm import tqdm\n",
    "import copy\n",
    "from time import perf_counter\n",
    "import matplotlib.pyplot as plt\n",
    "import seaborn as sns\n",
    "from dotenv import load_dotenv\n",
    "load_dotenv(\"./.env.local\")\n",
    "import os\n",
    "BEARER_TOKEN = os.getenv(\"BEARER_TOKEN1\")\n",
    "import tweepy\n",
    "client = tweepy.Client(BEARER_TOKEN, wait_on_rate_limit=True)"
   ]
  },
  {
   "cell_type": "markdown",
   "id": "134a5d31-81e3-458a-b5ab-b106b6809701",
   "metadata": {},
   "source": [
    "## Load the data (sampled) and create NetworkX graphs"
   ]
  },
  {
   "cell_type": "code",
   "execution_count": 2,
   "id": "e40a848a",
   "metadata": {},
   "outputs": [],
   "source": [
    "edgelists = {}\n",
    "nx_graphs = {}\n",
    "\n",
    "for file in Path(\"edgelistsSample\").iterdir():\n",
    "    # if file.stem == \"edgelists_any_sample_w_data\": continue\n",
    "    tmp_edgelist = pd.read_csv(file)\n",
    "    edgelists[file.stem] = tmp_edgelist\n",
    "\n",
    "    tmp_nx_graph = nx.from_pandas_edgelist(tmp_edgelist, source='Source', target='Target', create_using=nx.Graph())\n",
    "    # Ensure that graphs have a 'weight' edge attribute\n",
    "    nx.set_edge_attributes(tmp_nx_graph, 1, 'weight')\n",
    "    nx_graphs[file.stem] = tmp_nx_graph"
   ]
  },
  {
   "cell_type": "markdown",
   "id": "c0af5224-4e3c-4d76-a554-8fdca1e18956",
   "metadata": {},
   "source": [
    "## Our Louvain implementation"
   ]
  },
  {
   "cell_type": "code",
   "execution_count": 3,
   "id": "760c50ae-def8-483b-95f5-ee7d247ace32",
   "metadata": {},
   "outputs": [],
   "source": [
    "# Louvain implementation\n",
    "def louvain(G, npassage):\n",
    "    # Will contain the graph and the communities after each passage\n",
    "    data = {}\n",
    "    for i in range(0, npassage):\n",
    "        print(f\"Passage {i+1}\", flush=True)\n",
    "        G, communities, get_community = louvain_step(G, i==0)\n",
    "        data[i] = get_community\n",
    "        print(f\"There are {len(communities)} communities after passage {i+1}\", flush=True)\n",
    "    return data\n",
    "\n",
    "\n",
    "def louvain_step(G, is_first_passage):\n",
    "    # Step 1: Initialization, start with each node being a single community\n",
    "    communities = {idx: set([node]) for idx, node in enumerate(G.nodes)}\n",
    "    # To get direct access to the community (it speeds up a bit the algorithm)\n",
    "    get_community = {node: idx for idx, node in enumerate(G.nodes)}\n",
    "    # Used in the modularity computation\n",
    "    neighbors_sets = {node: set(G.neighbors(node)) for node in G.nodes}\n",
    "    m = len(G.edges)\n",
    "\n",
    "    # Sum the weights of the incident edges for all nodes inside a community, for all communities\n",
    "    # Separate first passage and other ones to speed up the algorithm\n",
    "    if is_first_passage:\n",
    "        sum_communities = {idx: sum(dict(G.degree(community)).values()) for idx, community in communities.items()}\n",
    "    else:\n",
    "        sum_communities = {idx: sum(dict(G.degree(community, 'weight')).values()) for idx, community in communities.items()}\n",
    "\n",
    "    prev_communities = {}\n",
    "    i = 0\n",
    "    # While there are changes in the communities, make another iteration\n",
    "    while(communities != prev_communities):\n",
    "        print(f\"Iteration {i+1}\", flush=True)\n",
    "        # Deepcopy to have a new object with a new reference\n",
    "        # Otherwise comparison in while is always True\n",
    "        prev_communities = copy.deepcopy(communities)\n",
    "        \n",
    "        for node in tqdm(G.nodes):\n",
    "            # Step 2: Remove node from its community\n",
    "            neighboring_communities = get_neighboring_communities(G, node, get_community)\n",
    "            if neighboring_communities == set():\n",
    "                continue\n",
    "            belong_to = get_community[node]\n",
    "            communities[belong_to].remove(node)\n",
    "            sum_communities[belong_to] -= G.degree(node, 'weight')\n",
    "            if communities[belong_to] == set():\n",
    "                del communities[belong_to]\n",
    "                del sum_communities[belong_to]\n",
    "\n",
    "            # Step 3: Insert the node in the community that maximizes the modularity\n",
    "            scores = [\n",
    "                (neighbor_community, modularity_gain(G, node, communities[neighbor_community], sum_communities[neighbor_community], neighbors_sets[node], m, is_first_passage))\n",
    "                for neighbor_community in neighboring_communities\n",
    "            ]\n",
    "            best_community, best_score = max(scores, key=lambda x: x[1])\n",
    "            communities[best_community].add(node)\n",
    "            get_community[node] = best_community\n",
    "            sum_communities[best_community] += G.degree(node, 'weight')\n",
    "          \n",
    "        i += 1\n",
    "\n",
    "    # Step 4: Update the graph\n",
    "    if is_first_passage:\n",
    "        return get_new_graph(G, communities, sum_communities, get_community), communities, get_community\n",
    "    return get_new_graph(G, communities, sum_communities, get_community), communities, get_community\n",
    "\n",
    "\n",
    "def get_neighboring_communities(G, node, get_community):\n",
    "    # Use a set to make sure a community only appear once\n",
    "    neighboring_communities = set()\n",
    "    for neighbor in G.neighbors(node):\n",
    "        if neighbor == node: continue\n",
    "        neighboring_communities.add(get_community[neighbor])\n",
    "    return neighboring_communities\n",
    "\n",
    "\n",
    "def modularity_gain(G, node, community, sum_community, neighbor_set, m, is_first_passage):\n",
    "    # Separate first passage and other ones to speed up the algorithm\n",
    "    if is_first_passage:\n",
    "        # Sum the weights of the edges from node into community nodes\n",
    "        # Using sets allow to use intersection()\n",
    "        sum_weights_node = len(neighbor_set.intersection(community))\n",
    "        right_member = (sum_community * G.degree[node]) / (2 * (m**2))\n",
    "    else:\n",
    "        # Sum the weights of the edges from node into community nodes\n",
    "        sum_weights_node = sum([G.get_edge_data(node, member)['weight'] for member in G.neighbors(node) if member in community])\n",
    "        right_member = (sum_community * G.degree(node, 'weight')) / (2 * (m**2))\n",
    "    # Compute modularity\n",
    "    left_member = sum_weights_node / (2 * m)\n",
    "    return left_member - right_member\n",
    "\n",
    "\n",
    "def get_new_graph(old_G, communities, sum_communities, get_community):\n",
    "    print(\"Constructing new graph\", flush=True)\n",
    "    G = nx.Graph()\n",
    "    G.add_nodes_from(communities.keys())\n",
    "    for community in communities:\n",
    "        G.add_edge(community, community, weight=sum_communities[community])\n",
    "\n",
    "    for source, dest, weight_dict in old_G.edges(data=True):\n",
    "        community1 = get_community[source]\n",
    "        community2 = get_community[dest]\n",
    "        # If edge not exist, weight initialized at 0\n",
    "        current_weight = G.get_edge_data(community1, community2, {'weight': 0})['weight']\n",
    "        new_weight = current_weight + weight_dict['weight']\n",
    "        G.add_edge(community1, community2, weight=new_weight)\n",
    "    return G"
   ]
  },
  {
   "cell_type": "markdown",
   "id": "05d1dac5-97e3-4f58-9bf3-db38296a4812",
   "metadata": {},
   "source": [
    "## Run our Louvain on the graphs"
   ]
  },
  {
   "cell_type": "code",
   "execution_count": 4,
   "id": "4bf96aed-55b5-4327-8139-f47ab7f07b92",
   "metadata": {},
   "outputs": [
    {
     "name": "stdout",
     "output_type": "stream",
     "text": [
      "Louvain on edgelists_any_sample\n",
      "Passage 1\n",
      "Iteration 1\n"
     ]
    },
    {
     "name": "stderr",
     "output_type": "stream",
     "text": [
      "100%|██████████| 348084/348084 [00:12<00:00, 27411.16it/s]"
     ]
    },
    {
     "name": "stdout",
     "output_type": "stream",
     "text": [
      "Iteration 2\n"
     ]
    },
    {
     "name": "stderr",
     "output_type": "stream",
     "text": [
      "\n",
      "100%|██████████| 348084/348084 [00:10<00:00, 31794.91it/s]"
     ]
    },
    {
     "name": "stdout",
     "output_type": "stream",
     "text": [
      "Iteration 3\n"
     ]
    },
    {
     "name": "stderr",
     "output_type": "stream",
     "text": [
      "\n",
      "100%|██████████| 348084/348084 [00:12<00:00, 27257.08it/s]"
     ]
    },
    {
     "name": "stdout",
     "output_type": "stream",
     "text": [
      "Constructing new graph\n"
     ]
    },
    {
     "name": "stderr",
     "output_type": "stream",
     "text": [
      "\n"
     ]
    },
    {
     "name": "stdout",
     "output_type": "stream",
     "text": [
      "There are 100 communities after passage 1\n",
      "Passage 2\n",
      "Iteration 1\n"
     ]
    },
    {
     "name": "stderr",
     "output_type": "stream",
     "text": [
      "100%|██████████| 100/100 [00:00<00:00, 3281.65it/s]"
     ]
    },
    {
     "name": "stdout",
     "output_type": "stream",
     "text": [
      "Iteration 2\n"
     ]
    },
    {
     "name": "stderr",
     "output_type": "stream",
     "text": [
      "\n",
      "100%|██████████| 100/100 [00:00<00:00, 4866.01it/s]"
     ]
    },
    {
     "name": "stdout",
     "output_type": "stream",
     "text": [
      "Iteration 3\n"
     ]
    },
    {
     "name": "stderr",
     "output_type": "stream",
     "text": [
      "\n",
      "100%|██████████| 100/100 [00:00<00:00, 3695.00it/s]"
     ]
    },
    {
     "name": "stdout",
     "output_type": "stream",
     "text": [
      "Iteration 4\n"
     ]
    },
    {
     "name": "stderr",
     "output_type": "stream",
     "text": [
      "\n",
      "100%|██████████| 100/100 [00:00<00:00, 3820.54it/s]"
     ]
    },
    {
     "name": "stdout",
     "output_type": "stream",
     "text": [
      "Iteration 5\n"
     ]
    },
    {
     "name": "stderr",
     "output_type": "stream",
     "text": [
      "\n",
      "100%|██████████| 100/100 [00:00<00:00, 4379.24it/s]"
     ]
    },
    {
     "name": "stdout",
     "output_type": "stream",
     "text": [
      "Iteration 6\n"
     ]
    },
    {
     "name": "stderr",
     "output_type": "stream",
     "text": [
      "\n",
      "100%|██████████| 100/100 [00:00<00:00, 4170.32it/s]"
     ]
    },
    {
     "name": "stdout",
     "output_type": "stream",
     "text": [
      "Iteration 7\n"
     ]
    },
    {
     "name": "stderr",
     "output_type": "stream",
     "text": [
      "\n",
      "100%|██████████| 100/100 [00:00<00:00, 3204.74it/s]\n"
     ]
    },
    {
     "name": "stdout",
     "output_type": "stream",
     "text": [
      "Iteration 8\n"
     ]
    },
    {
     "name": "stderr",
     "output_type": "stream",
     "text": [
      "100%|██████████| 100/100 [00:00<00:00, 3452.78it/s]"
     ]
    },
    {
     "name": "stdout",
     "output_type": "stream",
     "text": [
      "Iteration 9\n"
     ]
    },
    {
     "name": "stderr",
     "output_type": "stream",
     "text": [
      "\n",
      "100%|██████████| 100/100 [00:00<00:00, 5483.11it/s]"
     ]
    },
    {
     "name": "stdout",
     "output_type": "stream",
     "text": [
      "Iteration 10\n"
     ]
    },
    {
     "name": "stderr",
     "output_type": "stream",
     "text": [
      "\n",
      "100%|██████████| 100/100 [00:00<00:00, 5890.21it/s]"
     ]
    },
    {
     "name": "stdout",
     "output_type": "stream",
     "text": [
      "Iteration 11\n"
     ]
    },
    {
     "name": "stderr",
     "output_type": "stream",
     "text": [
      "\n",
      "100%|██████████| 100/100 [00:00<00:00, 4516.37it/s]"
     ]
    },
    {
     "name": "stdout",
     "output_type": "stream",
     "text": [
      "Iteration 12\n"
     ]
    },
    {
     "name": "stderr",
     "output_type": "stream",
     "text": [
      "\n",
      "100%|██████████| 100/100 [00:00<00:00, 5940.27it/s]\n"
     ]
    },
    {
     "name": "stdout",
     "output_type": "stream",
     "text": [
      "Constructing new graph\n",
      "There are 21 communities after passage 2\n",
      "\n",
      "\n",
      "Louvain on edgelists_liking_sample\n",
      "Passage 1\n",
      "Iteration 1\n"
     ]
    },
    {
     "name": "stderr",
     "output_type": "stream",
     "text": [
      "100%|██████████| 328512/328512 [00:10<00:00, 30152.20it/s]"
     ]
    },
    {
     "name": "stdout",
     "output_type": "stream",
     "text": [
      "Iteration 2\n"
     ]
    },
    {
     "name": "stderr",
     "output_type": "stream",
     "text": [
      "\n",
      "100%|██████████| 328512/328512 [00:10<00:00, 31185.86it/s]"
     ]
    },
    {
     "name": "stdout",
     "output_type": "stream",
     "text": [
      "Iteration 3\n"
     ]
    },
    {
     "name": "stderr",
     "output_type": "stream",
     "text": [
      "\n",
      "100%|██████████| 328512/328512 [00:10<00:00, 30576.24it/s]"
     ]
    },
    {
     "name": "stdout",
     "output_type": "stream",
     "text": [
      "Iteration 4\n"
     ]
    },
    {
     "name": "stderr",
     "output_type": "stream",
     "text": [
      "\n",
      "100%|██████████| 328512/328512 [00:09<00:00, 34701.50it/s]\n"
     ]
    },
    {
     "name": "stdout",
     "output_type": "stream",
     "text": [
      "Constructing new graph\n",
      "There are 100 communities after passage 1\n",
      "Passage 2\n",
      "Iteration 1\n"
     ]
    },
    {
     "name": "stderr",
     "output_type": "stream",
     "text": [
      "100%|██████████| 100/100 [00:00<00:00, 3418.23it/s]"
     ]
    },
    {
     "name": "stdout",
     "output_type": "stream",
     "text": [
      "Iteration 2\n"
     ]
    },
    {
     "name": "stderr",
     "output_type": "stream",
     "text": [
      "\n",
      "100%|██████████| 100/100 [00:00<00:00, 4431.38it/s]"
     ]
    },
    {
     "name": "stdout",
     "output_type": "stream",
     "text": [
      "Iteration 3\n"
     ]
    },
    {
     "name": "stderr",
     "output_type": "stream",
     "text": [
      "\n",
      "100%|██████████| 100/100 [00:00<00:00, 5034.57it/s]"
     ]
    },
    {
     "name": "stdout",
     "output_type": "stream",
     "text": [
      "Iteration 4\n"
     ]
    },
    {
     "name": "stderr",
     "output_type": "stream",
     "text": [
      "\n",
      "100%|██████████| 100/100 [00:00<00:00, 5233.46it/s]"
     ]
    },
    {
     "name": "stdout",
     "output_type": "stream",
     "text": [
      "Iteration 5\n"
     ]
    },
    {
     "name": "stderr",
     "output_type": "stream",
     "text": [
      "\n",
      "100%|██████████| 100/100 [00:00<00:00, 5662.62it/s]"
     ]
    },
    {
     "name": "stdout",
     "output_type": "stream",
     "text": [
      "Iteration 6\n"
     ]
    },
    {
     "name": "stderr",
     "output_type": "stream",
     "text": [
      "\n",
      "100%|██████████| 100/100 [00:00<00:00, 6291.05it/s]"
     ]
    },
    {
     "name": "stdout",
     "output_type": "stream",
     "text": [
      "Iteration 7\n"
     ]
    },
    {
     "name": "stderr",
     "output_type": "stream",
     "text": [
      "\n",
      "100%|██████████| 100/100 [00:00<00:00, 5252.40it/s]"
     ]
    },
    {
     "name": "stdout",
     "output_type": "stream",
     "text": [
      "Iteration 8\n"
     ]
    },
    {
     "name": "stderr",
     "output_type": "stream",
     "text": [
      "\n",
      "100%|██████████| 100/100 [00:00<00:00, 5368.98it/s]"
     ]
    },
    {
     "name": "stdout",
     "output_type": "stream",
     "text": [
      "Iteration 9\n"
     ]
    },
    {
     "name": "stderr",
     "output_type": "stream",
     "text": [
      "\n",
      "100%|██████████| 100/100 [00:00<00:00, 5587.12it/s]"
     ]
    },
    {
     "name": "stdout",
     "output_type": "stream",
     "text": [
      "Iteration 10\n"
     ]
    },
    {
     "name": "stderr",
     "output_type": "stream",
     "text": [
      "\n",
      "100%|██████████| 100/100 [00:00<00:00, 6206.34it/s]"
     ]
    },
    {
     "name": "stdout",
     "output_type": "stream",
     "text": [
      "Iteration 11\n"
     ]
    },
    {
     "name": "stderr",
     "output_type": "stream",
     "text": [
      "\n",
      "100%|██████████| 100/100 [00:00<00:00, 8618.91it/s]"
     ]
    },
    {
     "name": "stdout",
     "output_type": "stream",
     "text": [
      "Iteration 12\n"
     ]
    },
    {
     "name": "stderr",
     "output_type": "stream",
     "text": [
      "\n",
      "100%|██████████| 100/100 [00:00<00:00, 6533.29it/s]"
     ]
    },
    {
     "name": "stdout",
     "output_type": "stream",
     "text": [
      "Iteration 13\n"
     ]
    },
    {
     "name": "stderr",
     "output_type": "stream",
     "text": [
      "\n",
      "100%|██████████| 100/100 [00:00<00:00, 6304.47it/s]"
     ]
    },
    {
     "name": "stdout",
     "output_type": "stream",
     "text": [
      "Iteration 14\n"
     ]
    },
    {
     "name": "stderr",
     "output_type": "stream",
     "text": [
      "\n",
      "100%|██████████| 100/100 [00:00<00:00, 5495.11it/s]"
     ]
    },
    {
     "name": "stdout",
     "output_type": "stream",
     "text": [
      "Constructing new graph\n"
     ]
    },
    {
     "name": "stderr",
     "output_type": "stream",
     "text": [
      "\n"
     ]
    },
    {
     "name": "stdout",
     "output_type": "stream",
     "text": [
      "There are 24 communities after passage 2\n",
      "\n",
      "\n",
      "Louvain on edgelists_retweeters_sample\n",
      "Passage 1\n",
      "Iteration 1\n"
     ]
    },
    {
     "name": "stderr",
     "output_type": "stream",
     "text": [
      "100%|██████████| 62030/62030 [00:02<00:00, 30744.71it/s]"
     ]
    },
    {
     "name": "stdout",
     "output_type": "stream",
     "text": [
      "Iteration 2\n"
     ]
    },
    {
     "name": "stderr",
     "output_type": "stream",
     "text": [
      "\n",
      "100%|██████████| 62030/62030 [00:01<00:00, 38362.68it/s]"
     ]
    },
    {
     "name": "stdout",
     "output_type": "stream",
     "text": [
      "Iteration 3\n"
     ]
    },
    {
     "name": "stderr",
     "output_type": "stream",
     "text": [
      "\n",
      "100%|██████████| 62030/62030 [00:02<00:00, 29191.01it/s]"
     ]
    },
    {
     "name": "stdout",
     "output_type": "stream",
     "text": [
      "Iteration 4\n"
     ]
    },
    {
     "name": "stderr",
     "output_type": "stream",
     "text": [
      "\n",
      "100%|██████████| 62030/62030 [00:01<00:00, 33499.81it/s]"
     ]
    },
    {
     "name": "stdout",
     "output_type": "stream",
     "text": [
      "Constructing new graph\n"
     ]
    },
    {
     "name": "stderr",
     "output_type": "stream",
     "text": [
      "\n"
     ]
    },
    {
     "name": "stdout",
     "output_type": "stream",
     "text": [
      "There are 100 communities after passage 1\n",
      "Passage 2\n",
      "Iteration 1\n"
     ]
    },
    {
     "name": "stderr",
     "output_type": "stream",
     "text": [
      "100%|██████████| 100/100 [00:00<00:00, 10886.66it/s]"
     ]
    },
    {
     "name": "stdout",
     "output_type": "stream",
     "text": [
      "Iteration 2\n"
     ]
    },
    {
     "name": "stderr",
     "output_type": "stream",
     "text": [
      "\n",
      "100%|██████████| 100/100 [00:00<00:00, 6571.05it/s]"
     ]
    },
    {
     "name": "stdout",
     "output_type": "stream",
     "text": [
      "Iteration 3\n"
     ]
    },
    {
     "name": "stderr",
     "output_type": "stream",
     "text": [
      "\n",
      "100%|██████████| 100/100 [00:00<00:00, 7325.02it/s]"
     ]
    },
    {
     "name": "stdout",
     "output_type": "stream",
     "text": [
      "Iteration 4\n"
     ]
    },
    {
     "name": "stderr",
     "output_type": "stream",
     "text": [
      "\n",
      "100%|██████████| 100/100 [00:00<00:00, 6121.37it/s]"
     ]
    },
    {
     "name": "stdout",
     "output_type": "stream",
     "text": [
      "Iteration 5\n"
     ]
    },
    {
     "name": "stderr",
     "output_type": "stream",
     "text": [
      "\n",
      "100%|██████████| 100/100 [00:00<00:00, 8749.62it/s]"
     ]
    },
    {
     "name": "stdout",
     "output_type": "stream",
     "text": [
      "Iteration 6\n"
     ]
    },
    {
     "name": "stderr",
     "output_type": "stream",
     "text": [
      "\n",
      "100%|██████████| 100/100 [00:00<00:00, 10269.08it/s]"
     ]
    },
    {
     "name": "stdout",
     "output_type": "stream",
     "text": [
      "Iteration 7\n"
     ]
    },
    {
     "name": "stderr",
     "output_type": "stream",
     "text": [
      "\n",
      "100%|██████████| 100/100 [00:00<00:00, 8389.61it/s]"
     ]
    },
    {
     "name": "stdout",
     "output_type": "stream",
     "text": [
      "Iteration 8\n"
     ]
    },
    {
     "name": "stderr",
     "output_type": "stream",
     "text": [
      "\n",
      "100%|██████████| 100/100 [00:00<00:00, 21019.87it/s]"
     ]
    },
    {
     "name": "stdout",
     "output_type": "stream",
     "text": [
      "Iteration 9\n"
     ]
    },
    {
     "name": "stderr",
     "output_type": "stream",
     "text": [
      "\n",
      "100%|██████████| 100/100 [00:00<00:00, 9217.85it/s]"
     ]
    },
    {
     "name": "stdout",
     "output_type": "stream",
     "text": [
      "Iteration 10\n"
     ]
    },
    {
     "name": "stderr",
     "output_type": "stream",
     "text": [
      "\n",
      "100%|██████████| 100/100 [00:00<00:00, 8107.76it/s]"
     ]
    },
    {
     "name": "stdout",
     "output_type": "stream",
     "text": [
      "Iteration 11\n"
     ]
    },
    {
     "name": "stderr",
     "output_type": "stream",
     "text": [
      "\n",
      "100%|██████████| 100/100 [00:00<00:00, 8009.29it/s]"
     ]
    },
    {
     "name": "stdout",
     "output_type": "stream",
     "text": [
      "Iteration 12\n"
     ]
    },
    {
     "name": "stderr",
     "output_type": "stream",
     "text": [
      "\n",
      "100%|██████████| 100/100 [00:00<00:00, 8880.78it/s]"
     ]
    },
    {
     "name": "stdout",
     "output_type": "stream",
     "text": [
      "Iteration 13\n"
     ]
    },
    {
     "name": "stderr",
     "output_type": "stream",
     "text": [
      "\n",
      "100%|██████████| 100/100 [00:00<00:00, 10788.65it/s]"
     ]
    },
    {
     "name": "stdout",
     "output_type": "stream",
     "text": [
      "Iteration 14\n"
     ]
    },
    {
     "name": "stderr",
     "output_type": "stream",
     "text": [
      "\n",
      "100%|██████████| 100/100 [00:00<00:00, 7693.15it/s]"
     ]
    },
    {
     "name": "stdout",
     "output_type": "stream",
     "text": [
      "Constructing new graph\n",
      "There are 40 communities after passage 2\n",
      "\n",
      "\n"
     ]
    },
    {
     "name": "stderr",
     "output_type": "stream",
     "text": [
      "\n"
     ]
    }
   ],
   "source": [
    "results = {}\n",
    "for name, G in nx_graphs.items():\n",
    "    print(f\"Louvain on {name}\")\n",
    "    data = louvain(G, 2)\n",
    "    results[name] = data\n",
    "    print(f\"\\n\")"
   ]
  },
  {
   "cell_type": "markdown",
   "id": "52f0c676-52fe-4807-b88c-e6218fdd6139",
   "metadata": {},
   "source": [
    "## Export and save label communities of each node (for Gephi)"
   ]
  },
  {
   "cell_type": "code",
   "execution_count": 5,
   "id": "fa51ae65",
   "metadata": {},
   "outputs": [],
   "source": [
    "Path.mkdir(Path(\"analysis\"), exist_ok=True)\n",
    "\n",
    "# Get the label communities for the nodes for each passage\n",
    "for name, result in results.items():\n",
    "    intermediate_results = []\n",
    "\n",
    "    for i in range(len(result)-1, -1, -1):\n",
    "        if i == 0:\n",
    "            break\n",
    "        curr = result[i]\n",
    "        prev = result[i-1]\n",
    "        intermediate_result =  {node: curr[val] for node, val in prev.items()}\n",
    "        intermediate_results.append(intermediate_result)\n",
    "    \n",
    "    try:\n",
    "        commu = intermediate_results[-1]\n",
    "    # If we run only for one passage\n",
    "    except IndexError:\n",
    "        commu = result[0]\n",
    "\n",
    "    communities_df = pd.DataFrame(commu.items(), columns=['Id', 'Community'])\n",
    "    communities_df[\"Label\"] = communities_df[\"Id\"].map(lambda x: x)\n",
    "    communities_df[\"Is_author\"] = False\n",
    "\n",
    "    communities_df.loc[communities_df['Id'].isin(edgelists[name]['Target'].unique()), \"Is_author\"] = True\n",
    "\n",
    "    communities_df.to_csv(f\"analysis/communities_{name}.csv\", index=False)"
   ]
  },
  {
   "cell_type": "markdown",
   "id": "bd06c4d2",
   "metadata": {},
   "source": [
    "## Comparing the 3 results"
   ]
  },
  {
   "cell_type": "code",
   "execution_count": 6,
   "id": "82972a1f",
   "metadata": {},
   "outputs": [],
   "source": [
    "df_result_any = pd.read_csv(\"analysis/communities_edgelists_any_sample.csv\")\n",
    "df_result_like = pd.read_csv(\"analysis/communities_edgelists_liking_sample.csv\")\n",
    "df_result_retweet = pd.read_csv(\"analysis/communities_edgelists_retweeters_sample.csv\")"
   ]
  },
  {
   "cell_type": "code",
   "execution_count": 7,
   "id": "8a56bf67",
   "metadata": {},
   "outputs": [
    {
     "name": "stdout",
     "output_type": "stream",
     "text": [
      "Number of nodes in any: 348084\n",
      "Number of nodes in retweet: 62030\n",
      "Number of nodes in like: 328512\n"
     ]
    }
   ],
   "source": [
    "n_any = len(df_result_any['Id'].unique())\n",
    "n_retweet = len(df_result_retweet['Id'].unique())\n",
    "n_like = len(df_result_like['Id'].unique())\n",
    "\n",
    "print(f\"Number of nodes in any: {n_any}\")\n",
    "print(f\"Number of nodes in retweet: {n_retweet}\")\n",
    "print(f\"Number of nodes in like: {n_like}\")\n"
   ]
  },
  {
   "cell_type": "code",
   "execution_count": 8,
   "id": "d05ccbea",
   "metadata": {},
   "outputs": [
    {
     "name": "stdout",
     "output_type": "stream",
     "text": [
      "Number of unique communities in any: 21\n",
      "Number of unique communities in retweet: 40\n",
      "Number of unique communities in like: 24\n"
     ]
    }
   ],
   "source": [
    "n_unique_any = len(df_result_any['Community'].unique())\n",
    "n_unique_retweet = len(df_result_retweet['Community'].unique())\n",
    "n_unique_like = len(df_result_like['Community'].unique())\n",
    "\n",
    "print(f\"Number of unique communities in any: {n_unique_any}\")\n",
    "print(f\"Number of unique communities in retweet: {n_unique_retweet}\")\n",
    "print(f\"Number of unique communities in like: {n_unique_like}\")"
   ]
  },
  {
   "cell_type": "code",
   "execution_count": 9,
   "id": "497cd4b8",
   "metadata": {},
   "outputs": [
    {
     "name": "stdout",
     "output_type": "stream",
     "text": [
      "Number of nodes in the intersection between like and retweet: 42458\n"
     ]
    }
   ],
   "source": [
    "intersection_ids = set(df_result_like['Id'].unique()).intersection(set(df_result_retweet['Id'].unique()))\n",
    "\n",
    "print(f\"Number of nodes in the intersection between like and retweet: {len(intersection_ids)}\")"
   ]
  },
  {
   "cell_type": "code",
   "execution_count": 10,
   "id": "c33b1f75",
   "metadata": {},
   "outputs": [
    {
     "name": "stdout",
     "output_type": "stream",
     "text": [
      "Number of unique authors in like only authors: 100\n",
      "Number of unique authors in retweet only authors: 100\n"
     ]
    }
   ],
   "source": [
    "# df_result_like only keep is_author = True\n",
    "df_result_like_only_authors = df_result_like[df_result_like['Is_author'] == True]\n",
    "# df_result_retweet only keep is_author = True\n",
    "df_result_retweet_only_authors = df_result_retweet[df_result_retweet['Is_author'] == True]\n",
    "\n",
    "# number of unique communities in df_result_like_only_authors\n",
    "n_unique_like_only_authors = len(df_result_like_only_authors['Id'].unique())\n",
    "# number of unique communities in df_result_retweet_only_authors\n",
    "n_unique_retweet_only_authors = len(df_result_retweet_only_authors['Id'].unique())\n",
    "\n",
    "# print the number of unique authors \n",
    "print(f\"Number of unique authors in like only authors: {n_unique_like_only_authors}\")\n",
    "print(f\"Number of unique authors in retweet only authors: {n_unique_retweet_only_authors}\")"
   ]
  },
  {
   "cell_type": "code",
   "execution_count": 11,
   "id": "3b22e230",
   "metadata": {},
   "outputs": [
    {
     "data": {
      "text/html": [
       "<div>\n",
       "<style scoped>\n",
       "    .dataframe tbody tr th:only-of-type {\n",
       "        vertical-align: middle;\n",
       "    }\n",
       "\n",
       "    .dataframe tbody tr th {\n",
       "        vertical-align: top;\n",
       "    }\n",
       "\n",
       "    .dataframe thead th {\n",
       "        text-align: right;\n",
       "    }\n",
       "</style>\n",
       "<table border=\"1\" class=\"dataframe\">\n",
       "  <thead>\n",
       "    <tr style=\"text-align: right;\">\n",
       "      <th></th>\n",
       "      <th>Id</th>\n",
       "      <th>Community</th>\n",
       "      <th>Label</th>\n",
       "      <th>Is_author</th>\n",
       "    </tr>\n",
       "  </thead>\n",
       "  <tbody>\n",
       "    <tr>\n",
       "      <th>0</th>\n",
       "      <td>44909158</td>\n",
       "      <td>0</td>\n",
       "      <td>44909158</td>\n",
       "      <td>True</td>\n",
       "    </tr>\n",
       "    <tr>\n",
       "      <th>4</th>\n",
       "      <td>2258102198</td>\n",
       "      <td>73</td>\n",
       "      <td>2258102198</td>\n",
       "      <td>True</td>\n",
       "    </tr>\n",
       "    <tr>\n",
       "      <th>31</th>\n",
       "      <td>930419187549216768</td>\n",
       "      <td>2</td>\n",
       "      <td>930419187549216768</td>\n",
       "      <td>True</td>\n",
       "    </tr>\n",
       "    <tr>\n",
       "      <th>35</th>\n",
       "      <td>1481204277636964354</td>\n",
       "      <td>65</td>\n",
       "      <td>1481204277636964354</td>\n",
       "      <td>True</td>\n",
       "    </tr>\n",
       "    <tr>\n",
       "      <th>43</th>\n",
       "      <td>3638215945</td>\n",
       "      <td>65</td>\n",
       "      <td>3638215945</td>\n",
       "      <td>True</td>\n",
       "    </tr>\n",
       "    <tr>\n",
       "      <th>...</th>\n",
       "      <td>...</td>\n",
       "      <td>...</td>\n",
       "      <td>...</td>\n",
       "      <td>...</td>\n",
       "    </tr>\n",
       "    <tr>\n",
       "      <th>309863</th>\n",
       "      <td>1011580823043215360</td>\n",
       "      <td>95</td>\n",
       "      <td>1011580823043215360</td>\n",
       "      <td>True</td>\n",
       "    </tr>\n",
       "    <tr>\n",
       "      <th>309940</th>\n",
       "      <td>927524833910493184</td>\n",
       "      <td>83</td>\n",
       "      <td>927524833910493184</td>\n",
       "      <td>True</td>\n",
       "    </tr>\n",
       "    <tr>\n",
       "      <th>311382</th>\n",
       "      <td>979769447656382464</td>\n",
       "      <td>83</td>\n",
       "      <td>979769447656382464</td>\n",
       "      <td>True</td>\n",
       "    </tr>\n",
       "    <tr>\n",
       "      <th>328180</th>\n",
       "      <td>707519563059961856</td>\n",
       "      <td>99</td>\n",
       "      <td>707519563059961856</td>\n",
       "      <td>True</td>\n",
       "    </tr>\n",
       "    <tr>\n",
       "      <th>328230</th>\n",
       "      <td>1445891016373018624</td>\n",
       "      <td>99</td>\n",
       "      <td>1445891016373018624</td>\n",
       "      <td>True</td>\n",
       "    </tr>\n",
       "  </tbody>\n",
       "</table>\n",
       "<p>100 rows × 4 columns</p>\n",
       "</div>"
      ],
      "text/plain": [
       "                         Id  Community                Label  Is_author\n",
       "0                  44909158          0             44909158       True\n",
       "4                2258102198         73           2258102198       True\n",
       "31       930419187549216768          2   930419187549216768       True\n",
       "35      1481204277636964354         65  1481204277636964354       True\n",
       "43               3638215945         65           3638215945       True\n",
       "...                     ...        ...                  ...        ...\n",
       "309863  1011580823043215360         95  1011580823043215360       True\n",
       "309940   927524833910493184         83   927524833910493184       True\n",
       "311382   979769447656382464         83   979769447656382464       True\n",
       "328180   707519563059961856         99   707519563059961856       True\n",
       "328230  1445891016373018624         99  1445891016373018624       True\n",
       "\n",
       "[100 rows x 4 columns]"
      ]
     },
     "execution_count": 11,
     "metadata": {},
     "output_type": "execute_result"
    }
   ],
   "source": [
    "df_result_like_only_authors"
   ]
  },
  {
   "cell_type": "code",
   "execution_count": 15,
   "id": "cbd9c88a",
   "metadata": {},
   "outputs": [
    {
     "data": {
      "text/plain": [
       "44909158"
      ]
     },
     "execution_count": 15,
     "metadata": {},
     "output_type": "execute_result"
    }
   ],
   "source": [
    "df_result_like_only_authors[\"Id\"].iloc[0]"
   ]
  },
  {
   "cell_type": "code",
   "execution_count": 30,
   "id": "caa2e49c",
   "metadata": {},
   "outputs": [
    {
     "ename": "Unauthorized",
     "evalue": "401 Unauthorized\nUnauthorized",
     "output_type": "error",
     "traceback": [
      "\u001b[1;31m---------------------------------------------------------------------------\u001b[0m",
      "\u001b[1;31mUnauthorized\u001b[0m                              Traceback (most recent call last)",
      "\u001b[1;32mc:\\Users\\bao_l\\Projects\\twitter-ukraine-conflict\\3-analysis.ipynb Cell 19'\u001b[0m in \u001b[0;36m<cell line: 3>\u001b[1;34m()\u001b[0m\n\u001b[0;32m      <a href='vscode-notebook-cell:/c%3A/Users/bao_l/Projects/twitter-ukraine-conflict/3-analysis.ipynb#ch0000021?line=0'>1</a>\u001b[0m \u001b[39m# create a list of all the authors\u001b[39;00m\n\u001b[0;32m      <a href='vscode-notebook-cell:/c%3A/Users/bao_l/Projects/twitter-ukraine-conflict/3-analysis.ipynb#ch0000021?line=1'>2</a>\u001b[0m authors \u001b[39m=\u001b[39m \u001b[39mlist\u001b[39m(df_result_like_only_authors[\u001b[39m\"\u001b[39m\u001b[39mId\u001b[39m\u001b[39m\"\u001b[39m]\u001b[39m.\u001b[39munique())\n\u001b[1;32m----> <a href='vscode-notebook-cell:/c%3A/Users/bao_l/Projects/twitter-ukraine-conflict/3-analysis.ipynb#ch0000021?line=2'>3</a>\u001b[0m res \u001b[39m=\u001b[39m client\u001b[39m.\u001b[39;49mget_user(\u001b[39mid\u001b[39;49m\u001b[39m=\u001b[39;49m\u001b[39m44909158\u001b[39;49m)\n",
      "File \u001b[1;32mc:\\Users\\bao_l\\.virtualenvs\\twitter-ukraine-conflict-H_rK_fvr\\lib\\site-packages\\tweepy\\client.py:2318\u001b[0m, in \u001b[0;36mClient.get_user\u001b[1;34m(self, id, username, user_auth, **params)\u001b[0m\n\u001b[0;32m   <a href='file:///c%3A/Users/bao_l/.virtualenvs/twitter-ukraine-conflict-H_rK_fvr/lib/site-packages/tweepy/client.py?line=2314'>2315</a>\u001b[0m \u001b[39melse\u001b[39;00m:\n\u001b[0;32m   <a href='file:///c%3A/Users/bao_l/.virtualenvs/twitter-ukraine-conflict-H_rK_fvr/lib/site-packages/tweepy/client.py?line=2315'>2316</a>\u001b[0m     \u001b[39mraise\u001b[39;00m \u001b[39mTypeError\u001b[39;00m(\u001b[39m\"\u001b[39m\u001b[39mID or username is required\u001b[39m\u001b[39m\"\u001b[39m)\n\u001b[1;32m-> <a href='file:///c%3A/Users/bao_l/.virtualenvs/twitter-ukraine-conflict-H_rK_fvr/lib/site-packages/tweepy/client.py?line=2317'>2318</a>\u001b[0m \u001b[39mreturn\u001b[39;00m \u001b[39mself\u001b[39;49m\u001b[39m.\u001b[39;49m_make_request(\n\u001b[0;32m   <a href='file:///c%3A/Users/bao_l/.virtualenvs/twitter-ukraine-conflict-H_rK_fvr/lib/site-packages/tweepy/client.py?line=2318'>2319</a>\u001b[0m     \u001b[39m\"\u001b[39;49m\u001b[39mGET\u001b[39;49m\u001b[39m\"\u001b[39;49m, route, params\u001b[39m=\u001b[39;49mparams,\n\u001b[0;32m   <a href='file:///c%3A/Users/bao_l/.virtualenvs/twitter-ukraine-conflict-H_rK_fvr/lib/site-packages/tweepy/client.py?line=2319'>2320</a>\u001b[0m     endpoint_parameters\u001b[39m=\u001b[39;49m(\u001b[39m\"\u001b[39;49m\u001b[39mexpansions\u001b[39;49m\u001b[39m\"\u001b[39;49m, \u001b[39m\"\u001b[39;49m\u001b[39mtweet.fields\u001b[39;49m\u001b[39m\"\u001b[39;49m, \u001b[39m\"\u001b[39;49m\u001b[39muser.fields\u001b[39;49m\u001b[39m\"\u001b[39;49m),\n\u001b[0;32m   <a href='file:///c%3A/Users/bao_l/.virtualenvs/twitter-ukraine-conflict-H_rK_fvr/lib/site-packages/tweepy/client.py?line=2320'>2321</a>\u001b[0m     data_type\u001b[39m=\u001b[39;49mUser, user_auth\u001b[39m=\u001b[39;49muser_auth\n\u001b[0;32m   <a href='file:///c%3A/Users/bao_l/.virtualenvs/twitter-ukraine-conflict-H_rK_fvr/lib/site-packages/tweepy/client.py?line=2321'>2322</a>\u001b[0m )\n",
      "File \u001b[1;32mc:\\Users\\bao_l\\.virtualenvs\\twitter-ukraine-conflict-H_rK_fvr\\lib\\site-packages\\tweepy\\client.py:126\u001b[0m, in \u001b[0;36mBaseClient._make_request\u001b[1;34m(self, method, route, params, endpoint_parameters, json, data_type, user_auth)\u001b[0m\n\u001b[0;32m    <a href='file:///c%3A/Users/bao_l/.virtualenvs/twitter-ukraine-conflict-H_rK_fvr/lib/site-packages/tweepy/client.py?line=121'>122</a>\u001b[0m \u001b[39mdef\u001b[39;00m \u001b[39m_make_request\u001b[39m(\u001b[39mself\u001b[39m, method, route, params\u001b[39m=\u001b[39m{}, endpoint_parameters\u001b[39m=\u001b[39m\u001b[39mNone\u001b[39;00m,\n\u001b[0;32m    <a href='file:///c%3A/Users/bao_l/.virtualenvs/twitter-ukraine-conflict-H_rK_fvr/lib/site-packages/tweepy/client.py?line=122'>123</a>\u001b[0m                   json\u001b[39m=\u001b[39m\u001b[39mNone\u001b[39;00m, data_type\u001b[39m=\u001b[39m\u001b[39mNone\u001b[39;00m, user_auth\u001b[39m=\u001b[39m\u001b[39mFalse\u001b[39;00m):\n\u001b[0;32m    <a href='file:///c%3A/Users/bao_l/.virtualenvs/twitter-ukraine-conflict-H_rK_fvr/lib/site-packages/tweepy/client.py?line=123'>124</a>\u001b[0m     request_params \u001b[39m=\u001b[39m \u001b[39mself\u001b[39m\u001b[39m.\u001b[39m_process_params(params, endpoint_parameters)\n\u001b[1;32m--> <a href='file:///c%3A/Users/bao_l/.virtualenvs/twitter-ukraine-conflict-H_rK_fvr/lib/site-packages/tweepy/client.py?line=125'>126</a>\u001b[0m     response \u001b[39m=\u001b[39m \u001b[39mself\u001b[39;49m\u001b[39m.\u001b[39;49mrequest(method, route, params\u001b[39m=\u001b[39;49mrequest_params,\n\u001b[0;32m    <a href='file:///c%3A/Users/bao_l/.virtualenvs/twitter-ukraine-conflict-H_rK_fvr/lib/site-packages/tweepy/client.py?line=126'>127</a>\u001b[0m                             json\u001b[39m=\u001b[39;49mjson, user_auth\u001b[39m=\u001b[39;49muser_auth)\n\u001b[0;32m    <a href='file:///c%3A/Users/bao_l/.virtualenvs/twitter-ukraine-conflict-H_rK_fvr/lib/site-packages/tweepy/client.py?line=128'>129</a>\u001b[0m     \u001b[39mif\u001b[39;00m \u001b[39mself\u001b[39m\u001b[39m.\u001b[39mreturn_type \u001b[39mis\u001b[39;00m requests\u001b[39m.\u001b[39mResponse:\n\u001b[0;32m    <a href='file:///c%3A/Users/bao_l/.virtualenvs/twitter-ukraine-conflict-H_rK_fvr/lib/site-packages/tweepy/client.py?line=129'>130</a>\u001b[0m         \u001b[39mreturn\u001b[39;00m response\n",
      "File \u001b[1;32mc:\\Users\\bao_l\\.virtualenvs\\twitter-ukraine-conflict-H_rK_fvr\\lib\\site-packages\\tweepy\\client.py:97\u001b[0m, in \u001b[0;36mBaseClient.request\u001b[1;34m(self, method, route, params, json, user_auth)\u001b[0m\n\u001b[0;32m     <a href='file:///c%3A/Users/bao_l/.virtualenvs/twitter-ukraine-conflict-H_rK_fvr/lib/site-packages/tweepy/client.py?line=94'>95</a>\u001b[0m     \u001b[39mraise\u001b[39;00m BadRequest(response)\n\u001b[0;32m     <a href='file:///c%3A/Users/bao_l/.virtualenvs/twitter-ukraine-conflict-H_rK_fvr/lib/site-packages/tweepy/client.py?line=95'>96</a>\u001b[0m \u001b[39mif\u001b[39;00m response\u001b[39m.\u001b[39mstatus_code \u001b[39m==\u001b[39m \u001b[39m401\u001b[39m:\n\u001b[1;32m---> <a href='file:///c%3A/Users/bao_l/.virtualenvs/twitter-ukraine-conflict-H_rK_fvr/lib/site-packages/tweepy/client.py?line=96'>97</a>\u001b[0m     \u001b[39mraise\u001b[39;00m Unauthorized(response)\n\u001b[0;32m     <a href='file:///c%3A/Users/bao_l/.virtualenvs/twitter-ukraine-conflict-H_rK_fvr/lib/site-packages/tweepy/client.py?line=97'>98</a>\u001b[0m \u001b[39mif\u001b[39;00m response\u001b[39m.\u001b[39mstatus_code \u001b[39m==\u001b[39m \u001b[39m403\u001b[39m:\n\u001b[0;32m     <a href='file:///c%3A/Users/bao_l/.virtualenvs/twitter-ukraine-conflict-H_rK_fvr/lib/site-packages/tweepy/client.py?line=98'>99</a>\u001b[0m     \u001b[39mraise\u001b[39;00m Forbidden(response)\n",
      "\u001b[1;31mUnauthorized\u001b[0m: 401 Unauthorized\nUnauthorized"
     ]
    }
   ],
   "source": [
    "# create a list of all the authors\n",
    "authors = list(df_result_like_only_authors[\"Id\"].unique())\n",
    "res = client.get_user(id=44909158)"
   ]
  },
  {
   "cell_type": "markdown",
   "id": "ca73153c-14b9-4f30-88c7-e59222ce0e88",
   "metadata": {},
   "source": [
    "## Comparison between our implementation and the one from NetworkX"
   ]
  },
  {
   "cell_type": "code",
   "execution_count": 6,
   "id": "213a5f6b",
   "metadata": {},
   "outputs": [
    {
     "name": "stdout",
     "output_type": "stream",
     "text": [
      "Graph of 221327 nodes\n",
      "After first passage: 100 communities\n",
      "Time for NetworkX: 7.501972300000006\n",
      "Louvain on edgelists_any_sample\n",
      "Passage 1\n",
      "Iteration 1\n"
     ]
    },
    {
     "name": "stderr",
     "output_type": "stream",
     "text": [
      "100%|██████████| 221327/221327 [00:03<00:00, 69617.02it/s]"
     ]
    },
    {
     "name": "stdout",
     "output_type": "stream",
     "text": [
      "Iteration 2\n"
     ]
    },
    {
     "name": "stderr",
     "output_type": "stream",
     "text": [
      "\n",
      "100%|██████████| 221327/221327 [00:02<00:00, 82769.90it/s]"
     ]
    },
    {
     "name": "stdout",
     "output_type": "stream",
     "text": [
      "Iteration 3\n"
     ]
    },
    {
     "name": "stderr",
     "output_type": "stream",
     "text": [
      "\n",
      "100%|██████████| 221327/221327 [00:02<00:00, 78512.72it/s]"
     ]
    },
    {
     "name": "stdout",
     "output_type": "stream",
     "text": [
      "Constructing new graph\n"
     ]
    },
    {
     "name": "stderr",
     "output_type": "stream",
     "text": [
      "\n"
     ]
    },
    {
     "name": "stdout",
     "output_type": "stream",
     "text": [
      "There are 99 communities after passage 1\n",
      "Time for our implementation: 13.7340528\n",
      "Graph of 199158 nodes\n",
      "After first passage: 100 communities\n",
      "Time for NetworkX: 8.056387700000016\n",
      "Louvain on edgelists_liking_sample\n",
      "Passage 1\n",
      "Iteration 1\n"
     ]
    },
    {
     "name": "stderr",
     "output_type": "stream",
     "text": [
      "100%|██████████| 199158/199158 [00:02<00:00, 67741.55it/s]"
     ]
    },
    {
     "name": "stdout",
     "output_type": "stream",
     "text": [
      "Iteration 2\n"
     ]
    },
    {
     "name": "stderr",
     "output_type": "stream",
     "text": [
      "\n",
      "100%|██████████| 199158/199158 [00:02<00:00, 80143.16it/s]"
     ]
    },
    {
     "name": "stdout",
     "output_type": "stream",
     "text": [
      "Iteration 3\n"
     ]
    },
    {
     "name": "stderr",
     "output_type": "stream",
     "text": [
      "\n",
      "100%|██████████| 199158/199158 [00:02<00:00, 81089.56it/s]"
     ]
    },
    {
     "name": "stdout",
     "output_type": "stream",
     "text": [
      "Iteration 4\n"
     ]
    },
    {
     "name": "stderr",
     "output_type": "stream",
     "text": [
      "\n",
      "100%|██████████| 199158/199158 [00:02<00:00, 82741.20it/s]"
     ]
    },
    {
     "name": "stdout",
     "output_type": "stream",
     "text": [
      "Iteration 5\n"
     ]
    },
    {
     "name": "stderr",
     "output_type": "stream",
     "text": [
      "\n",
      "100%|██████████| 199158/199158 [00:02<00:00, 80500.44it/s]"
     ]
    },
    {
     "name": "stdout",
     "output_type": "stream",
     "text": [
      "Constructing new graph\n"
     ]
    },
    {
     "name": "stderr",
     "output_type": "stream",
     "text": [
      "\n"
     ]
    },
    {
     "name": "stdout",
     "output_type": "stream",
     "text": [
      "There are 99 communities after passage 1\n",
      "Time for our implementation: 17.570455100000004\n",
      "Graph of 56088 nodes\n",
      "After first passage: 100 communities\n",
      "Time for NetworkX: 1.9476826000000074\n",
      "Louvain on edgelists_retweeters_sample\n",
      "Passage 1\n",
      "Iteration 1\n"
     ]
    },
    {
     "name": "stderr",
     "output_type": "stream",
     "text": [
      "100%|██████████| 56088/56088 [00:00<00:00, 70997.41it/s]"
     ]
    },
    {
     "name": "stdout",
     "output_type": "stream",
     "text": [
      "Iteration 2\n"
     ]
    },
    {
     "name": "stderr",
     "output_type": "stream",
     "text": [
      "\n",
      "100%|██████████| 56088/56088 [00:00<00:00, 84176.51it/s]"
     ]
    },
    {
     "name": "stdout",
     "output_type": "stream",
     "text": [
      "Iteration 3\n"
     ]
    },
    {
     "name": "stderr",
     "output_type": "stream",
     "text": [
      "\n",
      "100%|██████████| 56088/56088 [00:00<00:00, 83964.22it/s]"
     ]
    },
    {
     "name": "stdout",
     "output_type": "stream",
     "text": [
      "Constructing new graph\n"
     ]
    },
    {
     "name": "stderr",
     "output_type": "stream",
     "text": [
      "\n"
     ]
    },
    {
     "name": "stdout",
     "output_type": "stream",
     "text": [
      "There are 99 communities after passage 1\n",
      "Time for our implementation: 3.2745122000000038\n"
     ]
    }
   ],
   "source": [
    "results = {}\n",
    "for name, G in nx_graphs.items():\n",
    "    print(f\"Graph of {len(G.nodes)} nodes\")\n",
    "    \n",
    "    start_net = perf_counter()\n",
    "    louvain_nx = community.louvain_partitions(G)\n",
    "    first = next(louvain_nx)\n",
    "    stop_net = perf_counter()\n",
    "    print(f\"After first passage: {len(first)} communities\")\n",
    "    # second = next(louvain_nx)\n",
    "    # print(f\"After second passage: {len(second)} communities\")\n",
    "    # third = next(louvain_nx)\n",
    "    # print(f\"After third passage: {len(third)} communities\")\n",
    "    print(f\"Time for NetworkX: {stop_net - start_net}\")\n",
    "    \n",
    "    start_our = perf_counter()\n",
    "    print(f\"Louvain on {name}\")\n",
    "    data = louvain(G, 1)\n",
    "    stop_our = perf_counter()\n",
    "    print(f\"Time for our implementation: {stop_our - start_our}\")\n",
    "    results[name] = data"
   ]
  }
 ],
 "metadata": {
  "interpreter": {
   "hash": "e17df53156a1cd5dcd810416833fc7bc2978cb4c660ed625567caafd9f935baa"
  },
  "kernelspec": {
   "display_name": "Python 3.8.10 ('twitter-ukraine-conflict-H_rK_fvr')",
   "language": "python",
   "name": "python3"
  },
  "language_info": {
   "codemirror_mode": {
    "name": "ipython",
    "version": 3
   },
   "file_extension": ".py",
   "mimetype": "text/x-python",
   "name": "python",
   "nbconvert_exporter": "python",
   "pygments_lexer": "ipython3",
   "version": "3.8.10"
  }
 },
 "nbformat": 4,
 "nbformat_minor": 5
}
